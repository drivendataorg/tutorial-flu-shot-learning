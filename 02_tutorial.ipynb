{
 "cells": [
  {
   "cell_type": "markdown",
   "id": "b6cc68e0",
   "metadata": {},
   "source": [
    "# Lesson 2\n",
    "\n",
    "At this point we have a basic model based on logistic regression, and we've generated a first set of predictions.\n",
    "In this lesson, we'll explore several ways to improve the model:\n",
    "\n",
    "* Scaling\n",
    "\n",
    "* Regularizing\n",
    "\n",
    "* Adding categorical features\n",
    "\n",
    "But we'll start by taking a closer look at the results from the previous model.\n",
    "Let's load the data again."
   ]
  },
  {
   "cell_type": "code",
   "execution_count": 1,
   "id": "ee7161b2",
   "metadata": {},
   "outputs": [],
   "source": [
    "import os\n",
    "import sys\n",
    "import numpy as np\n",
    "import pandas as pd\n",
    "import matplotlib.pyplot as plt"
   ]
  },
  {
   "cell_type": "code",
   "execution_count": 2,
   "id": "b03e7d83",
   "metadata": {},
   "outputs": [],
   "source": [
    "if not os.path.exists(\"utils.py\"):\n",
    "    !wget https://raw.githubusercontent.com/drivendataorg/tutorial-flu-shot-learning/main/utils.py"
   ]
  },
  {
   "cell_type": "code",
   "execution_count": 3,
   "id": "7cbea4bd",
   "metadata": {},
   "outputs": [],
   "source": [
    "from utils import download_data_files\n",
    "\n",
    "download_data_files()"
   ]
  },
  {
   "cell_type": "code",
   "execution_count": 4,
   "id": "dbcb42ac",
   "metadata": {},
   "outputs": [],
   "source": [
    "labels_df = pd.read_csv(\"training_set_labels.csv\", index_col=\"respondent_id\")\n",
    "features_df = pd.read_csv(\"training_set_features.csv\", index_col=\"respondent_id\")\n",
    "test_features_df = pd.read_csv(\"test_set_features.csv\", index_col=\"respondent_id\")"
   ]
  },
  {
   "cell_type": "code",
   "execution_count": 5,
   "id": "04c30293",
   "metadata": {},
   "outputs": [],
   "source": [
    "# this won't be necessary in later versions\n",
    "from sklearn import set_config\n",
    "set_config(display=\"diagram\")"
   ]
  },
  {
   "cell_type": "markdown",
   "id": "68a735e3",
   "metadata": {},
   "source": [
    "Now let's rebuild the `Pipeline` from the previous lesson."
   ]
  },
  {
   "cell_type": "code",
   "execution_count": 6,
   "id": "8384f121",
   "metadata": {},
   "outputs": [],
   "source": [
    "numeric_features_df = features_df.select_dtypes(include=np.number)\n",
    "numeric_cols = numeric_features_df.columns"
   ]
  },
  {
   "cell_type": "code",
   "execution_count": 7,
   "id": "1352ba38",
   "metadata": {},
   "outputs": [],
   "source": [
    "from sklearn.compose import ColumnTransformer\n",
    "from sklearn.impute import SimpleImputer\n",
    "from sklearn.linear_model import LogisticRegression\n",
    "from sklearn.pipeline import Pipeline\n",
    "\n",
    "model2 = Pipeline(\n",
    "    [\n",
    "        (\"selector\", ColumnTransformer([(\"numeric\", \"passthrough\", numeric_cols)])),\n",
    "        (\"imputer\", SimpleImputer(missing_values=np.nan, strategy=\"mean\")),\n",
    "        (\"classifier\", LogisticRegression()),\n",
    "    ]\n",
    ")"
   ]
  },
  {
   "cell_type": "code",
   "execution_count": 8,
   "id": "66d3f4fd",
   "metadata": {},
   "outputs": [
    {
     "data": {
      "text/html": [
       "<style>#sk-d007b2b3-9487-4ed1-9a2c-5851a691998b {color: black;background-color: white;}#sk-d007b2b3-9487-4ed1-9a2c-5851a691998b pre{padding: 0;}#sk-d007b2b3-9487-4ed1-9a2c-5851a691998b div.sk-toggleable {background-color: white;}#sk-d007b2b3-9487-4ed1-9a2c-5851a691998b label.sk-toggleable__label {cursor: pointer;display: block;width: 100%;margin-bottom: 0;padding: 0.3em;box-sizing: border-box;text-align: center;}#sk-d007b2b3-9487-4ed1-9a2c-5851a691998b label.sk-toggleable__label-arrow:before {content: \"▸\";float: left;margin-right: 0.25em;color: #696969;}#sk-d007b2b3-9487-4ed1-9a2c-5851a691998b label.sk-toggleable__label-arrow:hover:before {color: black;}#sk-d007b2b3-9487-4ed1-9a2c-5851a691998b div.sk-estimator:hover label.sk-toggleable__label-arrow:before {color: black;}#sk-d007b2b3-9487-4ed1-9a2c-5851a691998b div.sk-toggleable__content {max-height: 0;max-width: 0;overflow: hidden;text-align: left;background-color: #f0f8ff;}#sk-d007b2b3-9487-4ed1-9a2c-5851a691998b div.sk-toggleable__content pre {margin: 0.2em;color: black;border-radius: 0.25em;background-color: #f0f8ff;}#sk-d007b2b3-9487-4ed1-9a2c-5851a691998b input.sk-toggleable__control:checked~div.sk-toggleable__content {max-height: 200px;max-width: 100%;overflow: auto;}#sk-d007b2b3-9487-4ed1-9a2c-5851a691998b input.sk-toggleable__control:checked~label.sk-toggleable__label-arrow:before {content: \"▾\";}#sk-d007b2b3-9487-4ed1-9a2c-5851a691998b div.sk-estimator input.sk-toggleable__control:checked~label.sk-toggleable__label {background-color: #d4ebff;}#sk-d007b2b3-9487-4ed1-9a2c-5851a691998b div.sk-label input.sk-toggleable__control:checked~label.sk-toggleable__label {background-color: #d4ebff;}#sk-d007b2b3-9487-4ed1-9a2c-5851a691998b input.sk-hidden--visually {border: 0;clip: rect(1px 1px 1px 1px);clip: rect(1px, 1px, 1px, 1px);height: 1px;margin: -1px;overflow: hidden;padding: 0;position: absolute;width: 1px;}#sk-d007b2b3-9487-4ed1-9a2c-5851a691998b div.sk-estimator {font-family: monospace;background-color: #f0f8ff;border: 1px dotted black;border-radius: 0.25em;box-sizing: border-box;margin-bottom: 0.5em;}#sk-d007b2b3-9487-4ed1-9a2c-5851a691998b div.sk-estimator:hover {background-color: #d4ebff;}#sk-d007b2b3-9487-4ed1-9a2c-5851a691998b div.sk-parallel-item::after {content: \"\";width: 100%;border-bottom: 1px solid gray;flex-grow: 1;}#sk-d007b2b3-9487-4ed1-9a2c-5851a691998b div.sk-label:hover label.sk-toggleable__label {background-color: #d4ebff;}#sk-d007b2b3-9487-4ed1-9a2c-5851a691998b div.sk-serial::before {content: \"\";position: absolute;border-left: 1px solid gray;box-sizing: border-box;top: 2em;bottom: 0;left: 50%;}#sk-d007b2b3-9487-4ed1-9a2c-5851a691998b div.sk-serial {display: flex;flex-direction: column;align-items: center;background-color: white;padding-right: 0.2em;padding-left: 0.2em;}#sk-d007b2b3-9487-4ed1-9a2c-5851a691998b div.sk-item {z-index: 1;}#sk-d007b2b3-9487-4ed1-9a2c-5851a691998b div.sk-parallel {display: flex;align-items: stretch;justify-content: center;background-color: white;}#sk-d007b2b3-9487-4ed1-9a2c-5851a691998b div.sk-parallel::before {content: \"\";position: absolute;border-left: 1px solid gray;box-sizing: border-box;top: 2em;bottom: 0;left: 50%;}#sk-d007b2b3-9487-4ed1-9a2c-5851a691998b div.sk-parallel-item {display: flex;flex-direction: column;position: relative;background-color: white;}#sk-d007b2b3-9487-4ed1-9a2c-5851a691998b div.sk-parallel-item:first-child::after {align-self: flex-end;width: 50%;}#sk-d007b2b3-9487-4ed1-9a2c-5851a691998b div.sk-parallel-item:last-child::after {align-self: flex-start;width: 50%;}#sk-d007b2b3-9487-4ed1-9a2c-5851a691998b div.sk-parallel-item:only-child::after {width: 0;}#sk-d007b2b3-9487-4ed1-9a2c-5851a691998b div.sk-dashed-wrapped {border: 1px dashed gray;margin: 0 0.4em 0.5em 0.4em;box-sizing: border-box;padding-bottom: 0.4em;background-color: white;position: relative;}#sk-d007b2b3-9487-4ed1-9a2c-5851a691998b div.sk-label label {font-family: monospace;font-weight: bold;background-color: white;display: inline-block;line-height: 1.2em;}#sk-d007b2b3-9487-4ed1-9a2c-5851a691998b div.sk-label-container {position: relative;z-index: 2;text-align: center;}#sk-d007b2b3-9487-4ed1-9a2c-5851a691998b div.sk-container {/* jupyter's `normalize.less` sets `[hidden] { display: none; }` but bootstrap.min.css set `[hidden] { display: none !important; }` so we also need the `!important` here to be able to override the default hidden behavior on the sphinx rendered scikit-learn.org. See: https://github.com/scikit-learn/scikit-learn/issues/21755 */display: inline-block !important;position: relative;}#sk-d007b2b3-9487-4ed1-9a2c-5851a691998b div.sk-text-repr-fallback {display: none;}</style><div id=\"sk-d007b2b3-9487-4ed1-9a2c-5851a691998b\" class=\"sk-top-container\"><div class=\"sk-text-repr-fallback\"><pre>Pipeline(steps=[(&#x27;selector&#x27;,\n",
       "                 ColumnTransformer(transformers=[(&#x27;numeric&#x27;, &#x27;passthrough&#x27;,\n",
       "                                                  Index([&#x27;h1n1_concern&#x27;, &#x27;h1n1_knowledge&#x27;, &#x27;behavioral_antiviral_meds&#x27;,\n",
       "       &#x27;behavioral_avoidance&#x27;, &#x27;behavioral_face_mask&#x27;, &#x27;behavioral_wash_hands&#x27;,\n",
       "       &#x27;behavioral_large_gatherings&#x27;, &#x27;behavioral_outside_home&#x27;,\n",
       "       &#x27;behavioral_touch_face&#x27;, &#x27;doctor_recc_h1n1&#x27;, &#x27;doctor_recc_seasonal&#x27;,\n",
       "       &#x27;chron...tion&#x27;, &#x27;child_under_6_months&#x27;, &#x27;health_worker&#x27;,\n",
       "       &#x27;health_insurance&#x27;, &#x27;opinion_h1n1_vacc_effective&#x27;, &#x27;opinion_h1n1_risk&#x27;,\n",
       "       &#x27;opinion_h1n1_sick_from_vacc&#x27;, &#x27;opinion_seas_vacc_effective&#x27;,\n",
       "       &#x27;opinion_seas_risk&#x27;, &#x27;opinion_seas_sick_from_vacc&#x27;, &#x27;household_adults&#x27;,\n",
       "       &#x27;household_children&#x27;],\n",
       "      dtype=&#x27;object&#x27;))])),\n",
       "                (&#x27;imputer&#x27;, SimpleImputer()),\n",
       "                (&#x27;classifier&#x27;, LogisticRegression())])</pre><b>Please rerun this cell to show the HTML repr or trust the notebook.</b></div><div class=\"sk-container\" hidden><div class=\"sk-item sk-dashed-wrapped\"><div class=\"sk-label-container\"><div class=\"sk-label sk-toggleable\"><input class=\"sk-toggleable__control sk-hidden--visually\" id=\"fc7c395b-aa0e-4f38-91d8-a9009314f2f5\" type=\"checkbox\" ><label for=\"fc7c395b-aa0e-4f38-91d8-a9009314f2f5\" class=\"sk-toggleable__label sk-toggleable__label-arrow\">Pipeline</label><div class=\"sk-toggleable__content\"><pre>Pipeline(steps=[(&#x27;selector&#x27;,\n",
       "                 ColumnTransformer(transformers=[(&#x27;numeric&#x27;, &#x27;passthrough&#x27;,\n",
       "                                                  Index([&#x27;h1n1_concern&#x27;, &#x27;h1n1_knowledge&#x27;, &#x27;behavioral_antiviral_meds&#x27;,\n",
       "       &#x27;behavioral_avoidance&#x27;, &#x27;behavioral_face_mask&#x27;, &#x27;behavioral_wash_hands&#x27;,\n",
       "       &#x27;behavioral_large_gatherings&#x27;, &#x27;behavioral_outside_home&#x27;,\n",
       "       &#x27;behavioral_touch_face&#x27;, &#x27;doctor_recc_h1n1&#x27;, &#x27;doctor_recc_seasonal&#x27;,\n",
       "       &#x27;chron...tion&#x27;, &#x27;child_under_6_months&#x27;, &#x27;health_worker&#x27;,\n",
       "       &#x27;health_insurance&#x27;, &#x27;opinion_h1n1_vacc_effective&#x27;, &#x27;opinion_h1n1_risk&#x27;,\n",
       "       &#x27;opinion_h1n1_sick_from_vacc&#x27;, &#x27;opinion_seas_vacc_effective&#x27;,\n",
       "       &#x27;opinion_seas_risk&#x27;, &#x27;opinion_seas_sick_from_vacc&#x27;, &#x27;household_adults&#x27;,\n",
       "       &#x27;household_children&#x27;],\n",
       "      dtype=&#x27;object&#x27;))])),\n",
       "                (&#x27;imputer&#x27;, SimpleImputer()),\n",
       "                (&#x27;classifier&#x27;, LogisticRegression())])</pre></div></div></div><div class=\"sk-serial\"><div class=\"sk-item sk-dashed-wrapped\"><div class=\"sk-label-container\"><div class=\"sk-label sk-toggleable\"><input class=\"sk-toggleable__control sk-hidden--visually\" id=\"fe90e67f-0f7b-4196-bf40-dc3ef01739b0\" type=\"checkbox\" ><label for=\"fe90e67f-0f7b-4196-bf40-dc3ef01739b0\" class=\"sk-toggleable__label sk-toggleable__label-arrow\">selector: ColumnTransformer</label><div class=\"sk-toggleable__content\"><pre>ColumnTransformer(transformers=[(&#x27;numeric&#x27;, &#x27;passthrough&#x27;,\n",
       "                                 Index([&#x27;h1n1_concern&#x27;, &#x27;h1n1_knowledge&#x27;, &#x27;behavioral_antiviral_meds&#x27;,\n",
       "       &#x27;behavioral_avoidance&#x27;, &#x27;behavioral_face_mask&#x27;, &#x27;behavioral_wash_hands&#x27;,\n",
       "       &#x27;behavioral_large_gatherings&#x27;, &#x27;behavioral_outside_home&#x27;,\n",
       "       &#x27;behavioral_touch_face&#x27;, &#x27;doctor_recc_h1n1&#x27;, &#x27;doctor_recc_seasonal&#x27;,\n",
       "       &#x27;chronic_med_condition&#x27;, &#x27;child_under_6_months&#x27;, &#x27;health_worker&#x27;,\n",
       "       &#x27;health_insurance&#x27;, &#x27;opinion_h1n1_vacc_effective&#x27;, &#x27;opinion_h1n1_risk&#x27;,\n",
       "       &#x27;opinion_h1n1_sick_from_vacc&#x27;, &#x27;opinion_seas_vacc_effective&#x27;,\n",
       "       &#x27;opinion_seas_risk&#x27;, &#x27;opinion_seas_sick_from_vacc&#x27;, &#x27;household_adults&#x27;,\n",
       "       &#x27;household_children&#x27;],\n",
       "      dtype=&#x27;object&#x27;))])</pre></div></div></div><div class=\"sk-parallel\"><div class=\"sk-parallel-item\"><div class=\"sk-item\"><div class=\"sk-label-container\"><div class=\"sk-label sk-toggleable\"><input class=\"sk-toggleable__control sk-hidden--visually\" id=\"5e7e0fd8-3407-4e00-a280-fe382494ca14\" type=\"checkbox\" ><label for=\"5e7e0fd8-3407-4e00-a280-fe382494ca14\" class=\"sk-toggleable__label sk-toggleable__label-arrow\">numeric</label><div class=\"sk-toggleable__content\"><pre>Index([&#x27;h1n1_concern&#x27;, &#x27;h1n1_knowledge&#x27;, &#x27;behavioral_antiviral_meds&#x27;,\n",
       "       &#x27;behavioral_avoidance&#x27;, &#x27;behavioral_face_mask&#x27;, &#x27;behavioral_wash_hands&#x27;,\n",
       "       &#x27;behavioral_large_gatherings&#x27;, &#x27;behavioral_outside_home&#x27;,\n",
       "       &#x27;behavioral_touch_face&#x27;, &#x27;doctor_recc_h1n1&#x27;, &#x27;doctor_recc_seasonal&#x27;,\n",
       "       &#x27;chronic_med_condition&#x27;, &#x27;child_under_6_months&#x27;, &#x27;health_worker&#x27;,\n",
       "       &#x27;health_insurance&#x27;, &#x27;opinion_h1n1_vacc_effective&#x27;, &#x27;opinion_h1n1_risk&#x27;,\n",
       "       &#x27;opinion_h1n1_sick_from_vacc&#x27;, &#x27;opinion_seas_vacc_effective&#x27;,\n",
       "       &#x27;opinion_seas_risk&#x27;, &#x27;opinion_seas_sick_from_vacc&#x27;, &#x27;household_adults&#x27;,\n",
       "       &#x27;household_children&#x27;],\n",
       "      dtype=&#x27;object&#x27;)</pre></div></div></div><div class=\"sk-serial\"><div class=\"sk-item\"><div class=\"sk-estimator sk-toggleable\"><input class=\"sk-toggleable__control sk-hidden--visually\" id=\"36c68616-91b9-4922-afc7-c7e928af171b\" type=\"checkbox\" ><label for=\"36c68616-91b9-4922-afc7-c7e928af171b\" class=\"sk-toggleable__label sk-toggleable__label-arrow\">passthrough</label><div class=\"sk-toggleable__content\"><pre>passthrough</pre></div></div></div></div></div></div></div></div><div class=\"sk-item\"><div class=\"sk-estimator sk-toggleable\"><input class=\"sk-toggleable__control sk-hidden--visually\" id=\"f8b69b33-4cf0-4944-ba64-a481cd52eee9\" type=\"checkbox\" ><label for=\"f8b69b33-4cf0-4944-ba64-a481cd52eee9\" class=\"sk-toggleable__label sk-toggleable__label-arrow\">SimpleImputer</label><div class=\"sk-toggleable__content\"><pre>SimpleImputer()</pre></div></div></div><div class=\"sk-item\"><div class=\"sk-estimator sk-toggleable\"><input class=\"sk-toggleable__control sk-hidden--visually\" id=\"e4b0654a-3faa-41a8-937a-7c08c7cd50cb\" type=\"checkbox\" ><label for=\"e4b0654a-3faa-41a8-937a-7c08c7cd50cb\" class=\"sk-toggleable__label sk-toggleable__label-arrow\">LogisticRegression</label><div class=\"sk-toggleable__content\"><pre>LogisticRegression()</pre></div></div></div></div></div></div></div>"
      ],
      "text/plain": [
       "Pipeline(steps=[('selector',\n",
       "                 ColumnTransformer(transformers=[('numeric', 'passthrough',\n",
       "                                                  Index(['h1n1_concern', 'h1n1_knowledge', 'behavioral_antiviral_meds',\n",
       "       'behavioral_avoidance', 'behavioral_face_mask', 'behavioral_wash_hands',\n",
       "       'behavioral_large_gatherings', 'behavioral_outside_home',\n",
       "       'behavioral_touch_face', 'doctor_recc_h1n1', 'doctor_recc_seasonal',\n",
       "       'chron...tion', 'child_under_6_months', 'health_worker',\n",
       "       'health_insurance', 'opinion_h1n1_vacc_effective', 'opinion_h1n1_risk',\n",
       "       'opinion_h1n1_sick_from_vacc', 'opinion_seas_vacc_effective',\n",
       "       'opinion_seas_risk', 'opinion_seas_sick_from_vacc', 'household_adults',\n",
       "       'household_children'],\n",
       "      dtype='object'))])),\n",
       "                ('imputer', SimpleImputer()),\n",
       "                ('classifier', LogisticRegression())])"
      ]
     },
     "execution_count": 8,
     "metadata": {},
     "output_type": "execute_result"
    }
   ],
   "source": [
    "y_true = labels_df[\"h1n1_vaccine\"]\n",
    "\n",
    "model2.fit(features_df, y_true)"
   ]
  },
  {
   "cell_type": "code",
   "execution_count": 9,
   "id": "47f5b7f1",
   "metadata": {},
   "outputs": [],
   "source": [
    "y_pred = model2.predict_proba(features_df).T[1]\n"
   ]
  },
  {
   "cell_type": "code",
   "execution_count": 10,
   "id": "f22168e0",
   "metadata": {},
   "outputs": [
    {
     "data": {
      "text/plain": [
       "0.8301287538133717"
      ]
     },
     "execution_count": 10,
     "metadata": {},
     "output_type": "execute_result"
    }
   ],
   "source": [
    "from sklearn.metrics import roc_auc_score\n",
    "\n",
    "roc_auc_score(y_true, y_pred)"
   ]
  },
  {
   "cell_type": "markdown",
   "id": "76c869db",
   "metadata": {},
   "source": [
    "## Calibration\n",
    "\n",
    "In the previous lesson we computed AUC scores because that's the metric the competition uses, but it is not the only way to quantify the performance of the model.\n",
    "In fact, there are many metrics, each used to evaluate different aspects of the model.\n",
    "\n",
    "One that is particularly useful for binary classification is the **calibration curve**, which checks whether the probilities generated by the model are consistent with the true labels.\n",
    "\n",
    "If we look at a single prediction, it is hard to tell whether it is right. For example, if the model predicts that a particular respondent has a 70% chance of being vaccinated, and in fact they were vaccinated, was the model right? Of if they were not vaccinated, was the model wrong? It's hard to say.\n",
    "\n",
    "But suppose there are 100 respondents who were given a probability near 70%. If 70 of them were actually vaccinated, we would say that the predictive probability was well **calibrated**.\n",
    "If it only 50 of them were actually vaccinated, or 90, we would be less impressed.\n",
    "\n",
    "Now suppose we group the respondents into bins according to their predicted probabilities. In the first bin, we might put everyone with probability less than 10%. In the next bin, everyone with probability between 10% and 20%, and so on.\n",
    "Then for each group, we could compute the actual percentage who are vaccinated.\n",
    "If we plot these results, with the bins on the x-axis and the actual percentages on the y-axis, the result is a calibration curve.\n",
    "\n",
    "Scikit-learn provides a function that computes calibration curves."
   ]
  },
  {
   "cell_type": "code",
   "execution_count": 11,
   "id": "ef000f79",
   "metadata": {},
   "outputs": [],
   "source": [
    "from sklearn.calibration import calibration_curve\n",
    "\n",
    "# In version 1.1 we would use `pos_label` to be explicit\n",
    "# x, y = calibration_curve(y_true, y_pred, pos_label=1, n_bins=10)\n",
    "\n",
    "x, y = calibration_curve(y_true, y_pred, n_bins=10)"
   ]
  },
  {
   "cell_type": "code",
   "execution_count": 12,
   "id": "04ad539b",
   "metadata": {},
   "outputs": [
    {
     "data": {
      "image/png": "[encoded data removed]",
      "text/plain": [
       "<Figure size 640x480 with 1 Axes>"
      ]
     },
     "metadata": {},
     "output_type": "display_data"
    }
   ],
   "source": [
    "from utils import decorate\n",
    "\n",
    "plt.plot([0, 1], [0, 1], color=\"gray\", alpha=0.4)\n",
    "plt.plot(x, y, \"o\", alpha=0.6)\n",
    "decorate(xlabel=\"Probablistic prediction\", ylabel=\"Actual proportion\")"
   ]
  },
  {
   "cell_type": "markdown",
   "id": "e8302294",
   "metadata": {},
   "source": [
    "The markers show the results, one for each bin. The gray line is where the actual proportions equal the predicted probabilities. When a marker falls on the line, that means the predictions in that bin were well calibrated.\n",
    "Overall, these results are pretty good: over the entire range, the actual proportions are close to the predicted probabilities."
   ]
  },
  {
   "cell_type": "markdown",
   "id": "1b8187d7",
   "metadata": {},
   "source": [
    "## Scaling\n",
    "\n",
    "Now let's get back to the model and see where we can make improvements.\n",
    "\n",
    "In the previous lesson, I mentioned one reason we could not interpret the coefficients of the model: the features are not on the same scales.\n",
    "For example, `behavioral_wash_hands` is either 0 or 1, `h1n1_concern` is on a scale from 0 to 3, and `opinion_h1n1_vacc_effective` is on a scale from 0 to 5."
   ]
  },
  {
   "cell_type": "code",
   "execution_count": 13,
   "id": "889dc7c5",
   "metadata": {},
   "outputs": [
    {
     "data": {
      "text/html": [
       "<div>\n",
       "<style scoped>\n",
       "    .dataframe tbody tr th:only-of-type {\n",
       "        vertical-align: middle;\n",
       "    }\n",
       "\n",
       "    .dataframe tbody tr th {\n",
       "        vertical-align: top;\n",
       "    }\n",
       "\n",
       "    .dataframe thead th {\n",
       "        text-align: right;\n",
       "    }\n",
       "</style>\n",
       "<table border=\"1\" class=\"dataframe\">\n",
       "  <thead>\n",
       "    <tr style=\"text-align: right;\">\n",
       "      <th></th>\n",
       "      <th>h1n1_concern</th>\n",
       "      <th>h1n1_knowledge</th>\n",
       "      <th>behavioral_antiviral_meds</th>\n",
       "      <th>behavioral_avoidance</th>\n",
       "      <th>behavioral_face_mask</th>\n",
       "      <th>behavioral_wash_hands</th>\n",
       "      <th>behavioral_large_gatherings</th>\n",
       "      <th>behavioral_outside_home</th>\n",
       "      <th>behavioral_touch_face</th>\n",
       "      <th>doctor_recc_h1n1</th>\n",
       "      <th>...</th>\n",
       "      <th>health_worker</th>\n",
       "      <th>health_insurance</th>\n",
       "      <th>opinion_h1n1_vacc_effective</th>\n",
       "      <th>opinion_h1n1_risk</th>\n",
       "      <th>opinion_h1n1_sick_from_vacc</th>\n",
       "      <th>opinion_seas_vacc_effective</th>\n",
       "      <th>opinion_seas_risk</th>\n",
       "      <th>opinion_seas_sick_from_vacc</th>\n",
       "      <th>household_adults</th>\n",
       "      <th>household_children</th>\n",
       "    </tr>\n",
       "  </thead>\n",
       "  <tbody>\n",
       "    <tr>\n",
       "      <th>min</th>\n",
       "      <td>0.0</td>\n",
       "      <td>0.0</td>\n",
       "      <td>0.0</td>\n",
       "      <td>0.0</td>\n",
       "      <td>0.0</td>\n",
       "      <td>0.0</td>\n",
       "      <td>0.0</td>\n",
       "      <td>0.0</td>\n",
       "      <td>0.0</td>\n",
       "      <td>0.0</td>\n",
       "      <td>...</td>\n",
       "      <td>0.0</td>\n",
       "      <td>0.0</td>\n",
       "      <td>1.0</td>\n",
       "      <td>1.0</td>\n",
       "      <td>1.0</td>\n",
       "      <td>1.0</td>\n",
       "      <td>1.0</td>\n",
       "      <td>1.0</td>\n",
       "      <td>0.0</td>\n",
       "      <td>0.0</td>\n",
       "    </tr>\n",
       "    <tr>\n",
       "      <th>max</th>\n",
       "      <td>3.0</td>\n",
       "      <td>2.0</td>\n",
       "      <td>1.0</td>\n",
       "      <td>1.0</td>\n",
       "      <td>1.0</td>\n",
       "      <td>1.0</td>\n",
       "      <td>1.0</td>\n",
       "      <td>1.0</td>\n",
       "      <td>1.0</td>\n",
       "      <td>1.0</td>\n",
       "      <td>...</td>\n",
       "      <td>1.0</td>\n",
       "      <td>1.0</td>\n",
       "      <td>5.0</td>\n",
       "      <td>5.0</td>\n",
       "      <td>5.0</td>\n",
       "      <td>5.0</td>\n",
       "      <td>5.0</td>\n",
       "      <td>5.0</td>\n",
       "      <td>3.0</td>\n",
       "      <td>3.0</td>\n",
       "    </tr>\n",
       "  </tbody>\n",
       "</table>\n",
       "<p>2 rows × 23 columns</p>\n",
       "</div>"
      ],
      "text/plain": [
       "     h1n1_concern  h1n1_knowledge  behavioral_antiviral_meds  \\\n",
       "min           0.0             0.0                        0.0   \n",
       "max           3.0             2.0                        1.0   \n",
       "\n",
       "     behavioral_avoidance  behavioral_face_mask  behavioral_wash_hands  \\\n",
       "min                   0.0                   0.0                    0.0   \n",
       "max                   1.0                   1.0                    1.0   \n",
       "\n",
       "     behavioral_large_gatherings  behavioral_outside_home  \\\n",
       "min                          0.0                      0.0   \n",
       "max                          1.0                      1.0   \n",
       "\n",
       "     behavioral_touch_face  doctor_recc_h1n1  ...  health_worker  \\\n",
       "min                    0.0               0.0  ...            0.0   \n",
       "max                    1.0               1.0  ...            1.0   \n",
       "\n",
       "     health_insurance  opinion_h1n1_vacc_effective  opinion_h1n1_risk  \\\n",
       "min               0.0                          1.0                1.0   \n",
       "max               1.0                          5.0                5.0   \n",
       "\n",
       "     opinion_h1n1_sick_from_vacc  opinion_seas_vacc_effective  \\\n",
       "min                          1.0                          1.0   \n",
       "max                          5.0                          5.0   \n",
       "\n",
       "     opinion_seas_risk  opinion_seas_sick_from_vacc  household_adults  \\\n",
       "min                1.0                          1.0               0.0   \n",
       "max                5.0                          5.0               3.0   \n",
       "\n",
       "     household_children  \n",
       "min                 0.0  \n",
       "max                 3.0  \n",
       "\n",
       "[2 rows x 23 columns]"
      ]
     },
     "execution_count": 13,
     "metadata": {},
     "output_type": "execute_result"
    }
   ],
   "source": [
    "features_df.describe().loc[[\"min\", \"max\"]]"
   ]
  },
  {
   "cell_type": "markdown",
   "id": "c9a8b481",
   "metadata": {},
   "source": [
    "For this reason, and another I will explain soon, it is generally a good idea to scale features before fitting a model. We can do that by adding one more stage to the `Pipeline`."
   ]
  },
  {
   "cell_type": "code",
   "execution_count": 14,
   "id": "7adcfb7c",
   "metadata": {},
   "outputs": [],
   "source": [
    "from sklearn.preprocessing import StandardScaler\n",
    "\n",
    "pipeline = Pipeline(\n",
    "    [\n",
    "        (\"selector\", ColumnTransformer([(\"selector\", \"passthrough\", numeric_cols)])),\n",
    "        (\"scaler\", StandardScaler()),  # this line is new\n",
    "        (\"imputer\", SimpleImputer(missing_values=np.nan, strategy=\"mean\")),\n",
    "        (\"classifier\", LogisticRegression()),\n",
    "    ]\n",
    ")"
   ]
  },
  {
   "cell_type": "markdown",
   "id": "4505a6ff",
   "metadata": {},
   "source": [
    "We can use this `Pipeline` as we did in the previous chapter, but for the sake of convenience, I'll introduce one more tool, the `MultiOutputClassifier`.\n",
    "\n",
    "Since we are using the same set of features to predict multiple labels, this is an example of a **multi-output classification** problem.\n",
    "Rather than build two pipelines explicitly, as we did in the previous lesson, we can create a classifier like this:"
   ]
  },
  {
   "cell_type": "code",
   "execution_count": 15,
   "id": "3b2b0ba4",
   "metadata": {},
   "outputs": [],
   "source": [
    "from sklearn.multioutput import MultiOutputClassifier\n",
    "\n",
    "classifier = MultiOutputClassifier(estimator=LogisticRegression())"
   ]
  },
  {
   "cell_type": "markdown",
   "id": "20493d2f",
   "metadata": {},
   "source": [
    "A `MultiOutputClassifier` is a container that holds multiple `LogisticRegression` objects.\n",
    "We can use it as a classifier in a pipeline like this:"
   ]
  },
  {
   "cell_type": "code",
   "execution_count": 16,
   "id": "befdcc05",
   "metadata": {},
   "outputs": [],
   "source": [
    "model3 = Pipeline(\n",
    "    [\n",
    "        (\"selector\", ColumnTransformer([(\"selector\", \"passthrough\", numeric_cols)])),\n",
    "        (\"scaler\", StandardScaler()),\n",
    "        (\"imputer\", SimpleImputer(missing_values=np.nan, strategy=\"mean\")),\n",
    "        (\"classifier\", classifier),  # this line has changed\n",
    "    ]\n",
    ")"
   ]
  },
  {
   "cell_type": "markdown",
   "id": "df89c4c1",
   "metadata": {},
   "source": [
    "Now we can generate predictions for both labels at the same time."
   ]
  },
  {
   "cell_type": "code",
   "execution_count": 17,
   "id": "5a88973b",
   "metadata": {},
   "outputs": [
    {
     "data": {
      "text/html": [
       "<style>#sk-ff24a2d5-bc58-47b3-8f43-ad7543f80e11 {color: black;background-color: white;}#sk-ff24a2d5-bc58-47b3-8f43-ad7543f80e11 pre{padding: 0;}#sk-ff24a2d5-bc58-47b3-8f43-ad7543f80e11 div.sk-toggleable {background-color: white;}#sk-ff24a2d5-bc58-47b3-8f43-ad7543f80e11 label.sk-toggleable__label {cursor: pointer;display: block;width: 100%;margin-bottom: 0;padding: 0.3em;box-sizing: border-box;text-align: center;}#sk-ff24a2d5-bc58-47b3-8f43-ad7543f80e11 label.sk-toggleable__label-arrow:before {content: \"▸\";float: left;margin-right: 0.25em;color: #696969;}#sk-ff24a2d5-bc58-47b3-8f43-ad7543f80e11 label.sk-toggleable__label-arrow:hover:before {color: black;}#sk-ff24a2d5-bc58-47b3-8f43-ad7543f80e11 div.sk-estimator:hover label.sk-toggleable__label-arrow:before {color: black;}#sk-ff24a2d5-bc58-47b3-8f43-ad7543f80e11 div.sk-toggleable__content {max-height: 0;max-width: 0;overflow: hidden;text-align: left;background-color: #f0f8ff;}#sk-ff24a2d5-bc58-47b3-8f43-ad7543f80e11 div.sk-toggleable__content pre {margin: 0.2em;color: black;border-radius: 0.25em;background-color: #f0f8ff;}#sk-ff24a2d5-bc58-47b3-8f43-ad7543f80e11 input.sk-toggleable__control:checked~div.sk-toggleable__content {max-height: 200px;max-width: 100%;overflow: auto;}#sk-ff24a2d5-bc58-47b3-8f43-ad7543f80e11 input.sk-toggleable__control:checked~label.sk-toggleable__label-arrow:before {content: \"▾\";}#sk-ff24a2d5-bc58-47b3-8f43-ad7543f80e11 div.sk-estimator input.sk-toggleable__control:checked~label.sk-toggleable__label {background-color: #d4ebff;}#sk-ff24a2d5-bc58-47b3-8f43-ad7543f80e11 div.sk-label input.sk-toggleable__control:checked~label.sk-toggleable__label {background-color: #d4ebff;}#sk-ff24a2d5-bc58-47b3-8f43-ad7543f80e11 input.sk-hidden--visually {border: 0;clip: rect(1px 1px 1px 1px);clip: rect(1px, 1px, 1px, 1px);height: 1px;margin: -1px;overflow: hidden;padding: 0;position: absolute;width: 1px;}#sk-ff24a2d5-bc58-47b3-8f43-ad7543f80e11 div.sk-estimator {font-family: monospace;background-color: #f0f8ff;border: 1px dotted black;border-radius: 0.25em;box-sizing: border-box;margin-bottom: 0.5em;}#sk-ff24a2d5-bc58-47b3-8f43-ad7543f80e11 div.sk-estimator:hover {background-color: #d4ebff;}#sk-ff24a2d5-bc58-47b3-8f43-ad7543f80e11 div.sk-parallel-item::after {content: \"\";width: 100%;border-bottom: 1px solid gray;flex-grow: 1;}#sk-ff24a2d5-bc58-47b3-8f43-ad7543f80e11 div.sk-label:hover label.sk-toggleable__label {background-color: #d4ebff;}#sk-ff24a2d5-bc58-47b3-8f43-ad7543f80e11 div.sk-serial::before {content: \"\";position: absolute;border-left: 1px solid gray;box-sizing: border-box;top: 2em;bottom: 0;left: 50%;}#sk-ff24a2d5-bc58-47b3-8f43-ad7543f80e11 div.sk-serial {display: flex;flex-direction: column;align-items: center;background-color: white;padding-right: 0.2em;padding-left: 0.2em;}#sk-ff24a2d5-bc58-47b3-8f43-ad7543f80e11 div.sk-item {z-index: 1;}#sk-ff24a2d5-bc58-47b3-8f43-ad7543f80e11 div.sk-parallel {display: flex;align-items: stretch;justify-content: center;background-color: white;}#sk-ff24a2d5-bc58-47b3-8f43-ad7543f80e11 div.sk-parallel::before {content: \"\";position: absolute;border-left: 1px solid gray;box-sizing: border-box;top: 2em;bottom: 0;left: 50%;}#sk-ff24a2d5-bc58-47b3-8f43-ad7543f80e11 div.sk-parallel-item {display: flex;flex-direction: column;position: relative;background-color: white;}#sk-ff24a2d5-bc58-47b3-8f43-ad7543f80e11 div.sk-parallel-item:first-child::after {align-self: flex-end;width: 50%;}#sk-ff24a2d5-bc58-47b3-8f43-ad7543f80e11 div.sk-parallel-item:last-child::after {align-self: flex-start;width: 50%;}#sk-ff24a2d5-bc58-47b3-8f43-ad7543f80e11 div.sk-parallel-item:only-child::after {width: 0;}#sk-ff24a2d5-bc58-47b3-8f43-ad7543f80e11 div.sk-dashed-wrapped {border: 1px dashed gray;margin: 0 0.4em 0.5em 0.4em;box-sizing: border-box;padding-bottom: 0.4em;background-color: white;position: relative;}#sk-ff24a2d5-bc58-47b3-8f43-ad7543f80e11 div.sk-label label {font-family: monospace;font-weight: bold;background-color: white;display: inline-block;line-height: 1.2em;}#sk-ff24a2d5-bc58-47b3-8f43-ad7543f80e11 div.sk-label-container {position: relative;z-index: 2;text-align: center;}#sk-ff24a2d5-bc58-47b3-8f43-ad7543f80e11 div.sk-container {/* jupyter's `normalize.less` sets `[hidden] { display: none; }` but bootstrap.min.css set `[hidden] { display: none !important; }` so we also need the `!important` here to be able to override the default hidden behavior on the sphinx rendered scikit-learn.org. See: https://github.com/scikit-learn/scikit-learn/issues/21755 */display: inline-block !important;position: relative;}#sk-ff24a2d5-bc58-47b3-8f43-ad7543f80e11 div.sk-text-repr-fallback {display: none;}</style><div id=\"sk-ff24a2d5-bc58-47b3-8f43-ad7543f80e11\" class=\"sk-top-container\"><div class=\"sk-text-repr-fallback\"><pre>Pipeline(steps=[(&#x27;selector&#x27;,\n",
       "                 ColumnTransformer(transformers=[(&#x27;selector&#x27;, &#x27;passthrough&#x27;,\n",
       "                                                  Index([&#x27;h1n1_concern&#x27;, &#x27;h1n1_knowledge&#x27;, &#x27;behavioral_antiviral_meds&#x27;,\n",
       "       &#x27;behavioral_avoidance&#x27;, &#x27;behavioral_face_mask&#x27;, &#x27;behavioral_wash_hands&#x27;,\n",
       "       &#x27;behavioral_large_gatherings&#x27;, &#x27;behavioral_outside_home&#x27;,\n",
       "       &#x27;behavioral_touch_face&#x27;, &#x27;doctor_recc_h1n1&#x27;, &#x27;doctor_recc_seasonal&#x27;,\n",
       "       &#x27;chro...\n",
       "       &#x27;health_insurance&#x27;, &#x27;opinion_h1n1_vacc_effective&#x27;, &#x27;opinion_h1n1_risk&#x27;,\n",
       "       &#x27;opinion_h1n1_sick_from_vacc&#x27;, &#x27;opinion_seas_vacc_effective&#x27;,\n",
       "       &#x27;opinion_seas_risk&#x27;, &#x27;opinion_seas_sick_from_vacc&#x27;, &#x27;household_adults&#x27;,\n",
       "       &#x27;household_children&#x27;],\n",
       "      dtype=&#x27;object&#x27;))])),\n",
       "                (&#x27;scaler&#x27;, StandardScaler()), (&#x27;imputer&#x27;, SimpleImputer()),\n",
       "                (&#x27;classifier&#x27;,\n",
       "                 MultiOutputClassifier(estimator=LogisticRegression()))])</pre><b>Please rerun this cell to show the HTML repr or trust the notebook.</b></div><div class=\"sk-container\" hidden><div class=\"sk-item sk-dashed-wrapped\"><div class=\"sk-label-container\"><div class=\"sk-label sk-toggleable\"><input class=\"sk-toggleable__control sk-hidden--visually\" id=\"a921f3a3-b46d-433c-afc3-fceaa2b06d6c\" type=\"checkbox\" ><label for=\"a921f3a3-b46d-433c-afc3-fceaa2b06d6c\" class=\"sk-toggleable__label sk-toggleable__label-arrow\">Pipeline</label><div class=\"sk-toggleable__content\"><pre>Pipeline(steps=[(&#x27;selector&#x27;,\n",
       "                 ColumnTransformer(transformers=[(&#x27;selector&#x27;, &#x27;passthrough&#x27;,\n",
       "                                                  Index([&#x27;h1n1_concern&#x27;, &#x27;h1n1_knowledge&#x27;, &#x27;behavioral_antiviral_meds&#x27;,\n",
       "       &#x27;behavioral_avoidance&#x27;, &#x27;behavioral_face_mask&#x27;, &#x27;behavioral_wash_hands&#x27;,\n",
       "       &#x27;behavioral_large_gatherings&#x27;, &#x27;behavioral_outside_home&#x27;,\n",
       "       &#x27;behavioral_touch_face&#x27;, &#x27;doctor_recc_h1n1&#x27;, &#x27;doctor_recc_seasonal&#x27;,\n",
       "       &#x27;chro...\n",
       "       &#x27;health_insurance&#x27;, &#x27;opinion_h1n1_vacc_effective&#x27;, &#x27;opinion_h1n1_risk&#x27;,\n",
       "       &#x27;opinion_h1n1_sick_from_vacc&#x27;, &#x27;opinion_seas_vacc_effective&#x27;,\n",
       "       &#x27;opinion_seas_risk&#x27;, &#x27;opinion_seas_sick_from_vacc&#x27;, &#x27;household_adults&#x27;,\n",
       "       &#x27;household_children&#x27;],\n",
       "      dtype=&#x27;object&#x27;))])),\n",
       "                (&#x27;scaler&#x27;, StandardScaler()), (&#x27;imputer&#x27;, SimpleImputer()),\n",
       "                (&#x27;classifier&#x27;,\n",
       "                 MultiOutputClassifier(estimator=LogisticRegression()))])</pre></div></div></div><div class=\"sk-serial\"><div class=\"sk-item sk-dashed-wrapped\"><div class=\"sk-label-container\"><div class=\"sk-label sk-toggleable\"><input class=\"sk-toggleable__control sk-hidden--visually\" id=\"da154679-419f-4cdb-9bff-ad229bd4ce02\" type=\"checkbox\" ><label for=\"da154679-419f-4cdb-9bff-ad229bd4ce02\" class=\"sk-toggleable__label sk-toggleable__label-arrow\">selector: ColumnTransformer</label><div class=\"sk-toggleable__content\"><pre>ColumnTransformer(transformers=[(&#x27;selector&#x27;, &#x27;passthrough&#x27;,\n",
       "                                 Index([&#x27;h1n1_concern&#x27;, &#x27;h1n1_knowledge&#x27;, &#x27;behavioral_antiviral_meds&#x27;,\n",
       "       &#x27;behavioral_avoidance&#x27;, &#x27;behavioral_face_mask&#x27;, &#x27;behavioral_wash_hands&#x27;,\n",
       "       &#x27;behavioral_large_gatherings&#x27;, &#x27;behavioral_outside_home&#x27;,\n",
       "       &#x27;behavioral_touch_face&#x27;, &#x27;doctor_recc_h1n1&#x27;, &#x27;doctor_recc_seasonal&#x27;,\n",
       "       &#x27;chronic_med_condition&#x27;, &#x27;child_under_6_months&#x27;, &#x27;health_worker&#x27;,\n",
       "       &#x27;health_insurance&#x27;, &#x27;opinion_h1n1_vacc_effective&#x27;, &#x27;opinion_h1n1_risk&#x27;,\n",
       "       &#x27;opinion_h1n1_sick_from_vacc&#x27;, &#x27;opinion_seas_vacc_effective&#x27;,\n",
       "       &#x27;opinion_seas_risk&#x27;, &#x27;opinion_seas_sick_from_vacc&#x27;, &#x27;household_adults&#x27;,\n",
       "       &#x27;household_children&#x27;],\n",
       "      dtype=&#x27;object&#x27;))])</pre></div></div></div><div class=\"sk-parallel\"><div class=\"sk-parallel-item\"><div class=\"sk-item\"><div class=\"sk-label-container\"><div class=\"sk-label sk-toggleable\"><input class=\"sk-toggleable__control sk-hidden--visually\" id=\"016343be-5920-4396-89a4-fea7a8129c57\" type=\"checkbox\" ><label for=\"016343be-5920-4396-89a4-fea7a8129c57\" class=\"sk-toggleable__label sk-toggleable__label-arrow\">selector</label><div class=\"sk-toggleable__content\"><pre>Index([&#x27;h1n1_concern&#x27;, &#x27;h1n1_knowledge&#x27;, &#x27;behavioral_antiviral_meds&#x27;,\n",
       "       &#x27;behavioral_avoidance&#x27;, &#x27;behavioral_face_mask&#x27;, &#x27;behavioral_wash_hands&#x27;,\n",
       "       &#x27;behavioral_large_gatherings&#x27;, &#x27;behavioral_outside_home&#x27;,\n",
       "       &#x27;behavioral_touch_face&#x27;, &#x27;doctor_recc_h1n1&#x27;, &#x27;doctor_recc_seasonal&#x27;,\n",
       "       &#x27;chronic_med_condition&#x27;, &#x27;child_under_6_months&#x27;, &#x27;health_worker&#x27;,\n",
       "       &#x27;health_insurance&#x27;, &#x27;opinion_h1n1_vacc_effective&#x27;, &#x27;opinion_h1n1_risk&#x27;,\n",
       "       &#x27;opinion_h1n1_sick_from_vacc&#x27;, &#x27;opinion_seas_vacc_effective&#x27;,\n",
       "       &#x27;opinion_seas_risk&#x27;, &#x27;opinion_seas_sick_from_vacc&#x27;, &#x27;household_adults&#x27;,\n",
       "       &#x27;household_children&#x27;],\n",
       "      dtype=&#x27;object&#x27;)</pre></div></div></div><div class=\"sk-serial\"><div class=\"sk-item\"><div class=\"sk-estimator sk-toggleable\"><input class=\"sk-toggleable__control sk-hidden--visually\" id=\"4921bdcb-49f0-44f6-88fa-e5ff71f93328\" type=\"checkbox\" ><label for=\"4921bdcb-49f0-44f6-88fa-e5ff71f93328\" class=\"sk-toggleable__label sk-toggleable__label-arrow\">passthrough</label><div class=\"sk-toggleable__content\"><pre>passthrough</pre></div></div></div></div></div></div></div></div><div class=\"sk-item\"><div class=\"sk-estimator sk-toggleable\"><input class=\"sk-toggleable__control sk-hidden--visually\" id=\"43a52527-60a4-4ea7-855a-e5beef095c35\" type=\"checkbox\" ><label for=\"43a52527-60a4-4ea7-855a-e5beef095c35\" class=\"sk-toggleable__label sk-toggleable__label-arrow\">StandardScaler</label><div class=\"sk-toggleable__content\"><pre>StandardScaler()</pre></div></div></div><div class=\"sk-item\"><div class=\"sk-estimator sk-toggleable\"><input class=\"sk-toggleable__control sk-hidden--visually\" id=\"839be5ff-c63e-41eb-9ff0-6be938321e4d\" type=\"checkbox\" ><label for=\"839be5ff-c63e-41eb-9ff0-6be938321e4d\" class=\"sk-toggleable__label sk-toggleable__label-arrow\">SimpleImputer</label><div class=\"sk-toggleable__content\"><pre>SimpleImputer()</pre></div></div></div><div class=\"sk-item sk-dashed-wrapped\"><div class=\"sk-label-container\"><div class=\"sk-label sk-toggleable\"><input class=\"sk-toggleable__control sk-hidden--visually\" id=\"72b81659-cf36-4642-af46-c7da03b6df20\" type=\"checkbox\" ><label for=\"72b81659-cf36-4642-af46-c7da03b6df20\" class=\"sk-toggleable__label sk-toggleable__label-arrow\">classifier: MultiOutputClassifier</label><div class=\"sk-toggleable__content\"><pre>MultiOutputClassifier(estimator=LogisticRegression())</pre></div></div></div><div class=\"sk-parallel\"><div class=\"sk-parallel-item\"><div class=\"sk-item\"><div class=\"sk-serial\"><div class=\"sk-item\"><div class=\"sk-estimator sk-toggleable\"><input class=\"sk-toggleable__control sk-hidden--visually\" id=\"f7d5df77-f841-4223-ac05-8502ff5f71cd\" type=\"checkbox\" ><label for=\"f7d5df77-f841-4223-ac05-8502ff5f71cd\" class=\"sk-toggleable__label sk-toggleable__label-arrow\">LogisticRegression</label><div class=\"sk-toggleable__content\"><pre>LogisticRegression()</pre></div></div></div></div></div></div></div></div></div></div></div></div>"
      ],
      "text/plain": [
       "Pipeline(steps=[('selector',\n",
       "                 ColumnTransformer(transformers=[('selector', 'passthrough',\n",
       "                                                  Index(['h1n1_concern', 'h1n1_knowledge', 'behavioral_antiviral_meds',\n",
       "       'behavioral_avoidance', 'behavioral_face_mask', 'behavioral_wash_hands',\n",
       "       'behavioral_large_gatherings', 'behavioral_outside_home',\n",
       "       'behavioral_touch_face', 'doctor_recc_h1n1', 'doctor_recc_seasonal',\n",
       "       'chro...\n",
       "       'health_insurance', 'opinion_h1n1_vacc_effective', 'opinion_h1n1_risk',\n",
       "       'opinion_h1n1_sick_from_vacc', 'opinion_seas_vacc_effective',\n",
       "       'opinion_seas_risk', 'opinion_seas_sick_from_vacc', 'household_adults',\n",
       "       'household_children'],\n",
       "      dtype='object'))])),\n",
       "                ('scaler', StandardScaler()), ('imputer', SimpleImputer()),\n",
       "                ('classifier',\n",
       "                 MultiOutputClassifier(estimator=LogisticRegression()))])"
      ]
     },
     "execution_count": 17,
     "metadata": {},
     "output_type": "execute_result"
    }
   ],
   "source": [
    "model3.fit(features_df, labels_df)"
   ]
  },
  {
   "cell_type": "markdown",
   "id": "823ad7ab",
   "metadata": {},
   "source": [
    "The result from `predict_proba` is a list of two arrays, one for each target variable."
   ]
  },
  {
   "cell_type": "code",
   "execution_count": 18,
   "id": "31957dea",
   "metadata": {},
   "outputs": [
    {
     "data": {
      "text/plain": [
       "array([[0.97088505, 0.02911495],\n",
       "       [0.7266493 , 0.2733507 ],\n",
       "       [0.94943016, 0.05056984],\n",
       "       ...,\n",
       "       [0.73727762, 0.26272238],\n",
       "       [0.99058945, 0.00941055],\n",
       "       [0.86154527, 0.13845473]])"
      ]
     },
     "execution_count": 18,
     "metadata": {},
     "output_type": "execute_result"
    }
   ],
   "source": [
    "pred1, pred2 = model3.predict_proba(features_df)\n",
    "pred1"
   ]
  },
  {
   "cell_type": "markdown",
   "id": "21fd6861",
   "metadata": {},
   "source": [
    "Each array has two columns, one for each class (vaccinated or not). So, again, we'll select the second column, which is the predicted probability of vaccination."
   ]
  },
  {
   "cell_type": "code",
   "execution_count": 19,
   "id": "e2058d58",
   "metadata": {},
   "outputs": [
    {
     "data": {
      "text/plain": [
       "0.8301349377610803"
      ]
     },
     "execution_count": 19,
     "metadata": {},
     "output_type": "execute_result"
    }
   ],
   "source": [
    "y_pred1 = pred1.T[1]\n",
    "y_true1 = labels_df[\"h1n1_vaccine\"]\n",
    "roc_auc_score(y_true, y_pred1)"
   ]
  },
  {
   "cell_type": "code",
   "execution_count": 20,
   "id": "8127a5df",
   "metadata": {},
   "outputs": [
    {
     "data": {
      "text/plain": [
       "0.8329153442069163"
      ]
     },
     "execution_count": 20,
     "metadata": {},
     "output_type": "execute_result"
    }
   ],
   "source": [
    "y_pred2 = pred2.T[1]\n",
    "y_true2 = labels_df[\"seasonal_vaccine\"]\n",
    "roc_auc_score(y_true2, y_pred2)"
   ]
  },
  {
   "cell_type": "markdown",
   "id": "88eb822a",
   "metadata": {},
   "source": [
    "In this example, scaling the inputs has a very small effect on the score, but it is generally good practice, particularly because it is necessary for proper regularization, which is the next topic.\n",
    "\n",
    "But before we go on, let's put that scoring code into a function.\n",
    "The return value is the average of the two AUC scores."
   ]
  },
  {
   "cell_type": "code",
   "execution_count": 21,
   "id": "c6035237",
   "metadata": {},
   "outputs": [],
   "source": [
    "def score_model(model, features_df, labels_df):\n",
    "    \"\"\"Compute the average AUC score for the two labels.\n",
    "\n",
    "    Args:\n",
    "        model: A fitted Sklearn model\n",
    "        features_df: DataFrame of features\n",
    "        labels_df: DataFrame of labels\n",
    "\n",
    "    Returns: float AUC score\n",
    "    \"\"\"\n",
    "\n",
    "    pred1, pred2 = model.predict_proba(features_df)\n",
    "\n",
    "    y_pred1 = pred1.T[1]\n",
    "    score1 = roc_auc_score(labels_df[\"h1n1_vaccine\"], y_pred1)\n",
    "\n",
    "    y_pred2 = pred2.T[1]\n",
    "    score2 = roc_auc_score(labels_df[\"seasonal_vaccine\"], y_pred2)\n",
    "\n",
    "    return (score1 + score2) / 2"
   ]
  },
  {
   "cell_type": "code",
   "execution_count": 22,
   "id": "09c86bc9",
   "metadata": {},
   "outputs": [
    {
     "data": {
      "text/plain": [
       "0.8315251409839983"
      ]
     },
     "execution_count": 22,
     "metadata": {},
     "output_type": "execute_result"
    }
   ],
   "source": [
    "score_model(model3, features_df, labels_df)"
   ]
  },
  {
   "cell_type": "markdown",
   "id": "94dd5b1b",
   "metadata": {},
   "source": [
    "## Regularizing\n",
    "\n",
    "The behavior of the `LogisticRegression` classifier is controlled by several parameters, which we can display like this."
   ]
  },
  {
   "cell_type": "code",
   "execution_count": 23,
   "id": "4f4e6419",
   "metadata": {},
   "outputs": [
    {
     "data": {
      "text/plain": [
       "{'C': 1.0,\n",
       " 'class_weight': None,\n",
       " 'dual': False,\n",
       " 'fit_intercept': True,\n",
       " 'intercept_scaling': 1,\n",
       " 'l1_ratio': None,\n",
       " 'max_iter': 100,\n",
       " 'multi_class': 'auto',\n",
       " 'n_jobs': None,\n",
       " 'penalty': 'l2',\n",
       " 'random_state': None,\n",
       " 'solver': 'lbfgs',\n",
       " 'tol': 0.0001,\n",
       " 'verbose': 0,\n",
       " 'warm_start': False}"
      ]
     },
     "execution_count": 23,
     "metadata": {},
     "output_type": "execute_result"
    }
   ],
   "source": [
    "LogisticRegression().get_params()"
   ]
  },
  {
   "cell_type": "markdown",
   "id": "44bdc768",
   "metadata": {},
   "source": [
    "The one we'll look at now is `penalty`, which specifies what kind of regularization the classifier uses.\n",
    "In general, **regularization** is an adjustment to the model-fitting process intended to avoid overfitting.\n",
    "The value `l2` specifies L2 regularization, also known as **ridge regression**.\n",
    "\n",
    "L2 regression penalizes models with large coefficients, so if it compares two models where one is a little more accurate and the other has smaller coefficients, it might choose the second.\n",
    "The parameter `C` controls the size of the penalty, but it's inverted, so a smaller value of `C` means a bigger penalty; that is, the classifier is willing to sacrifice more accuracy to get smaller coefficients.\n",
    "\n",
    "Why, you might wonder, do we care about the size of the coefficients, and why should we be willing to sacrifice accuracy to make them smaller?"
   ]
  },
  {
   "cell_type": "markdown",
   "id": "10decf6f",
   "metadata": {},
   "source": [
    "The underlying assumption is that some features add predictive value and other are effectively random. \n",
    "A good model should include the most valuable features and leave out the random ones. \n",
    "A model that includes all of the parameters is likely to be overfit; that is, it has probably learned details of the training data that will not make the predictions on the test data better, and might make them worse.\n",
    "\n",
    "L2 regularization reduces the influence of non-predictive features by pushing their coefficients toward zero.\n",
    "An alternative is L1 regularization, which takes this idea even farther; if it can remove a feature from the model entirely, without sacrificing too much accuracy, it will.\n",
    "\n",
    "The following example creates a `LogisticRegression` classifier with L1 regularization and `C` set to 0.01, which indicates a strong penalty.\n",
    "With this parameter, we also need to provide a `solver`, which selects one of the model-fitting algorithms that can do L1 regularization."
   ]
  },
  {
   "cell_type": "code",
   "execution_count": 24,
   "id": "96d7113b",
   "metadata": {},
   "outputs": [],
   "source": [
    "from sklearn.multioutput import MultiOutputClassifier\n",
    "\n",
    "classifier = MultiOutputClassifier(\n",
    "    estimator=LogisticRegression(penalty=\"l1\", C=0.01, solver=\"saga\")\n",
    ")"
   ]
  },
  {
   "cell_type": "code",
   "execution_count": 25,
   "id": "31ab18a4",
   "metadata": {},
   "outputs": [],
   "source": [
    "model4 = Pipeline(\n",
    "    [\n",
    "        (\"selector\", ColumnTransformer([(\"selector\", \"passthrough\", numeric_cols)])),\n",
    "        (\"scaler\", StandardScaler()),\n",
    "        (\"imputer\", SimpleImputer(missing_values=np.nan, strategy=\"mean\")),\n",
    "        (\"classifier\", classifier),\n",
    "    ]\n",
    ")"
   ]
  },
  {
   "cell_type": "code",
   "execution_count": 26,
   "id": "f4dd110e",
   "metadata": {},
   "outputs": [
    {
     "data": {
      "text/html": [
       "<style>#sk-cb153a0d-1214-4c7a-8ba0-2b908984ac24 {color: black;background-color: white;}#sk-cb153a0d-1214-4c7a-8ba0-2b908984ac24 pre{padding: 0;}#sk-cb153a0d-1214-4c7a-8ba0-2b908984ac24 div.sk-toggleable {background-color: white;}#sk-cb153a0d-1214-4c7a-8ba0-2b908984ac24 label.sk-toggleable__label {cursor: pointer;display: block;width: 100%;margin-bottom: 0;padding: 0.3em;box-sizing: border-box;text-align: center;}#sk-cb153a0d-1214-4c7a-8ba0-2b908984ac24 label.sk-toggleable__label-arrow:before {content: \"▸\";float: left;margin-right: 0.25em;color: #696969;}#sk-cb153a0d-1214-4c7a-8ba0-2b908984ac24 label.sk-toggleable__label-arrow:hover:before {color: black;}#sk-cb153a0d-1214-4c7a-8ba0-2b908984ac24 div.sk-estimator:hover label.sk-toggleable__label-arrow:before {color: black;}#sk-cb153a0d-1214-4c7a-8ba0-2b908984ac24 div.sk-toggleable__content {max-height: 0;max-width: 0;overflow: hidden;text-align: left;background-color: #f0f8ff;}#sk-cb153a0d-1214-4c7a-8ba0-2b908984ac24 div.sk-toggleable__content pre {margin: 0.2em;color: black;border-radius: 0.25em;background-color: #f0f8ff;}#sk-cb153a0d-1214-4c7a-8ba0-2b908984ac24 input.sk-toggleable__control:checked~div.sk-toggleable__content {max-height: 200px;max-width: 100%;overflow: auto;}#sk-cb153a0d-1214-4c7a-8ba0-2b908984ac24 input.sk-toggleable__control:checked~label.sk-toggleable__label-arrow:before {content: \"▾\";}#sk-cb153a0d-1214-4c7a-8ba0-2b908984ac24 div.sk-estimator input.sk-toggleable__control:checked~label.sk-toggleable__label {background-color: #d4ebff;}#sk-cb153a0d-1214-4c7a-8ba0-2b908984ac24 div.sk-label input.sk-toggleable__control:checked~label.sk-toggleable__label {background-color: #d4ebff;}#sk-cb153a0d-1214-4c7a-8ba0-2b908984ac24 input.sk-hidden--visually {border: 0;clip: rect(1px 1px 1px 1px);clip: rect(1px, 1px, 1px, 1px);height: 1px;margin: -1px;overflow: hidden;padding: 0;position: absolute;width: 1px;}#sk-cb153a0d-1214-4c7a-8ba0-2b908984ac24 div.sk-estimator {font-family: monospace;background-color: #f0f8ff;border: 1px dotted black;border-radius: 0.25em;box-sizing: border-box;margin-bottom: 0.5em;}#sk-cb153a0d-1214-4c7a-8ba0-2b908984ac24 div.sk-estimator:hover {background-color: #d4ebff;}#sk-cb153a0d-1214-4c7a-8ba0-2b908984ac24 div.sk-parallel-item::after {content: \"\";width: 100%;border-bottom: 1px solid gray;flex-grow: 1;}#sk-cb153a0d-1214-4c7a-8ba0-2b908984ac24 div.sk-label:hover label.sk-toggleable__label {background-color: #d4ebff;}#sk-cb153a0d-1214-4c7a-8ba0-2b908984ac24 div.sk-serial::before {content: \"\";position: absolute;border-left: 1px solid gray;box-sizing: border-box;top: 2em;bottom: 0;left: 50%;}#sk-cb153a0d-1214-4c7a-8ba0-2b908984ac24 div.sk-serial {display: flex;flex-direction: column;align-items: center;background-color: white;padding-right: 0.2em;padding-left: 0.2em;}#sk-cb153a0d-1214-4c7a-8ba0-2b908984ac24 div.sk-item {z-index: 1;}#sk-cb153a0d-1214-4c7a-8ba0-2b908984ac24 div.sk-parallel {display: flex;align-items: stretch;justify-content: center;background-color: white;}#sk-cb153a0d-1214-4c7a-8ba0-2b908984ac24 div.sk-parallel::before {content: \"\";position: absolute;border-left: 1px solid gray;box-sizing: border-box;top: 2em;bottom: 0;left: 50%;}#sk-cb153a0d-1214-4c7a-8ba0-2b908984ac24 div.sk-parallel-item {display: flex;flex-direction: column;position: relative;background-color: white;}#sk-cb153a0d-1214-4c7a-8ba0-2b908984ac24 div.sk-parallel-item:first-child::after {align-self: flex-end;width: 50%;}#sk-cb153a0d-1214-4c7a-8ba0-2b908984ac24 div.sk-parallel-item:last-child::after {align-self: flex-start;width: 50%;}#sk-cb153a0d-1214-4c7a-8ba0-2b908984ac24 div.sk-parallel-item:only-child::after {width: 0;}#sk-cb153a0d-1214-4c7a-8ba0-2b908984ac24 div.sk-dashed-wrapped {border: 1px dashed gray;margin: 0 0.4em 0.5em 0.4em;box-sizing: border-box;padding-bottom: 0.4em;background-color: white;position: relative;}#sk-cb153a0d-1214-4c7a-8ba0-2b908984ac24 div.sk-label label {font-family: monospace;font-weight: bold;background-color: white;display: inline-block;line-height: 1.2em;}#sk-cb153a0d-1214-4c7a-8ba0-2b908984ac24 div.sk-label-container {position: relative;z-index: 2;text-align: center;}#sk-cb153a0d-1214-4c7a-8ba0-2b908984ac24 div.sk-container {/* jupyter's `normalize.less` sets `[hidden] { display: none; }` but bootstrap.min.css set `[hidden] { display: none !important; }` so we also need the `!important` here to be able to override the default hidden behavior on the sphinx rendered scikit-learn.org. See: https://github.com/scikit-learn/scikit-learn/issues/21755 */display: inline-block !important;position: relative;}#sk-cb153a0d-1214-4c7a-8ba0-2b908984ac24 div.sk-text-repr-fallback {display: none;}</style><div id=\"sk-cb153a0d-1214-4c7a-8ba0-2b908984ac24\" class=\"sk-top-container\"><div class=\"sk-text-repr-fallback\"><pre>Pipeline(steps=[(&#x27;selector&#x27;,\n",
       "                 ColumnTransformer(transformers=[(&#x27;selector&#x27;, &#x27;passthrough&#x27;,\n",
       "                                                  Index([&#x27;h1n1_concern&#x27;, &#x27;h1n1_knowledge&#x27;, &#x27;behavioral_antiviral_meds&#x27;,\n",
       "       &#x27;behavioral_avoidance&#x27;, &#x27;behavioral_face_mask&#x27;, &#x27;behavioral_wash_hands&#x27;,\n",
       "       &#x27;behavioral_large_gatherings&#x27;, &#x27;behavioral_outside_home&#x27;,\n",
       "       &#x27;behavioral_touch_face&#x27;, &#x27;doctor_recc_h1n1&#x27;, &#x27;doctor_recc_seasonal&#x27;,\n",
       "       &#x27;chro...\n",
       "       &#x27;health_insurance&#x27;, &#x27;opinion_h1n1_vacc_effective&#x27;, &#x27;opinion_h1n1_risk&#x27;,\n",
       "       &#x27;opinion_h1n1_sick_from_vacc&#x27;, &#x27;opinion_seas_vacc_effective&#x27;,\n",
       "       &#x27;opinion_seas_risk&#x27;, &#x27;opinion_seas_sick_from_vacc&#x27;, &#x27;household_adults&#x27;,\n",
       "       &#x27;household_children&#x27;],\n",
       "      dtype=&#x27;object&#x27;))])),\n",
       "                (&#x27;scaler&#x27;, StandardScaler()), (&#x27;imputer&#x27;, SimpleImputer()),\n",
       "                (&#x27;classifier&#x27;,\n",
       "                 MultiOutputClassifier(estimator=LogisticRegression(C=0.01,\n",
       "                                                                    penalty=&#x27;l1&#x27;,\n",
       "                                                                    solver=&#x27;saga&#x27;)))])</pre><b>Please rerun this cell to show the HTML repr or trust the notebook.</b></div><div class=\"sk-container\" hidden><div class=\"sk-item sk-dashed-wrapped\"><div class=\"sk-label-container\"><div class=\"sk-label sk-toggleable\"><input class=\"sk-toggleable__control sk-hidden--visually\" id=\"1b059651-3b60-40ab-a28c-2079f23bba9c\" type=\"checkbox\" ><label for=\"1b059651-3b60-40ab-a28c-2079f23bba9c\" class=\"sk-toggleable__label sk-toggleable__label-arrow\">Pipeline</label><div class=\"sk-toggleable__content\"><pre>Pipeline(steps=[(&#x27;selector&#x27;,\n",
       "                 ColumnTransformer(transformers=[(&#x27;selector&#x27;, &#x27;passthrough&#x27;,\n",
       "                                                  Index([&#x27;h1n1_concern&#x27;, &#x27;h1n1_knowledge&#x27;, &#x27;behavioral_antiviral_meds&#x27;,\n",
       "       &#x27;behavioral_avoidance&#x27;, &#x27;behavioral_face_mask&#x27;, &#x27;behavioral_wash_hands&#x27;,\n",
       "       &#x27;behavioral_large_gatherings&#x27;, &#x27;behavioral_outside_home&#x27;,\n",
       "       &#x27;behavioral_touch_face&#x27;, &#x27;doctor_recc_h1n1&#x27;, &#x27;doctor_recc_seasonal&#x27;,\n",
       "       &#x27;chro...\n",
       "       &#x27;health_insurance&#x27;, &#x27;opinion_h1n1_vacc_effective&#x27;, &#x27;opinion_h1n1_risk&#x27;,\n",
       "       &#x27;opinion_h1n1_sick_from_vacc&#x27;, &#x27;opinion_seas_vacc_effective&#x27;,\n",
       "       &#x27;opinion_seas_risk&#x27;, &#x27;opinion_seas_sick_from_vacc&#x27;, &#x27;household_adults&#x27;,\n",
       "       &#x27;household_children&#x27;],\n",
       "      dtype=&#x27;object&#x27;))])),\n",
       "                (&#x27;scaler&#x27;, StandardScaler()), (&#x27;imputer&#x27;, SimpleImputer()),\n",
       "                (&#x27;classifier&#x27;,\n",
       "                 MultiOutputClassifier(estimator=LogisticRegression(C=0.01,\n",
       "                                                                    penalty=&#x27;l1&#x27;,\n",
       "                                                                    solver=&#x27;saga&#x27;)))])</pre></div></div></div><div class=\"sk-serial\"><div class=\"sk-item sk-dashed-wrapped\"><div class=\"sk-label-container\"><div class=\"sk-label sk-toggleable\"><input class=\"sk-toggleable__control sk-hidden--visually\" id=\"6f8d8a2d-8567-4b7f-8a6c-a17e1dffd3d5\" type=\"checkbox\" ><label for=\"6f8d8a2d-8567-4b7f-8a6c-a17e1dffd3d5\" class=\"sk-toggleable__label sk-toggleable__label-arrow\">selector: ColumnTransformer</label><div class=\"sk-toggleable__content\"><pre>ColumnTransformer(transformers=[(&#x27;selector&#x27;, &#x27;passthrough&#x27;,\n",
       "                                 Index([&#x27;h1n1_concern&#x27;, &#x27;h1n1_knowledge&#x27;, &#x27;behavioral_antiviral_meds&#x27;,\n",
       "       &#x27;behavioral_avoidance&#x27;, &#x27;behavioral_face_mask&#x27;, &#x27;behavioral_wash_hands&#x27;,\n",
       "       &#x27;behavioral_large_gatherings&#x27;, &#x27;behavioral_outside_home&#x27;,\n",
       "       &#x27;behavioral_touch_face&#x27;, &#x27;doctor_recc_h1n1&#x27;, &#x27;doctor_recc_seasonal&#x27;,\n",
       "       &#x27;chronic_med_condition&#x27;, &#x27;child_under_6_months&#x27;, &#x27;health_worker&#x27;,\n",
       "       &#x27;health_insurance&#x27;, &#x27;opinion_h1n1_vacc_effective&#x27;, &#x27;opinion_h1n1_risk&#x27;,\n",
       "       &#x27;opinion_h1n1_sick_from_vacc&#x27;, &#x27;opinion_seas_vacc_effective&#x27;,\n",
       "       &#x27;opinion_seas_risk&#x27;, &#x27;opinion_seas_sick_from_vacc&#x27;, &#x27;household_adults&#x27;,\n",
       "       &#x27;household_children&#x27;],\n",
       "      dtype=&#x27;object&#x27;))])</pre></div></div></div><div class=\"sk-parallel\"><div class=\"sk-parallel-item\"><div class=\"sk-item\"><div class=\"sk-label-container\"><div class=\"sk-label sk-toggleable\"><input class=\"sk-toggleable__control sk-hidden--visually\" id=\"28230b8e-5b77-4708-ba78-c9a8f0e3cd2a\" type=\"checkbox\" ><label for=\"28230b8e-5b77-4708-ba78-c9a8f0e3cd2a\" class=\"sk-toggleable__label sk-toggleable__label-arrow\">selector</label><div class=\"sk-toggleable__content\"><pre>Index([&#x27;h1n1_concern&#x27;, &#x27;h1n1_knowledge&#x27;, &#x27;behavioral_antiviral_meds&#x27;,\n",
       "       &#x27;behavioral_avoidance&#x27;, &#x27;behavioral_face_mask&#x27;, &#x27;behavioral_wash_hands&#x27;,\n",
       "       &#x27;behavioral_large_gatherings&#x27;, &#x27;behavioral_outside_home&#x27;,\n",
       "       &#x27;behavioral_touch_face&#x27;, &#x27;doctor_recc_h1n1&#x27;, &#x27;doctor_recc_seasonal&#x27;,\n",
       "       &#x27;chronic_med_condition&#x27;, &#x27;child_under_6_months&#x27;, &#x27;health_worker&#x27;,\n",
       "       &#x27;health_insurance&#x27;, &#x27;opinion_h1n1_vacc_effective&#x27;, &#x27;opinion_h1n1_risk&#x27;,\n",
       "       &#x27;opinion_h1n1_sick_from_vacc&#x27;, &#x27;opinion_seas_vacc_effective&#x27;,\n",
       "       &#x27;opinion_seas_risk&#x27;, &#x27;opinion_seas_sick_from_vacc&#x27;, &#x27;household_adults&#x27;,\n",
       "       &#x27;household_children&#x27;],\n",
       "      dtype=&#x27;object&#x27;)</pre></div></div></div><div class=\"sk-serial\"><div class=\"sk-item\"><div class=\"sk-estimator sk-toggleable\"><input class=\"sk-toggleable__control sk-hidden--visually\" id=\"afa77f98-0081-40a1-863e-ac8546a42eab\" type=\"checkbox\" ><label for=\"afa77f98-0081-40a1-863e-ac8546a42eab\" class=\"sk-toggleable__label sk-toggleable__label-arrow\">passthrough</label><div class=\"sk-toggleable__content\"><pre>passthrough</pre></div></div></div></div></div></div></div></div><div class=\"sk-item\"><div class=\"sk-estimator sk-toggleable\"><input class=\"sk-toggleable__control sk-hidden--visually\" id=\"bb9a054f-5cad-4d6f-9871-66f600990f2d\" type=\"checkbox\" ><label for=\"bb9a054f-5cad-4d6f-9871-66f600990f2d\" class=\"sk-toggleable__label sk-toggleable__label-arrow\">StandardScaler</label><div class=\"sk-toggleable__content\"><pre>StandardScaler()</pre></div></div></div><div class=\"sk-item\"><div class=\"sk-estimator sk-toggleable\"><input class=\"sk-toggleable__control sk-hidden--visually\" id=\"1a9a6ce3-2ac8-41ca-88dc-02ad3698d4fe\" type=\"checkbox\" ><label for=\"1a9a6ce3-2ac8-41ca-88dc-02ad3698d4fe\" class=\"sk-toggleable__label sk-toggleable__label-arrow\">SimpleImputer</label><div class=\"sk-toggleable__content\"><pre>SimpleImputer()</pre></div></div></div><div class=\"sk-item sk-dashed-wrapped\"><div class=\"sk-label-container\"><div class=\"sk-label sk-toggleable\"><input class=\"sk-toggleable__control sk-hidden--visually\" id=\"d591d310-f285-428d-be32-e051f72b403f\" type=\"checkbox\" ><label for=\"d591d310-f285-428d-be32-e051f72b403f\" class=\"sk-toggleable__label sk-toggleable__label-arrow\">classifier: MultiOutputClassifier</label><div class=\"sk-toggleable__content\"><pre>MultiOutputClassifier(estimator=LogisticRegression(C=0.01, penalty=&#x27;l1&#x27;,\n",
       "                                                   solver=&#x27;saga&#x27;))</pre></div></div></div><div class=\"sk-parallel\"><div class=\"sk-parallel-item\"><div class=\"sk-item\"><div class=\"sk-serial\"><div class=\"sk-item\"><div class=\"sk-estimator sk-toggleable\"><input class=\"sk-toggleable__control sk-hidden--visually\" id=\"c7caa637-566b-4e3c-aa26-c27ddf06bee1\" type=\"checkbox\" ><label for=\"c7caa637-566b-4e3c-aa26-c27ddf06bee1\" class=\"sk-toggleable__label sk-toggleable__label-arrow\">LogisticRegression</label><div class=\"sk-toggleable__content\"><pre>LogisticRegression(C=0.01, penalty=&#x27;l1&#x27;, solver=&#x27;saga&#x27;)</pre></div></div></div></div></div></div></div></div></div></div></div></div>"
      ],
      "text/plain": [
       "Pipeline(steps=[('selector',\n",
       "                 ColumnTransformer(transformers=[('selector', 'passthrough',\n",
       "                                                  Index(['h1n1_concern', 'h1n1_knowledge', 'behavioral_antiviral_meds',\n",
       "       'behavioral_avoidance', 'behavioral_face_mask', 'behavioral_wash_hands',\n",
       "       'behavioral_large_gatherings', 'behavioral_outside_home',\n",
       "       'behavioral_touch_face', 'doctor_recc_h1n1', 'doctor_recc_seasonal',\n",
       "       'chro...\n",
       "       'health_insurance', 'opinion_h1n1_vacc_effective', 'opinion_h1n1_risk',\n",
       "       'opinion_h1n1_sick_from_vacc', 'opinion_seas_vacc_effective',\n",
       "       'opinion_seas_risk', 'opinion_seas_sick_from_vacc', 'household_adults',\n",
       "       'household_children'],\n",
       "      dtype='object'))])),\n",
       "                ('scaler', StandardScaler()), ('imputer', SimpleImputer()),\n",
       "                ('classifier',\n",
       "                 MultiOutputClassifier(estimator=LogisticRegression(C=0.01,\n",
       "                                                                    penalty='l1',\n",
       "                                                                    solver='saga')))])"
      ]
     },
     "execution_count": 26,
     "metadata": {},
     "output_type": "execute_result"
    }
   ],
   "source": [
    "model4.fit(features_df, labels_df)"
   ]
  },
  {
   "cell_type": "markdown",
   "id": "ef30a6c3",
   "metadata": {},
   "source": [
    "Pipelines are convenient in many ways, but they don't make it easy to find the estimated coefficients!\n",
    "Nevertheless, here they are:"
   ]
  },
  {
   "cell_type": "code",
   "execution_count": 27,
   "id": "2fc153b9",
   "metadata": {},
   "outputs": [],
   "source": [
    "classifier1, classifier2 = model4[-1].estimators_"
   ]
  },
  {
   "cell_type": "code",
   "execution_count": 28,
   "id": "b42e424b",
   "metadata": {},
   "outputs": [
    {
     "data": {
      "text/plain": [
       "array([[-0.0416895 ,  0.07479139,  0.        ,  0.        ,  0.01813788,\n",
       "         0.        , -0.06325363,  0.        ,  0.        ,  0.74087242,\n",
       "        -0.13113851,  0.02494237,  0.03549932,  0.21795986,  0.32981606,\n",
       "         0.58189032,  0.4243108 ,  0.        ,  0.08038359,  0.18488816,\n",
       "        -0.08710185,  0.        , -0.05000592]])"
      ]
     },
     "execution_count": 28,
     "metadata": {},
     "output_type": "execute_result"
    }
   ],
   "source": [
    "classifier1.coef_"
   ]
  },
  {
   "cell_type": "code",
   "execution_count": 29,
   "id": "35acb0e9",
   "metadata": {},
   "outputs": [
    {
     "data": {
      "text/plain": [
       "array([[ 0.00506871,  0.10992433,  0.        ,  0.        ,  0.        ,\n",
       "         0.01336472,  0.        ,  0.        ,  0.09764047, -0.08315271,\n",
       "         0.65200461,  0.13902312,  0.        ,  0.19476556,  0.33684071,\n",
       "         0.        ,  0.        , -0.05895702,  0.62377945,  0.68661686,\n",
       "        -0.26877753, -0.06335977, -0.20480668]])"
      ]
     },
     "execution_count": 29,
     "metadata": {},
     "output_type": "execute_result"
    }
   ],
   "source": [
    "classifier2.coef_"
   ]
  },
  {
   "cell_type": "markdown",
   "id": "7f355de9",
   "metadata": {},
   "source": [
    "If the estimated coefficient for a feature is 0, that means the feature has been eliminated from the model.\n",
    "For the two target variables, L1 regularization was able to eliminate 7 or 8 of the 23 coefficients.\n",
    "The result is a simpler model in the sense that it uses fewer features.\n",
    "\n",
    "Let's see how much accuracy we had to sacrifice for this simplicity. Here's the average accuracy with L2 regularization again:"
   ]
  },
  {
   "cell_type": "code",
   "execution_count": 30,
   "id": "fc82fcdf",
   "metadata": {},
   "outputs": [
    {
     "data": {
      "text/plain": [
       "0.8315251409839983"
      ]
     },
     "execution_count": 30,
     "metadata": {},
     "output_type": "execute_result"
    }
   ],
   "source": [
    "score_l2 = score_model(model3, features_df, labels_df)\n",
    "score_l2"
   ]
  },
  {
   "cell_type": "markdown",
   "id": "9f5f75f7",
   "metadata": {},
   "source": [
    "And with L1 regularization:"
   ]
  },
  {
   "cell_type": "code",
   "execution_count": 31,
   "id": "d0aa8247",
   "metadata": {},
   "outputs": [
    {
     "data": {
      "text/plain": [
       "0.8308798267166294"
      ]
     },
     "execution_count": 31,
     "metadata": {},
     "output_type": "execute_result"
    }
   ],
   "source": [
    "score_l1 = score_model(model4, features_df, labels_df)\n",
    "score_l1"
   ]
  },
  {
   "cell_type": "markdown",
   "id": "e71fe1fe",
   "metadata": {},
   "source": [
    "With L1 regularization, the average AUC score is slightly lower than with L2 regularization, but the difference is very small, and we expect the model with L1 regularization to be less prone to overfitting.\n",
    "So, even if it is less good on the training data, it might be better on the test data.\n",
    "Or even if it isn't, the score on the training data should provide a more realistic expectation for the score on the test data.\n",
    "\n",
    "However, in this example, overfitting is not a big problem.\n",
    "`LogisticRegression` models have a relatively small number of coefficients, compared to other models we'll see soon, so they are generally less prone to overfitting. "
   ]
  },
  {
   "cell_type": "markdown",
   "id": "5816c4b5",
   "metadata": {},
   "source": [
    "**Exercise:** If you are not sure which is better, L1 or L2 regularization, \"¿Por qué no los dos?\"\n",
    "\n",
    "`LogisticRegression` provides yet another penalty, called `elasticnet`, which includes both L1 and L2 penalties. Again, the parameter `C` controls the weight of the penalties, and a second parameter, `l1_ratio`, divides the weight between L1 and L2. When `l1_ratio` is `1`, ElasticNet is the same as L1 regularization; when it is `0`, ElasticNet is the same as L2 regularization.\n",
    "\n",
    "Make a pipeline that uses `LogisticRegression` with `ElasticNet` and try a few values for the parameters. Can you find a combination of `C` and `l1_ratio` that maximizes the AUC score on the training data?\n",
    "\n",
    "Keep in mind that the optimal parameters for the training data are not necessarily optimal for the test data. So this exercise might not demonstrate good practice. We'll see a better alternative in the next lesson."
   ]
  },
  {
   "cell_type": "code",
   "execution_count": 32,
   "id": "fc649785",
   "metadata": {},
   "outputs": [],
   "source": [
    "# Solution\n",
    "\n",
    "from sklearn.multioutput import MultiOutputClassifier\n",
    "\n",
    "classifier = MultiOutputClassifier(\n",
    "    estimator=LogisticRegression(penalty=\"elasticnet\", l1_ratio=0.5, solver=\"saga\")\n",
    ")"
   ]
  },
  {
   "cell_type": "code",
   "execution_count": 33,
   "id": "83f94ac3",
   "metadata": {},
   "outputs": [],
   "source": [
    "# Solution\n",
    "\n",
    "model_en = Pipeline(\n",
    "    [\n",
    "        (\"selector\", ColumnTransformer([(\"selector\", \"passthrough\", numeric_cols)])),\n",
    "        (\"scaler\", StandardScaler()),\n",
    "        (\"imputer\", SimpleImputer(missing_values=np.nan, strategy=\"mean\")),\n",
    "        (\"classifier\", classifier),\n",
    "    ]\n",
    ")"
   ]
  },
  {
   "cell_type": "code",
   "execution_count": 34,
   "id": "474e6835",
   "metadata": {},
   "outputs": [
    {
     "data": {
      "text/html": [
       "<style>#sk-d8bae6ce-a873-4d82-83e2-349d64ed7d56 {color: black;background-color: white;}#sk-d8bae6ce-a873-4d82-83e2-349d64ed7d56 pre{padding: 0;}#sk-d8bae6ce-a873-4d82-83e2-349d64ed7d56 div.sk-toggleable {background-color: white;}#sk-d8bae6ce-a873-4d82-83e2-349d64ed7d56 label.sk-toggleable__label {cursor: pointer;display: block;width: 100%;margin-bottom: 0;padding: 0.3em;box-sizing: border-box;text-align: center;}#sk-d8bae6ce-a873-4d82-83e2-349d64ed7d56 label.sk-toggleable__label-arrow:before {content: \"▸\";float: left;margin-right: 0.25em;color: #696969;}#sk-d8bae6ce-a873-4d82-83e2-349d64ed7d56 label.sk-toggleable__label-arrow:hover:before {color: black;}#sk-d8bae6ce-a873-4d82-83e2-349d64ed7d56 div.sk-estimator:hover label.sk-toggleable__label-arrow:before {color: black;}#sk-d8bae6ce-a873-4d82-83e2-349d64ed7d56 div.sk-toggleable__content {max-height: 0;max-width: 0;overflow: hidden;text-align: left;background-color: #f0f8ff;}#sk-d8bae6ce-a873-4d82-83e2-349d64ed7d56 div.sk-toggleable__content pre {margin: 0.2em;color: black;border-radius: 0.25em;background-color: #f0f8ff;}#sk-d8bae6ce-a873-4d82-83e2-349d64ed7d56 input.sk-toggleable__control:checked~div.sk-toggleable__content {max-height: 200px;max-width: 100%;overflow: auto;}#sk-d8bae6ce-a873-4d82-83e2-349d64ed7d56 input.sk-toggleable__control:checked~label.sk-toggleable__label-arrow:before {content: \"▾\";}#sk-d8bae6ce-a873-4d82-83e2-349d64ed7d56 div.sk-estimator input.sk-toggleable__control:checked~label.sk-toggleable__label {background-color: #d4ebff;}#sk-d8bae6ce-a873-4d82-83e2-349d64ed7d56 div.sk-label input.sk-toggleable__control:checked~label.sk-toggleable__label {background-color: #d4ebff;}#sk-d8bae6ce-a873-4d82-83e2-349d64ed7d56 input.sk-hidden--visually {border: 0;clip: rect(1px 1px 1px 1px);clip: rect(1px, 1px, 1px, 1px);height: 1px;margin: -1px;overflow: hidden;padding: 0;position: absolute;width: 1px;}#sk-d8bae6ce-a873-4d82-83e2-349d64ed7d56 div.sk-estimator {font-family: monospace;background-color: #f0f8ff;border: 1px dotted black;border-radius: 0.25em;box-sizing: border-box;margin-bottom: 0.5em;}#sk-d8bae6ce-a873-4d82-83e2-349d64ed7d56 div.sk-estimator:hover {background-color: #d4ebff;}#sk-d8bae6ce-a873-4d82-83e2-349d64ed7d56 div.sk-parallel-item::after {content: \"\";width: 100%;border-bottom: 1px solid gray;flex-grow: 1;}#sk-d8bae6ce-a873-4d82-83e2-349d64ed7d56 div.sk-label:hover label.sk-toggleable__label {background-color: #d4ebff;}#sk-d8bae6ce-a873-4d82-83e2-349d64ed7d56 div.sk-serial::before {content: \"\";position: absolute;border-left: 1px solid gray;box-sizing: border-box;top: 2em;bottom: 0;left: 50%;}#sk-d8bae6ce-a873-4d82-83e2-349d64ed7d56 div.sk-serial {display: flex;flex-direction: column;align-items: center;background-color: white;padding-right: 0.2em;padding-left: 0.2em;}#sk-d8bae6ce-a873-4d82-83e2-349d64ed7d56 div.sk-item {z-index: 1;}#sk-d8bae6ce-a873-4d82-83e2-349d64ed7d56 div.sk-parallel {display: flex;align-items: stretch;justify-content: center;background-color: white;}#sk-d8bae6ce-a873-4d82-83e2-349d64ed7d56 div.sk-parallel::before {content: \"\";position: absolute;border-left: 1px solid gray;box-sizing: border-box;top: 2em;bottom: 0;left: 50%;}#sk-d8bae6ce-a873-4d82-83e2-349d64ed7d56 div.sk-parallel-item {display: flex;flex-direction: column;position: relative;background-color: white;}#sk-d8bae6ce-a873-4d82-83e2-349d64ed7d56 div.sk-parallel-item:first-child::after {align-self: flex-end;width: 50%;}#sk-d8bae6ce-a873-4d82-83e2-349d64ed7d56 div.sk-parallel-item:last-child::after {align-self: flex-start;width: 50%;}#sk-d8bae6ce-a873-4d82-83e2-349d64ed7d56 div.sk-parallel-item:only-child::after {width: 0;}#sk-d8bae6ce-a873-4d82-83e2-349d64ed7d56 div.sk-dashed-wrapped {border: 1px dashed gray;margin: 0 0.4em 0.5em 0.4em;box-sizing: border-box;padding-bottom: 0.4em;background-color: white;position: relative;}#sk-d8bae6ce-a873-4d82-83e2-349d64ed7d56 div.sk-label label {font-family: monospace;font-weight: bold;background-color: white;display: inline-block;line-height: 1.2em;}#sk-d8bae6ce-a873-4d82-83e2-349d64ed7d56 div.sk-label-container {position: relative;z-index: 2;text-align: center;}#sk-d8bae6ce-a873-4d82-83e2-349d64ed7d56 div.sk-container {/* jupyter's `normalize.less` sets `[hidden] { display: none; }` but bootstrap.min.css set `[hidden] { display: none !important; }` so we also need the `!important` here to be able to override the default hidden behavior on the sphinx rendered scikit-learn.org. See: https://github.com/scikit-learn/scikit-learn/issues/21755 */display: inline-block !important;position: relative;}#sk-d8bae6ce-a873-4d82-83e2-349d64ed7d56 div.sk-text-repr-fallback {display: none;}</style><div id=\"sk-d8bae6ce-a873-4d82-83e2-349d64ed7d56\" class=\"sk-top-container\"><div class=\"sk-text-repr-fallback\"><pre>Pipeline(steps=[(&#x27;selector&#x27;,\n",
       "                 ColumnTransformer(transformers=[(&#x27;selector&#x27;, &#x27;passthrough&#x27;,\n",
       "                                                  Index([&#x27;h1n1_concern&#x27;, &#x27;h1n1_knowledge&#x27;, &#x27;behavioral_antiviral_meds&#x27;,\n",
       "       &#x27;behavioral_avoidance&#x27;, &#x27;behavioral_face_mask&#x27;, &#x27;behavioral_wash_hands&#x27;,\n",
       "       &#x27;behavioral_large_gatherings&#x27;, &#x27;behavioral_outside_home&#x27;,\n",
       "       &#x27;behavioral_touch_face&#x27;, &#x27;doctor_recc_h1n1&#x27;, &#x27;doctor_recc_seasonal&#x27;,\n",
       "       &#x27;chro...\n",
       "       &#x27;health_insurance&#x27;, &#x27;opinion_h1n1_vacc_effective&#x27;, &#x27;opinion_h1n1_risk&#x27;,\n",
       "       &#x27;opinion_h1n1_sick_from_vacc&#x27;, &#x27;opinion_seas_vacc_effective&#x27;,\n",
       "       &#x27;opinion_seas_risk&#x27;, &#x27;opinion_seas_sick_from_vacc&#x27;, &#x27;household_adults&#x27;,\n",
       "       &#x27;household_children&#x27;],\n",
       "      dtype=&#x27;object&#x27;))])),\n",
       "                (&#x27;scaler&#x27;, StandardScaler()), (&#x27;imputer&#x27;, SimpleImputer()),\n",
       "                (&#x27;classifier&#x27;,\n",
       "                 MultiOutputClassifier(estimator=LogisticRegression(l1_ratio=0.5,\n",
       "                                                                    penalty=&#x27;elasticnet&#x27;,\n",
       "                                                                    solver=&#x27;saga&#x27;)))])</pre><b>Please rerun this cell to show the HTML repr or trust the notebook.</b></div><div class=\"sk-container\" hidden><div class=\"sk-item sk-dashed-wrapped\"><div class=\"sk-label-container\"><div class=\"sk-label sk-toggleable\"><input class=\"sk-toggleable__control sk-hidden--visually\" id=\"03017bd4-4eed-43eb-83b6-d69cbf7028e5\" type=\"checkbox\" ><label for=\"03017bd4-4eed-43eb-83b6-d69cbf7028e5\" class=\"sk-toggleable__label sk-toggleable__label-arrow\">Pipeline</label><div class=\"sk-toggleable__content\"><pre>Pipeline(steps=[(&#x27;selector&#x27;,\n",
       "                 ColumnTransformer(transformers=[(&#x27;selector&#x27;, &#x27;passthrough&#x27;,\n",
       "                                                  Index([&#x27;h1n1_concern&#x27;, &#x27;h1n1_knowledge&#x27;, &#x27;behavioral_antiviral_meds&#x27;,\n",
       "       &#x27;behavioral_avoidance&#x27;, &#x27;behavioral_face_mask&#x27;, &#x27;behavioral_wash_hands&#x27;,\n",
       "       &#x27;behavioral_large_gatherings&#x27;, &#x27;behavioral_outside_home&#x27;,\n",
       "       &#x27;behavioral_touch_face&#x27;, &#x27;doctor_recc_h1n1&#x27;, &#x27;doctor_recc_seasonal&#x27;,\n",
       "       &#x27;chro...\n",
       "       &#x27;health_insurance&#x27;, &#x27;opinion_h1n1_vacc_effective&#x27;, &#x27;opinion_h1n1_risk&#x27;,\n",
       "       &#x27;opinion_h1n1_sick_from_vacc&#x27;, &#x27;opinion_seas_vacc_effective&#x27;,\n",
       "       &#x27;opinion_seas_risk&#x27;, &#x27;opinion_seas_sick_from_vacc&#x27;, &#x27;household_adults&#x27;,\n",
       "       &#x27;household_children&#x27;],\n",
       "      dtype=&#x27;object&#x27;))])),\n",
       "                (&#x27;scaler&#x27;, StandardScaler()), (&#x27;imputer&#x27;, SimpleImputer()),\n",
       "                (&#x27;classifier&#x27;,\n",
       "                 MultiOutputClassifier(estimator=LogisticRegression(l1_ratio=0.5,\n",
       "                                                                    penalty=&#x27;elasticnet&#x27;,\n",
       "                                                                    solver=&#x27;saga&#x27;)))])</pre></div></div></div><div class=\"sk-serial\"><div class=\"sk-item sk-dashed-wrapped\"><div class=\"sk-label-container\"><div class=\"sk-label sk-toggleable\"><input class=\"sk-toggleable__control sk-hidden--visually\" id=\"e47413d7-5a4e-4aa6-b1db-e75784648d6c\" type=\"checkbox\" ><label for=\"e47413d7-5a4e-4aa6-b1db-e75784648d6c\" class=\"sk-toggleable__label sk-toggleable__label-arrow\">selector: ColumnTransformer</label><div class=\"sk-toggleable__content\"><pre>ColumnTransformer(transformers=[(&#x27;selector&#x27;, &#x27;passthrough&#x27;,\n",
       "                                 Index([&#x27;h1n1_concern&#x27;, &#x27;h1n1_knowledge&#x27;, &#x27;behavioral_antiviral_meds&#x27;,\n",
       "       &#x27;behavioral_avoidance&#x27;, &#x27;behavioral_face_mask&#x27;, &#x27;behavioral_wash_hands&#x27;,\n",
       "       &#x27;behavioral_large_gatherings&#x27;, &#x27;behavioral_outside_home&#x27;,\n",
       "       &#x27;behavioral_touch_face&#x27;, &#x27;doctor_recc_h1n1&#x27;, &#x27;doctor_recc_seasonal&#x27;,\n",
       "       &#x27;chronic_med_condition&#x27;, &#x27;child_under_6_months&#x27;, &#x27;health_worker&#x27;,\n",
       "       &#x27;health_insurance&#x27;, &#x27;opinion_h1n1_vacc_effective&#x27;, &#x27;opinion_h1n1_risk&#x27;,\n",
       "       &#x27;opinion_h1n1_sick_from_vacc&#x27;, &#x27;opinion_seas_vacc_effective&#x27;,\n",
       "       &#x27;opinion_seas_risk&#x27;, &#x27;opinion_seas_sick_from_vacc&#x27;, &#x27;household_adults&#x27;,\n",
       "       &#x27;household_children&#x27;],\n",
       "      dtype=&#x27;object&#x27;))])</pre></div></div></div><div class=\"sk-parallel\"><div class=\"sk-parallel-item\"><div class=\"sk-item\"><div class=\"sk-label-container\"><div class=\"sk-label sk-toggleable\"><input class=\"sk-toggleable__control sk-hidden--visually\" id=\"05d6d1b9-4fb7-4ba2-b2bc-52e85bbd807b\" type=\"checkbox\" ><label for=\"05d6d1b9-4fb7-4ba2-b2bc-52e85bbd807b\" class=\"sk-toggleable__label sk-toggleable__label-arrow\">selector</label><div class=\"sk-toggleable__content\"><pre>Index([&#x27;h1n1_concern&#x27;, &#x27;h1n1_knowledge&#x27;, &#x27;behavioral_antiviral_meds&#x27;,\n",
       "       &#x27;behavioral_avoidance&#x27;, &#x27;behavioral_face_mask&#x27;, &#x27;behavioral_wash_hands&#x27;,\n",
       "       &#x27;behavioral_large_gatherings&#x27;, &#x27;behavioral_outside_home&#x27;,\n",
       "       &#x27;behavioral_touch_face&#x27;, &#x27;doctor_recc_h1n1&#x27;, &#x27;doctor_recc_seasonal&#x27;,\n",
       "       &#x27;chronic_med_condition&#x27;, &#x27;child_under_6_months&#x27;, &#x27;health_worker&#x27;,\n",
       "       &#x27;health_insurance&#x27;, &#x27;opinion_h1n1_vacc_effective&#x27;, &#x27;opinion_h1n1_risk&#x27;,\n",
       "       &#x27;opinion_h1n1_sick_from_vacc&#x27;, &#x27;opinion_seas_vacc_effective&#x27;,\n",
       "       &#x27;opinion_seas_risk&#x27;, &#x27;opinion_seas_sick_from_vacc&#x27;, &#x27;household_adults&#x27;,\n",
       "       &#x27;household_children&#x27;],\n",
       "      dtype=&#x27;object&#x27;)</pre></div></div></div><div class=\"sk-serial\"><div class=\"sk-item\"><div class=\"sk-estimator sk-toggleable\"><input class=\"sk-toggleable__control sk-hidden--visually\" id=\"834e6668-ecf1-407e-93cc-d313f3fa2a3f\" type=\"checkbox\" ><label for=\"834e6668-ecf1-407e-93cc-d313f3fa2a3f\" class=\"sk-toggleable__label sk-toggleable__label-arrow\">passthrough</label><div class=\"sk-toggleable__content\"><pre>passthrough</pre></div></div></div></div></div></div></div></div><div class=\"sk-item\"><div class=\"sk-estimator sk-toggleable\"><input class=\"sk-toggleable__control sk-hidden--visually\" id=\"64e670af-bdfd-4c8f-a63b-42f6cf8bbe86\" type=\"checkbox\" ><label for=\"64e670af-bdfd-4c8f-a63b-42f6cf8bbe86\" class=\"sk-toggleable__label sk-toggleable__label-arrow\">StandardScaler</label><div class=\"sk-toggleable__content\"><pre>StandardScaler()</pre></div></div></div><div class=\"sk-item\"><div class=\"sk-estimator sk-toggleable\"><input class=\"sk-toggleable__control sk-hidden--visually\" id=\"3163a9a1-b460-4ab6-a066-b230d6cb3b20\" type=\"checkbox\" ><label for=\"3163a9a1-b460-4ab6-a066-b230d6cb3b20\" class=\"sk-toggleable__label sk-toggleable__label-arrow\">SimpleImputer</label><div class=\"sk-toggleable__content\"><pre>SimpleImputer()</pre></div></div></div><div class=\"sk-item sk-dashed-wrapped\"><div class=\"sk-label-container\"><div class=\"sk-label sk-toggleable\"><input class=\"sk-toggleable__control sk-hidden--visually\" id=\"783fd81d-5c8d-4bef-a50e-748b09214cf5\" type=\"checkbox\" ><label for=\"783fd81d-5c8d-4bef-a50e-748b09214cf5\" class=\"sk-toggleable__label sk-toggleable__label-arrow\">classifier: MultiOutputClassifier</label><div class=\"sk-toggleable__content\"><pre>MultiOutputClassifier(estimator=LogisticRegression(l1_ratio=0.5,\n",
       "                                                   penalty=&#x27;elasticnet&#x27;,\n",
       "                                                   solver=&#x27;saga&#x27;))</pre></div></div></div><div class=\"sk-parallel\"><div class=\"sk-parallel-item\"><div class=\"sk-item\"><div class=\"sk-serial\"><div class=\"sk-item\"><div class=\"sk-estimator sk-toggleable\"><input class=\"sk-toggleable__control sk-hidden--visually\" id=\"fa58c28c-b6d4-4601-b76b-916156a2142c\" type=\"checkbox\" ><label for=\"fa58c28c-b6d4-4601-b76b-916156a2142c\" class=\"sk-toggleable__label sk-toggleable__label-arrow\">LogisticRegression</label><div class=\"sk-toggleable__content\"><pre>LogisticRegression(l1_ratio=0.5, penalty=&#x27;elasticnet&#x27;, solver=&#x27;saga&#x27;)</pre></div></div></div></div></div></div></div></div></div></div></div></div>"
      ],
      "text/plain": [
       "Pipeline(steps=[('selector',\n",
       "                 ColumnTransformer(transformers=[('selector', 'passthrough',\n",
       "                                                  Index(['h1n1_concern', 'h1n1_knowledge', 'behavioral_antiviral_meds',\n",
       "       'behavioral_avoidance', 'behavioral_face_mask', 'behavioral_wash_hands',\n",
       "       'behavioral_large_gatherings', 'behavioral_outside_home',\n",
       "       'behavioral_touch_face', 'doctor_recc_h1n1', 'doctor_recc_seasonal',\n",
       "       'chro...\n",
       "       'health_insurance', 'opinion_h1n1_vacc_effective', 'opinion_h1n1_risk',\n",
       "       'opinion_h1n1_sick_from_vacc', 'opinion_seas_vacc_effective',\n",
       "       'opinion_seas_risk', 'opinion_seas_sick_from_vacc', 'household_adults',\n",
       "       'household_children'],\n",
       "      dtype='object'))])),\n",
       "                ('scaler', StandardScaler()), ('imputer', SimpleImputer()),\n",
       "                ('classifier',\n",
       "                 MultiOutputClassifier(estimator=LogisticRegression(l1_ratio=0.5,\n",
       "                                                                    penalty='elasticnet',\n",
       "                                                                    solver='saga')))])"
      ]
     },
     "execution_count": 34,
     "metadata": {},
     "output_type": "execute_result"
    }
   ],
   "source": [
    "# Solution\n",
    "\n",
    "model_en.fit(features_df, labels_df)"
   ]
  },
  {
   "cell_type": "code",
   "execution_count": 35,
   "id": "7b8e50e6",
   "metadata": {},
   "outputs": [
    {
     "data": {
      "text/plain": [
       "0.8315263500618354"
      ]
     },
     "execution_count": 35,
     "metadata": {},
     "output_type": "execute_result"
    }
   ],
   "source": [
    "# Solution\n",
    "\n",
    "scores_en = score_model(model_en, features_df, labels_df)\n",
    "scores_en"
   ]
  },
  {
   "cell_type": "markdown",
   "id": "d4c89756",
   "metadata": {},
   "source": [
    "## Categorical features\n",
    "\n",
    "So far we've used only numerical features, but the dataset also includes several categorical features, including sex, race, age group, and level of education.\n",
    "It is plausible that any of these could have predictive value, so let's get them into the model.\n",
    "\n",
    "As an example, let's consider `education`, which has the following values, including `NaN` for missing data."
   ]
  },
  {
   "cell_type": "code",
   "execution_count": 36,
   "id": "fbd5e879",
   "metadata": {},
   "outputs": [
    {
     "data": {
      "text/plain": [
       "College Graduate    10097\n",
       "Some College         7043\n",
       "12 Years             5797\n",
       "< 12 Years           2363\n",
       "NaN                  1407\n",
       "Name: education, dtype: int64"
      ]
     },
     "execution_count": 36,
     "metadata": {},
     "output_type": "execute_result"
    }
   ],
   "source": [
    "features_df[\"education\"].value_counts(dropna=False)"
   ]
  },
  {
   "cell_type": "markdown",
   "id": "cfb8b077",
   "metadata": {},
   "source": [
    "One way to include a categorical feature in a model is **one-hot encoding**, which replaces a categorical feature with several binary numerical features, one for each value.\n",
    "An example will make that clearer.\n",
    "\n",
    "Scikit-learn provides an object called `OneHotEncoder`:"
   ]
  },
  {
   "cell_type": "code",
   "execution_count": 37,
   "id": "03654023",
   "metadata": {},
   "outputs": [],
   "source": [
    "from sklearn.preprocessing import OneHotEncoder\n",
    "\n",
    "encoder = OneHotEncoder()"
   ]
  },
  {
   "cell_type": "markdown",
   "id": "cd278c3f",
   "metadata": {},
   "source": [
    "Before we can use it, we have to give it some data to \"fit\". During this step, it learns what the possible values are for each categorial variable."
   ]
  },
  {
   "cell_type": "code",
   "execution_count": 38,
   "id": "1116196b",
   "metadata": {},
   "outputs": [
    {
     "data": {
      "text/plain": [
       "[array(['12 Years', '< 12 Years', 'College Graduate', 'Some College', nan],\n",
       "       dtype=object)]"
      ]
     },
     "execution_count": 38,
     "metadata": {},
     "output_type": "execute_result"
    }
   ],
   "source": [
    "categoric_features_df = features_df[[\"education\"]]\n",
    "\n",
    "encoder.fit(categoric_features_df)\n",
    "encoder.categories_"
   ]
  },
  {
   "cell_type": "markdown",
   "id": "40eb5959",
   "metadata": {},
   "source": [
    "Now we can use it to transform the original values."
   ]
  },
  {
   "cell_type": "code",
   "execution_count": 39,
   "id": "e690183c",
   "metadata": {},
   "outputs": [
    {
     "data": {
      "text/plain": [
       "<26707x5 sparse matrix of type '<class 'numpy.float64'>'\n",
       "\twith 26707 stored elements in Compressed Sparse Row format>"
      ]
     },
     "execution_count": 39,
     "metadata": {},
     "output_type": "execute_result"
    }
   ],
   "source": [
    "matrix = encoder.transform(categoric_features_df)\n",
    "matrix"
   ]
  },
  {
   "cell_type": "markdown",
   "id": "82d00bb3",
   "metadata": {},
   "source": [
    "The result is a NumPy sparse matrix, which is an efficient way to represent an array where many of the elements are zero.\n",
    "To see what the matrix looks like, we can convert it to an array:"
   ]
  },
  {
   "cell_type": "code",
   "execution_count": 40,
   "id": "fe97aeba",
   "metadata": {},
   "outputs": [
    {
     "data": {
      "text/plain": [
       "array([[0., 1., 0., 0., 0.],\n",
       "       [1., 0., 0., 0., 0.],\n",
       "       [0., 0., 1., 0., 0.],\n",
       "       ...,\n",
       "       [0., 0., 0., 1., 0.],\n",
       "       [0., 0., 0., 1., 0.],\n",
       "       [0., 0., 0., 1., 0.]])"
      ]
     },
     "execution_count": 40,
     "metadata": {},
     "output_type": "execute_result"
    }
   ],
   "source": [
    "array = matrix.toarray()\n",
    "array"
   ]
  },
  {
   "cell_type": "markdown",
   "id": "62caa45a",
   "metadata": {},
   "source": [
    "The encoded data has five columns, one for each level of education.\n",
    "We can see that more clearly by putting the results in a DataFrame."
   ]
  },
  {
   "cell_type": "code",
   "execution_count": 41,
   "id": "fd3e1f0f",
   "metadata": {},
   "outputs": [
    {
     "data": {
      "text/html": [
       "<div>\n",
       "<style scoped>\n",
       "    .dataframe tbody tr th:only-of-type {\n",
       "        vertical-align: middle;\n",
       "    }\n",
       "\n",
       "    .dataframe tbody tr th {\n",
       "        vertical-align: top;\n",
       "    }\n",
       "\n",
       "    .dataframe thead tr th {\n",
       "        text-align: left;\n",
       "    }\n",
       "</style>\n",
       "<table border=\"1\" class=\"dataframe\">\n",
       "  <thead>\n",
       "    <tr>\n",
       "      <th></th>\n",
       "      <th>12 Years</th>\n",
       "      <th>&lt; 12 Years</th>\n",
       "      <th>College Graduate</th>\n",
       "      <th>Some College</th>\n",
       "      <th>NaN</th>\n",
       "    </tr>\n",
       "  </thead>\n",
       "  <tbody>\n",
       "    <tr>\n",
       "      <th>0</th>\n",
       "      <td>0.0</td>\n",
       "      <td>1.0</td>\n",
       "      <td>0.0</td>\n",
       "      <td>0.0</td>\n",
       "      <td>0.0</td>\n",
       "    </tr>\n",
       "    <tr>\n",
       "      <th>1</th>\n",
       "      <td>1.0</td>\n",
       "      <td>0.0</td>\n",
       "      <td>0.0</td>\n",
       "      <td>0.0</td>\n",
       "      <td>0.0</td>\n",
       "    </tr>\n",
       "    <tr>\n",
       "      <th>2</th>\n",
       "      <td>0.0</td>\n",
       "      <td>0.0</td>\n",
       "      <td>1.0</td>\n",
       "      <td>0.0</td>\n",
       "      <td>0.0</td>\n",
       "    </tr>\n",
       "    <tr>\n",
       "      <th>3</th>\n",
       "      <td>1.0</td>\n",
       "      <td>0.0</td>\n",
       "      <td>0.0</td>\n",
       "      <td>0.0</td>\n",
       "      <td>0.0</td>\n",
       "    </tr>\n",
       "    <tr>\n",
       "      <th>4</th>\n",
       "      <td>0.0</td>\n",
       "      <td>0.0</td>\n",
       "      <td>0.0</td>\n",
       "      <td>1.0</td>\n",
       "      <td>0.0</td>\n",
       "    </tr>\n",
       "  </tbody>\n",
       "</table>\n",
       "</div>"
      ],
      "text/plain": [
       "  12 Years < 12 Years College Graduate Some College  NaN\n",
       "0      0.0        1.0              0.0          0.0  0.0\n",
       "1      1.0        0.0              0.0          0.0  0.0\n",
       "2      0.0        0.0              1.0          0.0  0.0\n",
       "3      1.0        0.0              0.0          0.0  0.0\n",
       "4      0.0        0.0              0.0          1.0  0.0"
      ]
     },
     "execution_count": 41,
     "metadata": {},
     "output_type": "execute_result"
    }
   ],
   "source": [
    "pd.DataFrame(array, columns=encoder.categories_).head()"
   ]
  },
  {
   "cell_type": "markdown",
   "id": "68723a58",
   "metadata": {},
   "source": [
    "In each row, exactly one of the elements is \"hot\", which is to say 1. The others are \"cold\", which is to say 0."
   ]
  },
  {
   "cell_type": "code",
   "execution_count": 42,
   "id": "5f69b97a",
   "metadata": {},
   "outputs": [
    {
     "data": {
      "text/plain": [
       "True"
      ]
     },
     "execution_count": 42,
     "metadata": {},
     "output_type": "execute_result"
    }
   ],
   "source": [
    "(array.sum(axis=1) == 1).all()"
   ]
  },
  {
   "cell_type": "markdown",
   "id": "a9c6ff7c",
   "metadata": {},
   "source": [
    "If we compare the original values with the encoded values, we can check that they agree.\n",
    "For example, here are the first few rows of the original feature."
   ]
  },
  {
   "cell_type": "code",
   "execution_count": 43,
   "id": "0f415db2",
   "metadata": {},
   "outputs": [
    {
     "data": {
      "text/plain": [
       "respondent_id\n",
       "0          < 12 Years\n",
       "1            12 Years\n",
       "2    College Graduate\n",
       "3            12 Years\n",
       "4        Some College\n",
       "Name: education, dtype: object"
      ]
     },
     "execution_count": 43,
     "metadata": {},
     "output_type": "execute_result"
    }
   ],
   "source": [
    "features_df[\"education\"].head()"
   ]
  },
  {
   "cell_type": "markdown",
   "id": "b7838377",
   "metadata": {},
   "source": [
    "The first respondent has less than 12 years of education; in the encoded array, we can see that the second column in the first row is hot. The second respondent has 12 years, and we can see that the first column is hot. So that checks out.\n",
    "\n",
    "When these columns are passed to `LogisticRegression`, it estimates a coefficient for each column, which quantifies the relationship between each level of education and the target variables.\n",
    "\n",
    "Now we're ready to combine the categorical and numerical features in a single model.\n",
    "For the numerical variables, we'll use the same pipeline we've used before."
   ]
  },
  {
   "cell_type": "code",
   "execution_count": 44,
   "id": "b30faf46",
   "metadata": {},
   "outputs": [],
   "source": [
    "numeric_pipeline = Pipeline(\n",
    "    [\n",
    "        (\"standard_scaler\", StandardScaler()),\n",
    "        (\"simple_imputer\", SimpleImputer(strategy=\"mean\")),\n",
    "    ]\n",
    ")"
   ]
  },
  {
   "cell_type": "markdown",
   "id": "15eb87e2",
   "metadata": {},
   "source": [
    "In the previous lesson, we selected the numeric features like this:"
   ]
  },
  {
   "cell_type": "code",
   "execution_count": 45,
   "id": "963e0c51",
   "metadata": {},
   "outputs": [],
   "source": [
    "numeric_features_df = features_df.select_dtypes(include=np.number)\n",
    "numeric_cols = numeric_features_df.columns"
   ]
  },
  {
   "cell_type": "markdown",
   "id": "9fb5fa4c",
   "metadata": {},
   "source": [
    "We can select the categorical features like this:"
   ]
  },
  {
   "cell_type": "code",
   "execution_count": 46,
   "id": "5c507323",
   "metadata": {},
   "outputs": [],
   "source": [
    "categoric_features_df = features_df.select_dtypes(include=np.object_)\n",
    "categoric_cols = categoric_features_df.columns"
   ]
  },
  {
   "cell_type": "markdown",
   "id": "d34066e4",
   "metadata": {},
   "source": [
    "We'll combine the two sets of features with a `ColumnTransformer`."
   ]
  },
  {
   "cell_type": "code",
   "execution_count": 47,
   "id": "5497da8d",
   "metadata": {},
   "outputs": [],
   "source": [
    "preprocessor = ColumnTransformer(\n",
    "    transformers=[\n",
    "        (\"numeric\", numeric_pipeline, numeric_cols),\n",
    "        (\"categoric\", OneHotEncoder(), categoric_cols),\n",
    "    ]\n",
    ")"
   ]
  },
  {
   "cell_type": "markdown",
   "id": "76e6f1ef",
   "metadata": {},
   "source": [
    "The `transformers` argument is a list of tuples, where each tuple contains a string name for this part of the pipeline, a `Pipeline` object, and a list of column names that should be processed with this pipeline.\n",
    "\n",
    "The preprocesing pipeline is complete; now we need a classifier. We'll use `LogisticRegression` again, with a few additional parameters."
   ]
  },
  {
   "cell_type": "code",
   "execution_count": 48,
   "id": "452a25e0",
   "metadata": {},
   "outputs": [],
   "source": [
    "classifier = MultiOutputClassifier(\n",
    "    estimator=LogisticRegression(penalty=\"l2\", solver=\"saga\", max_iter=200, tol=1e-3)\n",
    ")"
   ]
  },
  {
   "cell_type": "markdown",
   "id": "d2aa9fc2",
   "metadata": {},
   "source": [
    "As the model gets more complex, it becomes harder for the solver to find the best coefficients. I've increased `max_iter` to allow it to take additional iterations, and I've adjusted `tol` so it doesn't spend more time than needed to make the coeffients precise.\n",
    "\n",
    "Finally, here's the complete model."
   ]
  },
  {
   "cell_type": "code",
   "execution_count": 49,
   "id": "3f93fe6d",
   "metadata": {},
   "outputs": [],
   "source": [
    "model5 = Pipeline(\n",
    "    [\n",
    "        (\"preprocessor\", preprocessor),\n",
    "        (\"classifier\", classifier),\n",
    "    ]\n",
    ")"
   ]
  },
  {
   "cell_type": "markdown",
   "id": "f5c114c7",
   "metadata": {},
   "source": [
    "We can fit the model in the usual way."
   ]
  },
  {
   "cell_type": "code",
   "execution_count": 50,
   "id": "f988fba0",
   "metadata": {},
   "outputs": [
    {
     "data": {
      "text/html": [
       "<style>#sk-a969b896-e03a-4f96-81e4-91eb4175e867 {color: black;background-color: white;}#sk-a969b896-e03a-4f96-81e4-91eb4175e867 pre{padding: 0;}#sk-a969b896-e03a-4f96-81e4-91eb4175e867 div.sk-toggleable {background-color: white;}#sk-a969b896-e03a-4f96-81e4-91eb4175e867 label.sk-toggleable__label {cursor: pointer;display: block;width: 100%;margin-bottom: 0;padding: 0.3em;box-sizing: border-box;text-align: center;}#sk-a969b896-e03a-4f96-81e4-91eb4175e867 label.sk-toggleable__label-arrow:before {content: \"▸\";float: left;margin-right: 0.25em;color: #696969;}#sk-a969b896-e03a-4f96-81e4-91eb4175e867 label.sk-toggleable__label-arrow:hover:before {color: black;}#sk-a969b896-e03a-4f96-81e4-91eb4175e867 div.sk-estimator:hover label.sk-toggleable__label-arrow:before {color: black;}#sk-a969b896-e03a-4f96-81e4-91eb4175e867 div.sk-toggleable__content {max-height: 0;max-width: 0;overflow: hidden;text-align: left;background-color: #f0f8ff;}#sk-a969b896-e03a-4f96-81e4-91eb4175e867 div.sk-toggleable__content pre {margin: 0.2em;color: black;border-radius: 0.25em;background-color: #f0f8ff;}#sk-a969b896-e03a-4f96-81e4-91eb4175e867 input.sk-toggleable__control:checked~div.sk-toggleable__content {max-height: 200px;max-width: 100%;overflow: auto;}#sk-a969b896-e03a-4f96-81e4-91eb4175e867 input.sk-toggleable__control:checked~label.sk-toggleable__label-arrow:before {content: \"▾\";}#sk-a969b896-e03a-4f96-81e4-91eb4175e867 div.sk-estimator input.sk-toggleable__control:checked~label.sk-toggleable__label {background-color: #d4ebff;}#sk-a969b896-e03a-4f96-81e4-91eb4175e867 div.sk-label input.sk-toggleable__control:checked~label.sk-toggleable__label {background-color: #d4ebff;}#sk-a969b896-e03a-4f96-81e4-91eb4175e867 input.sk-hidden--visually {border: 0;clip: rect(1px 1px 1px 1px);clip: rect(1px, 1px, 1px, 1px);height: 1px;margin: -1px;overflow: hidden;padding: 0;position: absolute;width: 1px;}#sk-a969b896-e03a-4f96-81e4-91eb4175e867 div.sk-estimator {font-family: monospace;background-color: #f0f8ff;border: 1px dotted black;border-radius: 0.25em;box-sizing: border-box;margin-bottom: 0.5em;}#sk-a969b896-e03a-4f96-81e4-91eb4175e867 div.sk-estimator:hover {background-color: #d4ebff;}#sk-a969b896-e03a-4f96-81e4-91eb4175e867 div.sk-parallel-item::after {content: \"\";width: 100%;border-bottom: 1px solid gray;flex-grow: 1;}#sk-a969b896-e03a-4f96-81e4-91eb4175e867 div.sk-label:hover label.sk-toggleable__label {background-color: #d4ebff;}#sk-a969b896-e03a-4f96-81e4-91eb4175e867 div.sk-serial::before {content: \"\";position: absolute;border-left: 1px solid gray;box-sizing: border-box;top: 2em;bottom: 0;left: 50%;}#sk-a969b896-e03a-4f96-81e4-91eb4175e867 div.sk-serial {display: flex;flex-direction: column;align-items: center;background-color: white;padding-right: 0.2em;padding-left: 0.2em;}#sk-a969b896-e03a-4f96-81e4-91eb4175e867 div.sk-item {z-index: 1;}#sk-a969b896-e03a-4f96-81e4-91eb4175e867 div.sk-parallel {display: flex;align-items: stretch;justify-content: center;background-color: white;}#sk-a969b896-e03a-4f96-81e4-91eb4175e867 div.sk-parallel::before {content: \"\";position: absolute;border-left: 1px solid gray;box-sizing: border-box;top: 2em;bottom: 0;left: 50%;}#sk-a969b896-e03a-4f96-81e4-91eb4175e867 div.sk-parallel-item {display: flex;flex-direction: column;position: relative;background-color: white;}#sk-a969b896-e03a-4f96-81e4-91eb4175e867 div.sk-parallel-item:first-child::after {align-self: flex-end;width: 50%;}#sk-a969b896-e03a-4f96-81e4-91eb4175e867 div.sk-parallel-item:last-child::after {align-self: flex-start;width: 50%;}#sk-a969b896-e03a-4f96-81e4-91eb4175e867 div.sk-parallel-item:only-child::after {width: 0;}#sk-a969b896-e03a-4f96-81e4-91eb4175e867 div.sk-dashed-wrapped {border: 1px dashed gray;margin: 0 0.4em 0.5em 0.4em;box-sizing: border-box;padding-bottom: 0.4em;background-color: white;position: relative;}#sk-a969b896-e03a-4f96-81e4-91eb4175e867 div.sk-label label {font-family: monospace;font-weight: bold;background-color: white;display: inline-block;line-height: 1.2em;}#sk-a969b896-e03a-4f96-81e4-91eb4175e867 div.sk-label-container {position: relative;z-index: 2;text-align: center;}#sk-a969b896-e03a-4f96-81e4-91eb4175e867 div.sk-container {/* jupyter's `normalize.less` sets `[hidden] { display: none; }` but bootstrap.min.css set `[hidden] { display: none !important; }` so we also need the `!important` here to be able to override the default hidden behavior on the sphinx rendered scikit-learn.org. See: https://github.com/scikit-learn/scikit-learn/issues/21755 */display: inline-block !important;position: relative;}#sk-a969b896-e03a-4f96-81e4-91eb4175e867 div.sk-text-repr-fallback {display: none;}</style><div id=\"sk-a969b896-e03a-4f96-81e4-91eb4175e867\" class=\"sk-top-container\"><div class=\"sk-text-repr-fallback\"><pre>Pipeline(steps=[(&#x27;preprocessor&#x27;,\n",
       "                 ColumnTransformer(transformers=[(&#x27;numeric&#x27;,\n",
       "                                                  Pipeline(steps=[(&#x27;standard_scaler&#x27;,\n",
       "                                                                   StandardScaler()),\n",
       "                                                                  (&#x27;simple_imputer&#x27;,\n",
       "                                                                   SimpleImputer())]),\n",
       "                                                  Index([&#x27;h1n1_concern&#x27;, &#x27;h1n1_knowledge&#x27;, &#x27;behavioral_antiviral_meds&#x27;,\n",
       "       &#x27;behavioral_avoidance&#x27;, &#x27;behavioral_face_mask&#x27;, &#x27;behavioral_wash_hands&#x27;,\n",
       "       &#x27;behavioral_large_gatherings&#x27;, &#x27;behavioral_outsid...\n",
       "      dtype=&#x27;object&#x27;)),\n",
       "                                                 (&#x27;categoric&#x27;, OneHotEncoder(),\n",
       "                                                  Index([&#x27;age_group&#x27;, &#x27;education&#x27;, &#x27;race&#x27;, &#x27;sex&#x27;, &#x27;income_poverty&#x27;,\n",
       "       &#x27;marital_status&#x27;, &#x27;rent_or_own&#x27;, &#x27;employment_status&#x27;, &#x27;hhs_geo_region&#x27;,\n",
       "       &#x27;census_msa&#x27;, &#x27;employment_industry&#x27;, &#x27;employment_occupation&#x27;],\n",
       "      dtype=&#x27;object&#x27;))])),\n",
       "                (&#x27;classifier&#x27;,\n",
       "                 MultiOutputClassifier(estimator=LogisticRegression(max_iter=200,\n",
       "                                                                    solver=&#x27;saga&#x27;,\n",
       "                                                                    tol=0.001)))])</pre><b>Please rerun this cell to show the HTML repr or trust the notebook.</b></div><div class=\"sk-container\" hidden><div class=\"sk-item sk-dashed-wrapped\"><div class=\"sk-label-container\"><div class=\"sk-label sk-toggleable\"><input class=\"sk-toggleable__control sk-hidden--visually\" id=\"bed9d6b0-7a0b-4339-925c-1cf88d82979e\" type=\"checkbox\" ><label for=\"bed9d6b0-7a0b-4339-925c-1cf88d82979e\" class=\"sk-toggleable__label sk-toggleable__label-arrow\">Pipeline</label><div class=\"sk-toggleable__content\"><pre>Pipeline(steps=[(&#x27;preprocessor&#x27;,\n",
       "                 ColumnTransformer(transformers=[(&#x27;numeric&#x27;,\n",
       "                                                  Pipeline(steps=[(&#x27;standard_scaler&#x27;,\n",
       "                                                                   StandardScaler()),\n",
       "                                                                  (&#x27;simple_imputer&#x27;,\n",
       "                                                                   SimpleImputer())]),\n",
       "                                                  Index([&#x27;h1n1_concern&#x27;, &#x27;h1n1_knowledge&#x27;, &#x27;behavioral_antiviral_meds&#x27;,\n",
       "       &#x27;behavioral_avoidance&#x27;, &#x27;behavioral_face_mask&#x27;, &#x27;behavioral_wash_hands&#x27;,\n",
       "       &#x27;behavioral_large_gatherings&#x27;, &#x27;behavioral_outsid...\n",
       "      dtype=&#x27;object&#x27;)),\n",
       "                                                 (&#x27;categoric&#x27;, OneHotEncoder(),\n",
       "                                                  Index([&#x27;age_group&#x27;, &#x27;education&#x27;, &#x27;race&#x27;, &#x27;sex&#x27;, &#x27;income_poverty&#x27;,\n",
       "       &#x27;marital_status&#x27;, &#x27;rent_or_own&#x27;, &#x27;employment_status&#x27;, &#x27;hhs_geo_region&#x27;,\n",
       "       &#x27;census_msa&#x27;, &#x27;employment_industry&#x27;, &#x27;employment_occupation&#x27;],\n",
       "      dtype=&#x27;object&#x27;))])),\n",
       "                (&#x27;classifier&#x27;,\n",
       "                 MultiOutputClassifier(estimator=LogisticRegression(max_iter=200,\n",
       "                                                                    solver=&#x27;saga&#x27;,\n",
       "                                                                    tol=0.001)))])</pre></div></div></div><div class=\"sk-serial\"><div class=\"sk-item sk-dashed-wrapped\"><div class=\"sk-label-container\"><div class=\"sk-label sk-toggleable\"><input class=\"sk-toggleable__control sk-hidden--visually\" id=\"2f3863fa-016d-4ed2-a66f-62a42a2fdff1\" type=\"checkbox\" ><label for=\"2f3863fa-016d-4ed2-a66f-62a42a2fdff1\" class=\"sk-toggleable__label sk-toggleable__label-arrow\">preprocessor: ColumnTransformer</label><div class=\"sk-toggleable__content\"><pre>ColumnTransformer(transformers=[(&#x27;numeric&#x27;,\n",
       "                                 Pipeline(steps=[(&#x27;standard_scaler&#x27;,\n",
       "                                                  StandardScaler()),\n",
       "                                                 (&#x27;simple_imputer&#x27;,\n",
       "                                                  SimpleImputer())]),\n",
       "                                 Index([&#x27;h1n1_concern&#x27;, &#x27;h1n1_knowledge&#x27;, &#x27;behavioral_antiviral_meds&#x27;,\n",
       "       &#x27;behavioral_avoidance&#x27;, &#x27;behavioral_face_mask&#x27;, &#x27;behavioral_wash_hands&#x27;,\n",
       "       &#x27;behavioral_large_gatherings&#x27;, &#x27;behavioral_outside_home&#x27;,\n",
       "       &#x27;behavioral_touch_face&#x27;,...\n",
       "       &#x27;opinion_h1n1_sick_from_vacc&#x27;, &#x27;opinion_seas_vacc_effective&#x27;,\n",
       "       &#x27;opinion_seas_risk&#x27;, &#x27;opinion_seas_sick_from_vacc&#x27;, &#x27;household_adults&#x27;,\n",
       "       &#x27;household_children&#x27;],\n",
       "      dtype=&#x27;object&#x27;)),\n",
       "                                (&#x27;categoric&#x27;, OneHotEncoder(),\n",
       "                                 Index([&#x27;age_group&#x27;, &#x27;education&#x27;, &#x27;race&#x27;, &#x27;sex&#x27;, &#x27;income_poverty&#x27;,\n",
       "       &#x27;marital_status&#x27;, &#x27;rent_or_own&#x27;, &#x27;employment_status&#x27;, &#x27;hhs_geo_region&#x27;,\n",
       "       &#x27;census_msa&#x27;, &#x27;employment_industry&#x27;, &#x27;employment_occupation&#x27;],\n",
       "      dtype=&#x27;object&#x27;))])</pre></div></div></div><div class=\"sk-parallel\"><div class=\"sk-parallel-item\"><div class=\"sk-item\"><div class=\"sk-label-container\"><div class=\"sk-label sk-toggleable\"><input class=\"sk-toggleable__control sk-hidden--visually\" id=\"3274c0dd-295f-4687-bacc-43fa23928606\" type=\"checkbox\" ><label for=\"3274c0dd-295f-4687-bacc-43fa23928606\" class=\"sk-toggleable__label sk-toggleable__label-arrow\">numeric</label><div class=\"sk-toggleable__content\"><pre>Index([&#x27;h1n1_concern&#x27;, &#x27;h1n1_knowledge&#x27;, &#x27;behavioral_antiviral_meds&#x27;,\n",
       "       &#x27;behavioral_avoidance&#x27;, &#x27;behavioral_face_mask&#x27;, &#x27;behavioral_wash_hands&#x27;,\n",
       "       &#x27;behavioral_large_gatherings&#x27;, &#x27;behavioral_outside_home&#x27;,\n",
       "       &#x27;behavioral_touch_face&#x27;, &#x27;doctor_recc_h1n1&#x27;, &#x27;doctor_recc_seasonal&#x27;,\n",
       "       &#x27;chronic_med_condition&#x27;, &#x27;child_under_6_months&#x27;, &#x27;health_worker&#x27;,\n",
       "       &#x27;health_insurance&#x27;, &#x27;opinion_h1n1_vacc_effective&#x27;, &#x27;opinion_h1n1_risk&#x27;,\n",
       "       &#x27;opinion_h1n1_sick_from_vacc&#x27;, &#x27;opinion_seas_vacc_effective&#x27;,\n",
       "       &#x27;opinion_seas_risk&#x27;, &#x27;opinion_seas_sick_from_vacc&#x27;, &#x27;household_adults&#x27;,\n",
       "       &#x27;household_children&#x27;],\n",
       "      dtype=&#x27;object&#x27;)</pre></div></div></div><div class=\"sk-serial\"><div class=\"sk-item\"><div class=\"sk-serial\"><div class=\"sk-item\"><div class=\"sk-estimator sk-toggleable\"><input class=\"sk-toggleable__control sk-hidden--visually\" id=\"af47515f-f792-428c-b68a-02b9332238fc\" type=\"checkbox\" ><label for=\"af47515f-f792-428c-b68a-02b9332238fc\" class=\"sk-toggleable__label sk-toggleable__label-arrow\">StandardScaler</label><div class=\"sk-toggleable__content\"><pre>StandardScaler()</pre></div></div></div><div class=\"sk-item\"><div class=\"sk-estimator sk-toggleable\"><input class=\"sk-toggleable__control sk-hidden--visually\" id=\"bf185375-ef61-488c-a90e-3a08ffd6b423\" type=\"checkbox\" ><label for=\"bf185375-ef61-488c-a90e-3a08ffd6b423\" class=\"sk-toggleable__label sk-toggleable__label-arrow\">SimpleImputer</label><div class=\"sk-toggleable__content\"><pre>SimpleImputer()</pre></div></div></div></div></div></div></div></div><div class=\"sk-parallel-item\"><div class=\"sk-item\"><div class=\"sk-label-container\"><div class=\"sk-label sk-toggleable\"><input class=\"sk-toggleable__control sk-hidden--visually\" id=\"101f69b8-f154-4ec5-ad74-a5b0c400ce5d\" type=\"checkbox\" ><label for=\"101f69b8-f154-4ec5-ad74-a5b0c400ce5d\" class=\"sk-toggleable__label sk-toggleable__label-arrow\">categoric</label><div class=\"sk-toggleable__content\"><pre>Index([&#x27;age_group&#x27;, &#x27;education&#x27;, &#x27;race&#x27;, &#x27;sex&#x27;, &#x27;income_poverty&#x27;,\n",
       "       &#x27;marital_status&#x27;, &#x27;rent_or_own&#x27;, &#x27;employment_status&#x27;, &#x27;hhs_geo_region&#x27;,\n",
       "       &#x27;census_msa&#x27;, &#x27;employment_industry&#x27;, &#x27;employment_occupation&#x27;],\n",
       "      dtype=&#x27;object&#x27;)</pre></div></div></div><div class=\"sk-serial\"><div class=\"sk-item\"><div class=\"sk-estimator sk-toggleable\"><input class=\"sk-toggleable__control sk-hidden--visually\" id=\"94e34095-46f6-448d-9b0f-4d6eafbb3c94\" type=\"checkbox\" ><label for=\"94e34095-46f6-448d-9b0f-4d6eafbb3c94\" class=\"sk-toggleable__label sk-toggleable__label-arrow\">OneHotEncoder</label><div class=\"sk-toggleable__content\"><pre>OneHotEncoder()</pre></div></div></div></div></div></div></div></div><div class=\"sk-item sk-dashed-wrapped\"><div class=\"sk-label-container\"><div class=\"sk-label sk-toggleable\"><input class=\"sk-toggleable__control sk-hidden--visually\" id=\"37e6b113-3d4e-44c8-877a-d6a3dcff85a9\" type=\"checkbox\" ><label for=\"37e6b113-3d4e-44c8-877a-d6a3dcff85a9\" class=\"sk-toggleable__label sk-toggleable__label-arrow\">classifier: MultiOutputClassifier</label><div class=\"sk-toggleable__content\"><pre>MultiOutputClassifier(estimator=LogisticRegression(max_iter=200, solver=&#x27;saga&#x27;,\n",
       "                                                   tol=0.001))</pre></div></div></div><div class=\"sk-parallel\"><div class=\"sk-parallel-item\"><div class=\"sk-item\"><div class=\"sk-serial\"><div class=\"sk-item\"><div class=\"sk-estimator sk-toggleable\"><input class=\"sk-toggleable__control sk-hidden--visually\" id=\"8929b43c-b982-4f22-a8ff-4591782184e6\" type=\"checkbox\" ><label for=\"8929b43c-b982-4f22-a8ff-4591782184e6\" class=\"sk-toggleable__label sk-toggleable__label-arrow\">LogisticRegression</label><div class=\"sk-toggleable__content\"><pre>LogisticRegression(max_iter=200, solver=&#x27;saga&#x27;, tol=0.001)</pre></div></div></div></div></div></div></div></div></div></div></div></div>"
      ],
      "text/plain": [
       "Pipeline(steps=[('preprocessor',\n",
       "                 ColumnTransformer(transformers=[('numeric',\n",
       "                                                  Pipeline(steps=[('standard_scaler',\n",
       "                                                                   StandardScaler()),\n",
       "                                                                  ('simple_imputer',\n",
       "                                                                   SimpleImputer())]),\n",
       "                                                  Index(['h1n1_concern', 'h1n1_knowledge', 'behavioral_antiviral_meds',\n",
       "       'behavioral_avoidance', 'behavioral_face_mask', 'behavioral_wash_hands',\n",
       "       'behavioral_large_gatherings', 'behavioral_outsid...\n",
       "      dtype='object')),\n",
       "                                                 ('categoric', OneHotEncoder(),\n",
       "                                                  Index(['age_group', 'education', 'race', 'sex', 'income_poverty',\n",
       "       'marital_status', 'rent_or_own', 'employment_status', 'hhs_geo_region',\n",
       "       'census_msa', 'employment_industry', 'employment_occupation'],\n",
       "      dtype='object'))])),\n",
       "                ('classifier',\n",
       "                 MultiOutputClassifier(estimator=LogisticRegression(max_iter=200,\n",
       "                                                                    solver='saga',\n",
       "                                                                    tol=0.001)))])"
      ]
     },
     "execution_count": 50,
     "metadata": {},
     "output_type": "execute_result"
    }
   ],
   "source": [
    "model5.fit(features_df, labels_df)"
   ]
  },
  {
   "cell_type": "markdown",
   "id": "145b2beb",
   "metadata": {},
   "source": [
    "And compute a score on the training data."
   ]
  },
  {
   "cell_type": "code",
   "execution_count": 51,
   "id": "be5ba40d",
   "metadata": {},
   "outputs": [
    {
     "data": {
      "text/plain": [
       "0.8474823438528167"
      ]
     },
     "execution_count": 51,
     "metadata": {},
     "output_type": "execute_result"
    }
   ],
   "source": [
    "score_model(model5, features_df, labels_df)"
   ]
  },
  {
   "cell_type": "markdown",
   "id": "f8523ab9",
   "metadata": {},
   "source": [
    "Adding the categorical variables improves the model a little, at least on the training data."
   ]
  },
  {
   "cell_type": "markdown",
   "id": "7ad69a2a",
   "metadata": {},
   "source": [
    "## Submit the predictions\n",
    "\n",
    "Now that the categorical variables are in the model, let's see if our score is better on the test data.\n",
    "I'll use this function to prepare a submission:"
   ]
  },
  {
   "cell_type": "code",
   "execution_count": 52,
   "id": "7fe332bc",
   "metadata": {},
   "outputs": [],
   "source": [
    "def make_submission(model, test_features_df):\n",
    "    \"\"\"Make a DataFrame ready for submisstion to the competition.\n",
    "\n",
    "    Args:\n",
    "        model: fitted Scikit-learn model\n",
    "        test_features_df: DataFrame of features\n",
    "\n",
    "    Returns: DataFrame of predicted probabilities\n",
    "    \"\"\"\n",
    "    pred1, pred2 = model.predict_proba(test_features_df)\n",
    "    d = dict(h1n1_vaccine=pred1.T[1], seasonal_vaccine=pred2.T[1])\n",
    "    return pd.DataFrame(d, index=test_features_df.index)"
   ]
  },
  {
   "cell_type": "code",
   "execution_count": 53,
   "id": "eb4a1f8c",
   "metadata": {},
   "outputs": [],
   "source": [
    "make_submission(model5, test_features_df).to_csv(\"submission2.csv\")"
   ]
  },
  {
   "cell_type": "code",
   "execution_count": 54,
   "id": "df7c7011",
   "metadata": {
    "tags": [
     "remove-cell"
    ]
   },
   "outputs": [],
   "source": [
    "if \"google.colab\" in sys.modules:\n",
    "    from google.colab import files\n",
    "    files.download(\"submission2.csv\")"
   ]
  },
  {
   "cell_type": "markdown",
   "id": "29f8dff2",
   "metadata": {},
   "source": [
    "When I submitted these predictions on the competition site, the AUC score was 0.8355.\n",
    "That's an improvement on the previous score, using numeric data only, which was 0.8204.\n",
    "It's not as big an improvement as we might have hoped, which suggests that the categorical variables don't have much predictive value that was not already captured by the numerical variables."
   ]
  },
  {
   "cell_type": "markdown",
   "id": "0e66189a",
   "metadata": {},
   "source": [
    "## Ordinal variables\n",
    "\n",
    "Some categorical variable are **ordinal**, which means that there is some natural way to put their values in order.\n",
    "In this dataset, `age_group` is an ordinal categorical variable with the following values:"
   ]
  },
  {
   "cell_type": "code",
   "execution_count": 55,
   "id": "0c3dd9ff",
   "metadata": {},
   "outputs": [
    {
     "data": {
      "text/plain": [
       "18 - 34 Years    5215\n",
       "35 - 44 Years    3848\n",
       "45 - 54 Years    5238\n",
       "55 - 64 Years    5563\n",
       "65+ Years        6843\n",
       "Name: age_group, dtype: int64"
      ]
     },
     "execution_count": 55,
     "metadata": {},
     "output_type": "execute_result"
    }
   ],
   "source": [
    "features_df[\"age_group\"].value_counts().sort_index()"
   ]
  },
  {
   "cell_type": "markdown",
   "id": "a98eaa5c",
   "metadata": {},
   "source": [
    "If we treat an ordinal variable as a plain old categorical variable, we don't use all of the information we have: the model \"knows\" that the age groups are different, but it does not know that they represent a sequence of ages.\n",
    "If older people are consistently more likely to get vaccinated (or less likely), the model might be more accurate if it knows the order of the categories.\n",
    "\n",
    "To do that, we can use the `OrdinalEncoder` instead of the `OneHotEncoder`, and specify the categories in appropriate order."
   ]
  },
  {
   "cell_type": "code",
   "execution_count": 56,
   "id": "37f5d77c",
   "metadata": {},
   "outputs": [
    {
     "data": {
      "text/html": [
       "<style>#sk-024535a3-4486-41d2-aa17-78961dae047a {color: black;background-color: white;}#sk-024535a3-4486-41d2-aa17-78961dae047a pre{padding: 0;}#sk-024535a3-4486-41d2-aa17-78961dae047a div.sk-toggleable {background-color: white;}#sk-024535a3-4486-41d2-aa17-78961dae047a label.sk-toggleable__label {cursor: pointer;display: block;width: 100%;margin-bottom: 0;padding: 0.3em;box-sizing: border-box;text-align: center;}#sk-024535a3-4486-41d2-aa17-78961dae047a label.sk-toggleable__label-arrow:before {content: \"▸\";float: left;margin-right: 0.25em;color: #696969;}#sk-024535a3-4486-41d2-aa17-78961dae047a label.sk-toggleable__label-arrow:hover:before {color: black;}#sk-024535a3-4486-41d2-aa17-78961dae047a div.sk-estimator:hover label.sk-toggleable__label-arrow:before {color: black;}#sk-024535a3-4486-41d2-aa17-78961dae047a div.sk-toggleable__content {max-height: 0;max-width: 0;overflow: hidden;text-align: left;background-color: #f0f8ff;}#sk-024535a3-4486-41d2-aa17-78961dae047a div.sk-toggleable__content pre {margin: 0.2em;color: black;border-radius: 0.25em;background-color: #f0f8ff;}#sk-024535a3-4486-41d2-aa17-78961dae047a input.sk-toggleable__control:checked~div.sk-toggleable__content {max-height: 200px;max-width: 100%;overflow: auto;}#sk-024535a3-4486-41d2-aa17-78961dae047a input.sk-toggleable__control:checked~label.sk-toggleable__label-arrow:before {content: \"▾\";}#sk-024535a3-4486-41d2-aa17-78961dae047a div.sk-estimator input.sk-toggleable__control:checked~label.sk-toggleable__label {background-color: #d4ebff;}#sk-024535a3-4486-41d2-aa17-78961dae047a div.sk-label input.sk-toggleable__control:checked~label.sk-toggleable__label {background-color: #d4ebff;}#sk-024535a3-4486-41d2-aa17-78961dae047a input.sk-hidden--visually {border: 0;clip: rect(1px 1px 1px 1px);clip: rect(1px, 1px, 1px, 1px);height: 1px;margin: -1px;overflow: hidden;padding: 0;position: absolute;width: 1px;}#sk-024535a3-4486-41d2-aa17-78961dae047a div.sk-estimator {font-family: monospace;background-color: #f0f8ff;border: 1px dotted black;border-radius: 0.25em;box-sizing: border-box;margin-bottom: 0.5em;}#sk-024535a3-4486-41d2-aa17-78961dae047a div.sk-estimator:hover {background-color: #d4ebff;}#sk-024535a3-4486-41d2-aa17-78961dae047a div.sk-parallel-item::after {content: \"\";width: 100%;border-bottom: 1px solid gray;flex-grow: 1;}#sk-024535a3-4486-41d2-aa17-78961dae047a div.sk-label:hover label.sk-toggleable__label {background-color: #d4ebff;}#sk-024535a3-4486-41d2-aa17-78961dae047a div.sk-serial::before {content: \"\";position: absolute;border-left: 1px solid gray;box-sizing: border-box;top: 2em;bottom: 0;left: 50%;}#sk-024535a3-4486-41d2-aa17-78961dae047a div.sk-serial {display: flex;flex-direction: column;align-items: center;background-color: white;padding-right: 0.2em;padding-left: 0.2em;}#sk-024535a3-4486-41d2-aa17-78961dae047a div.sk-item {z-index: 1;}#sk-024535a3-4486-41d2-aa17-78961dae047a div.sk-parallel {display: flex;align-items: stretch;justify-content: center;background-color: white;}#sk-024535a3-4486-41d2-aa17-78961dae047a div.sk-parallel::before {content: \"\";position: absolute;border-left: 1px solid gray;box-sizing: border-box;top: 2em;bottom: 0;left: 50%;}#sk-024535a3-4486-41d2-aa17-78961dae047a div.sk-parallel-item {display: flex;flex-direction: column;position: relative;background-color: white;}#sk-024535a3-4486-41d2-aa17-78961dae047a div.sk-parallel-item:first-child::after {align-self: flex-end;width: 50%;}#sk-024535a3-4486-41d2-aa17-78961dae047a div.sk-parallel-item:last-child::after {align-self: flex-start;width: 50%;}#sk-024535a3-4486-41d2-aa17-78961dae047a div.sk-parallel-item:only-child::after {width: 0;}#sk-024535a3-4486-41d2-aa17-78961dae047a div.sk-dashed-wrapped {border: 1px dashed gray;margin: 0 0.4em 0.5em 0.4em;box-sizing: border-box;padding-bottom: 0.4em;background-color: white;position: relative;}#sk-024535a3-4486-41d2-aa17-78961dae047a div.sk-label label {font-family: monospace;font-weight: bold;background-color: white;display: inline-block;line-height: 1.2em;}#sk-024535a3-4486-41d2-aa17-78961dae047a div.sk-label-container {position: relative;z-index: 2;text-align: center;}#sk-024535a3-4486-41d2-aa17-78961dae047a div.sk-container {/* jupyter's `normalize.less` sets `[hidden] { display: none; }` but bootstrap.min.css set `[hidden] { display: none !important; }` so we also need the `!important` here to be able to override the default hidden behavior on the sphinx rendered scikit-learn.org. See: https://github.com/scikit-learn/scikit-learn/issues/21755 */display: inline-block !important;position: relative;}#sk-024535a3-4486-41d2-aa17-78961dae047a div.sk-text-repr-fallback {display: none;}</style><div id=\"sk-024535a3-4486-41d2-aa17-78961dae047a\" class=\"sk-top-container\"><div class=\"sk-text-repr-fallback\"><pre>OrdinalEncoder(categories=[[&#x27;18 - 34 Years&#x27;, &#x27;35 - 44 Years&#x27;, &#x27;45 - 54 Years&#x27;,\n",
       "                            &#x27;55 - 64 Years&#x27;, &#x27;65+ Years&#x27;]])</pre><b>Please rerun this cell to show the HTML repr or trust the notebook.</b></div><div class=\"sk-container\" hidden><div class=\"sk-item\"><div class=\"sk-estimator sk-toggleable\"><input class=\"sk-toggleable__control sk-hidden--visually\" id=\"07f8c51d-1c93-41d0-b7c2-4170216844df\" type=\"checkbox\" checked><label for=\"07f8c51d-1c93-41d0-b7c2-4170216844df\" class=\"sk-toggleable__label sk-toggleable__label-arrow\">OrdinalEncoder</label><div class=\"sk-toggleable__content\"><pre>OrdinalEncoder(categories=[[&#x27;18 - 34 Years&#x27;, &#x27;35 - 44 Years&#x27;, &#x27;45 - 54 Years&#x27;,\n",
       "                            &#x27;55 - 64 Years&#x27;, &#x27;65+ Years&#x27;]])</pre></div></div></div></div></div>"
      ],
      "text/plain": [
       "OrdinalEncoder(categories=[['18 - 34 Years', '35 - 44 Years', '45 - 54 Years',\n",
       "                            '55 - 64 Years', '65+ Years']])"
      ]
     },
     "execution_count": 56,
     "metadata": {},
     "output_type": "execute_result"
    }
   ],
   "source": [
    "from sklearn.preprocessing import OrdinalEncoder\n",
    "\n",
    "age_group_categories = [\n",
    "    \"18 - 34 Years\",\n",
    "    \"35 - 44 Years\",\n",
    "    \"45 - 54 Years\",\n",
    "    \"55 - 64 Years\",\n",
    "    \"65+ Years\",\n",
    "]\n",
    "encoder = OrdinalEncoder(categories=[age_group_categories])\n",
    "encoder.fit(features_df[[\"age_group\"]])"
   ]
  },
  {
   "cell_type": "markdown",
   "id": "dd5b5ebf",
   "metadata": {},
   "source": [
    "Now we can use the encoder to transform the feature from categories to numbers."
   ]
  },
  {
   "cell_type": "code",
   "execution_count": 57,
   "id": "ad434676",
   "metadata": {},
   "outputs": [
    {
     "data": {
      "text/plain": [
       "array([[3.],\n",
       "       [1.],\n",
       "       [0.],\n",
       "       ...,\n",
       "       [3.],\n",
       "       [0.],\n",
       "       [4.]])"
      ]
     },
     "execution_count": 57,
     "metadata": {},
     "output_type": "execute_result"
    }
   ],
   "source": [
    "encoder.transform(features_df[[\"age_group\"]])"
   ]
  },
  {
   "cell_type": "markdown",
   "id": "9c13bcd2",
   "metadata": {},
   "source": [
    "We can do the same thing with `education`, with one additional step. Because this variable contains some missing values, represented by the special value `NaN`, we have to tell the encoder how to handle missing values.\n",
    "In this case, we'll replace `NaN` with `-1`."
   ]
  },
  {
   "cell_type": "code",
   "execution_count": 58,
   "id": "e5643c2a",
   "metadata": {},
   "outputs": [],
   "source": [
    "education_categories = [\"< 12 Years\", \"12 Years\", \"Some College\", \"College Graduate\"]"
   ]
  },
  {
   "cell_type": "code",
   "execution_count": 59,
   "id": "59ded6ad",
   "metadata": {},
   "outputs": [
    {
     "data": {
      "text/html": [
       "<style>#sk-53904a35-294a-4124-badd-28afd56fa7fa {color: black;background-color: white;}#sk-53904a35-294a-4124-badd-28afd56fa7fa pre{padding: 0;}#sk-53904a35-294a-4124-badd-28afd56fa7fa div.sk-toggleable {background-color: white;}#sk-53904a35-294a-4124-badd-28afd56fa7fa label.sk-toggleable__label {cursor: pointer;display: block;width: 100%;margin-bottom: 0;padding: 0.3em;box-sizing: border-box;text-align: center;}#sk-53904a35-294a-4124-badd-28afd56fa7fa label.sk-toggleable__label-arrow:before {content: \"▸\";float: left;margin-right: 0.25em;color: #696969;}#sk-53904a35-294a-4124-badd-28afd56fa7fa label.sk-toggleable__label-arrow:hover:before {color: black;}#sk-53904a35-294a-4124-badd-28afd56fa7fa div.sk-estimator:hover label.sk-toggleable__label-arrow:before {color: black;}#sk-53904a35-294a-4124-badd-28afd56fa7fa div.sk-toggleable__content {max-height: 0;max-width: 0;overflow: hidden;text-align: left;background-color: #f0f8ff;}#sk-53904a35-294a-4124-badd-28afd56fa7fa div.sk-toggleable__content pre {margin: 0.2em;color: black;border-radius: 0.25em;background-color: #f0f8ff;}#sk-53904a35-294a-4124-badd-28afd56fa7fa input.sk-toggleable__control:checked~div.sk-toggleable__content {max-height: 200px;max-width: 100%;overflow: auto;}#sk-53904a35-294a-4124-badd-28afd56fa7fa input.sk-toggleable__control:checked~label.sk-toggleable__label-arrow:before {content: \"▾\";}#sk-53904a35-294a-4124-badd-28afd56fa7fa div.sk-estimator input.sk-toggleable__control:checked~label.sk-toggleable__label {background-color: #d4ebff;}#sk-53904a35-294a-4124-badd-28afd56fa7fa div.sk-label input.sk-toggleable__control:checked~label.sk-toggleable__label {background-color: #d4ebff;}#sk-53904a35-294a-4124-badd-28afd56fa7fa input.sk-hidden--visually {border: 0;clip: rect(1px 1px 1px 1px);clip: rect(1px, 1px, 1px, 1px);height: 1px;margin: -1px;overflow: hidden;padding: 0;position: absolute;width: 1px;}#sk-53904a35-294a-4124-badd-28afd56fa7fa div.sk-estimator {font-family: monospace;background-color: #f0f8ff;border: 1px dotted black;border-radius: 0.25em;box-sizing: border-box;margin-bottom: 0.5em;}#sk-53904a35-294a-4124-badd-28afd56fa7fa div.sk-estimator:hover {background-color: #d4ebff;}#sk-53904a35-294a-4124-badd-28afd56fa7fa div.sk-parallel-item::after {content: \"\";width: 100%;border-bottom: 1px solid gray;flex-grow: 1;}#sk-53904a35-294a-4124-badd-28afd56fa7fa div.sk-label:hover label.sk-toggleable__label {background-color: #d4ebff;}#sk-53904a35-294a-4124-badd-28afd56fa7fa div.sk-serial::before {content: \"\";position: absolute;border-left: 1px solid gray;box-sizing: border-box;top: 2em;bottom: 0;left: 50%;}#sk-53904a35-294a-4124-badd-28afd56fa7fa div.sk-serial {display: flex;flex-direction: column;align-items: center;background-color: white;padding-right: 0.2em;padding-left: 0.2em;}#sk-53904a35-294a-4124-badd-28afd56fa7fa div.sk-item {z-index: 1;}#sk-53904a35-294a-4124-badd-28afd56fa7fa div.sk-parallel {display: flex;align-items: stretch;justify-content: center;background-color: white;}#sk-53904a35-294a-4124-badd-28afd56fa7fa div.sk-parallel::before {content: \"\";position: absolute;border-left: 1px solid gray;box-sizing: border-box;top: 2em;bottom: 0;left: 50%;}#sk-53904a35-294a-4124-badd-28afd56fa7fa div.sk-parallel-item {display: flex;flex-direction: column;position: relative;background-color: white;}#sk-53904a35-294a-4124-badd-28afd56fa7fa div.sk-parallel-item:first-child::after {align-self: flex-end;width: 50%;}#sk-53904a35-294a-4124-badd-28afd56fa7fa div.sk-parallel-item:last-child::after {align-self: flex-start;width: 50%;}#sk-53904a35-294a-4124-badd-28afd56fa7fa div.sk-parallel-item:only-child::after {width: 0;}#sk-53904a35-294a-4124-badd-28afd56fa7fa div.sk-dashed-wrapped {border: 1px dashed gray;margin: 0 0.4em 0.5em 0.4em;box-sizing: border-box;padding-bottom: 0.4em;background-color: white;position: relative;}#sk-53904a35-294a-4124-badd-28afd56fa7fa div.sk-label label {font-family: monospace;font-weight: bold;background-color: white;display: inline-block;line-height: 1.2em;}#sk-53904a35-294a-4124-badd-28afd56fa7fa div.sk-label-container {position: relative;z-index: 2;text-align: center;}#sk-53904a35-294a-4124-badd-28afd56fa7fa div.sk-container {/* jupyter's `normalize.less` sets `[hidden] { display: none; }` but bootstrap.min.css set `[hidden] { display: none !important; }` so we also need the `!important` here to be able to override the default hidden behavior on the sphinx rendered scikit-learn.org. See: https://github.com/scikit-learn/scikit-learn/issues/21755 */display: inline-block !important;position: relative;}#sk-53904a35-294a-4124-badd-28afd56fa7fa div.sk-text-repr-fallback {display: none;}</style><div id=\"sk-53904a35-294a-4124-badd-28afd56fa7fa\" class=\"sk-top-container\"><div class=\"sk-text-repr-fallback\"><pre>OrdinalEncoder(categories=[[&#x27;&lt; 12 Years&#x27;, &#x27;12 Years&#x27;, &#x27;Some College&#x27;,\n",
       "                            &#x27;College Graduate&#x27;]],\n",
       "               handle_unknown=&#x27;use_encoded_value&#x27;, unknown_value=-1)</pre><b>Please rerun this cell to show the HTML repr or trust the notebook.</b></div><div class=\"sk-container\" hidden><div class=\"sk-item\"><div class=\"sk-estimator sk-toggleable\"><input class=\"sk-toggleable__control sk-hidden--visually\" id=\"a8ca6698-e2f7-4198-8a69-6598c8017c85\" type=\"checkbox\" checked><label for=\"a8ca6698-e2f7-4198-8a69-6598c8017c85\" class=\"sk-toggleable__label sk-toggleable__label-arrow\">OrdinalEncoder</label><div class=\"sk-toggleable__content\"><pre>OrdinalEncoder(categories=[[&#x27;&lt; 12 Years&#x27;, &#x27;12 Years&#x27;, &#x27;Some College&#x27;,\n",
       "                            &#x27;College Graduate&#x27;]],\n",
       "               handle_unknown=&#x27;use_encoded_value&#x27;, unknown_value=-1)</pre></div></div></div></div></div>"
      ],
      "text/plain": [
       "OrdinalEncoder(categories=[['< 12 Years', '12 Years', 'Some College',\n",
       "                            'College Graduate']],\n",
       "               handle_unknown='use_encoded_value', unknown_value=-1)"
      ]
     },
     "execution_count": 59,
     "metadata": {},
     "output_type": "execute_result"
    }
   ],
   "source": [
    "encoder = OrdinalEncoder(\n",
    "    categories=[education_categories],\n",
    "    unknown_value=-1,\n",
    "    handle_unknown=\"use_encoded_value\",\n",
    ")\n",
    "encoder.fit(features_df[[\"education\"]])"
   ]
  },
  {
   "cell_type": "markdown",
   "id": "2e35695e",
   "metadata": {},
   "source": [
    "Here's what the transformed values look like."
   ]
  },
  {
   "cell_type": "code",
   "execution_count": 60,
   "id": "a3e4f5cf",
   "metadata": {},
   "outputs": [
    {
     "data": {
      "text/plain": [
       " 3.0    10097\n",
       " 2.0     7043\n",
       " 1.0     5797\n",
       " 0.0     2363\n",
       "-1.0     1407\n",
       "dtype: int64"
      ]
     },
     "execution_count": 60,
     "metadata": {},
     "output_type": "execute_result"
    }
   ],
   "source": [
    "from utils import value_counts\n",
    "\n",
    "values = encoder.transform(features_df[[\"education\"]])\n",
    "value_counts(values.flatten(), dropna=False)"
   ]
  },
  {
   "cell_type": "markdown",
   "id": "456e1fc7",
   "metadata": {},
   "source": [
    "If we add these values to a model, it would treat missing values as if they represented less education than a high school diploma, which is probably not valid.\n",
    "To correct that, we can add a binary variable that indicates whether the `education` value is missing.\n",
    "If the missing status has any predictive value, this feature will allow the model to estimate it."
   ]
  },
  {
   "cell_type": "code",
   "execution_count": 61,
   "id": "035ea4e1",
   "metadata": {},
   "outputs": [
    {
     "data": {
      "text/plain": [
       "0    25300\n",
       "1     1407\n",
       "Name: education_missing, dtype: int64"
      ]
     },
     "execution_count": 61,
     "metadata": {},
     "output_type": "execute_result"
    }
   ],
   "source": [
    "features_df[\"education_missing\"] = features_df[\"education\"].isna().astype(int)\n",
    "value_counts(features_df[\"education_missing\"])"
   ]
  },
  {
   "cell_type": "markdown",
   "id": "1d9f55c1",
   "metadata": {},
   "source": [
    "Rather than add the indicator variable by hand, you could add to the ordinal pipeline a `SimpleImputer` with the argument `add_indicator=True`. But I'll leave that as an exercise.\n",
    "\n",
    "Now let's get these steps into the pipeline. First, we'll split the categorical variables into non-ordinal and ordinal."
   ]
  },
  {
   "cell_type": "code",
   "execution_count": 62,
   "id": "8a3a1cd4",
   "metadata": {},
   "outputs": [],
   "source": [
    "unordered_cols = [\n",
    "    \"race\",\n",
    "    \"sex\",\n",
    "    \"income_poverty\",\n",
    "    \"marital_status\",\n",
    "    \"rent_or_own\",\n",
    "    \"employment_status\",\n",
    "    \"hhs_geo_region\",\n",
    "    \"census_msa\",\n",
    "    \"employment_industry\",\n",
    "    \"employment_occupation\",\n",
    "    \"education_missing\",\n",
    "]\n",
    "\n",
    "ordinal_cols = [\"age_group\", \"education\"]"
   ]
  },
  {
   "cell_type": "markdown",
   "id": "acefc57e",
   "metadata": {},
   "source": [
    "Next we'll make a pipeline for the two ordinal variables."
   ]
  },
  {
   "cell_type": "code",
   "execution_count": 63,
   "id": "3b38b28d",
   "metadata": {},
   "outputs": [],
   "source": [
    "categories = [age_group_categories, education_categories]\n",
    "\n",
    "ordinal_encoder = OrdinalEncoder(\n",
    "    categories=categories,\n",
    "    unknown_value=-1,\n",
    "    handle_unknown=\"use_encoded_value\",\n",
    ")"
   ]
  },
  {
   "cell_type": "markdown",
   "id": "153be115",
   "metadata": {},
   "source": [
    "And assemble a ColumnTransformer that contains pipelines for numeric, categorical, and ordinal variables."
   ]
  },
  {
   "cell_type": "code",
   "execution_count": 64,
   "id": "1d120065",
   "metadata": {},
   "outputs": [],
   "source": [
    "preprocessor = ColumnTransformer(\n",
    "    transformers=[\n",
    "        (\"numeric\", numeric_pipeline, numeric_cols),\n",
    "        (\"categoric\", OneHotEncoder(), unordered_cols),\n",
    "        (\"ordinal\", ordinal_encoder, ordinal_cols),\n",
    "    ]\n",
    ")"
   ]
  },
  {
   "cell_type": "markdown",
   "id": "46a02add",
   "metadata": {},
   "source": [
    "**Exercise:** As an exercise, put `preprocessor` into a pipeline with a `MultiOutputClassifier` that contains your favorite `LogisticRegression` classifier.\n",
    "Then fit the training data and compute the AUC score with the training data.\n",
    "Does it make the model more accurate if we treat age and education as ordinal variables?"
   ]
  },
  {
   "cell_type": "code",
   "execution_count": 65,
   "id": "c6a2d737",
   "metadata": {},
   "outputs": [],
   "source": [
    "# Solution\n",
    "\n",
    "classifier = MultiOutputClassifier(\n",
    "    estimator=LogisticRegression(penalty=\"l2\", solver=\"saga\", max_iter=200, tol=1e-3)\n",
    ")"
   ]
  },
  {
   "cell_type": "code",
   "execution_count": 66,
   "id": "81ab9b8d",
   "metadata": {},
   "outputs": [],
   "source": [
    "# Solution\n",
    "\n",
    "model_ord = Pipeline(\n",
    "    [\n",
    "        (\"preprocessor\", preprocessor),\n",
    "        (\"classifier\", classifier),\n",
    "    ]\n",
    ")"
   ]
  },
  {
   "cell_type": "code",
   "execution_count": 67,
   "id": "700d7923",
   "metadata": {},
   "outputs": [
    {
     "data": {
      "text/html": [
       "<style>#sk-95c38d9a-dd67-444c-9272-06e47d79f671 {color: black;background-color: white;}#sk-95c38d9a-dd67-444c-9272-06e47d79f671 pre{padding: 0;}#sk-95c38d9a-dd67-444c-9272-06e47d79f671 div.sk-toggleable {background-color: white;}#sk-95c38d9a-dd67-444c-9272-06e47d79f671 label.sk-toggleable__label {cursor: pointer;display: block;width: 100%;margin-bottom: 0;padding: 0.3em;box-sizing: border-box;text-align: center;}#sk-95c38d9a-dd67-444c-9272-06e47d79f671 label.sk-toggleable__label-arrow:before {content: \"▸\";float: left;margin-right: 0.25em;color: #696969;}#sk-95c38d9a-dd67-444c-9272-06e47d79f671 label.sk-toggleable__label-arrow:hover:before {color: black;}#sk-95c38d9a-dd67-444c-9272-06e47d79f671 div.sk-estimator:hover label.sk-toggleable__label-arrow:before {color: black;}#sk-95c38d9a-dd67-444c-9272-06e47d79f671 div.sk-toggleable__content {max-height: 0;max-width: 0;overflow: hidden;text-align: left;background-color: #f0f8ff;}#sk-95c38d9a-dd67-444c-9272-06e47d79f671 div.sk-toggleable__content pre {margin: 0.2em;color: black;border-radius: 0.25em;background-color: #f0f8ff;}#sk-95c38d9a-dd67-444c-9272-06e47d79f671 input.sk-toggleable__control:checked~div.sk-toggleable__content {max-height: 200px;max-width: 100%;overflow: auto;}#sk-95c38d9a-dd67-444c-9272-06e47d79f671 input.sk-toggleable__control:checked~label.sk-toggleable__label-arrow:before {content: \"▾\";}#sk-95c38d9a-dd67-444c-9272-06e47d79f671 div.sk-estimator input.sk-toggleable__control:checked~label.sk-toggleable__label {background-color: #d4ebff;}#sk-95c38d9a-dd67-444c-9272-06e47d79f671 div.sk-label input.sk-toggleable__control:checked~label.sk-toggleable__label {background-color: #d4ebff;}#sk-95c38d9a-dd67-444c-9272-06e47d79f671 input.sk-hidden--visually {border: 0;clip: rect(1px 1px 1px 1px);clip: rect(1px, 1px, 1px, 1px);height: 1px;margin: -1px;overflow: hidden;padding: 0;position: absolute;width: 1px;}#sk-95c38d9a-dd67-444c-9272-06e47d79f671 div.sk-estimator {font-family: monospace;background-color: #f0f8ff;border: 1px dotted black;border-radius: 0.25em;box-sizing: border-box;margin-bottom: 0.5em;}#sk-95c38d9a-dd67-444c-9272-06e47d79f671 div.sk-estimator:hover {background-color: #d4ebff;}#sk-95c38d9a-dd67-444c-9272-06e47d79f671 div.sk-parallel-item::after {content: \"\";width: 100%;border-bottom: 1px solid gray;flex-grow: 1;}#sk-95c38d9a-dd67-444c-9272-06e47d79f671 div.sk-label:hover label.sk-toggleable__label {background-color: #d4ebff;}#sk-95c38d9a-dd67-444c-9272-06e47d79f671 div.sk-serial::before {content: \"\";position: absolute;border-left: 1px solid gray;box-sizing: border-box;top: 2em;bottom: 0;left: 50%;}#sk-95c38d9a-dd67-444c-9272-06e47d79f671 div.sk-serial {display: flex;flex-direction: column;align-items: center;background-color: white;padding-right: 0.2em;padding-left: 0.2em;}#sk-95c38d9a-dd67-444c-9272-06e47d79f671 div.sk-item {z-index: 1;}#sk-95c38d9a-dd67-444c-9272-06e47d79f671 div.sk-parallel {display: flex;align-items: stretch;justify-content: center;background-color: white;}#sk-95c38d9a-dd67-444c-9272-06e47d79f671 div.sk-parallel::before {content: \"\";position: absolute;border-left: 1px solid gray;box-sizing: border-box;top: 2em;bottom: 0;left: 50%;}#sk-95c38d9a-dd67-444c-9272-06e47d79f671 div.sk-parallel-item {display: flex;flex-direction: column;position: relative;background-color: white;}#sk-95c38d9a-dd67-444c-9272-06e47d79f671 div.sk-parallel-item:first-child::after {align-self: flex-end;width: 50%;}#sk-95c38d9a-dd67-444c-9272-06e47d79f671 div.sk-parallel-item:last-child::after {align-self: flex-start;width: 50%;}#sk-95c38d9a-dd67-444c-9272-06e47d79f671 div.sk-parallel-item:only-child::after {width: 0;}#sk-95c38d9a-dd67-444c-9272-06e47d79f671 div.sk-dashed-wrapped {border: 1px dashed gray;margin: 0 0.4em 0.5em 0.4em;box-sizing: border-box;padding-bottom: 0.4em;background-color: white;position: relative;}#sk-95c38d9a-dd67-444c-9272-06e47d79f671 div.sk-label label {font-family: monospace;font-weight: bold;background-color: white;display: inline-block;line-height: 1.2em;}#sk-95c38d9a-dd67-444c-9272-06e47d79f671 div.sk-label-container {position: relative;z-index: 2;text-align: center;}#sk-95c38d9a-dd67-444c-9272-06e47d79f671 div.sk-container {/* jupyter's `normalize.less` sets `[hidden] { display: none; }` but bootstrap.min.css set `[hidden] { display: none !important; }` so we also need the `!important` here to be able to override the default hidden behavior on the sphinx rendered scikit-learn.org. See: https://github.com/scikit-learn/scikit-learn/issues/21755 */display: inline-block !important;position: relative;}#sk-95c38d9a-dd67-444c-9272-06e47d79f671 div.sk-text-repr-fallback {display: none;}</style><div id=\"sk-95c38d9a-dd67-444c-9272-06e47d79f671\" class=\"sk-top-container\"><div class=\"sk-text-repr-fallback\"><pre>Pipeline(steps=[(&#x27;preprocessor&#x27;,\n",
       "                 ColumnTransformer(transformers=[(&#x27;numeric&#x27;,\n",
       "                                                  Pipeline(steps=[(&#x27;standard_scaler&#x27;,\n",
       "                                                                   StandardScaler()),\n",
       "                                                                  (&#x27;simple_imputer&#x27;,\n",
       "                                                                   SimpleImputer())]),\n",
       "                                                  Index([&#x27;h1n1_concern&#x27;, &#x27;h1n1_knowledge&#x27;, &#x27;behavioral_antiviral_meds&#x27;,\n",
       "       &#x27;behavioral_avoidance&#x27;, &#x27;behavioral_face_mask&#x27;, &#x27;behavioral_wash_hands&#x27;,\n",
       "       &#x27;behavioral_large_gatherings&#x27;, &#x27;behavioral_outsid...\n",
       "                                                  OrdinalEncoder(categories=[[&#x27;18 &#x27;\n",
       "                                                                              &#x27;- &#x27;\n",
       "                                                                              &#x27;34 &#x27;\n",
       "                                                                              &#x27;Years&#x27;,\n",
       "                                                                              &#x27;35 &#x27;\n",
       "                                                                              &#x27;- &#x27;\n",
       "                                                                              &#x27;44 &#x27;\n",
       "                                                                              &#x27;Years&#x27;,\n",
       "                                                                              &#x27;45 &#x27;\n",
       "                                                                              &#x27;- &#x27;\n",
       "                                                                              &#x27;54 &#x27;\n",
       "                                                                              &#x27;Years&#x27;,\n",
       "                                                                              &#x27;55 &#x27;\n",
       "                                                                              &#x27;- &#x27;\n",
       "                                                                              &#x27;64 &#x27;\n",
       "                                                                              &#x27;Years&#x27;,\n",
       "                                                                              &#x27;65+ &#x27;\n",
       "                                                                              &#x27;Years&#x27;],\n",
       "                                                                             [&#x27;&lt; &#x27;\n",
       "                                                                              &#x27;12 &#x27;\n",
       "                                                                              &#x27;Years&#x27;,\n",
       "                                                                              &#x27;12 &#x27;\n",
       "                                                                              &#x27;Years&#x27;,\n",
       "                                                                              &#x27;Some &#x27;\n",
       "                                                                              &#x27;College&#x27;,\n",
       "                                                                              &#x27;College &#x27;\n",
       "                                                                              &#x27;Graduate&#x27;]],\n",
       "                                                                 handle_unknown=&#x27;use_encoded_value&#x27;,\n",
       "                                                                 unknown_value=-1),\n",
       "                                                  [&#x27;age_group&#x27;,\n",
       "                                                   &#x27;education&#x27;])])),\n",
       "                (&#x27;classifier&#x27;,\n",
       "                 MultiOutputClassifier(estimator=LogisticRegression(max_iter=200,\n",
       "                                                                    solver=&#x27;saga&#x27;,\n",
       "                                                                    tol=0.001)))])</pre><b>Please rerun this cell to show the HTML repr or trust the notebook.</b></div><div class=\"sk-container\" hidden><div class=\"sk-item sk-dashed-wrapped\"><div class=\"sk-label-container\"><div class=\"sk-label sk-toggleable\"><input class=\"sk-toggleable__control sk-hidden--visually\" id=\"a7b639e7-0356-4fae-8137-78234ba39021\" type=\"checkbox\" ><label for=\"a7b639e7-0356-4fae-8137-78234ba39021\" class=\"sk-toggleable__label sk-toggleable__label-arrow\">Pipeline</label><div class=\"sk-toggleable__content\"><pre>Pipeline(steps=[(&#x27;preprocessor&#x27;,\n",
       "                 ColumnTransformer(transformers=[(&#x27;numeric&#x27;,\n",
       "                                                  Pipeline(steps=[(&#x27;standard_scaler&#x27;,\n",
       "                                                                   StandardScaler()),\n",
       "                                                                  (&#x27;simple_imputer&#x27;,\n",
       "                                                                   SimpleImputer())]),\n",
       "                                                  Index([&#x27;h1n1_concern&#x27;, &#x27;h1n1_knowledge&#x27;, &#x27;behavioral_antiviral_meds&#x27;,\n",
       "       &#x27;behavioral_avoidance&#x27;, &#x27;behavioral_face_mask&#x27;, &#x27;behavioral_wash_hands&#x27;,\n",
       "       &#x27;behavioral_large_gatherings&#x27;, &#x27;behavioral_outsid...\n",
       "                                                  OrdinalEncoder(categories=[[&#x27;18 &#x27;\n",
       "                                                                              &#x27;- &#x27;\n",
       "                                                                              &#x27;34 &#x27;\n",
       "                                                                              &#x27;Years&#x27;,\n",
       "                                                                              &#x27;35 &#x27;\n",
       "                                                                              &#x27;- &#x27;\n",
       "                                                                              &#x27;44 &#x27;\n",
       "                                                                              &#x27;Years&#x27;,\n",
       "                                                                              &#x27;45 &#x27;\n",
       "                                                                              &#x27;- &#x27;\n",
       "                                                                              &#x27;54 &#x27;\n",
       "                                                                              &#x27;Years&#x27;,\n",
       "                                                                              &#x27;55 &#x27;\n",
       "                                                                              &#x27;- &#x27;\n",
       "                                                                              &#x27;64 &#x27;\n",
       "                                                                              &#x27;Years&#x27;,\n",
       "                                                                              &#x27;65+ &#x27;\n",
       "                                                                              &#x27;Years&#x27;],\n",
       "                                                                             [&#x27;&lt; &#x27;\n",
       "                                                                              &#x27;12 &#x27;\n",
       "                                                                              &#x27;Years&#x27;,\n",
       "                                                                              &#x27;12 &#x27;\n",
       "                                                                              &#x27;Years&#x27;,\n",
       "                                                                              &#x27;Some &#x27;\n",
       "                                                                              &#x27;College&#x27;,\n",
       "                                                                              &#x27;College &#x27;\n",
       "                                                                              &#x27;Graduate&#x27;]],\n",
       "                                                                 handle_unknown=&#x27;use_encoded_value&#x27;,\n",
       "                                                                 unknown_value=-1),\n",
       "                                                  [&#x27;age_group&#x27;,\n",
       "                                                   &#x27;education&#x27;])])),\n",
       "                (&#x27;classifier&#x27;,\n",
       "                 MultiOutputClassifier(estimator=LogisticRegression(max_iter=200,\n",
       "                                                                    solver=&#x27;saga&#x27;,\n",
       "                                                                    tol=0.001)))])</pre></div></div></div><div class=\"sk-serial\"><div class=\"sk-item sk-dashed-wrapped\"><div class=\"sk-label-container\"><div class=\"sk-label sk-toggleable\"><input class=\"sk-toggleable__control sk-hidden--visually\" id=\"f61a171f-7208-4054-92b0-8b53b768dea7\" type=\"checkbox\" ><label for=\"f61a171f-7208-4054-92b0-8b53b768dea7\" class=\"sk-toggleable__label sk-toggleable__label-arrow\">preprocessor: ColumnTransformer</label><div class=\"sk-toggleable__content\"><pre>ColumnTransformer(transformers=[(&#x27;numeric&#x27;,\n",
       "                                 Pipeline(steps=[(&#x27;standard_scaler&#x27;,\n",
       "                                                  StandardScaler()),\n",
       "                                                 (&#x27;simple_imputer&#x27;,\n",
       "                                                  SimpleImputer())]),\n",
       "                                 Index([&#x27;h1n1_concern&#x27;, &#x27;h1n1_knowledge&#x27;, &#x27;behavioral_antiviral_meds&#x27;,\n",
       "       &#x27;behavioral_avoidance&#x27;, &#x27;behavioral_face_mask&#x27;, &#x27;behavioral_wash_hands&#x27;,\n",
       "       &#x27;behavioral_large_gatherings&#x27;, &#x27;behavioral_outside_home&#x27;,\n",
       "       &#x27;behavioral_touch_face&#x27;,...\n",
       "                                  &#x27;employment_status&#x27;, &#x27;hhs_geo_region&#x27;,\n",
       "                                  &#x27;census_msa&#x27;, &#x27;employment_industry&#x27;,\n",
       "                                  &#x27;employment_occupation&#x27;,\n",
       "                                  &#x27;education_missing&#x27;]),\n",
       "                                (&#x27;ordinal&#x27;,\n",
       "                                 OrdinalEncoder(categories=[[&#x27;18 - 34 Years&#x27;,\n",
       "                                                             &#x27;35 - 44 Years&#x27;,\n",
       "                                                             &#x27;45 - 54 Years&#x27;,\n",
       "                                                             &#x27;55 - 64 Years&#x27;,\n",
       "                                                             &#x27;65+ Years&#x27;],\n",
       "                                                            [&#x27;&lt; 12 Years&#x27;,\n",
       "                                                             &#x27;12 Years&#x27;,\n",
       "                                                             &#x27;Some College&#x27;,\n",
       "                                                             &#x27;College &#x27;\n",
       "                                                             &#x27;Graduate&#x27;]],\n",
       "                                                handle_unknown=&#x27;use_encoded_value&#x27;,\n",
       "                                                unknown_value=-1),\n",
       "                                 [&#x27;age_group&#x27;, &#x27;education&#x27;])])</pre></div></div></div><div class=\"sk-parallel\"><div class=\"sk-parallel-item\"><div class=\"sk-item\"><div class=\"sk-label-container\"><div class=\"sk-label sk-toggleable\"><input class=\"sk-toggleable__control sk-hidden--visually\" id=\"ccde5e94-25ce-4431-8847-7a788dbc65b6\" type=\"checkbox\" ><label for=\"ccde5e94-25ce-4431-8847-7a788dbc65b6\" class=\"sk-toggleable__label sk-toggleable__label-arrow\">numeric</label><div class=\"sk-toggleable__content\"><pre>Index([&#x27;h1n1_concern&#x27;, &#x27;h1n1_knowledge&#x27;, &#x27;behavioral_antiviral_meds&#x27;,\n",
       "       &#x27;behavioral_avoidance&#x27;, &#x27;behavioral_face_mask&#x27;, &#x27;behavioral_wash_hands&#x27;,\n",
       "       &#x27;behavioral_large_gatherings&#x27;, &#x27;behavioral_outside_home&#x27;,\n",
       "       &#x27;behavioral_touch_face&#x27;, &#x27;doctor_recc_h1n1&#x27;, &#x27;doctor_recc_seasonal&#x27;,\n",
       "       &#x27;chronic_med_condition&#x27;, &#x27;child_under_6_months&#x27;, &#x27;health_worker&#x27;,\n",
       "       &#x27;health_insurance&#x27;, &#x27;opinion_h1n1_vacc_effective&#x27;, &#x27;opinion_h1n1_risk&#x27;,\n",
       "       &#x27;opinion_h1n1_sick_from_vacc&#x27;, &#x27;opinion_seas_vacc_effective&#x27;,\n",
       "       &#x27;opinion_seas_risk&#x27;, &#x27;opinion_seas_sick_from_vacc&#x27;, &#x27;household_adults&#x27;,\n",
       "       &#x27;household_children&#x27;],\n",
       "      dtype=&#x27;object&#x27;)</pre></div></div></div><div class=\"sk-serial\"><div class=\"sk-item\"><div class=\"sk-serial\"><div class=\"sk-item\"><div class=\"sk-estimator sk-toggleable\"><input class=\"sk-toggleable__control sk-hidden--visually\" id=\"a25742a4-ecf5-4f8b-9fbc-20d20f6dcd2b\" type=\"checkbox\" ><label for=\"a25742a4-ecf5-4f8b-9fbc-20d20f6dcd2b\" class=\"sk-toggleable__label sk-toggleable__label-arrow\">StandardScaler</label><div class=\"sk-toggleable__content\"><pre>StandardScaler()</pre></div></div></div><div class=\"sk-item\"><div class=\"sk-estimator sk-toggleable\"><input class=\"sk-toggleable__control sk-hidden--visually\" id=\"0b0284e0-0685-45ac-a7c4-18cdc6e0af67\" type=\"checkbox\" ><label for=\"0b0284e0-0685-45ac-a7c4-18cdc6e0af67\" class=\"sk-toggleable__label sk-toggleable__label-arrow\">SimpleImputer</label><div class=\"sk-toggleable__content\"><pre>SimpleImputer()</pre></div></div></div></div></div></div></div></div><div class=\"sk-parallel-item\"><div class=\"sk-item\"><div class=\"sk-label-container\"><div class=\"sk-label sk-toggleable\"><input class=\"sk-toggleable__control sk-hidden--visually\" id=\"86eab570-c404-469f-9f83-442e36c49f46\" type=\"checkbox\" ><label for=\"86eab570-c404-469f-9f83-442e36c49f46\" class=\"sk-toggleable__label sk-toggleable__label-arrow\">categoric</label><div class=\"sk-toggleable__content\"><pre>[&#x27;race&#x27;, &#x27;sex&#x27;, &#x27;income_poverty&#x27;, &#x27;marital_status&#x27;, &#x27;rent_or_own&#x27;, &#x27;employment_status&#x27;, &#x27;hhs_geo_region&#x27;, &#x27;census_msa&#x27;, &#x27;employment_industry&#x27;, &#x27;employment_occupation&#x27;, &#x27;education_missing&#x27;]</pre></div></div></div><div class=\"sk-serial\"><div class=\"sk-item\"><div class=\"sk-estimator sk-toggleable\"><input class=\"sk-toggleable__control sk-hidden--visually\" id=\"345f6a07-d42f-4877-b235-fec422095bdf\" type=\"checkbox\" ><label for=\"345f6a07-d42f-4877-b235-fec422095bdf\" class=\"sk-toggleable__label sk-toggleable__label-arrow\">OneHotEncoder</label><div class=\"sk-toggleable__content\"><pre>OneHotEncoder()</pre></div></div></div></div></div></div><div class=\"sk-parallel-item\"><div class=\"sk-item\"><div class=\"sk-label-container\"><div class=\"sk-label sk-toggleable\"><input class=\"sk-toggleable__control sk-hidden--visually\" id=\"e763e140-fb34-4973-9fe2-642fdf5cfb9e\" type=\"checkbox\" ><label for=\"e763e140-fb34-4973-9fe2-642fdf5cfb9e\" class=\"sk-toggleable__label sk-toggleable__label-arrow\">ordinal</label><div class=\"sk-toggleable__content\"><pre>[&#x27;age_group&#x27;, &#x27;education&#x27;]</pre></div></div></div><div class=\"sk-serial\"><div class=\"sk-item\"><div class=\"sk-estimator sk-toggleable\"><input class=\"sk-toggleable__control sk-hidden--visually\" id=\"5519c47a-820c-476a-9df1-eae80ce8c7fd\" type=\"checkbox\" ><label for=\"5519c47a-820c-476a-9df1-eae80ce8c7fd\" class=\"sk-toggleable__label sk-toggleable__label-arrow\">OrdinalEncoder</label><div class=\"sk-toggleable__content\"><pre>OrdinalEncoder(categories=[[&#x27;18 - 34 Years&#x27;, &#x27;35 - 44 Years&#x27;, &#x27;45 - 54 Years&#x27;,\n",
       "                            &#x27;55 - 64 Years&#x27;, &#x27;65+ Years&#x27;],\n",
       "                           [&#x27;&lt; 12 Years&#x27;, &#x27;12 Years&#x27;, &#x27;Some College&#x27;,\n",
       "                            &#x27;College Graduate&#x27;]],\n",
       "               handle_unknown=&#x27;use_encoded_value&#x27;, unknown_value=-1)</pre></div></div></div></div></div></div></div></div><div class=\"sk-item sk-dashed-wrapped\"><div class=\"sk-label-container\"><div class=\"sk-label sk-toggleable\"><input class=\"sk-toggleable__control sk-hidden--visually\" id=\"aa87efb7-ce06-43e3-b627-8682d1a67630\" type=\"checkbox\" ><label for=\"aa87efb7-ce06-43e3-b627-8682d1a67630\" class=\"sk-toggleable__label sk-toggleable__label-arrow\">classifier: MultiOutputClassifier</label><div class=\"sk-toggleable__content\"><pre>MultiOutputClassifier(estimator=LogisticRegression(max_iter=200, solver=&#x27;saga&#x27;,\n",
       "                                                   tol=0.001))</pre></div></div></div><div class=\"sk-parallel\"><div class=\"sk-parallel-item\"><div class=\"sk-item\"><div class=\"sk-serial\"><div class=\"sk-item\"><div class=\"sk-estimator sk-toggleable\"><input class=\"sk-toggleable__control sk-hidden--visually\" id=\"59e4d311-d988-43d5-8fff-2cf63b90752a\" type=\"checkbox\" ><label for=\"59e4d311-d988-43d5-8fff-2cf63b90752a\" class=\"sk-toggleable__label sk-toggleable__label-arrow\">LogisticRegression</label><div class=\"sk-toggleable__content\"><pre>LogisticRegression(max_iter=200, solver=&#x27;saga&#x27;, tol=0.001)</pre></div></div></div></div></div></div></div></div></div></div></div></div>"
      ],
      "text/plain": [
       "Pipeline(steps=[('preprocessor',\n",
       "                 ColumnTransformer(transformers=[('numeric',\n",
       "                                                  Pipeline(steps=[('standard_scaler',\n",
       "                                                                   StandardScaler()),\n",
       "                                                                  ('simple_imputer',\n",
       "                                                                   SimpleImputer())]),\n",
       "                                                  Index(['h1n1_concern', 'h1n1_knowledge', 'behavioral_antiviral_meds',\n",
       "       'behavioral_avoidance', 'behavioral_face_mask', 'behavioral_wash_hands',\n",
       "       'behavioral_large_gatherings', 'behavioral_outsid...\n",
       "                                                  OrdinalEncoder(categories=[['18 '\n",
       "                                                                              '- '\n",
       "                                                                              '34 '\n",
       "                                                                              'Years',\n",
       "                                                                              '35 '\n",
       "                                                                              '- '\n",
       "                                                                              '44 '\n",
       "                                                                              'Years',\n",
       "                                                                              '45 '\n",
       "                                                                              '- '\n",
       "                                                                              '54 '\n",
       "                                                                              'Years',\n",
       "                                                                              '55 '\n",
       "                                                                              '- '\n",
       "                                                                              '64 '\n",
       "                                                                              'Years',\n",
       "                                                                              '65+ '\n",
       "                                                                              'Years'],\n",
       "                                                                             ['< '\n",
       "                                                                              '12 '\n",
       "                                                                              'Years',\n",
       "                                                                              '12 '\n",
       "                                                                              'Years',\n",
       "                                                                              'Some '\n",
       "                                                                              'College',\n",
       "                                                                              'College '\n",
       "                                                                              'Graduate']],\n",
       "                                                                 handle_unknown='use_encoded_value',\n",
       "                                                                 unknown_value=-1),\n",
       "                                                  ['age_group',\n",
       "                                                   'education'])])),\n",
       "                ('classifier',\n",
       "                 MultiOutputClassifier(estimator=LogisticRegression(max_iter=200,\n",
       "                                                                    solver='saga',\n",
       "                                                                    tol=0.001)))])"
      ]
     },
     "execution_count": 67,
     "metadata": {},
     "output_type": "execute_result"
    }
   ],
   "source": [
    "# Solution\n",
    "\n",
    "model_ord.fit(features_df, labels_df)"
   ]
  },
  {
   "cell_type": "code",
   "execution_count": 68,
   "id": "763029dd",
   "metadata": {},
   "outputs": [
    {
     "data": {
      "text/plain": [
       "0.8466571076123897"
      ]
     },
     "execution_count": 68,
     "metadata": {},
     "output_type": "execute_result"
    }
   ],
   "source": [
    "# Solution\n",
    "\n",
    "# On the training data, the model with ordinal features is no better.\n",
    "# I haven't tried it on the test data.\n",
    "\n",
    "score_model(model_ord, features_df, labels_df)"
   ]
  }
 ],
 "metadata": {
  "celltoolbar": "Tags",
  "kernelspec": {
   "display_name": "Python 3 (ipykernel)",
   "language": "python",
   "name": "python3"
  },
  "language_info": {
   "codemirror_mode": {
    "name": "ipython",
    "version": 3
   },
   "file_extension": ".py",
   "mimetype": "text/x-python",
   "name": "python",
   "nbconvert_exporter": "python",
   "pygments_lexer": "ipython3",
   "version": "3.7.13"
  }
 },
 "nbformat": 4,
 "nbformat_minor": 5
}
