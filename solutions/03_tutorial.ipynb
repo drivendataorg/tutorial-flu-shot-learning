{
 "cells": [
  {
   "cell_type": "markdown",
   "id": "616a8143",
   "metadata": {},
   "source": [
    "# Lesson 3\n",
    "\n",
    "So far we have only used one classification algorithm, logistic regression.\n",
    "Now let's see if we can do better with a different algorithm called a \"random forest\".\n",
    "\n",
    "First, let's download the data and import the libraries we'll need."
   ]
  },
  {
   "cell_type": "code",
   "execution_count": 1,
   "id": "735ec0e5",
   "metadata": {},
   "outputs": [],
   "source": [
    "import os\n",
    "import sys\n",
    "import numpy as np\n",
    "import pandas as pd\n",
    "import matplotlib.pyplot as plt"
   ]
  },
  {
   "cell_type": "code",
   "execution_count": 2,
   "id": "5d56c6b2",
   "metadata": {},
   "outputs": [],
   "source": [
    "if not os.path.exists(\"utils.py\"):\n",
    "    !wget https://raw.githubusercontent.com/drivendataorg/tutorial-flu-shot-learning/main/utils.py"
   ]
  },
  {
   "cell_type": "code",
   "execution_count": 3,
   "id": "dfe1a5ff",
   "metadata": {},
   "outputs": [],
   "source": [
    "from utils import download_data_files\n",
    "\n",
    "download_data_files()"
   ]
  },
  {
   "cell_type": "markdown",
   "id": "96f0c1c2",
   "metadata": {},
   "source": [
    "And we'll read the data into pandas DataFrames."
   ]
  },
  {
   "cell_type": "code",
   "execution_count": 4,
   "id": "25a50738",
   "metadata": {},
   "outputs": [],
   "source": [
    "labels_df = pd.read_csv(\"training_set_labels.csv\", index_col=\"respondent_id\")\n",
    "features_df = pd.read_csv(\"training_set_features.csv\", index_col=\"respondent_id\")\n",
    "test_features_df = pd.read_csv(\"test_set_features.csv\", index_col=\"respondent_id\")"
   ]
  },
  {
   "cell_type": "markdown",
   "id": "a27a6313",
   "metadata": {},
   "source": [
    "Now we're ready."
   ]
  },
  {
   "cell_type": "code",
   "execution_count": 5,
   "id": "a2738e2f",
   "metadata": {
    "tags": [
     "remove-cell"
    ]
   },
   "outputs": [],
   "source": [
    "# this won't be necessary in later versions\n",
    "from sklearn import set_config\n",
    "set_config(display=\"diagram\")"
   ]
  },
  {
   "cell_type": "markdown",
   "id": "366235e2",
   "metadata": {},
   "source": [
    "## Random forest classification\n",
    "\n",
    "A random forest is an example of an \"ensemble algorithm\", which means that instead of fitting one large model, it fits many small models and aggregates their results.\n",
    "The small models tend to be simple, and each one is not very accurate by itself.\n",
    "But combining many bad models turns out to be much more effective than you might expect.\n",
    "\n",
    "In a random forest, the small models are decision trees (so a forest is a collection of trees -- get it?).\n",
    "The simplest decision tree has a single branch, which is like an `if` statement based on a single feature.\n",
    "For example, if we choose `opinion_h1n1_risk` as a feature, we could look at the fraction of people who got the H1N1 vaccine at each level of perceived risk:"
   ]
  },
  {
   "cell_type": "code",
   "execution_count": 6,
   "id": "389448da",
   "metadata": {},
   "outputs": [
    {
     "data": {
      "text/html": [
       "<div>\n",
       "<style scoped>\n",
       "    .dataframe tbody tr th:only-of-type {\n",
       "        vertical-align: middle;\n",
       "    }\n",
       "\n",
       "    .dataframe tbody tr th {\n",
       "        vertical-align: top;\n",
       "    }\n",
       "\n",
       "    .dataframe thead th {\n",
       "        text-align: right;\n",
       "    }\n",
       "</style>\n",
       "<table border=\"1\" class=\"dataframe\">\n",
       "  <thead>\n",
       "    <tr style=\"text-align: right;\">\n",
       "      <th>opinion_h1n1_risk</th>\n",
       "      <th>1.0</th>\n",
       "      <th>2.0</th>\n",
       "      <th>3.0</th>\n",
       "      <th>4.0</th>\n",
       "      <th>5.0</th>\n",
       "    </tr>\n",
       "    <tr>\n",
       "      <th>h1n1_vaccine</th>\n",
       "      <th></th>\n",
       "      <th></th>\n",
       "      <th></th>\n",
       "      <th></th>\n",
       "      <th></th>\n",
       "    </tr>\n",
       "  </thead>\n",
       "  <tbody>\n",
       "    <tr>\n",
       "      <th>0</th>\n",
       "      <td>91.165991</td>\n",
       "      <td>83.203952</td>\n",
       "      <td>82.63205</td>\n",
       "      <td>60.789766</td>\n",
       "      <td>48.914286</td>\n",
       "    </tr>\n",
       "    <tr>\n",
       "      <th>1</th>\n",
       "      <td>8.834009</td>\n",
       "      <td>16.796048</td>\n",
       "      <td>17.36795</td>\n",
       "      <td>39.210234</td>\n",
       "      <td>51.085714</td>\n",
       "    </tr>\n",
       "  </tbody>\n",
       "</table>\n",
       "</div>"
      ],
      "text/plain": [
       "opinion_h1n1_risk        1.0        2.0       3.0        4.0        5.0\n",
       "h1n1_vaccine                                                           \n",
       "0                  91.165991  83.203952  82.63205  60.789766  48.914286\n",
       "1                   8.834009  16.796048  17.36795  39.210234  51.085714"
      ]
     },
     "execution_count": 6,
     "metadata": {},
     "output_type": "execute_result"
    }
   ],
   "source": [
    "from utils import crosstab\n",
    "\n",
    "crosstab(labels_df[\"h1n1_vaccine\"], features_df[\"opinion_h1n1_risk\"])"
   ]
  },
  {
   "cell_type": "markdown",
   "id": "8275a829",
   "metadata": {},
   "source": [
    "Based on these results, we might create a branch that checks whether `opinion_h1n1_risk` is greater than 4: if so, it predicts that the person was vaccined; otherwise it predicts they were not.\n",
    "Decision trees can contain multiple branches, based on additional features.\n",
    "\n",
    "In a random forest, each tree is based on a random subset of the training data and a random subset of the features.\n",
    "So we can quickly generate a large number of different trees, each of which learns different relationships between the features and the labels.\n",
    "\n",
    "Now suppose we have 100 trees and we want to generate a prediction. For a given person, we use each tree to make a prediction, then aggregate the predictions.\n",
    "A simple way to aggregate is voting: if 70 out of 100 trees predict that a particular person was vaccinated, the predicted probability would be 70%.\n",
    "\n",
    "Scikit-learn provides `RandomForestClassifier`, which implements a random forest algorithm.\n",
    "We can use it in a `MultiOutputClassifier`, just as we did with `LogisticRegression`."
   ]
  },
  {
   "cell_type": "code",
   "execution_count": 7,
   "id": "06911cb7",
   "metadata": {},
   "outputs": [],
   "source": [
    "from sklearn.multioutput import MultiOutputClassifier\n",
    "from sklearn.ensemble import RandomForestClassifier\n",
    "\n",
    "classifier = MultiOutputClassifier(estimator=RandomForestClassifier())"
   ]
  },
  {
   "cell_type": "markdown",
   "id": "801ca72d",
   "metadata": {},
   "source": [
    "The rest of the pipeline is the same as in the previous lesson."
   ]
  },
  {
   "cell_type": "code",
   "execution_count": 8,
   "id": "1030440f",
   "metadata": {},
   "outputs": [],
   "source": [
    "from sklearn.pipeline import Pipeline\n",
    "from sklearn.preprocessing import StandardScaler\n",
    "from sklearn.impute import SimpleImputer\n",
    "\n",
    "numeric_pipeline = Pipeline(\n",
    "    [\n",
    "        (\"standard_scaler\", StandardScaler()),\n",
    "        (\"simple_imputer\", SimpleImputer(strategy=\"mean\")),\n",
    "    ]\n",
    ")"
   ]
  },
  {
   "cell_type": "code",
   "execution_count": 9,
   "id": "dea59a6c",
   "metadata": {},
   "outputs": [],
   "source": [
    "numeric_features_df = features_df.select_dtypes(include=np.number)\n",
    "numeric_cols = numeric_features_df.columns"
   ]
  },
  {
   "cell_type": "code",
   "execution_count": 10,
   "id": "47834e76",
   "metadata": {},
   "outputs": [],
   "source": [
    "categoric_features_df = features_df.select_dtypes(include=np.object_)\n",
    "categoric_cols = categoric_features_df.columns"
   ]
  },
  {
   "cell_type": "code",
   "execution_count": 11,
   "id": "4f928e52",
   "metadata": {},
   "outputs": [],
   "source": [
    "from sklearn.compose import ColumnTransformer\n",
    "from sklearn.preprocessing import OneHotEncoder\n",
    "\n",
    "preprocessor = ColumnTransformer(\n",
    "    transformers=[\n",
    "        (\"numeric\", numeric_pipeline, numeric_cols),\n",
    "        (\"categoric\", OneHotEncoder(), categoric_cols),\n",
    "    ]\n",
    ")"
   ]
  },
  {
   "cell_type": "code",
   "execution_count": 12,
   "id": "5bc231fc",
   "metadata": {},
   "outputs": [],
   "source": [
    "model6 = Pipeline(\n",
    "    [\n",
    "        (\"preprocessor\", preprocessor),\n",
    "        (\"classifier\", classifier),\n",
    "    ]\n",
    ")"
   ]
  },
  {
   "cell_type": "markdown",
   "id": "4fee8020",
   "metadata": {},
   "source": [
    "Now we can fit the model with the training data."
   ]
  },
  {
   "cell_type": "code",
   "execution_count": 13,
   "id": "0f512c7b",
   "metadata": {},
   "outputs": [
    {
     "data": {
      "text/html": [
       "<style>#sk-c7276080-f47f-46d4-8983-39db244e094a {color: black;background-color: white;}#sk-c7276080-f47f-46d4-8983-39db244e094a pre{padding: 0;}#sk-c7276080-f47f-46d4-8983-39db244e094a div.sk-toggleable {background-color: white;}#sk-c7276080-f47f-46d4-8983-39db244e094a label.sk-toggleable__label {cursor: pointer;display: block;width: 100%;margin-bottom: 0;padding: 0.3em;box-sizing: border-box;text-align: center;}#sk-c7276080-f47f-46d4-8983-39db244e094a label.sk-toggleable__label-arrow:before {content: \"▸\";float: left;margin-right: 0.25em;color: #696969;}#sk-c7276080-f47f-46d4-8983-39db244e094a label.sk-toggleable__label-arrow:hover:before {color: black;}#sk-c7276080-f47f-46d4-8983-39db244e094a div.sk-estimator:hover label.sk-toggleable__label-arrow:before {color: black;}#sk-c7276080-f47f-46d4-8983-39db244e094a div.sk-toggleable__content {max-height: 0;max-width: 0;overflow: hidden;text-align: left;background-color: #f0f8ff;}#sk-c7276080-f47f-46d4-8983-39db244e094a div.sk-toggleable__content pre {margin: 0.2em;color: black;border-radius: 0.25em;background-color: #f0f8ff;}#sk-c7276080-f47f-46d4-8983-39db244e094a input.sk-toggleable__control:checked~div.sk-toggleable__content {max-height: 200px;max-width: 100%;overflow: auto;}#sk-c7276080-f47f-46d4-8983-39db244e094a input.sk-toggleable__control:checked~label.sk-toggleable__label-arrow:before {content: \"▾\";}#sk-c7276080-f47f-46d4-8983-39db244e094a div.sk-estimator input.sk-toggleable__control:checked~label.sk-toggleable__label {background-color: #d4ebff;}#sk-c7276080-f47f-46d4-8983-39db244e094a div.sk-label input.sk-toggleable__control:checked~label.sk-toggleable__label {background-color: #d4ebff;}#sk-c7276080-f47f-46d4-8983-39db244e094a input.sk-hidden--visually {border: 0;clip: rect(1px 1px 1px 1px);clip: rect(1px, 1px, 1px, 1px);height: 1px;margin: -1px;overflow: hidden;padding: 0;position: absolute;width: 1px;}#sk-c7276080-f47f-46d4-8983-39db244e094a div.sk-estimator {font-family: monospace;background-color: #f0f8ff;border: 1px dotted black;border-radius: 0.25em;box-sizing: border-box;margin-bottom: 0.5em;}#sk-c7276080-f47f-46d4-8983-39db244e094a div.sk-estimator:hover {background-color: #d4ebff;}#sk-c7276080-f47f-46d4-8983-39db244e094a div.sk-parallel-item::after {content: \"\";width: 100%;border-bottom: 1px solid gray;flex-grow: 1;}#sk-c7276080-f47f-46d4-8983-39db244e094a div.sk-label:hover label.sk-toggleable__label {background-color: #d4ebff;}#sk-c7276080-f47f-46d4-8983-39db244e094a div.sk-serial::before {content: \"\";position: absolute;border-left: 1px solid gray;box-sizing: border-box;top: 2em;bottom: 0;left: 50%;}#sk-c7276080-f47f-46d4-8983-39db244e094a div.sk-serial {display: flex;flex-direction: column;align-items: center;background-color: white;padding-right: 0.2em;padding-left: 0.2em;}#sk-c7276080-f47f-46d4-8983-39db244e094a div.sk-item {z-index: 1;}#sk-c7276080-f47f-46d4-8983-39db244e094a div.sk-parallel {display: flex;align-items: stretch;justify-content: center;background-color: white;}#sk-c7276080-f47f-46d4-8983-39db244e094a div.sk-parallel::before {content: \"\";position: absolute;border-left: 1px solid gray;box-sizing: border-box;top: 2em;bottom: 0;left: 50%;}#sk-c7276080-f47f-46d4-8983-39db244e094a div.sk-parallel-item {display: flex;flex-direction: column;position: relative;background-color: white;}#sk-c7276080-f47f-46d4-8983-39db244e094a div.sk-parallel-item:first-child::after {align-self: flex-end;width: 50%;}#sk-c7276080-f47f-46d4-8983-39db244e094a div.sk-parallel-item:last-child::after {align-self: flex-start;width: 50%;}#sk-c7276080-f47f-46d4-8983-39db244e094a div.sk-parallel-item:only-child::after {width: 0;}#sk-c7276080-f47f-46d4-8983-39db244e094a div.sk-dashed-wrapped {border: 1px dashed gray;margin: 0 0.4em 0.5em 0.4em;box-sizing: border-box;padding-bottom: 0.4em;background-color: white;position: relative;}#sk-c7276080-f47f-46d4-8983-39db244e094a div.sk-label label {font-family: monospace;font-weight: bold;background-color: white;display: inline-block;line-height: 1.2em;}#sk-c7276080-f47f-46d4-8983-39db244e094a div.sk-label-container {position: relative;z-index: 2;text-align: center;}#sk-c7276080-f47f-46d4-8983-39db244e094a div.sk-container {/* jupyter's `normalize.less` sets `[hidden] { display: none; }` but bootstrap.min.css set `[hidden] { display: none !important; }` so we also need the `!important` here to be able to override the default hidden behavior on the sphinx rendered scikit-learn.org. See: https://github.com/scikit-learn/scikit-learn/issues/21755 */display: inline-block !important;position: relative;}#sk-c7276080-f47f-46d4-8983-39db244e094a div.sk-text-repr-fallback {display: none;}</style><div id=\"sk-c7276080-f47f-46d4-8983-39db244e094a\" class=\"sk-top-container\"><div class=\"sk-text-repr-fallback\"><pre>Pipeline(steps=[(&#x27;preprocessor&#x27;,\n",
       "                 ColumnTransformer(transformers=[(&#x27;numeric&#x27;,\n",
       "                                                  Pipeline(steps=[(&#x27;standard_scaler&#x27;,\n",
       "                                                                   StandardScaler()),\n",
       "                                                                  (&#x27;simple_imputer&#x27;,\n",
       "                                                                   SimpleImputer())]),\n",
       "                                                  Index([&#x27;h1n1_concern&#x27;, &#x27;h1n1_knowledge&#x27;, &#x27;behavioral_antiviral_meds&#x27;,\n",
       "       &#x27;behavioral_avoidance&#x27;, &#x27;behavioral_face_mask&#x27;, &#x27;behavioral_wash_hands&#x27;,\n",
       "       &#x27;behavioral_large_gatherings&#x27;, &#x27;behavioral_outsid...\n",
       "       &#x27;household_children&#x27;],\n",
       "      dtype=&#x27;object&#x27;)),\n",
       "                                                 (&#x27;categoric&#x27;, OneHotEncoder(),\n",
       "                                                  Index([&#x27;age_group&#x27;, &#x27;education&#x27;, &#x27;race&#x27;, &#x27;sex&#x27;, &#x27;income_poverty&#x27;,\n",
       "       &#x27;marital_status&#x27;, &#x27;rent_or_own&#x27;, &#x27;employment_status&#x27;, &#x27;hhs_geo_region&#x27;,\n",
       "       &#x27;census_msa&#x27;, &#x27;employment_industry&#x27;, &#x27;employment_occupation&#x27;],\n",
       "      dtype=&#x27;object&#x27;))])),\n",
       "                (&#x27;classifier&#x27;,\n",
       "                 MultiOutputClassifier(estimator=RandomForestClassifier()))])</pre><b>Please rerun this cell to show the HTML repr or trust the notebook.</b></div><div class=\"sk-container\" hidden><div class=\"sk-item sk-dashed-wrapped\"><div class=\"sk-label-container\"><div class=\"sk-label sk-toggleable\"><input class=\"sk-toggleable__control sk-hidden--visually\" id=\"dfb86a3d-ea4b-4887-8700-09409fc6dc7c\" type=\"checkbox\" ><label for=\"dfb86a3d-ea4b-4887-8700-09409fc6dc7c\" class=\"sk-toggleable__label sk-toggleable__label-arrow\">Pipeline</label><div class=\"sk-toggleable__content\"><pre>Pipeline(steps=[(&#x27;preprocessor&#x27;,\n",
       "                 ColumnTransformer(transformers=[(&#x27;numeric&#x27;,\n",
       "                                                  Pipeline(steps=[(&#x27;standard_scaler&#x27;,\n",
       "                                                                   StandardScaler()),\n",
       "                                                                  (&#x27;simple_imputer&#x27;,\n",
       "                                                                   SimpleImputer())]),\n",
       "                                                  Index([&#x27;h1n1_concern&#x27;, &#x27;h1n1_knowledge&#x27;, &#x27;behavioral_antiviral_meds&#x27;,\n",
       "       &#x27;behavioral_avoidance&#x27;, &#x27;behavioral_face_mask&#x27;, &#x27;behavioral_wash_hands&#x27;,\n",
       "       &#x27;behavioral_large_gatherings&#x27;, &#x27;behavioral_outsid...\n",
       "       &#x27;household_children&#x27;],\n",
       "      dtype=&#x27;object&#x27;)),\n",
       "                                                 (&#x27;categoric&#x27;, OneHotEncoder(),\n",
       "                                                  Index([&#x27;age_group&#x27;, &#x27;education&#x27;, &#x27;race&#x27;, &#x27;sex&#x27;, &#x27;income_poverty&#x27;,\n",
       "       &#x27;marital_status&#x27;, &#x27;rent_or_own&#x27;, &#x27;employment_status&#x27;, &#x27;hhs_geo_region&#x27;,\n",
       "       &#x27;census_msa&#x27;, &#x27;employment_industry&#x27;, &#x27;employment_occupation&#x27;],\n",
       "      dtype=&#x27;object&#x27;))])),\n",
       "                (&#x27;classifier&#x27;,\n",
       "                 MultiOutputClassifier(estimator=RandomForestClassifier()))])</pre></div></div></div><div class=\"sk-serial\"><div class=\"sk-item sk-dashed-wrapped\"><div class=\"sk-label-container\"><div class=\"sk-label sk-toggleable\"><input class=\"sk-toggleable__control sk-hidden--visually\" id=\"e87dbbb8-d167-4ac9-a5cb-2dba15d40c7d\" type=\"checkbox\" ><label for=\"e87dbbb8-d167-4ac9-a5cb-2dba15d40c7d\" class=\"sk-toggleable__label sk-toggleable__label-arrow\">preprocessor: ColumnTransformer</label><div class=\"sk-toggleable__content\"><pre>ColumnTransformer(transformers=[(&#x27;numeric&#x27;,\n",
       "                                 Pipeline(steps=[(&#x27;standard_scaler&#x27;,\n",
       "                                                  StandardScaler()),\n",
       "                                                 (&#x27;simple_imputer&#x27;,\n",
       "                                                  SimpleImputer())]),\n",
       "                                 Index([&#x27;h1n1_concern&#x27;, &#x27;h1n1_knowledge&#x27;, &#x27;behavioral_antiviral_meds&#x27;,\n",
       "       &#x27;behavioral_avoidance&#x27;, &#x27;behavioral_face_mask&#x27;, &#x27;behavioral_wash_hands&#x27;,\n",
       "       &#x27;behavioral_large_gatherings&#x27;, &#x27;behavioral_outside_home&#x27;,\n",
       "       &#x27;behavioral_touch_face&#x27;,...\n",
       "       &#x27;opinion_h1n1_sick_from_vacc&#x27;, &#x27;opinion_seas_vacc_effective&#x27;,\n",
       "       &#x27;opinion_seas_risk&#x27;, &#x27;opinion_seas_sick_from_vacc&#x27;, &#x27;household_adults&#x27;,\n",
       "       &#x27;household_children&#x27;],\n",
       "      dtype=&#x27;object&#x27;)),\n",
       "                                (&#x27;categoric&#x27;, OneHotEncoder(),\n",
       "                                 Index([&#x27;age_group&#x27;, &#x27;education&#x27;, &#x27;race&#x27;, &#x27;sex&#x27;, &#x27;income_poverty&#x27;,\n",
       "       &#x27;marital_status&#x27;, &#x27;rent_or_own&#x27;, &#x27;employment_status&#x27;, &#x27;hhs_geo_region&#x27;,\n",
       "       &#x27;census_msa&#x27;, &#x27;employment_industry&#x27;, &#x27;employment_occupation&#x27;],\n",
       "      dtype=&#x27;object&#x27;))])</pre></div></div></div><div class=\"sk-parallel\"><div class=\"sk-parallel-item\"><div class=\"sk-item\"><div class=\"sk-label-container\"><div class=\"sk-label sk-toggleable\"><input class=\"sk-toggleable__control sk-hidden--visually\" id=\"bc8e0f01-8be8-4571-9288-412a4d88845a\" type=\"checkbox\" ><label for=\"bc8e0f01-8be8-4571-9288-412a4d88845a\" class=\"sk-toggleable__label sk-toggleable__label-arrow\">numeric</label><div class=\"sk-toggleable__content\"><pre>Index([&#x27;h1n1_concern&#x27;, &#x27;h1n1_knowledge&#x27;, &#x27;behavioral_antiviral_meds&#x27;,\n",
       "       &#x27;behavioral_avoidance&#x27;, &#x27;behavioral_face_mask&#x27;, &#x27;behavioral_wash_hands&#x27;,\n",
       "       &#x27;behavioral_large_gatherings&#x27;, &#x27;behavioral_outside_home&#x27;,\n",
       "       &#x27;behavioral_touch_face&#x27;, &#x27;doctor_recc_h1n1&#x27;, &#x27;doctor_recc_seasonal&#x27;,\n",
       "       &#x27;chronic_med_condition&#x27;, &#x27;child_under_6_months&#x27;, &#x27;health_worker&#x27;,\n",
       "       &#x27;health_insurance&#x27;, &#x27;opinion_h1n1_vacc_effective&#x27;, &#x27;opinion_h1n1_risk&#x27;,\n",
       "       &#x27;opinion_h1n1_sick_from_vacc&#x27;, &#x27;opinion_seas_vacc_effective&#x27;,\n",
       "       &#x27;opinion_seas_risk&#x27;, &#x27;opinion_seas_sick_from_vacc&#x27;, &#x27;household_adults&#x27;,\n",
       "       &#x27;household_children&#x27;],\n",
       "      dtype=&#x27;object&#x27;)</pre></div></div></div><div class=\"sk-serial\"><div class=\"sk-item\"><div class=\"sk-serial\"><div class=\"sk-item\"><div class=\"sk-estimator sk-toggleable\"><input class=\"sk-toggleable__control sk-hidden--visually\" id=\"a5c2cb73-6a30-46af-9934-35737f893ca0\" type=\"checkbox\" ><label for=\"a5c2cb73-6a30-46af-9934-35737f893ca0\" class=\"sk-toggleable__label sk-toggleable__label-arrow\">StandardScaler</label><div class=\"sk-toggleable__content\"><pre>StandardScaler()</pre></div></div></div><div class=\"sk-item\"><div class=\"sk-estimator sk-toggleable\"><input class=\"sk-toggleable__control sk-hidden--visually\" id=\"745a48f7-3437-4837-8a0d-facdd2526e8a\" type=\"checkbox\" ><label for=\"745a48f7-3437-4837-8a0d-facdd2526e8a\" class=\"sk-toggleable__label sk-toggleable__label-arrow\">SimpleImputer</label><div class=\"sk-toggleable__content\"><pre>SimpleImputer()</pre></div></div></div></div></div></div></div></div><div class=\"sk-parallel-item\"><div class=\"sk-item\"><div class=\"sk-label-container\"><div class=\"sk-label sk-toggleable\"><input class=\"sk-toggleable__control sk-hidden--visually\" id=\"5a5de9d5-c4fc-4e7f-b7b0-342cccc65f20\" type=\"checkbox\" ><label for=\"5a5de9d5-c4fc-4e7f-b7b0-342cccc65f20\" class=\"sk-toggleable__label sk-toggleable__label-arrow\">categoric</label><div class=\"sk-toggleable__content\"><pre>Index([&#x27;age_group&#x27;, &#x27;education&#x27;, &#x27;race&#x27;, &#x27;sex&#x27;, &#x27;income_poverty&#x27;,\n",
       "       &#x27;marital_status&#x27;, &#x27;rent_or_own&#x27;, &#x27;employment_status&#x27;, &#x27;hhs_geo_region&#x27;,\n",
       "       &#x27;census_msa&#x27;, &#x27;employment_industry&#x27;, &#x27;employment_occupation&#x27;],\n",
       "      dtype=&#x27;object&#x27;)</pre></div></div></div><div class=\"sk-serial\"><div class=\"sk-item\"><div class=\"sk-estimator sk-toggleable\"><input class=\"sk-toggleable__control sk-hidden--visually\" id=\"f5f0468e-f201-41ff-8320-1f8ee94f12fa\" type=\"checkbox\" ><label for=\"f5f0468e-f201-41ff-8320-1f8ee94f12fa\" class=\"sk-toggleable__label sk-toggleable__label-arrow\">OneHotEncoder</label><div class=\"sk-toggleable__content\"><pre>OneHotEncoder()</pre></div></div></div></div></div></div></div></div><div class=\"sk-item sk-dashed-wrapped\"><div class=\"sk-label-container\"><div class=\"sk-label sk-toggleable\"><input class=\"sk-toggleable__control sk-hidden--visually\" id=\"d222d712-ba4d-4718-b3af-3257f525791c\" type=\"checkbox\" ><label for=\"d222d712-ba4d-4718-b3af-3257f525791c\" class=\"sk-toggleable__label sk-toggleable__label-arrow\">classifier: MultiOutputClassifier</label><div class=\"sk-toggleable__content\"><pre>MultiOutputClassifier(estimator=RandomForestClassifier())</pre></div></div></div><div class=\"sk-parallel\"><div class=\"sk-parallel-item\"><div class=\"sk-item\"><div class=\"sk-serial\"><div class=\"sk-item\"><div class=\"sk-estimator sk-toggleable\"><input class=\"sk-toggleable__control sk-hidden--visually\" id=\"5f2b41a1-13de-48e8-a7e0-e7a5f725246c\" type=\"checkbox\" ><label for=\"5f2b41a1-13de-48e8-a7e0-e7a5f725246c\" class=\"sk-toggleable__label sk-toggleable__label-arrow\">RandomForestClassifier</label><div class=\"sk-toggleable__content\"><pre>RandomForestClassifier()</pre></div></div></div></div></div></div></div></div></div></div></div></div>"
      ],
      "text/plain": [
       "Pipeline(steps=[('preprocessor',\n",
       "                 ColumnTransformer(transformers=[('numeric',\n",
       "                                                  Pipeline(steps=[('standard_scaler',\n",
       "                                                                   StandardScaler()),\n",
       "                                                                  ('simple_imputer',\n",
       "                                                                   SimpleImputer())]),\n",
       "                                                  Index(['h1n1_concern', 'h1n1_knowledge', 'behavioral_antiviral_meds',\n",
       "       'behavioral_avoidance', 'behavioral_face_mask', 'behavioral_wash_hands',\n",
       "       'behavioral_large_gatherings', 'behavioral_outsid...\n",
       "       'household_children'],\n",
       "      dtype='object')),\n",
       "                                                 ('categoric', OneHotEncoder(),\n",
       "                                                  Index(['age_group', 'education', 'race', 'sex', 'income_poverty',\n",
       "       'marital_status', 'rent_or_own', 'employment_status', 'hhs_geo_region',\n",
       "       'census_msa', 'employment_industry', 'employment_occupation'],\n",
       "      dtype='object'))])),\n",
       "                ('classifier',\n",
       "                 MultiOutputClassifier(estimator=RandomForestClassifier()))])"
      ]
     },
     "execution_count": 13,
     "metadata": {},
     "output_type": "execute_result"
    }
   ],
   "source": [
    "model6.fit(features_df, labels_df)"
   ]
  },
  {
   "cell_type": "markdown",
   "id": "4f0c59f2",
   "metadata": {},
   "source": [
    "And let's see what happens when we test it with the training data (and the scoring function from the previous lesson)."
   ]
  },
  {
   "cell_type": "code",
   "execution_count": 14,
   "id": "49bde903",
   "metadata": {},
   "outputs": [
    {
     "data": {
      "text/plain": [
       "1.0"
      ]
     },
     "execution_count": 14,
     "metadata": {},
     "output_type": "execute_result"
    }
   ],
   "source": [
    "from utils import score_model\n",
    "\n",
    "score_model(model6, features_df, labels_df)"
   ]
  },
  {
   "cell_type": "markdown",
   "id": "6c9ee5b9",
   "metadata": {},
   "source": [
    "The model is 100% accurate!\n",
    "\n",
    "At first this sounds like good news, but it is telling us more about the algorithm than the data.\n",
    "Random forest models have a large number of coefficients; in fact, so many that they can effectively memorize the training data. So if we train and test on the same data, the accuracy seems very high.\n",
    "Then if we test on a new dataset, it is usually lower.\n",
    "\n",
    "To see how much lower, let's generate predictions on the test data and submit them on the competition site."
   ]
  },
  {
   "cell_type": "code",
   "execution_count": 15,
   "id": "4b7cf686",
   "metadata": {},
   "outputs": [],
   "source": [
    "from utils import make_submission\n",
    "\n",
    "make_submission(model6, test_features_df).to_csv(\"submission3.csv\")"
   ]
  },
  {
   "cell_type": "code",
   "execution_count": 16,
   "id": "8a611223",
   "metadata": {
    "tags": [
     "remove-cell"
    ]
   },
   "outputs": [],
   "source": [
    "if \"google.colab\" in sys.modules:\n",
    "    from google.colab import files\n",
    "    files.download(\"submission3.csv\")"
   ]
  },
  {
   "cell_type": "markdown",
   "id": "bf332299",
   "metadata": {},
   "source": [
    "The AUC score on the test data is 0.8503.\n",
    "On one hand, that's better than the logistic regression model in the previous lesson, which scored 0.8355.\n",
    "So we're moving up the leaderboard!\n",
    "\n",
    "But the score on the test data is a lot less than 1.\n",
    "That means that the model is overfit: it has learned details of the training data that don't apply to other datasets."
   ]
  },
  {
   "cell_type": "markdown",
   "id": "324cc6f4",
   "metadata": {},
   "source": [
    "## Evaluating without peeking\n",
    "\n",
    "At this point we have tried two algorithms and experimented with a few variations, like different kinds of regularization.\n",
    "There are more algorithms we could try, and many more variations.\n",
    "But as we've just seen, if we train and test a model with the same data, the score we get does not indicate how well it will do with new data.\n",
    "\n",
    "As we test new algorithms and variations, we could generate predictions, submit them on the competition site, and compute the score on the test data.\n",
    "But that would be a bad idea for several reasons, two practical and one philosophical.\n",
    "The practical reasons are:\n",
    "\n",
    "* That process is slow and hard to automate, so it would take a long time to try more than a few experiments.\n",
    "\n",
    "* We are only allowed to submit three predictions to the competition site per day.\n",
    "\n",
    "The philosophical reason is that every time we submit a prediction and get a score, we get some information about the true labels of the test data. As an extreme example, we could start with a random set of predictions, get a baseline score, and then change one prediction at a time. If the score goes up, that prediction was right; if the score goes down, it was wrong. With enough submissions, we could infer all of the true labels and get a perfect score.\n",
    "\n",
    "Even if we don't abuse the system as explicitly as that, it is nevertheless true that every submission **leaks** information about the test data.\n",
    "If we make too many submissions, we are likely to overfit the test data, and then the model will be less accurate with a new, unseen dataset."
   ]
  },
  {
   "cell_type": "markdown",
   "id": "ada687da",
   "metadata": {},
   "source": [
    "So, how can we compare algorithms and tune their parameters without overfitting?\n",
    "One option is to divide the training data into two **splits**, use one split to fit the model, and use the other to evaluate it.\n",
    "\n",
    "In this framework, instead of two datasets, training and test, we have three:\n",
    "\n",
    "* The training split, used to fit a model and find the best coefficients;\n",
    "\n",
    "* The validation split, used to tune a model and find the best parameters;\n",
    "\n",
    "* The test set, used to evaluate the model on unseen data.\n",
    "\n",
    "This framework is such a common part of machine learning practice that Scikit-learn provides functions to support it, including `train_test_split`.\n",
    "The following example shows how it works, dividing the features into `X_train` and `X_val`, and dividing the labels into `y_train` and `y_val`."
   ]
  },
  {
   "cell_type": "code",
   "execution_count": 17,
   "id": "2fa1031b",
   "metadata": {},
   "outputs": [],
   "source": [
    "from sklearn.model_selection import train_test_split\n",
    "\n",
    "X_train, X_val, y_train, y_val = train_test_split(\n",
    "    features_df,\n",
    "    labels_df,\n",
    "    test_size=0.33,\n",
    "    shuffle=True,\n",
    "    stratify=labels_df,\n",
    ")"
   ]
  },
  {
   "cell_type": "markdown",
   "id": "b17de529",
   "metadata": {},
   "source": [
    "`test_size` specifies that the test split should have 33% of the data, which means that the training split has the other 67%.\n",
    "\n",
    "`shuffle` indicates that the rows should be shuffled before splitting, which means that the resulting split is random.\n",
    "\n",
    "`stratify` indicates that the splits should be stratified; that is, the distribution of labels in each split should be the same as in `labels_df`.\n",
    "For example, we've seen that 21% of the respondents in the training data got the H1N1 vaccine."
   ]
  },
  {
   "cell_type": "code",
   "execution_count": 18,
   "id": "0774a3c5",
   "metadata": {},
   "outputs": [
    {
     "data": {
      "text/plain": [
       "0    0.787546\n",
       "1    0.212454\n",
       "Name: h1n1_vaccine, dtype: float64"
      ]
     },
     "execution_count": 18,
     "metadata": {},
     "output_type": "execute_result"
    }
   ],
   "source": [
    "labels_df[\"h1n1_vaccine\"].value_counts(normalize=True)"
   ]
  },
  {
   "cell_type": "markdown",
   "id": "6977cc79",
   "metadata": {},
   "source": [
    "If stratification was successful, the proportions should be approximately the same in the splits.\n",
    "And they are."
   ]
  },
  {
   "cell_type": "code",
   "execution_count": 19,
   "id": "ff99353b",
   "metadata": {},
   "outputs": [
    {
     "data": {
      "text/plain": [
       "0    0.787611\n",
       "1    0.212389\n",
       "Name: h1n1_vaccine, dtype: float64"
      ]
     },
     "execution_count": 19,
     "metadata": {},
     "output_type": "execute_result"
    }
   ],
   "source": [
    "y_val[\"h1n1_vaccine\"].value_counts(normalize=True)"
   ]
  },
  {
   "cell_type": "code",
   "execution_count": 20,
   "id": "6d601b83",
   "metadata": {},
   "outputs": [
    {
     "data": {
      "text/plain": [
       "0    0.787515\n",
       "1    0.212485\n",
       "Name: h1n1_vaccine, dtype: float64"
      ]
     },
     "execution_count": 20,
     "metadata": {},
     "output_type": "execute_result"
    }
   ],
   "source": [
    "y_train[\"h1n1_vaccine\"].value_counts(normalize=True)"
   ]
  },
  {
   "cell_type": "markdown",
   "id": "c2275c01",
   "metadata": {},
   "source": [
    "Stratification is generally a good idea, especially if some labels are substantially less common than others.\n",
    "\n",
    "Now we can fit the model with the just the training split, excluding the validation split."
   ]
  },
  {
   "cell_type": "code",
   "execution_count": 21,
   "id": "796e9903",
   "metadata": {},
   "outputs": [
    {
     "data": {
      "text/html": [
       "<style>#sk-e177fbb9-cc43-450d-ba19-b4cfdef74d73 {color: black;background-color: white;}#sk-e177fbb9-cc43-450d-ba19-b4cfdef74d73 pre{padding: 0;}#sk-e177fbb9-cc43-450d-ba19-b4cfdef74d73 div.sk-toggleable {background-color: white;}#sk-e177fbb9-cc43-450d-ba19-b4cfdef74d73 label.sk-toggleable__label {cursor: pointer;display: block;width: 100%;margin-bottom: 0;padding: 0.3em;box-sizing: border-box;text-align: center;}#sk-e177fbb9-cc43-450d-ba19-b4cfdef74d73 label.sk-toggleable__label-arrow:before {content: \"▸\";float: left;margin-right: 0.25em;color: #696969;}#sk-e177fbb9-cc43-450d-ba19-b4cfdef74d73 label.sk-toggleable__label-arrow:hover:before {color: black;}#sk-e177fbb9-cc43-450d-ba19-b4cfdef74d73 div.sk-estimator:hover label.sk-toggleable__label-arrow:before {color: black;}#sk-e177fbb9-cc43-450d-ba19-b4cfdef74d73 div.sk-toggleable__content {max-height: 0;max-width: 0;overflow: hidden;text-align: left;background-color: #f0f8ff;}#sk-e177fbb9-cc43-450d-ba19-b4cfdef74d73 div.sk-toggleable__content pre {margin: 0.2em;color: black;border-radius: 0.25em;background-color: #f0f8ff;}#sk-e177fbb9-cc43-450d-ba19-b4cfdef74d73 input.sk-toggleable__control:checked~div.sk-toggleable__content {max-height: 200px;max-width: 100%;overflow: auto;}#sk-e177fbb9-cc43-450d-ba19-b4cfdef74d73 input.sk-toggleable__control:checked~label.sk-toggleable__label-arrow:before {content: \"▾\";}#sk-e177fbb9-cc43-450d-ba19-b4cfdef74d73 div.sk-estimator input.sk-toggleable__control:checked~label.sk-toggleable__label {background-color: #d4ebff;}#sk-e177fbb9-cc43-450d-ba19-b4cfdef74d73 div.sk-label input.sk-toggleable__control:checked~label.sk-toggleable__label {background-color: #d4ebff;}#sk-e177fbb9-cc43-450d-ba19-b4cfdef74d73 input.sk-hidden--visually {border: 0;clip: rect(1px 1px 1px 1px);clip: rect(1px, 1px, 1px, 1px);height: 1px;margin: -1px;overflow: hidden;padding: 0;position: absolute;width: 1px;}#sk-e177fbb9-cc43-450d-ba19-b4cfdef74d73 div.sk-estimator {font-family: monospace;background-color: #f0f8ff;border: 1px dotted black;border-radius: 0.25em;box-sizing: border-box;margin-bottom: 0.5em;}#sk-e177fbb9-cc43-450d-ba19-b4cfdef74d73 div.sk-estimator:hover {background-color: #d4ebff;}#sk-e177fbb9-cc43-450d-ba19-b4cfdef74d73 div.sk-parallel-item::after {content: \"\";width: 100%;border-bottom: 1px solid gray;flex-grow: 1;}#sk-e177fbb9-cc43-450d-ba19-b4cfdef74d73 div.sk-label:hover label.sk-toggleable__label {background-color: #d4ebff;}#sk-e177fbb9-cc43-450d-ba19-b4cfdef74d73 div.sk-serial::before {content: \"\";position: absolute;border-left: 1px solid gray;box-sizing: border-box;top: 2em;bottom: 0;left: 50%;}#sk-e177fbb9-cc43-450d-ba19-b4cfdef74d73 div.sk-serial {display: flex;flex-direction: column;align-items: center;background-color: white;padding-right: 0.2em;padding-left: 0.2em;}#sk-e177fbb9-cc43-450d-ba19-b4cfdef74d73 div.sk-item {z-index: 1;}#sk-e177fbb9-cc43-450d-ba19-b4cfdef74d73 div.sk-parallel {display: flex;align-items: stretch;justify-content: center;background-color: white;}#sk-e177fbb9-cc43-450d-ba19-b4cfdef74d73 div.sk-parallel::before {content: \"\";position: absolute;border-left: 1px solid gray;box-sizing: border-box;top: 2em;bottom: 0;left: 50%;}#sk-e177fbb9-cc43-450d-ba19-b4cfdef74d73 div.sk-parallel-item {display: flex;flex-direction: column;position: relative;background-color: white;}#sk-e177fbb9-cc43-450d-ba19-b4cfdef74d73 div.sk-parallel-item:first-child::after {align-self: flex-end;width: 50%;}#sk-e177fbb9-cc43-450d-ba19-b4cfdef74d73 div.sk-parallel-item:last-child::after {align-self: flex-start;width: 50%;}#sk-e177fbb9-cc43-450d-ba19-b4cfdef74d73 div.sk-parallel-item:only-child::after {width: 0;}#sk-e177fbb9-cc43-450d-ba19-b4cfdef74d73 div.sk-dashed-wrapped {border: 1px dashed gray;margin: 0 0.4em 0.5em 0.4em;box-sizing: border-box;padding-bottom: 0.4em;background-color: white;position: relative;}#sk-e177fbb9-cc43-450d-ba19-b4cfdef74d73 div.sk-label label {font-family: monospace;font-weight: bold;background-color: white;display: inline-block;line-height: 1.2em;}#sk-e177fbb9-cc43-450d-ba19-b4cfdef74d73 div.sk-label-container {position: relative;z-index: 2;text-align: center;}#sk-e177fbb9-cc43-450d-ba19-b4cfdef74d73 div.sk-container {/* jupyter's `normalize.less` sets `[hidden] { display: none; }` but bootstrap.min.css set `[hidden] { display: none !important; }` so we also need the `!important` here to be able to override the default hidden behavior on the sphinx rendered scikit-learn.org. See: https://github.com/scikit-learn/scikit-learn/issues/21755 */display: inline-block !important;position: relative;}#sk-e177fbb9-cc43-450d-ba19-b4cfdef74d73 div.sk-text-repr-fallback {display: none;}</style><div id=\"sk-e177fbb9-cc43-450d-ba19-b4cfdef74d73\" class=\"sk-top-container\"><div class=\"sk-text-repr-fallback\"><pre>Pipeline(steps=[(&#x27;preprocessor&#x27;,\n",
       "                 ColumnTransformer(transformers=[(&#x27;numeric&#x27;,\n",
       "                                                  Pipeline(steps=[(&#x27;standard_scaler&#x27;,\n",
       "                                                                   StandardScaler()),\n",
       "                                                                  (&#x27;simple_imputer&#x27;,\n",
       "                                                                   SimpleImputer())]),\n",
       "                                                  Index([&#x27;h1n1_concern&#x27;, &#x27;h1n1_knowledge&#x27;, &#x27;behavioral_antiviral_meds&#x27;,\n",
       "       &#x27;behavioral_avoidance&#x27;, &#x27;behavioral_face_mask&#x27;, &#x27;behavioral_wash_hands&#x27;,\n",
       "       &#x27;behavioral_large_gatherings&#x27;, &#x27;behavioral_outsid...\n",
       "       &#x27;household_children&#x27;],\n",
       "      dtype=&#x27;object&#x27;)),\n",
       "                                                 (&#x27;categoric&#x27;, OneHotEncoder(),\n",
       "                                                  Index([&#x27;age_group&#x27;, &#x27;education&#x27;, &#x27;race&#x27;, &#x27;sex&#x27;, &#x27;income_poverty&#x27;,\n",
       "       &#x27;marital_status&#x27;, &#x27;rent_or_own&#x27;, &#x27;employment_status&#x27;, &#x27;hhs_geo_region&#x27;,\n",
       "       &#x27;census_msa&#x27;, &#x27;employment_industry&#x27;, &#x27;employment_occupation&#x27;],\n",
       "      dtype=&#x27;object&#x27;))])),\n",
       "                (&#x27;classifier&#x27;,\n",
       "                 MultiOutputClassifier(estimator=RandomForestClassifier()))])</pre><b>Please rerun this cell to show the HTML repr or trust the notebook.</b></div><div class=\"sk-container\" hidden><div class=\"sk-item sk-dashed-wrapped\"><div class=\"sk-label-container\"><div class=\"sk-label sk-toggleable\"><input class=\"sk-toggleable__control sk-hidden--visually\" id=\"d6fdd750-186e-4823-8d00-80485f1dc41e\" type=\"checkbox\" ><label for=\"d6fdd750-186e-4823-8d00-80485f1dc41e\" class=\"sk-toggleable__label sk-toggleable__label-arrow\">Pipeline</label><div class=\"sk-toggleable__content\"><pre>Pipeline(steps=[(&#x27;preprocessor&#x27;,\n",
       "                 ColumnTransformer(transformers=[(&#x27;numeric&#x27;,\n",
       "                                                  Pipeline(steps=[(&#x27;standard_scaler&#x27;,\n",
       "                                                                   StandardScaler()),\n",
       "                                                                  (&#x27;simple_imputer&#x27;,\n",
       "                                                                   SimpleImputer())]),\n",
       "                                                  Index([&#x27;h1n1_concern&#x27;, &#x27;h1n1_knowledge&#x27;, &#x27;behavioral_antiviral_meds&#x27;,\n",
       "       &#x27;behavioral_avoidance&#x27;, &#x27;behavioral_face_mask&#x27;, &#x27;behavioral_wash_hands&#x27;,\n",
       "       &#x27;behavioral_large_gatherings&#x27;, &#x27;behavioral_outsid...\n",
       "       &#x27;household_children&#x27;],\n",
       "      dtype=&#x27;object&#x27;)),\n",
       "                                                 (&#x27;categoric&#x27;, OneHotEncoder(),\n",
       "                                                  Index([&#x27;age_group&#x27;, &#x27;education&#x27;, &#x27;race&#x27;, &#x27;sex&#x27;, &#x27;income_poverty&#x27;,\n",
       "       &#x27;marital_status&#x27;, &#x27;rent_or_own&#x27;, &#x27;employment_status&#x27;, &#x27;hhs_geo_region&#x27;,\n",
       "       &#x27;census_msa&#x27;, &#x27;employment_industry&#x27;, &#x27;employment_occupation&#x27;],\n",
       "      dtype=&#x27;object&#x27;))])),\n",
       "                (&#x27;classifier&#x27;,\n",
       "                 MultiOutputClassifier(estimator=RandomForestClassifier()))])</pre></div></div></div><div class=\"sk-serial\"><div class=\"sk-item sk-dashed-wrapped\"><div class=\"sk-label-container\"><div class=\"sk-label sk-toggleable\"><input class=\"sk-toggleable__control sk-hidden--visually\" id=\"fbc1983e-d76b-45f2-82d0-2c260774857f\" type=\"checkbox\" ><label for=\"fbc1983e-d76b-45f2-82d0-2c260774857f\" class=\"sk-toggleable__label sk-toggleable__label-arrow\">preprocessor: ColumnTransformer</label><div class=\"sk-toggleable__content\"><pre>ColumnTransformer(transformers=[(&#x27;numeric&#x27;,\n",
       "                                 Pipeline(steps=[(&#x27;standard_scaler&#x27;,\n",
       "                                                  StandardScaler()),\n",
       "                                                 (&#x27;simple_imputer&#x27;,\n",
       "                                                  SimpleImputer())]),\n",
       "                                 Index([&#x27;h1n1_concern&#x27;, &#x27;h1n1_knowledge&#x27;, &#x27;behavioral_antiviral_meds&#x27;,\n",
       "       &#x27;behavioral_avoidance&#x27;, &#x27;behavioral_face_mask&#x27;, &#x27;behavioral_wash_hands&#x27;,\n",
       "       &#x27;behavioral_large_gatherings&#x27;, &#x27;behavioral_outside_home&#x27;,\n",
       "       &#x27;behavioral_touch_face&#x27;,...\n",
       "       &#x27;opinion_h1n1_sick_from_vacc&#x27;, &#x27;opinion_seas_vacc_effective&#x27;,\n",
       "       &#x27;opinion_seas_risk&#x27;, &#x27;opinion_seas_sick_from_vacc&#x27;, &#x27;household_adults&#x27;,\n",
       "       &#x27;household_children&#x27;],\n",
       "      dtype=&#x27;object&#x27;)),\n",
       "                                (&#x27;categoric&#x27;, OneHotEncoder(),\n",
       "                                 Index([&#x27;age_group&#x27;, &#x27;education&#x27;, &#x27;race&#x27;, &#x27;sex&#x27;, &#x27;income_poverty&#x27;,\n",
       "       &#x27;marital_status&#x27;, &#x27;rent_or_own&#x27;, &#x27;employment_status&#x27;, &#x27;hhs_geo_region&#x27;,\n",
       "       &#x27;census_msa&#x27;, &#x27;employment_industry&#x27;, &#x27;employment_occupation&#x27;],\n",
       "      dtype=&#x27;object&#x27;))])</pre></div></div></div><div class=\"sk-parallel\"><div class=\"sk-parallel-item\"><div class=\"sk-item\"><div class=\"sk-label-container\"><div class=\"sk-label sk-toggleable\"><input class=\"sk-toggleable__control sk-hidden--visually\" id=\"fd9e7afd-e950-4c67-80be-66b049c3aaf0\" type=\"checkbox\" ><label for=\"fd9e7afd-e950-4c67-80be-66b049c3aaf0\" class=\"sk-toggleable__label sk-toggleable__label-arrow\">numeric</label><div class=\"sk-toggleable__content\"><pre>Index([&#x27;h1n1_concern&#x27;, &#x27;h1n1_knowledge&#x27;, &#x27;behavioral_antiviral_meds&#x27;,\n",
       "       &#x27;behavioral_avoidance&#x27;, &#x27;behavioral_face_mask&#x27;, &#x27;behavioral_wash_hands&#x27;,\n",
       "       &#x27;behavioral_large_gatherings&#x27;, &#x27;behavioral_outside_home&#x27;,\n",
       "       &#x27;behavioral_touch_face&#x27;, &#x27;doctor_recc_h1n1&#x27;, &#x27;doctor_recc_seasonal&#x27;,\n",
       "       &#x27;chronic_med_condition&#x27;, &#x27;child_under_6_months&#x27;, &#x27;health_worker&#x27;,\n",
       "       &#x27;health_insurance&#x27;, &#x27;opinion_h1n1_vacc_effective&#x27;, &#x27;opinion_h1n1_risk&#x27;,\n",
       "       &#x27;opinion_h1n1_sick_from_vacc&#x27;, &#x27;opinion_seas_vacc_effective&#x27;,\n",
       "       &#x27;opinion_seas_risk&#x27;, &#x27;opinion_seas_sick_from_vacc&#x27;, &#x27;household_adults&#x27;,\n",
       "       &#x27;household_children&#x27;],\n",
       "      dtype=&#x27;object&#x27;)</pre></div></div></div><div class=\"sk-serial\"><div class=\"sk-item\"><div class=\"sk-serial\"><div class=\"sk-item\"><div class=\"sk-estimator sk-toggleable\"><input class=\"sk-toggleable__control sk-hidden--visually\" id=\"78c4f8b8-b4d0-49de-845a-29123d01a8a0\" type=\"checkbox\" ><label for=\"78c4f8b8-b4d0-49de-845a-29123d01a8a0\" class=\"sk-toggleable__label sk-toggleable__label-arrow\">StandardScaler</label><div class=\"sk-toggleable__content\"><pre>StandardScaler()</pre></div></div></div><div class=\"sk-item\"><div class=\"sk-estimator sk-toggleable\"><input class=\"sk-toggleable__control sk-hidden--visually\" id=\"1947fe22-9ee4-43b9-901c-549c939369d0\" type=\"checkbox\" ><label for=\"1947fe22-9ee4-43b9-901c-549c939369d0\" class=\"sk-toggleable__label sk-toggleable__label-arrow\">SimpleImputer</label><div class=\"sk-toggleable__content\"><pre>SimpleImputer()</pre></div></div></div></div></div></div></div></div><div class=\"sk-parallel-item\"><div class=\"sk-item\"><div class=\"sk-label-container\"><div class=\"sk-label sk-toggleable\"><input class=\"sk-toggleable__control sk-hidden--visually\" id=\"dc38a02b-3a74-4d28-b458-ad6c28283380\" type=\"checkbox\" ><label for=\"dc38a02b-3a74-4d28-b458-ad6c28283380\" class=\"sk-toggleable__label sk-toggleable__label-arrow\">categoric</label><div class=\"sk-toggleable__content\"><pre>Index([&#x27;age_group&#x27;, &#x27;education&#x27;, &#x27;race&#x27;, &#x27;sex&#x27;, &#x27;income_poverty&#x27;,\n",
       "       &#x27;marital_status&#x27;, &#x27;rent_or_own&#x27;, &#x27;employment_status&#x27;, &#x27;hhs_geo_region&#x27;,\n",
       "       &#x27;census_msa&#x27;, &#x27;employment_industry&#x27;, &#x27;employment_occupation&#x27;],\n",
       "      dtype=&#x27;object&#x27;)</pre></div></div></div><div class=\"sk-serial\"><div class=\"sk-item\"><div class=\"sk-estimator sk-toggleable\"><input class=\"sk-toggleable__control sk-hidden--visually\" id=\"8a0ba3f2-9350-47d4-9e89-5186ca7a524f\" type=\"checkbox\" ><label for=\"8a0ba3f2-9350-47d4-9e89-5186ca7a524f\" class=\"sk-toggleable__label sk-toggleable__label-arrow\">OneHotEncoder</label><div class=\"sk-toggleable__content\"><pre>OneHotEncoder()</pre></div></div></div></div></div></div></div></div><div class=\"sk-item sk-dashed-wrapped\"><div class=\"sk-label-container\"><div class=\"sk-label sk-toggleable\"><input class=\"sk-toggleable__control sk-hidden--visually\" id=\"07ba55c0-846a-42ac-b857-f3106a68ec00\" type=\"checkbox\" ><label for=\"07ba55c0-846a-42ac-b857-f3106a68ec00\" class=\"sk-toggleable__label sk-toggleable__label-arrow\">classifier: MultiOutputClassifier</label><div class=\"sk-toggleable__content\"><pre>MultiOutputClassifier(estimator=RandomForestClassifier())</pre></div></div></div><div class=\"sk-parallel\"><div class=\"sk-parallel-item\"><div class=\"sk-item\"><div class=\"sk-serial\"><div class=\"sk-item\"><div class=\"sk-estimator sk-toggleable\"><input class=\"sk-toggleable__control sk-hidden--visually\" id=\"a6ce6760-35c8-44d1-b63c-44af094f5d32\" type=\"checkbox\" ><label for=\"a6ce6760-35c8-44d1-b63c-44af094f5d32\" class=\"sk-toggleable__label sk-toggleable__label-arrow\">RandomForestClassifier</label><div class=\"sk-toggleable__content\"><pre>RandomForestClassifier()</pre></div></div></div></div></div></div></div></div></div></div></div></div>"
      ],
      "text/plain": [
       "Pipeline(steps=[('preprocessor',\n",
       "                 ColumnTransformer(transformers=[('numeric',\n",
       "                                                  Pipeline(steps=[('standard_scaler',\n",
       "                                                                   StandardScaler()),\n",
       "                                                                  ('simple_imputer',\n",
       "                                                                   SimpleImputer())]),\n",
       "                                                  Index(['h1n1_concern', 'h1n1_knowledge', 'behavioral_antiviral_meds',\n",
       "       'behavioral_avoidance', 'behavioral_face_mask', 'behavioral_wash_hands',\n",
       "       'behavioral_large_gatherings', 'behavioral_outsid...\n",
       "       'household_children'],\n",
       "      dtype='object')),\n",
       "                                                 ('categoric', OneHotEncoder(),\n",
       "                                                  Index(['age_group', 'education', 'race', 'sex', 'income_poverty',\n",
       "       'marital_status', 'rent_or_own', 'employment_status', 'hhs_geo_region',\n",
       "       'census_msa', 'employment_industry', 'employment_occupation'],\n",
       "      dtype='object'))])),\n",
       "                ('classifier',\n",
       "                 MultiOutputClassifier(estimator=RandomForestClassifier()))])"
      ]
     },
     "execution_count": 21,
     "metadata": {},
     "output_type": "execute_result"
    }
   ],
   "source": [
    "model6.fit(X_train, y_train)"
   ]
  },
  {
   "cell_type": "markdown",
   "id": "8b652f47",
   "metadata": {},
   "source": [
    "Then we'll compute a score with just the validation split."
   ]
  },
  {
   "cell_type": "code",
   "execution_count": 22,
   "id": "745ca8f4",
   "metadata": {},
   "outputs": [
    {
     "data": {
      "text/plain": [
       "0.8538234988169062"
      ]
     },
     "execution_count": 22,
     "metadata": {},
     "output_type": "execute_result"
    }
   ],
   "source": [
    "score_model(model6, X_val, y_val)"
   ]
  },
  {
   "cell_type": "markdown",
   "id": "19de8d93",
   "metadata": {},
   "source": [
    "If you run the split-train-validate sequence a few times, you will get different scores because the split is random and the random forest is (wait for it) also random. But you should get scores close to 0.85, which is close to the score we got from the test data on the competition site.\n",
    "\n",
    "So it works! We can get an accurate evaluation of the model without looking at the test data."
   ]
  },
  {
   "cell_type": "markdown",
   "id": "6c7c486b",
   "metadata": {},
   "source": [
    "## Tuning parameters\n",
    "\n",
    "Now let's think about tuning the parameters of the random forest algorithm and see if we can improve the results.\n",
    "Here are the parameters of `RandomForestClassifier`."
   ]
  },
  {
   "cell_type": "code",
   "execution_count": 23,
   "id": "dc96518a",
   "metadata": {
    "scrolled": true
   },
   "outputs": [
    {
     "data": {
      "text/plain": [
       "{'bootstrap': True,\n",
       " 'ccp_alpha': 0.0,\n",
       " 'class_weight': None,\n",
       " 'criterion': 'gini',\n",
       " 'max_depth': None,\n",
       " 'max_features': 'auto',\n",
       " 'max_leaf_nodes': None,\n",
       " 'max_samples': None,\n",
       " 'min_impurity_decrease': 0.0,\n",
       " 'min_samples_leaf': 1,\n",
       " 'min_samples_split': 2,\n",
       " 'min_weight_fraction_leaf': 0.0,\n",
       " 'n_estimators': 100,\n",
       " 'n_jobs': None,\n",
       " 'oob_score': False,\n",
       " 'random_state': None,\n",
       " 'verbose': 0,\n",
       " 'warm_start': False}"
      ]
     },
     "execution_count": 23,
     "metadata": {},
     "output_type": "execute_result"
    }
   ],
   "source": [
    "RandomForestClassifier().get_params()"
   ]
  },
  {
   "cell_type": "markdown",
   "id": "ff8df57f",
   "metadata": {},
   "source": [
    "As an example, let's experiment with `max_features`, which limits the number of features used to build each tree in the forest.\n",
    "The default value is `'sqrt'`, which means that `max_features` is chosen automatically by computing the square root of the number of features.\n",
    "\n",
    "In the input dataset, there are 36 features."
   ]
  },
  {
   "cell_type": "code",
   "execution_count": 24,
   "id": "8343eacf",
   "metadata": {},
   "outputs": [
    {
     "data": {
      "text/plain": [
       "35"
      ]
     },
     "execution_count": 24,
     "metadata": {},
     "output_type": "execute_result"
    }
   ],
   "source": [
    "model6.n_features_in_"
   ]
  },
  {
   "cell_type": "markdown",
   "id": "5c8c6954",
   "metadata": {},
   "source": [
    "So the value of `max_features` is 6."
   ]
  },
  {
   "cell_type": "markdown",
   "id": "c96b71a7",
   "metadata": {},
   "source": [
    "With that in mind, let's try a range of values from `4` to `14`.\n",
    "\n",
    "In order to set the value of a parameter, we have to select `classifier` from the pipeline, then select its estimator, and assign a value to one of its parameter.\n",
    "It's a little clumsy, and we'll see a better way soon, but here's what it looks like."
   ]
  },
  {
   "cell_type": "code",
   "execution_count": 25,
   "id": "8785e3a0",
   "metadata": {},
   "outputs": [],
   "source": [
    "model6[\"classifier\"].estimator.max_features = 10"
   ]
  },
  {
   "cell_type": "markdown",
   "id": "accf85ca",
   "metadata": {},
   "source": [
    "Now we can loop through a sequence of values, train the model with each value of `max_features`, score the models, and save the results."
   ]
  },
  {
   "cell_type": "code",
   "execution_count": 26,
   "id": "ae012c34",
   "metadata": {},
   "outputs": [],
   "source": [
    "res = []\n",
    "\n",
    "for max_features in range(4, 15):\n",
    "    model6[\"classifier\"].estimator.max_features = max_features\n",
    "    model6.fit(X_train, y_train)\n",
    "    score = score_model(model6, X_val, y_val)\n",
    "    res.append((max_features, score))"
   ]
  },
  {
   "cell_type": "markdown",
   "id": "42ac7407",
   "metadata": {},
   "source": [
    "Here's what the results look like."
   ]
  },
  {
   "cell_type": "code",
   "execution_count": 27,
   "id": "dac8482b",
   "metadata": {},
   "outputs": [
    {
     "data": {
      "image/png": "[encoded data removed]",
      "text/plain": [
       "<Figure size 640x480 with 1 Axes>"
      ]
     },
     "metadata": {},
     "output_type": "display_data"
    }
   ],
   "source": [
    "from utils import decorate\n",
    "\n",
    "x, y = np.transpose(res)\n",
    "plt.plot(x, y)\n",
    "\n",
    "decorate(xlabel=\"max_features\", ylabel=\"AUC score\")"
   ]
  },
  {
   "cell_type": "markdown",
   "id": "c80368d1",
   "metadata": {},
   "source": [
    "It looks like larger values of `max_features` are better, but the results are random, so if you run this test a few times, you'll see that the results vary and the best value might be different from one run to the next.\n",
    "\n",
    "We can get more reliable results using cross validation, which is the topic of the next section."
   ]
  },
  {
   "cell_type": "markdown",
   "id": "b06932e0",
   "metadata": {},
   "source": [
    "## Cross-validation\n",
    "\n",
    "Instead of using one random split, an alternative is to use multiple non-random splits.\n",
    "One way to do that is $k$-fold cross-validation, where $k$ is the number of splits. \n",
    "With `k=5`, which is a common choice, it works like this:\n",
    "\n",
    "1. Divide the training data into 5 equal-sized parts, called **folds**.\n",
    "\n",
    "2. Train the model using all folds except the first, then use the first fold to validate.\n",
    "\n",
    "3. Train the model using all folds except the second, then use the second fold to validate.\n",
    "\n",
    "4. Repeat for the other three folds.\n",
    "\n",
    "5. Compute the mean of the 5 validation scores.\n",
    "\n",
    "As you might expect by now, Scikit-learn provides a function that automates this process.\n",
    "Here's how it works."
   ]
  },
  {
   "cell_type": "code",
   "execution_count": 28,
   "id": "ddaba9fb",
   "metadata": {},
   "outputs": [],
   "source": [
    "from sklearn.model_selection import cross_val_score\n",
    "\n",
    "scores = cross_val_score(model6, features_df, labels_df, cv=5, scoring=score_model)"
   ]
  },
  {
   "cell_type": "markdown",
   "id": "e4fcaa9f",
   "metadata": {},
   "source": [
    "The arguments are the model, the training features, and the training labels.\n",
    "The parameter `cv=5` indicates 5-fold cross-validation.\n",
    "And `scoring` indicates the function that should be used to compute the scores."
   ]
  },
  {
   "cell_type": "code",
   "execution_count": 29,
   "id": "9e600103",
   "metadata": {},
   "outputs": [
    {
     "data": {
      "text/plain": [
       "array([0.85485707, 0.851138  , 0.85685131, 0.86273168, 0.85069799])"
      ]
     },
     "execution_count": 29,
     "metadata": {},
     "output_type": "execute_result"
    }
   ],
   "source": [
    "scores"
   ]
  },
  {
   "cell_type": "markdown",
   "id": "fc9001f3",
   "metadata": {},
   "source": [
    "Now let's try again to find the best value of `max_features`.\n",
    "The following loop tests a range of values and uses 5-fold cross-validation for each.\n",
    "It might take a little while to run!"
   ]
  },
  {
   "cell_type": "code",
   "execution_count": 30,
   "id": "74172e07",
   "metadata": {},
   "outputs": [
    {
     "name": "stdout",
     "output_type": "stream",
     "text": [
      "4\n",
      "5\n",
      "6\n",
      "7\n",
      "8\n",
      "9\n",
      "10\n",
      "11\n",
      "12\n",
      "13\n",
      "14\n"
     ]
    }
   ],
   "source": [
    "res_cv = []\n",
    "\n",
    "for max_features in range(4, 15):\n",
    "    print(max_features)\n",
    "    model6[\"classifier\"].estimator.max_features = max_features\n",
    "    scores = cross_val_score(model6, features_df, labels_df, cv=5, scoring=score_model)\n",
    "    res_cv.append((max_features, scores))"
   ]
  },
  {
   "cell_type": "markdown",
   "id": "5fc18718",
   "metadata": {},
   "source": [
    "Here's what the results look like. The `x` markers show the results from each of the five folds. The `o` markers show the average score for each value of `max_features`."
   ]
  },
  {
   "cell_type": "code",
   "execution_count": 31,
   "id": "22f6b30d",
   "metadata": {},
   "outputs": [
    {
     "data": {
      "image/png": "[encoded data removed]",
      "text/plain": [
       "<Figure size 640x480 with 1 Axes>"
      ]
     },
     "metadata": {},
     "output_type": "display_data"
    }
   ],
   "source": [
    "for x, ys in res_cv:\n",
    "    plt.plot([x] * 5, ys, \"x\", color=\"gray\")\n",
    "    plt.plot(x, ys.mean(), \"o\", color=\"C0\")\n",
    "\n",
    "decorate(xlabel=\"max_features\", ylabel=\"AUC score\")"
   ]
  },
  {
   "cell_type": "markdown",
   "id": "1bdf1662",
   "metadata": {},
   "source": [
    "It looks like the larger values of `max_features` are better than the lower values, but above 8 or 9 the difference is small and the results are highly variable.\n",
    "However, if the value computed by `sqrt` is 6, it seems like we could do better by increasing it."
   ]
  },
  {
   "cell_type": "markdown",
   "id": "772e92fa",
   "metadata": {},
   "source": [
    "## Grid search\n",
    "\n",
    "What we did in the previous section is called a **grid search**, because we searched for the best value of a parameter by trying a sequence of equally-spaced values that form a one-dimensional grid.\n",
    "This kind of search is so common that Scikit-learn provides a function, called `GridSearchCV`, that does it automatically.\n",
    "The `CV` part of the name stands for \"cross-validation\".\n",
    "\n",
    "To use it, we have to specify which parameters we want to vary and which values to try.\n",
    "It's possible to try different combinations of multiple variables, but let's start with just one, `n_estimators`, which indicates the number of trees in the forest.\n",
    "\n",
    "The way we'll specify the grid is a dictionary that maps from each parameter to a sequence of values."
   ]
  },
  {
   "cell_type": "code",
   "execution_count": 32,
   "id": "5e27c662",
   "metadata": {},
   "outputs": [],
   "source": [
    "param_grid = {\n",
    "    \"classifier__estimator__n_estimators\": [100, 200, 400, 800],\n",
    "}"
   ]
  },
  {
   "cell_type": "markdown",
   "id": "2648442a",
   "metadata": {},
   "source": [
    "The way we specify the name of the parameter is a bit of a hack.\n",
    "Remember that previously we used a statement like this to select the classifier from the pipeline, select the estimator, and then set the parameter:"
   ]
  },
  {
   "cell_type": "code",
   "execution_count": 33,
   "id": "489b7bf5",
   "metadata": {},
   "outputs": [],
   "source": [
    "model6[\"classifier\"].estimator.max_features = 12"
   ]
  },
  {
   "cell_type": "markdown",
   "id": "674f0ba2",
   "metadata": {},
   "source": [
    "Now we need a way to tell `GridSearchCV` how to do the same thing.\n",
    "The people who wrote this function solved the problem with some ad hoc syntax: using double underscores to separate the names of the elements.\n",
    "\n",
    "Now we can run the search like this:"
   ]
  },
  {
   "cell_type": "code",
   "execution_count": 34,
   "id": "4c892755",
   "metadata": {},
   "outputs": [],
   "source": [
    "from sklearn.model_selection import GridSearchCV\n",
    "\n",
    "searcher = GridSearchCV(\n",
    "    estimator=model6,\n",
    "    param_grid=param_grid,\n",
    "    scoring=score_model,\n",
    "    cv=5,\n",
    "    n_jobs=-1,\n",
    "    verbose=1,\n",
    ")"
   ]
  },
  {
   "cell_type": "markdown",
   "id": "cda435ab",
   "metadata": {},
   "source": [
    "`estimator` indicates the model we want to fit.\n",
    "`params` is the dictionary of parameters we want to search.\n",
    "`scoring_model` and `cv` are passed along to `cross_val_score`.\n",
    "\n",
    "`n_jobs` suggests how many jobs to run in parallel; the value `-1` indicates that the number of jobs should be the same as the number of available processors. "
   ]
  },
  {
   "cell_type": "code",
   "execution_count": 35,
   "id": "160e03f2",
   "metadata": {},
   "outputs": [
    {
     "name": "stdout",
     "output_type": "stream",
     "text": [
      "Fitting 5 folds for each of 4 candidates, totalling 20 fits\n",
      "CPU times: user 19.3 s, sys: 308 ms, total: 19.6 s\n",
      "Wall time: 1min\n"
     ]
    },
    {
     "data": {
      "text/html": [
       "<style>#sk-4c38dbef-e099-493a-aca9-37cd1e852023 {color: black;background-color: white;}#sk-4c38dbef-e099-493a-aca9-37cd1e852023 pre{padding: 0;}#sk-4c38dbef-e099-493a-aca9-37cd1e852023 div.sk-toggleable {background-color: white;}#sk-4c38dbef-e099-493a-aca9-37cd1e852023 label.sk-toggleable__label {cursor: pointer;display: block;width: 100%;margin-bottom: 0;padding: 0.3em;box-sizing: border-box;text-align: center;}#sk-4c38dbef-e099-493a-aca9-37cd1e852023 label.sk-toggleable__label-arrow:before {content: \"▸\";float: left;margin-right: 0.25em;color: #696969;}#sk-4c38dbef-e099-493a-aca9-37cd1e852023 label.sk-toggleable__label-arrow:hover:before {color: black;}#sk-4c38dbef-e099-493a-aca9-37cd1e852023 div.sk-estimator:hover label.sk-toggleable__label-arrow:before {color: black;}#sk-4c38dbef-e099-493a-aca9-37cd1e852023 div.sk-toggleable__content {max-height: 0;max-width: 0;overflow: hidden;text-align: left;background-color: #f0f8ff;}#sk-4c38dbef-e099-493a-aca9-37cd1e852023 div.sk-toggleable__content pre {margin: 0.2em;color: black;border-radius: 0.25em;background-color: #f0f8ff;}#sk-4c38dbef-e099-493a-aca9-37cd1e852023 input.sk-toggleable__control:checked~div.sk-toggleable__content {max-height: 200px;max-width: 100%;overflow: auto;}#sk-4c38dbef-e099-493a-aca9-37cd1e852023 input.sk-toggleable__control:checked~label.sk-toggleable__label-arrow:before {content: \"▾\";}#sk-4c38dbef-e099-493a-aca9-37cd1e852023 div.sk-estimator input.sk-toggleable__control:checked~label.sk-toggleable__label {background-color: #d4ebff;}#sk-4c38dbef-e099-493a-aca9-37cd1e852023 div.sk-label input.sk-toggleable__control:checked~label.sk-toggleable__label {background-color: #d4ebff;}#sk-4c38dbef-e099-493a-aca9-37cd1e852023 input.sk-hidden--visually {border: 0;clip: rect(1px 1px 1px 1px);clip: rect(1px, 1px, 1px, 1px);height: 1px;margin: -1px;overflow: hidden;padding: 0;position: absolute;width: 1px;}#sk-4c38dbef-e099-493a-aca9-37cd1e852023 div.sk-estimator {font-family: monospace;background-color: #f0f8ff;border: 1px dotted black;border-radius: 0.25em;box-sizing: border-box;margin-bottom: 0.5em;}#sk-4c38dbef-e099-493a-aca9-37cd1e852023 div.sk-estimator:hover {background-color: #d4ebff;}#sk-4c38dbef-e099-493a-aca9-37cd1e852023 div.sk-parallel-item::after {content: \"\";width: 100%;border-bottom: 1px solid gray;flex-grow: 1;}#sk-4c38dbef-e099-493a-aca9-37cd1e852023 div.sk-label:hover label.sk-toggleable__label {background-color: #d4ebff;}#sk-4c38dbef-e099-493a-aca9-37cd1e852023 div.sk-serial::before {content: \"\";position: absolute;border-left: 1px solid gray;box-sizing: border-box;top: 2em;bottom: 0;left: 50%;}#sk-4c38dbef-e099-493a-aca9-37cd1e852023 div.sk-serial {display: flex;flex-direction: column;align-items: center;background-color: white;padding-right: 0.2em;padding-left: 0.2em;}#sk-4c38dbef-e099-493a-aca9-37cd1e852023 div.sk-item {z-index: 1;}#sk-4c38dbef-e099-493a-aca9-37cd1e852023 div.sk-parallel {display: flex;align-items: stretch;justify-content: center;background-color: white;}#sk-4c38dbef-e099-493a-aca9-37cd1e852023 div.sk-parallel::before {content: \"\";position: absolute;border-left: 1px solid gray;box-sizing: border-box;top: 2em;bottom: 0;left: 50%;}#sk-4c38dbef-e099-493a-aca9-37cd1e852023 div.sk-parallel-item {display: flex;flex-direction: column;position: relative;background-color: white;}#sk-4c38dbef-e099-493a-aca9-37cd1e852023 div.sk-parallel-item:first-child::after {align-self: flex-end;width: 50%;}#sk-4c38dbef-e099-493a-aca9-37cd1e852023 div.sk-parallel-item:last-child::after {align-self: flex-start;width: 50%;}#sk-4c38dbef-e099-493a-aca9-37cd1e852023 div.sk-parallel-item:only-child::after {width: 0;}#sk-4c38dbef-e099-493a-aca9-37cd1e852023 div.sk-dashed-wrapped {border: 1px dashed gray;margin: 0 0.4em 0.5em 0.4em;box-sizing: border-box;padding-bottom: 0.4em;background-color: white;position: relative;}#sk-4c38dbef-e099-493a-aca9-37cd1e852023 div.sk-label label {font-family: monospace;font-weight: bold;background-color: white;display: inline-block;line-height: 1.2em;}#sk-4c38dbef-e099-493a-aca9-37cd1e852023 div.sk-label-container {position: relative;z-index: 2;text-align: center;}#sk-4c38dbef-e099-493a-aca9-37cd1e852023 div.sk-container {/* jupyter's `normalize.less` sets `[hidden] { display: none; }` but bootstrap.min.css set `[hidden] { display: none !important; }` so we also need the `!important` here to be able to override the default hidden behavior on the sphinx rendered scikit-learn.org. See: https://github.com/scikit-learn/scikit-learn/issues/21755 */display: inline-block !important;position: relative;}#sk-4c38dbef-e099-493a-aca9-37cd1e852023 div.sk-text-repr-fallback {display: none;}</style><div id=\"sk-4c38dbef-e099-493a-aca9-37cd1e852023\" class=\"sk-top-container\"><div class=\"sk-text-repr-fallback\"><pre>GridSearchCV(cv=5,\n",
       "             estimator=Pipeline(steps=[(&#x27;preprocessor&#x27;,\n",
       "                                        ColumnTransformer(transformers=[(&#x27;numeric&#x27;,\n",
       "                                                                         Pipeline(steps=[(&#x27;standard_scaler&#x27;,\n",
       "                                                                                          StandardScaler()),\n",
       "                                                                                         (&#x27;simple_imputer&#x27;,\n",
       "                                                                                          SimpleImputer())]),\n",
       "                                                                         Index([&#x27;h1n1_concern&#x27;, &#x27;h1n1_knowledge&#x27;, &#x27;behavioral_antiviral_meds&#x27;,\n",
       "       &#x27;behavioral_avoidance&#x27;, &#x27;behavioral_face_mask&#x27;, &#x27;behavioral_wash_hands&#x27;,\n",
       "       &#x27;behavioral_large_ga...\n",
       "       &#x27;marital_status&#x27;, &#x27;rent_or_own&#x27;, &#x27;employment_status&#x27;, &#x27;hhs_geo_region&#x27;,\n",
       "       &#x27;census_msa&#x27;, &#x27;employment_industry&#x27;, &#x27;employment_occupation&#x27;],\n",
       "      dtype=&#x27;object&#x27;))])),\n",
       "                                       (&#x27;classifier&#x27;,\n",
       "                                        MultiOutputClassifier(estimator=RandomForestClassifier(max_features=12)))]),\n",
       "             n_jobs=-1,\n",
       "             param_grid={&#x27;classifier__estimator__n_estimators&#x27;: [100, 200, 400,\n",
       "                                                                 800]},\n",
       "             scoring=&lt;function score_model at 0x7ff6715fb560&gt;, verbose=1)</pre><b>Please rerun this cell to show the HTML repr or trust the notebook.</b></div><div class=\"sk-container\" hidden><div class=\"sk-item sk-dashed-wrapped\"><div class=\"sk-label-container\"><div class=\"sk-label sk-toggleable\"><input class=\"sk-toggleable__control sk-hidden--visually\" id=\"d0007da0-c4b0-446b-be6a-6dd73f1b1460\" type=\"checkbox\" ><label for=\"d0007da0-c4b0-446b-be6a-6dd73f1b1460\" class=\"sk-toggleable__label sk-toggleable__label-arrow\">GridSearchCV</label><div class=\"sk-toggleable__content\"><pre>GridSearchCV(cv=5,\n",
       "             estimator=Pipeline(steps=[(&#x27;preprocessor&#x27;,\n",
       "                                        ColumnTransformer(transformers=[(&#x27;numeric&#x27;,\n",
       "                                                                         Pipeline(steps=[(&#x27;standard_scaler&#x27;,\n",
       "                                                                                          StandardScaler()),\n",
       "                                                                                         (&#x27;simple_imputer&#x27;,\n",
       "                                                                                          SimpleImputer())]),\n",
       "                                                                         Index([&#x27;h1n1_concern&#x27;, &#x27;h1n1_knowledge&#x27;, &#x27;behavioral_antiviral_meds&#x27;,\n",
       "       &#x27;behavioral_avoidance&#x27;, &#x27;behavioral_face_mask&#x27;, &#x27;behavioral_wash_hands&#x27;,\n",
       "       &#x27;behavioral_large_ga...\n",
       "       &#x27;marital_status&#x27;, &#x27;rent_or_own&#x27;, &#x27;employment_status&#x27;, &#x27;hhs_geo_region&#x27;,\n",
       "       &#x27;census_msa&#x27;, &#x27;employment_industry&#x27;, &#x27;employment_occupation&#x27;],\n",
       "      dtype=&#x27;object&#x27;))])),\n",
       "                                       (&#x27;classifier&#x27;,\n",
       "                                        MultiOutputClassifier(estimator=RandomForestClassifier(max_features=12)))]),\n",
       "             n_jobs=-1,\n",
       "             param_grid={&#x27;classifier__estimator__n_estimators&#x27;: [100, 200, 400,\n",
       "                                                                 800]},\n",
       "             scoring=&lt;function score_model at 0x7ff6715fb560&gt;, verbose=1)</pre></div></div></div><div class=\"sk-parallel\"><div class=\"sk-parallel-item\"><div class=\"sk-item\"><div class=\"sk-serial\"><div class=\"sk-item\"><div class=\"sk-serial\"><div class=\"sk-item sk-dashed-wrapped\"><div class=\"sk-label-container\"><div class=\"sk-label sk-toggleable\"><input class=\"sk-toggleable__control sk-hidden--visually\" id=\"17f2e546-af0b-4e77-b084-a6593a477610\" type=\"checkbox\" ><label for=\"17f2e546-af0b-4e77-b084-a6593a477610\" class=\"sk-toggleable__label sk-toggleable__label-arrow\">preprocessor: ColumnTransformer</label><div class=\"sk-toggleable__content\"><pre>ColumnTransformer(transformers=[(&#x27;numeric&#x27;,\n",
       "                                 Pipeline(steps=[(&#x27;standard_scaler&#x27;,\n",
       "                                                  StandardScaler()),\n",
       "                                                 (&#x27;simple_imputer&#x27;,\n",
       "                                                  SimpleImputer())]),\n",
       "                                 Index([&#x27;h1n1_concern&#x27;, &#x27;h1n1_knowledge&#x27;, &#x27;behavioral_antiviral_meds&#x27;,\n",
       "       &#x27;behavioral_avoidance&#x27;, &#x27;behavioral_face_mask&#x27;, &#x27;behavioral_wash_hands&#x27;,\n",
       "       &#x27;behavioral_large_gatherings&#x27;, &#x27;behavioral_outside_home&#x27;,\n",
       "       &#x27;behavioral_touch_face&#x27;,...\n",
       "       &#x27;opinion_h1n1_sick_from_vacc&#x27;, &#x27;opinion_seas_vacc_effective&#x27;,\n",
       "       &#x27;opinion_seas_risk&#x27;, &#x27;opinion_seas_sick_from_vacc&#x27;, &#x27;household_adults&#x27;,\n",
       "       &#x27;household_children&#x27;],\n",
       "      dtype=&#x27;object&#x27;)),\n",
       "                                (&#x27;categoric&#x27;, OneHotEncoder(),\n",
       "                                 Index([&#x27;age_group&#x27;, &#x27;education&#x27;, &#x27;race&#x27;, &#x27;sex&#x27;, &#x27;income_poverty&#x27;,\n",
       "       &#x27;marital_status&#x27;, &#x27;rent_or_own&#x27;, &#x27;employment_status&#x27;, &#x27;hhs_geo_region&#x27;,\n",
       "       &#x27;census_msa&#x27;, &#x27;employment_industry&#x27;, &#x27;employment_occupation&#x27;],\n",
       "      dtype=&#x27;object&#x27;))])</pre></div></div></div><div class=\"sk-parallel\"><div class=\"sk-parallel-item\"><div class=\"sk-item\"><div class=\"sk-label-container\"><div class=\"sk-label sk-toggleable\"><input class=\"sk-toggleable__control sk-hidden--visually\" id=\"b3d9dbdf-ba99-4dee-9da6-0dcf57012818\" type=\"checkbox\" ><label for=\"b3d9dbdf-ba99-4dee-9da6-0dcf57012818\" class=\"sk-toggleable__label sk-toggleable__label-arrow\">numeric</label><div class=\"sk-toggleable__content\"><pre>Index([&#x27;h1n1_concern&#x27;, &#x27;h1n1_knowledge&#x27;, &#x27;behavioral_antiviral_meds&#x27;,\n",
       "       &#x27;behavioral_avoidance&#x27;, &#x27;behavioral_face_mask&#x27;, &#x27;behavioral_wash_hands&#x27;,\n",
       "       &#x27;behavioral_large_gatherings&#x27;, &#x27;behavioral_outside_home&#x27;,\n",
       "       &#x27;behavioral_touch_face&#x27;, &#x27;doctor_recc_h1n1&#x27;, &#x27;doctor_recc_seasonal&#x27;,\n",
       "       &#x27;chronic_med_condition&#x27;, &#x27;child_under_6_months&#x27;, &#x27;health_worker&#x27;,\n",
       "       &#x27;health_insurance&#x27;, &#x27;opinion_h1n1_vacc_effective&#x27;, &#x27;opinion_h1n1_risk&#x27;,\n",
       "       &#x27;opinion_h1n1_sick_from_vacc&#x27;, &#x27;opinion_seas_vacc_effective&#x27;,\n",
       "       &#x27;opinion_seas_risk&#x27;, &#x27;opinion_seas_sick_from_vacc&#x27;, &#x27;household_adults&#x27;,\n",
       "       &#x27;household_children&#x27;],\n",
       "      dtype=&#x27;object&#x27;)</pre></div></div></div><div class=\"sk-serial\"><div class=\"sk-item\"><div class=\"sk-serial\"><div class=\"sk-item\"><div class=\"sk-estimator sk-toggleable\"><input class=\"sk-toggleable__control sk-hidden--visually\" id=\"fab5d553-7954-4460-9108-2ac7d6e59532\" type=\"checkbox\" ><label for=\"fab5d553-7954-4460-9108-2ac7d6e59532\" class=\"sk-toggleable__label sk-toggleable__label-arrow\">StandardScaler</label><div class=\"sk-toggleable__content\"><pre>StandardScaler()</pre></div></div></div><div class=\"sk-item\"><div class=\"sk-estimator sk-toggleable\"><input class=\"sk-toggleable__control sk-hidden--visually\" id=\"00dd71e6-c054-4e20-ae22-34d5695d857d\" type=\"checkbox\" ><label for=\"00dd71e6-c054-4e20-ae22-34d5695d857d\" class=\"sk-toggleable__label sk-toggleable__label-arrow\">SimpleImputer</label><div class=\"sk-toggleable__content\"><pre>SimpleImputer()</pre></div></div></div></div></div></div></div></div><div class=\"sk-parallel-item\"><div class=\"sk-item\"><div class=\"sk-label-container\"><div class=\"sk-label sk-toggleable\"><input class=\"sk-toggleable__control sk-hidden--visually\" id=\"4df6a674-3d8c-4c7c-8df1-a5bad007a6b9\" type=\"checkbox\" ><label for=\"4df6a674-3d8c-4c7c-8df1-a5bad007a6b9\" class=\"sk-toggleable__label sk-toggleable__label-arrow\">categoric</label><div class=\"sk-toggleable__content\"><pre>Index([&#x27;age_group&#x27;, &#x27;education&#x27;, &#x27;race&#x27;, &#x27;sex&#x27;, &#x27;income_poverty&#x27;,\n",
       "       &#x27;marital_status&#x27;, &#x27;rent_or_own&#x27;, &#x27;employment_status&#x27;, &#x27;hhs_geo_region&#x27;,\n",
       "       &#x27;census_msa&#x27;, &#x27;employment_industry&#x27;, &#x27;employment_occupation&#x27;],\n",
       "      dtype=&#x27;object&#x27;)</pre></div></div></div><div class=\"sk-serial\"><div class=\"sk-item\"><div class=\"sk-estimator sk-toggleable\"><input class=\"sk-toggleable__control sk-hidden--visually\" id=\"52e9c8fa-eb48-41fe-bbe1-15ccb02e3d8a\" type=\"checkbox\" ><label for=\"52e9c8fa-eb48-41fe-bbe1-15ccb02e3d8a\" class=\"sk-toggleable__label sk-toggleable__label-arrow\">OneHotEncoder</label><div class=\"sk-toggleable__content\"><pre>OneHotEncoder()</pre></div></div></div></div></div></div></div></div><div class=\"sk-item sk-dashed-wrapped\"><div class=\"sk-label-container\"><div class=\"sk-label sk-toggleable\"><input class=\"sk-toggleable__control sk-hidden--visually\" id=\"a90326f3-f12d-4100-8da8-f16fdf4bc82f\" type=\"checkbox\" ><label for=\"a90326f3-f12d-4100-8da8-f16fdf4bc82f\" class=\"sk-toggleable__label sk-toggleable__label-arrow\">classifier: MultiOutputClassifier</label><div class=\"sk-toggleable__content\"><pre>MultiOutputClassifier(estimator=RandomForestClassifier(max_features=12))</pre></div></div></div><div class=\"sk-parallel\"><div class=\"sk-parallel-item\"><div class=\"sk-item\"><div class=\"sk-serial\"><div class=\"sk-item\"><div class=\"sk-estimator sk-toggleable\"><input class=\"sk-toggleable__control sk-hidden--visually\" id=\"b16ecbca-c0a9-41de-b81e-12f4a47afbc6\" type=\"checkbox\" ><label for=\"b16ecbca-c0a9-41de-b81e-12f4a47afbc6\" class=\"sk-toggleable__label sk-toggleable__label-arrow\">RandomForestClassifier</label><div class=\"sk-toggleable__content\"><pre>RandomForestClassifier(max_features=12)</pre></div></div></div></div></div></div></div></div></div></div></div></div></div></div></div></div></div>"
      ],
      "text/plain": [
       "GridSearchCV(cv=5,\n",
       "             estimator=Pipeline(steps=[('preprocessor',\n",
       "                                        ColumnTransformer(transformers=[('numeric',\n",
       "                                                                         Pipeline(steps=[('standard_scaler',\n",
       "                                                                                          StandardScaler()),\n",
       "                                                                                         ('simple_imputer',\n",
       "                                                                                          SimpleImputer())]),\n",
       "                                                                         Index(['h1n1_concern', 'h1n1_knowledge', 'behavioral_antiviral_meds',\n",
       "       'behavioral_avoidance', 'behavioral_face_mask', 'behavioral_wash_hands',\n",
       "       'behavioral_large_ga...\n",
       "       'marital_status', 'rent_or_own', 'employment_status', 'hhs_geo_region',\n",
       "       'census_msa', 'employment_industry', 'employment_occupation'],\n",
       "      dtype='object'))])),\n",
       "                                       ('classifier',\n",
       "                                        MultiOutputClassifier(estimator=RandomForestClassifier(max_features=12)))]),\n",
       "             n_jobs=-1,\n",
       "             param_grid={'classifier__estimator__n_estimators': [100, 200, 400,\n",
       "                                                                 800]},\n",
       "             scoring=<function score_model at 0x7ff6715fb560>, verbose=1)"
      ]
     },
     "execution_count": 35,
     "metadata": {},
     "output_type": "execute_result"
    }
   ],
   "source": [
    "%time searcher.fit(X_train, y_train)"
   ]
  },
  {
   "cell_type": "markdown",
   "id": "9d4f4159",
   "metadata": {},
   "source": [
    "From the `GridSearchCV` object, we can extract `best_params_`, which contains the values of the parameters that yielded the best results."
   ]
  },
  {
   "cell_type": "code",
   "execution_count": 36,
   "id": "9cda4086",
   "metadata": {},
   "outputs": [
    {
     "data": {
      "text/plain": [
       "{'classifier__estimator__n_estimators': 800}"
      ]
     },
     "execution_count": 36,
     "metadata": {},
     "output_type": "execute_result"
    }
   ],
   "source": [
    "searcher.best_params_"
   ]
  },
  {
   "cell_type": "markdown",
   "id": "849dc527",
   "metadata": {},
   "source": [
    "We get the best score with 800 trees, which is the largest value we tried. So it might be a good idea to go back and test larger values.\n",
    "\n",
    "`best_score_` contains the best score, which is the average of the 5 folds."
   ]
  },
  {
   "cell_type": "code",
   "execution_count": 37,
   "id": "33317b15",
   "metadata": {},
   "outputs": [
    {
     "data": {
      "text/plain": [
       "0.8583414764751375"
      ]
     },
     "execution_count": 37,
     "metadata": {},
     "output_type": "execute_result"
    }
   ],
   "source": [
    "searcher.best_score_"
   ]
  },
  {
   "cell_type": "markdown",
   "id": "5c91199d",
   "metadata": {},
   "source": [
    "We can also extract the model with the parameters that were found to be the best."
   ]
  },
  {
   "cell_type": "code",
   "execution_count": 38,
   "id": "dd7c69f2",
   "metadata": {},
   "outputs": [
    {
     "data": {
      "text/html": [
       "<style>#sk-963279f6-5e81-4c56-9fcb-e2e4183aca7f {color: black;background-color: white;}#sk-963279f6-5e81-4c56-9fcb-e2e4183aca7f pre{padding: 0;}#sk-963279f6-5e81-4c56-9fcb-e2e4183aca7f div.sk-toggleable {background-color: white;}#sk-963279f6-5e81-4c56-9fcb-e2e4183aca7f label.sk-toggleable__label {cursor: pointer;display: block;width: 100%;margin-bottom: 0;padding: 0.3em;box-sizing: border-box;text-align: center;}#sk-963279f6-5e81-4c56-9fcb-e2e4183aca7f label.sk-toggleable__label-arrow:before {content: \"▸\";float: left;margin-right: 0.25em;color: #696969;}#sk-963279f6-5e81-4c56-9fcb-e2e4183aca7f label.sk-toggleable__label-arrow:hover:before {color: black;}#sk-963279f6-5e81-4c56-9fcb-e2e4183aca7f div.sk-estimator:hover label.sk-toggleable__label-arrow:before {color: black;}#sk-963279f6-5e81-4c56-9fcb-e2e4183aca7f div.sk-toggleable__content {max-height: 0;max-width: 0;overflow: hidden;text-align: left;background-color: #f0f8ff;}#sk-963279f6-5e81-4c56-9fcb-e2e4183aca7f div.sk-toggleable__content pre {margin: 0.2em;color: black;border-radius: 0.25em;background-color: #f0f8ff;}#sk-963279f6-5e81-4c56-9fcb-e2e4183aca7f input.sk-toggleable__control:checked~div.sk-toggleable__content {max-height: 200px;max-width: 100%;overflow: auto;}#sk-963279f6-5e81-4c56-9fcb-e2e4183aca7f input.sk-toggleable__control:checked~label.sk-toggleable__label-arrow:before {content: \"▾\";}#sk-963279f6-5e81-4c56-9fcb-e2e4183aca7f div.sk-estimator input.sk-toggleable__control:checked~label.sk-toggleable__label {background-color: #d4ebff;}#sk-963279f6-5e81-4c56-9fcb-e2e4183aca7f div.sk-label input.sk-toggleable__control:checked~label.sk-toggleable__label {background-color: #d4ebff;}#sk-963279f6-5e81-4c56-9fcb-e2e4183aca7f input.sk-hidden--visually {border: 0;clip: rect(1px 1px 1px 1px);clip: rect(1px, 1px, 1px, 1px);height: 1px;margin: -1px;overflow: hidden;padding: 0;position: absolute;width: 1px;}#sk-963279f6-5e81-4c56-9fcb-e2e4183aca7f div.sk-estimator {font-family: monospace;background-color: #f0f8ff;border: 1px dotted black;border-radius: 0.25em;box-sizing: border-box;margin-bottom: 0.5em;}#sk-963279f6-5e81-4c56-9fcb-e2e4183aca7f div.sk-estimator:hover {background-color: #d4ebff;}#sk-963279f6-5e81-4c56-9fcb-e2e4183aca7f div.sk-parallel-item::after {content: \"\";width: 100%;border-bottom: 1px solid gray;flex-grow: 1;}#sk-963279f6-5e81-4c56-9fcb-e2e4183aca7f div.sk-label:hover label.sk-toggleable__label {background-color: #d4ebff;}#sk-963279f6-5e81-4c56-9fcb-e2e4183aca7f div.sk-serial::before {content: \"\";position: absolute;border-left: 1px solid gray;box-sizing: border-box;top: 2em;bottom: 0;left: 50%;}#sk-963279f6-5e81-4c56-9fcb-e2e4183aca7f div.sk-serial {display: flex;flex-direction: column;align-items: center;background-color: white;padding-right: 0.2em;padding-left: 0.2em;}#sk-963279f6-5e81-4c56-9fcb-e2e4183aca7f div.sk-item {z-index: 1;}#sk-963279f6-5e81-4c56-9fcb-e2e4183aca7f div.sk-parallel {display: flex;align-items: stretch;justify-content: center;background-color: white;}#sk-963279f6-5e81-4c56-9fcb-e2e4183aca7f div.sk-parallel::before {content: \"\";position: absolute;border-left: 1px solid gray;box-sizing: border-box;top: 2em;bottom: 0;left: 50%;}#sk-963279f6-5e81-4c56-9fcb-e2e4183aca7f div.sk-parallel-item {display: flex;flex-direction: column;position: relative;background-color: white;}#sk-963279f6-5e81-4c56-9fcb-e2e4183aca7f div.sk-parallel-item:first-child::after {align-self: flex-end;width: 50%;}#sk-963279f6-5e81-4c56-9fcb-e2e4183aca7f div.sk-parallel-item:last-child::after {align-self: flex-start;width: 50%;}#sk-963279f6-5e81-4c56-9fcb-e2e4183aca7f div.sk-parallel-item:only-child::after {width: 0;}#sk-963279f6-5e81-4c56-9fcb-e2e4183aca7f div.sk-dashed-wrapped {border: 1px dashed gray;margin: 0 0.4em 0.5em 0.4em;box-sizing: border-box;padding-bottom: 0.4em;background-color: white;position: relative;}#sk-963279f6-5e81-4c56-9fcb-e2e4183aca7f div.sk-label label {font-family: monospace;font-weight: bold;background-color: white;display: inline-block;line-height: 1.2em;}#sk-963279f6-5e81-4c56-9fcb-e2e4183aca7f div.sk-label-container {position: relative;z-index: 2;text-align: center;}#sk-963279f6-5e81-4c56-9fcb-e2e4183aca7f div.sk-container {/* jupyter's `normalize.less` sets `[hidden] { display: none; }` but bootstrap.min.css set `[hidden] { display: none !important; }` so we also need the `!important` here to be able to override the default hidden behavior on the sphinx rendered scikit-learn.org. See: https://github.com/scikit-learn/scikit-learn/issues/21755 */display: inline-block !important;position: relative;}#sk-963279f6-5e81-4c56-9fcb-e2e4183aca7f div.sk-text-repr-fallback {display: none;}</style><div id=\"sk-963279f6-5e81-4c56-9fcb-e2e4183aca7f\" class=\"sk-top-container\"><div class=\"sk-text-repr-fallback\"><pre>RandomForestClassifier(max_features=12, n_estimators=800)</pre><b>Please rerun this cell to show the HTML repr or trust the notebook.</b></div><div class=\"sk-container\" hidden><div class=\"sk-item\"><div class=\"sk-estimator sk-toggleable\"><input class=\"sk-toggleable__control sk-hidden--visually\" id=\"4899cbaf-f934-45f6-9f56-66b85a64013b\" type=\"checkbox\" checked><label for=\"4899cbaf-f934-45f6-9f56-66b85a64013b\" class=\"sk-toggleable__label sk-toggleable__label-arrow\">RandomForestClassifier</label><div class=\"sk-toggleable__content\"><pre>RandomForestClassifier(max_features=12, n_estimators=800)</pre></div></div></div></div></div>"
      ],
      "text/plain": [
       "RandomForestClassifier(max_features=12, n_estimators=800)"
      ]
     },
     "execution_count": 38,
     "metadata": {},
     "output_type": "execute_result"
    }
   ],
   "source": [
    "best_model = searcher.best_estimator_\n",
    "best_model[\"classifier\"].estimator"
   ]
  },
  {
   "cell_type": "markdown",
   "id": "01bf5f08",
   "metadata": {},
   "source": [
    "And use it to generate predictions."
   ]
  },
  {
   "cell_type": "code",
   "execution_count": 39,
   "id": "de94f74a",
   "metadata": {},
   "outputs": [],
   "source": [
    "make_submission(best_model, test_features_df).to_csv(\"submission4.csv\")"
   ]
  },
  {
   "cell_type": "code",
   "execution_count": 40,
   "id": "8221b8b1",
   "metadata": {
    "tags": [
     "remove-cell"
    ]
   },
   "outputs": [],
   "source": [
    "if \"google.colab\" in sys.modules:\n",
    "    from google.colab import files\n",
    "    files.download(\"submission4.csv\")"
   ]
  },
  {
   "cell_type": "markdown",
   "id": "3192eedf",
   "metadata": {},
   "source": [
    "When I submitted these predictions on the competition site, the score was 0.8529, which is a little less than `best_score_`.\n",
    "Some part of the difference is due to overfitting, as we've discussed.\n",
    "Another part is due to a kind of [regression toward the mean](https://en.wikipedia.org/wiki/Regression_toward_the_mean).\n",
    "The best model in a grid search is generally good, but that's not all; in order to come out on top in a grid search, it also has to be lucky.\n",
    "Good parameters are always good, but luck is random, so we expect the result of a grid search to be a little less lucky on the test data."
   ]
  },
  {
   "cell_type": "markdown",
   "id": "31a83cee",
   "metadata": {},
   "source": [
    "**Exercise:** Run a grid search on one of the other parameters and see if you can do any better.\n",
    "Optionally, pick two parameters and run a two-dimensional search.\n",
    "\n",
    "Notice that with even a small number of parameters, and a few possible values for each, the number of combinations grows very quickly. Trying all of them is usually impractical, and it is not always time well spent. The more combinations you try, the more likely you are to find a combination that works well on the training data and less well on the test data.\n",
    "Excessive optimization of parameters is yet another way to overfit a model."
   ]
  },
  {
   "cell_type": "code",
   "execution_count": 41,
   "id": "ba6a5115",
   "metadata": {},
   "outputs": [],
   "source": [
    "# Solution\n",
    "\n",
    "model6[\"classifier\"].estimator.max_features = 12\n",
    "model6[\"classifier\"].estimator.n_estimators = 400"
   ]
  },
  {
   "cell_type": "code",
   "execution_count": 42,
   "id": "154864e2",
   "metadata": {},
   "outputs": [],
   "source": [
    "# Solution\n",
    "\n",
    "params = {\n",
    "    \"classifier__estimator__max_leaf_nodes\": [10, 20, 30],\n",
    "    \"classifier__estimator__max_depth\": [10, 20, 30],\n",
    "}"
   ]
  },
  {
   "cell_type": "code",
   "execution_count": 43,
   "id": "10e8bc74",
   "metadata": {},
   "outputs": [],
   "source": [
    "# Solution\n",
    "\n",
    "searcher = GridSearchCV(\n",
    "    estimator=model6,\n",
    "    param_grid=params,\n",
    "    scoring=score_model,\n",
    "    cv=5,\n",
    "    n_jobs=-1,\n",
    "    verbose=1,\n",
    ")"
   ]
  },
  {
   "cell_type": "code",
   "execution_count": 44,
   "id": "7e7a6b8e",
   "metadata": {},
   "outputs": [
    {
     "name": "stdout",
     "output_type": "stream",
     "text": [
      "Fitting 5 folds for each of 9 candidates, totalling 45 fits\n",
      "CPU times: user 4.79 s, sys: 72.2 ms, total: 4.86 s\n",
      "Wall time: 56.7 s\n"
     ]
    },
    {
     "data": {
      "text/html": [
       "<style>#sk-e433e616-e9c4-4f41-b8b4-208d962c3c5b {color: black;background-color: white;}#sk-e433e616-e9c4-4f41-b8b4-208d962c3c5b pre{padding: 0;}#sk-e433e616-e9c4-4f41-b8b4-208d962c3c5b div.sk-toggleable {background-color: white;}#sk-e433e616-e9c4-4f41-b8b4-208d962c3c5b label.sk-toggleable__label {cursor: pointer;display: block;width: 100%;margin-bottom: 0;padding: 0.3em;box-sizing: border-box;text-align: center;}#sk-e433e616-e9c4-4f41-b8b4-208d962c3c5b label.sk-toggleable__label-arrow:before {content: \"▸\";float: left;margin-right: 0.25em;color: #696969;}#sk-e433e616-e9c4-4f41-b8b4-208d962c3c5b label.sk-toggleable__label-arrow:hover:before {color: black;}#sk-e433e616-e9c4-4f41-b8b4-208d962c3c5b div.sk-estimator:hover label.sk-toggleable__label-arrow:before {color: black;}#sk-e433e616-e9c4-4f41-b8b4-208d962c3c5b div.sk-toggleable__content {max-height: 0;max-width: 0;overflow: hidden;text-align: left;background-color: #f0f8ff;}#sk-e433e616-e9c4-4f41-b8b4-208d962c3c5b div.sk-toggleable__content pre {margin: 0.2em;color: black;border-radius: 0.25em;background-color: #f0f8ff;}#sk-e433e616-e9c4-4f41-b8b4-208d962c3c5b input.sk-toggleable__control:checked~div.sk-toggleable__content {max-height: 200px;max-width: 100%;overflow: auto;}#sk-e433e616-e9c4-4f41-b8b4-208d962c3c5b input.sk-toggleable__control:checked~label.sk-toggleable__label-arrow:before {content: \"▾\";}#sk-e433e616-e9c4-4f41-b8b4-208d962c3c5b div.sk-estimator input.sk-toggleable__control:checked~label.sk-toggleable__label {background-color: #d4ebff;}#sk-e433e616-e9c4-4f41-b8b4-208d962c3c5b div.sk-label input.sk-toggleable__control:checked~label.sk-toggleable__label {background-color: #d4ebff;}#sk-e433e616-e9c4-4f41-b8b4-208d962c3c5b input.sk-hidden--visually {border: 0;clip: rect(1px 1px 1px 1px);clip: rect(1px, 1px, 1px, 1px);height: 1px;margin: -1px;overflow: hidden;padding: 0;position: absolute;width: 1px;}#sk-e433e616-e9c4-4f41-b8b4-208d962c3c5b div.sk-estimator {font-family: monospace;background-color: #f0f8ff;border: 1px dotted black;border-radius: 0.25em;box-sizing: border-box;margin-bottom: 0.5em;}#sk-e433e616-e9c4-4f41-b8b4-208d962c3c5b div.sk-estimator:hover {background-color: #d4ebff;}#sk-e433e616-e9c4-4f41-b8b4-208d962c3c5b div.sk-parallel-item::after {content: \"\";width: 100%;border-bottom: 1px solid gray;flex-grow: 1;}#sk-e433e616-e9c4-4f41-b8b4-208d962c3c5b div.sk-label:hover label.sk-toggleable__label {background-color: #d4ebff;}#sk-e433e616-e9c4-4f41-b8b4-208d962c3c5b div.sk-serial::before {content: \"\";position: absolute;border-left: 1px solid gray;box-sizing: border-box;top: 2em;bottom: 0;left: 50%;}#sk-e433e616-e9c4-4f41-b8b4-208d962c3c5b div.sk-serial {display: flex;flex-direction: column;align-items: center;background-color: white;padding-right: 0.2em;padding-left: 0.2em;}#sk-e433e616-e9c4-4f41-b8b4-208d962c3c5b div.sk-item {z-index: 1;}#sk-e433e616-e9c4-4f41-b8b4-208d962c3c5b div.sk-parallel {display: flex;align-items: stretch;justify-content: center;background-color: white;}#sk-e433e616-e9c4-4f41-b8b4-208d962c3c5b div.sk-parallel::before {content: \"\";position: absolute;border-left: 1px solid gray;box-sizing: border-box;top: 2em;bottom: 0;left: 50%;}#sk-e433e616-e9c4-4f41-b8b4-208d962c3c5b div.sk-parallel-item {display: flex;flex-direction: column;position: relative;background-color: white;}#sk-e433e616-e9c4-4f41-b8b4-208d962c3c5b div.sk-parallel-item:first-child::after {align-self: flex-end;width: 50%;}#sk-e433e616-e9c4-4f41-b8b4-208d962c3c5b div.sk-parallel-item:last-child::after {align-self: flex-start;width: 50%;}#sk-e433e616-e9c4-4f41-b8b4-208d962c3c5b div.sk-parallel-item:only-child::after {width: 0;}#sk-e433e616-e9c4-4f41-b8b4-208d962c3c5b div.sk-dashed-wrapped {border: 1px dashed gray;margin: 0 0.4em 0.5em 0.4em;box-sizing: border-box;padding-bottom: 0.4em;background-color: white;position: relative;}#sk-e433e616-e9c4-4f41-b8b4-208d962c3c5b div.sk-label label {font-family: monospace;font-weight: bold;background-color: white;display: inline-block;line-height: 1.2em;}#sk-e433e616-e9c4-4f41-b8b4-208d962c3c5b div.sk-label-container {position: relative;z-index: 2;text-align: center;}#sk-e433e616-e9c4-4f41-b8b4-208d962c3c5b div.sk-container {/* jupyter's `normalize.less` sets `[hidden] { display: none; }` but bootstrap.min.css set `[hidden] { display: none !important; }` so we also need the `!important` here to be able to override the default hidden behavior on the sphinx rendered scikit-learn.org. See: https://github.com/scikit-learn/scikit-learn/issues/21755 */display: inline-block !important;position: relative;}#sk-e433e616-e9c4-4f41-b8b4-208d962c3c5b div.sk-text-repr-fallback {display: none;}</style><div id=\"sk-e433e616-e9c4-4f41-b8b4-208d962c3c5b\" class=\"sk-top-container\"><div class=\"sk-text-repr-fallback\"><pre>GridSearchCV(cv=5,\n",
       "             estimator=Pipeline(steps=[(&#x27;preprocessor&#x27;,\n",
       "                                        ColumnTransformer(transformers=[(&#x27;numeric&#x27;,\n",
       "                                                                         Pipeline(steps=[(&#x27;standard_scaler&#x27;,\n",
       "                                                                                          StandardScaler()),\n",
       "                                                                                         (&#x27;simple_imputer&#x27;,\n",
       "                                                                                          SimpleImputer())]),\n",
       "                                                                         Index([&#x27;h1n1_concern&#x27;, &#x27;h1n1_knowledge&#x27;, &#x27;behavioral_antiviral_meds&#x27;,\n",
       "       &#x27;behavioral_avoidance&#x27;, &#x27;behavioral_face_mask&#x27;, &#x27;behavioral_wash_hands&#x27;,\n",
       "       &#x27;behavioral_large_ga...\n",
       "       &#x27;census_msa&#x27;, &#x27;employment_industry&#x27;, &#x27;employment_occupation&#x27;],\n",
       "      dtype=&#x27;object&#x27;))])),\n",
       "                                       (&#x27;classifier&#x27;,\n",
       "                                        MultiOutputClassifier(estimator=RandomForestClassifier(max_features=12,\n",
       "                                                                                               n_estimators=400)))]),\n",
       "             n_jobs=-1,\n",
       "             param_grid={&#x27;classifier__estimator__max_depth&#x27;: [10, 20, 30],\n",
       "                         &#x27;classifier__estimator__max_leaf_nodes&#x27;: [10, 20, 30]},\n",
       "             scoring=&lt;function score_model at 0x7ff6715fb560&gt;, verbose=1)</pre><b>Please rerun this cell to show the HTML repr or trust the notebook.</b></div><div class=\"sk-container\" hidden><div class=\"sk-item sk-dashed-wrapped\"><div class=\"sk-label-container\"><div class=\"sk-label sk-toggleable\"><input class=\"sk-toggleable__control sk-hidden--visually\" id=\"bdeeb6fd-b084-46e7-926b-afd04a7d473f\" type=\"checkbox\" ><label for=\"bdeeb6fd-b084-46e7-926b-afd04a7d473f\" class=\"sk-toggleable__label sk-toggleable__label-arrow\">GridSearchCV</label><div class=\"sk-toggleable__content\"><pre>GridSearchCV(cv=5,\n",
       "             estimator=Pipeline(steps=[(&#x27;preprocessor&#x27;,\n",
       "                                        ColumnTransformer(transformers=[(&#x27;numeric&#x27;,\n",
       "                                                                         Pipeline(steps=[(&#x27;standard_scaler&#x27;,\n",
       "                                                                                          StandardScaler()),\n",
       "                                                                                         (&#x27;simple_imputer&#x27;,\n",
       "                                                                                          SimpleImputer())]),\n",
       "                                                                         Index([&#x27;h1n1_concern&#x27;, &#x27;h1n1_knowledge&#x27;, &#x27;behavioral_antiviral_meds&#x27;,\n",
       "       &#x27;behavioral_avoidance&#x27;, &#x27;behavioral_face_mask&#x27;, &#x27;behavioral_wash_hands&#x27;,\n",
       "       &#x27;behavioral_large_ga...\n",
       "       &#x27;census_msa&#x27;, &#x27;employment_industry&#x27;, &#x27;employment_occupation&#x27;],\n",
       "      dtype=&#x27;object&#x27;))])),\n",
       "                                       (&#x27;classifier&#x27;,\n",
       "                                        MultiOutputClassifier(estimator=RandomForestClassifier(max_features=12,\n",
       "                                                                                               n_estimators=400)))]),\n",
       "             n_jobs=-1,\n",
       "             param_grid={&#x27;classifier__estimator__max_depth&#x27;: [10, 20, 30],\n",
       "                         &#x27;classifier__estimator__max_leaf_nodes&#x27;: [10, 20, 30]},\n",
       "             scoring=&lt;function score_model at 0x7ff6715fb560&gt;, verbose=1)</pre></div></div></div><div class=\"sk-parallel\"><div class=\"sk-parallel-item\"><div class=\"sk-item\"><div class=\"sk-serial\"><div class=\"sk-item\"><div class=\"sk-serial\"><div class=\"sk-item sk-dashed-wrapped\"><div class=\"sk-label-container\"><div class=\"sk-label sk-toggleable\"><input class=\"sk-toggleable__control sk-hidden--visually\" id=\"2b97aeb7-f995-49c8-8ad8-16350aa8531e\" type=\"checkbox\" ><label for=\"2b97aeb7-f995-49c8-8ad8-16350aa8531e\" class=\"sk-toggleable__label sk-toggleable__label-arrow\">preprocessor: ColumnTransformer</label><div class=\"sk-toggleable__content\"><pre>ColumnTransformer(transformers=[(&#x27;numeric&#x27;,\n",
       "                                 Pipeline(steps=[(&#x27;standard_scaler&#x27;,\n",
       "                                                  StandardScaler()),\n",
       "                                                 (&#x27;simple_imputer&#x27;,\n",
       "                                                  SimpleImputer())]),\n",
       "                                 Index([&#x27;h1n1_concern&#x27;, &#x27;h1n1_knowledge&#x27;, &#x27;behavioral_antiviral_meds&#x27;,\n",
       "       &#x27;behavioral_avoidance&#x27;, &#x27;behavioral_face_mask&#x27;, &#x27;behavioral_wash_hands&#x27;,\n",
       "       &#x27;behavioral_large_gatherings&#x27;, &#x27;behavioral_outside_home&#x27;,\n",
       "       &#x27;behavioral_touch_face&#x27;,...\n",
       "       &#x27;opinion_h1n1_sick_from_vacc&#x27;, &#x27;opinion_seas_vacc_effective&#x27;,\n",
       "       &#x27;opinion_seas_risk&#x27;, &#x27;opinion_seas_sick_from_vacc&#x27;, &#x27;household_adults&#x27;,\n",
       "       &#x27;household_children&#x27;],\n",
       "      dtype=&#x27;object&#x27;)),\n",
       "                                (&#x27;categoric&#x27;, OneHotEncoder(),\n",
       "                                 Index([&#x27;age_group&#x27;, &#x27;education&#x27;, &#x27;race&#x27;, &#x27;sex&#x27;, &#x27;income_poverty&#x27;,\n",
       "       &#x27;marital_status&#x27;, &#x27;rent_or_own&#x27;, &#x27;employment_status&#x27;, &#x27;hhs_geo_region&#x27;,\n",
       "       &#x27;census_msa&#x27;, &#x27;employment_industry&#x27;, &#x27;employment_occupation&#x27;],\n",
       "      dtype=&#x27;object&#x27;))])</pre></div></div></div><div class=\"sk-parallel\"><div class=\"sk-parallel-item\"><div class=\"sk-item\"><div class=\"sk-label-container\"><div class=\"sk-label sk-toggleable\"><input class=\"sk-toggleable__control sk-hidden--visually\" id=\"52827f18-1b22-4fb0-bbef-f4861e728449\" type=\"checkbox\" ><label for=\"52827f18-1b22-4fb0-bbef-f4861e728449\" class=\"sk-toggleable__label sk-toggleable__label-arrow\">numeric</label><div class=\"sk-toggleable__content\"><pre>Index([&#x27;h1n1_concern&#x27;, &#x27;h1n1_knowledge&#x27;, &#x27;behavioral_antiviral_meds&#x27;,\n",
       "       &#x27;behavioral_avoidance&#x27;, &#x27;behavioral_face_mask&#x27;, &#x27;behavioral_wash_hands&#x27;,\n",
       "       &#x27;behavioral_large_gatherings&#x27;, &#x27;behavioral_outside_home&#x27;,\n",
       "       &#x27;behavioral_touch_face&#x27;, &#x27;doctor_recc_h1n1&#x27;, &#x27;doctor_recc_seasonal&#x27;,\n",
       "       &#x27;chronic_med_condition&#x27;, &#x27;child_under_6_months&#x27;, &#x27;health_worker&#x27;,\n",
       "       &#x27;health_insurance&#x27;, &#x27;opinion_h1n1_vacc_effective&#x27;, &#x27;opinion_h1n1_risk&#x27;,\n",
       "       &#x27;opinion_h1n1_sick_from_vacc&#x27;, &#x27;opinion_seas_vacc_effective&#x27;,\n",
       "       &#x27;opinion_seas_risk&#x27;, &#x27;opinion_seas_sick_from_vacc&#x27;, &#x27;household_adults&#x27;,\n",
       "       &#x27;household_children&#x27;],\n",
       "      dtype=&#x27;object&#x27;)</pre></div></div></div><div class=\"sk-serial\"><div class=\"sk-item\"><div class=\"sk-serial\"><div class=\"sk-item\"><div class=\"sk-estimator sk-toggleable\"><input class=\"sk-toggleable__control sk-hidden--visually\" id=\"c9022915-a22f-4d72-b2f0-5435138c0662\" type=\"checkbox\" ><label for=\"c9022915-a22f-4d72-b2f0-5435138c0662\" class=\"sk-toggleable__label sk-toggleable__label-arrow\">StandardScaler</label><div class=\"sk-toggleable__content\"><pre>StandardScaler()</pre></div></div></div><div class=\"sk-item\"><div class=\"sk-estimator sk-toggleable\"><input class=\"sk-toggleable__control sk-hidden--visually\" id=\"c91fca4c-553c-41e3-a970-ee591088ae20\" type=\"checkbox\" ><label for=\"c91fca4c-553c-41e3-a970-ee591088ae20\" class=\"sk-toggleable__label sk-toggleable__label-arrow\">SimpleImputer</label><div class=\"sk-toggleable__content\"><pre>SimpleImputer()</pre></div></div></div></div></div></div></div></div><div class=\"sk-parallel-item\"><div class=\"sk-item\"><div class=\"sk-label-container\"><div class=\"sk-label sk-toggleable\"><input class=\"sk-toggleable__control sk-hidden--visually\" id=\"91b161b6-4b00-436e-825f-052e3d696a6a\" type=\"checkbox\" ><label for=\"91b161b6-4b00-436e-825f-052e3d696a6a\" class=\"sk-toggleable__label sk-toggleable__label-arrow\">categoric</label><div class=\"sk-toggleable__content\"><pre>Index([&#x27;age_group&#x27;, &#x27;education&#x27;, &#x27;race&#x27;, &#x27;sex&#x27;, &#x27;income_poverty&#x27;,\n",
       "       &#x27;marital_status&#x27;, &#x27;rent_or_own&#x27;, &#x27;employment_status&#x27;, &#x27;hhs_geo_region&#x27;,\n",
       "       &#x27;census_msa&#x27;, &#x27;employment_industry&#x27;, &#x27;employment_occupation&#x27;],\n",
       "      dtype=&#x27;object&#x27;)</pre></div></div></div><div class=\"sk-serial\"><div class=\"sk-item\"><div class=\"sk-estimator sk-toggleable\"><input class=\"sk-toggleable__control sk-hidden--visually\" id=\"2cb766ec-2dce-451f-a3fb-0eced1c02091\" type=\"checkbox\" ><label for=\"2cb766ec-2dce-451f-a3fb-0eced1c02091\" class=\"sk-toggleable__label sk-toggleable__label-arrow\">OneHotEncoder</label><div class=\"sk-toggleable__content\"><pre>OneHotEncoder()</pre></div></div></div></div></div></div></div></div><div class=\"sk-item sk-dashed-wrapped\"><div class=\"sk-label-container\"><div class=\"sk-label sk-toggleable\"><input class=\"sk-toggleable__control sk-hidden--visually\" id=\"253f6e2f-3b42-4a72-acc2-809ad9283672\" type=\"checkbox\" ><label for=\"253f6e2f-3b42-4a72-acc2-809ad9283672\" class=\"sk-toggleable__label sk-toggleable__label-arrow\">classifier: MultiOutputClassifier</label><div class=\"sk-toggleable__content\"><pre>MultiOutputClassifier(estimator=RandomForestClassifier(max_features=12,\n",
       "                                                       n_estimators=400))</pre></div></div></div><div class=\"sk-parallel\"><div class=\"sk-parallel-item\"><div class=\"sk-item\"><div class=\"sk-serial\"><div class=\"sk-item\"><div class=\"sk-estimator sk-toggleable\"><input class=\"sk-toggleable__control sk-hidden--visually\" id=\"5d0a2113-193c-4d09-a5db-045557447a88\" type=\"checkbox\" ><label for=\"5d0a2113-193c-4d09-a5db-045557447a88\" class=\"sk-toggleable__label sk-toggleable__label-arrow\">RandomForestClassifier</label><div class=\"sk-toggleable__content\"><pre>RandomForestClassifier(max_features=12, n_estimators=400)</pre></div></div></div></div></div></div></div></div></div></div></div></div></div></div></div></div></div>"
      ],
      "text/plain": [
       "GridSearchCV(cv=5,\n",
       "             estimator=Pipeline(steps=[('preprocessor',\n",
       "                                        ColumnTransformer(transformers=[('numeric',\n",
       "                                                                         Pipeline(steps=[('standard_scaler',\n",
       "                                                                                          StandardScaler()),\n",
       "                                                                                         ('simple_imputer',\n",
       "                                                                                          SimpleImputer())]),\n",
       "                                                                         Index(['h1n1_concern', 'h1n1_knowledge', 'behavioral_antiviral_meds',\n",
       "       'behavioral_avoidance', 'behavioral_face_mask', 'behavioral_wash_hands',\n",
       "       'behavioral_large_ga...\n",
       "       'census_msa', 'employment_industry', 'employment_occupation'],\n",
       "      dtype='object'))])),\n",
       "                                       ('classifier',\n",
       "                                        MultiOutputClassifier(estimator=RandomForestClassifier(max_features=12,\n",
       "                                                                                               n_estimators=400)))]),\n",
       "             n_jobs=-1,\n",
       "             param_grid={'classifier__estimator__max_depth': [10, 20, 30],\n",
       "                         'classifier__estimator__max_leaf_nodes': [10, 20, 30]},\n",
       "             scoring=<function score_model at 0x7ff6715fb560>, verbose=1)"
      ]
     },
     "execution_count": 44,
     "metadata": {},
     "output_type": "execute_result"
    }
   ],
   "source": [
    "# Solution\n",
    "\n",
    "%time searcher.fit(X_train, y_train)"
   ]
  },
  {
   "cell_type": "code",
   "execution_count": 45,
   "id": "0f4aefc0",
   "metadata": {},
   "outputs": [
    {
     "data": {
      "text/plain": [
       "{'classifier__estimator__max_depth': 10,\n",
       " 'classifier__estimator__max_leaf_nodes': 30}"
      ]
     },
     "execution_count": 45,
     "metadata": {},
     "output_type": "execute_result"
    }
   ],
   "source": [
    "# Solution\n",
    "\n",
    "searcher.best_params_"
   ]
  },
  {
   "cell_type": "code",
   "execution_count": 46,
   "id": "0165a25b",
   "metadata": {},
   "outputs": [
    {
     "data": {
      "text/plain": [
       "0.8472357756855274"
      ]
     },
     "execution_count": 46,
     "metadata": {},
     "output_type": "execute_result"
    }
   ],
   "source": [
    "# Solution\n",
    "\n",
    "searcher.best_score_"
   ]
  },
  {
   "cell_type": "code",
   "execution_count": 47,
   "id": "9f7f3ac2",
   "metadata": {},
   "outputs": [
    {
     "data": {
      "text/html": [
       "<style>#sk-4690f317-95a8-4ae0-91fa-8b5e48c6a743 {color: black;background-color: white;}#sk-4690f317-95a8-4ae0-91fa-8b5e48c6a743 pre{padding: 0;}#sk-4690f317-95a8-4ae0-91fa-8b5e48c6a743 div.sk-toggleable {background-color: white;}#sk-4690f317-95a8-4ae0-91fa-8b5e48c6a743 label.sk-toggleable__label {cursor: pointer;display: block;width: 100%;margin-bottom: 0;padding: 0.3em;box-sizing: border-box;text-align: center;}#sk-4690f317-95a8-4ae0-91fa-8b5e48c6a743 label.sk-toggleable__label-arrow:before {content: \"▸\";float: left;margin-right: 0.25em;color: #696969;}#sk-4690f317-95a8-4ae0-91fa-8b5e48c6a743 label.sk-toggleable__label-arrow:hover:before {color: black;}#sk-4690f317-95a8-4ae0-91fa-8b5e48c6a743 div.sk-estimator:hover label.sk-toggleable__label-arrow:before {color: black;}#sk-4690f317-95a8-4ae0-91fa-8b5e48c6a743 div.sk-toggleable__content {max-height: 0;max-width: 0;overflow: hidden;text-align: left;background-color: #f0f8ff;}#sk-4690f317-95a8-4ae0-91fa-8b5e48c6a743 div.sk-toggleable__content pre {margin: 0.2em;color: black;border-radius: 0.25em;background-color: #f0f8ff;}#sk-4690f317-95a8-4ae0-91fa-8b5e48c6a743 input.sk-toggleable__control:checked~div.sk-toggleable__content {max-height: 200px;max-width: 100%;overflow: auto;}#sk-4690f317-95a8-4ae0-91fa-8b5e48c6a743 input.sk-toggleable__control:checked~label.sk-toggleable__label-arrow:before {content: \"▾\";}#sk-4690f317-95a8-4ae0-91fa-8b5e48c6a743 div.sk-estimator input.sk-toggleable__control:checked~label.sk-toggleable__label {background-color: #d4ebff;}#sk-4690f317-95a8-4ae0-91fa-8b5e48c6a743 div.sk-label input.sk-toggleable__control:checked~label.sk-toggleable__label {background-color: #d4ebff;}#sk-4690f317-95a8-4ae0-91fa-8b5e48c6a743 input.sk-hidden--visually {border: 0;clip: rect(1px 1px 1px 1px);clip: rect(1px, 1px, 1px, 1px);height: 1px;margin: -1px;overflow: hidden;padding: 0;position: absolute;width: 1px;}#sk-4690f317-95a8-4ae0-91fa-8b5e48c6a743 div.sk-estimator {font-family: monospace;background-color: #f0f8ff;border: 1px dotted black;border-radius: 0.25em;box-sizing: border-box;margin-bottom: 0.5em;}#sk-4690f317-95a8-4ae0-91fa-8b5e48c6a743 div.sk-estimator:hover {background-color: #d4ebff;}#sk-4690f317-95a8-4ae0-91fa-8b5e48c6a743 div.sk-parallel-item::after {content: \"\";width: 100%;border-bottom: 1px solid gray;flex-grow: 1;}#sk-4690f317-95a8-4ae0-91fa-8b5e48c6a743 div.sk-label:hover label.sk-toggleable__label {background-color: #d4ebff;}#sk-4690f317-95a8-4ae0-91fa-8b5e48c6a743 div.sk-serial::before {content: \"\";position: absolute;border-left: 1px solid gray;box-sizing: border-box;top: 2em;bottom: 0;left: 50%;}#sk-4690f317-95a8-4ae0-91fa-8b5e48c6a743 div.sk-serial {display: flex;flex-direction: column;align-items: center;background-color: white;padding-right: 0.2em;padding-left: 0.2em;}#sk-4690f317-95a8-4ae0-91fa-8b5e48c6a743 div.sk-item {z-index: 1;}#sk-4690f317-95a8-4ae0-91fa-8b5e48c6a743 div.sk-parallel {display: flex;align-items: stretch;justify-content: center;background-color: white;}#sk-4690f317-95a8-4ae0-91fa-8b5e48c6a743 div.sk-parallel::before {content: \"\";position: absolute;border-left: 1px solid gray;box-sizing: border-box;top: 2em;bottom: 0;left: 50%;}#sk-4690f317-95a8-4ae0-91fa-8b5e48c6a743 div.sk-parallel-item {display: flex;flex-direction: column;position: relative;background-color: white;}#sk-4690f317-95a8-4ae0-91fa-8b5e48c6a743 div.sk-parallel-item:first-child::after {align-self: flex-end;width: 50%;}#sk-4690f317-95a8-4ae0-91fa-8b5e48c6a743 div.sk-parallel-item:last-child::after {align-self: flex-start;width: 50%;}#sk-4690f317-95a8-4ae0-91fa-8b5e48c6a743 div.sk-parallel-item:only-child::after {width: 0;}#sk-4690f317-95a8-4ae0-91fa-8b5e48c6a743 div.sk-dashed-wrapped {border: 1px dashed gray;margin: 0 0.4em 0.5em 0.4em;box-sizing: border-box;padding-bottom: 0.4em;background-color: white;position: relative;}#sk-4690f317-95a8-4ae0-91fa-8b5e48c6a743 div.sk-label label {font-family: monospace;font-weight: bold;background-color: white;display: inline-block;line-height: 1.2em;}#sk-4690f317-95a8-4ae0-91fa-8b5e48c6a743 div.sk-label-container {position: relative;z-index: 2;text-align: center;}#sk-4690f317-95a8-4ae0-91fa-8b5e48c6a743 div.sk-container {/* jupyter's `normalize.less` sets `[hidden] { display: none; }` but bootstrap.min.css set `[hidden] { display: none !important; }` so we also need the `!important` here to be able to override the default hidden behavior on the sphinx rendered scikit-learn.org. See: https://github.com/scikit-learn/scikit-learn/issues/21755 */display: inline-block !important;position: relative;}#sk-4690f317-95a8-4ae0-91fa-8b5e48c6a743 div.sk-text-repr-fallback {display: none;}</style><div id=\"sk-4690f317-95a8-4ae0-91fa-8b5e48c6a743\" class=\"sk-top-container\"><div class=\"sk-text-repr-fallback\"><pre>RandomForestClassifier(max_depth=10, max_features=12, max_leaf_nodes=30,\n",
       "                       n_estimators=400)</pre><b>Please rerun this cell to show the HTML repr or trust the notebook.</b></div><div class=\"sk-container\" hidden><div class=\"sk-item\"><div class=\"sk-estimator sk-toggleable\"><input class=\"sk-toggleable__control sk-hidden--visually\" id=\"772f780a-9fe3-4fd6-9e62-6b658629355c\" type=\"checkbox\" checked><label for=\"772f780a-9fe3-4fd6-9e62-6b658629355c\" class=\"sk-toggleable__label sk-toggleable__label-arrow\">RandomForestClassifier</label><div class=\"sk-toggleable__content\"><pre>RandomForestClassifier(max_depth=10, max_features=12, max_leaf_nodes=30,\n",
       "                       n_estimators=400)</pre></div></div></div></div></div>"
      ],
      "text/plain": [
       "RandomForestClassifier(max_depth=10, max_features=12, max_leaf_nodes=30,\n",
       "                       n_estimators=400)"
      ]
     },
     "execution_count": 47,
     "metadata": {},
     "output_type": "execute_result"
    }
   ],
   "source": [
    "# Solution\n",
    "\n",
    "best_model = searcher.best_estimator_\n",
    "best_model[\"classifier\"].estimator"
   ]
  },
  {
   "cell_type": "markdown",
   "id": "464dea18",
   "metadata": {},
   "source": [
    "## Gradient boosting\n",
    "\n",
    "Random forest classifiers are generally pretty good, but in the last decade they have been overshadowed by the success of [gradient boosting](https://en.wikipedia.org/wiki/Gradient_boosting).\n",
    "Compared to random forests, algorithms using gradient boosting tend to be faster and more accurate.\n",
    "\n",
    "Gradient boosting is based on two ideas:\n",
    "\n",
    "* Instead of fitting many simple models to the same data, we fit a sequence of models where each model tries to correct the errors of the previous model, which is called **boosting**, and\n",
    "\n",
    "* At each stage, we choose the best model by minimizing a \"cost\" that quantifies the magnitude of the errors. This minimization can be done efficiently using **gradient descent** algorithms.\n",
    "\n",
    "So gradient boosting might be more explicitly called \"boosting using gradient descent\".\n",
    "\n",
    "Scikit-learn provides several classification algorithms based on gradient boosting, including `AdaBoostClassifier` and `GradientBoostingClassifier`, but the one that's recommended for datasets with more than 10,000 rows (like ours) is `HistGradientBoostingClassifier`.\n",
    "\n",
    "One feature of this classifier is that it can handle missing data, so the preprocessing pipeline can be simple. For the numerical variables, we don't have to do anything! For the categorical variables, we'll use the ordinal encoder."
   ]
  },
  {
   "cell_type": "code",
   "execution_count": 48,
   "id": "b4bc3f6e",
   "metadata": {},
   "outputs": [],
   "source": [
    "from sklearn.preprocessing import OrdinalEncoder\n",
    "\n",
    "preprocessor = ColumnTransformer(\n",
    "    transformers=[\n",
    "        (\"numeric\", \"passthrough\", numeric_cols),\n",
    "        (\"categoric\", OrdinalEncoder(), categoric_cols),\n",
    "    ]\n",
    ")"
   ]
  },
  {
   "cell_type": "markdown",
   "id": "081fbb56",
   "metadata": {},
   "source": [
    "Now, when we make the `HistGradientBoostingClassifier`, we have to tell it which variables are categoric, which we'll do by providing their indices in the list of features."
   ]
  },
  {
   "cell_type": "code",
   "execution_count": 49,
   "id": "bd96b21e",
   "metadata": {},
   "outputs": [
    {
     "data": {
      "text/plain": [
       "[21, 22, 23, 24, 25, 26, 27, 28, 29, 30, 33, 34]"
      ]
     },
     "execution_count": 49,
     "metadata": {},
     "output_type": "execute_result"
    }
   ],
   "source": [
    "categoric_indices = [features_df.columns.get_loc(col) for col in categoric_cols]\n",
    "categoric_indices"
   ]
  },
  {
   "cell_type": "code",
   "execution_count": 50,
   "id": "1d5c1676",
   "metadata": {},
   "outputs": [],
   "source": [
    "from sklearn.ensemble import HistGradientBoostingClassifier\n",
    "\n",
    "classifier = MultiOutputClassifier(\n",
    "    estimator=HistGradientBoostingClassifier(\n",
    "        categorical_features=categoric_indices,\n",
    "    )\n",
    ")"
   ]
  },
  {
   "cell_type": "markdown",
   "id": "69f34d24",
   "metadata": {},
   "source": [
    "Here's the complete model."
   ]
  },
  {
   "cell_type": "code",
   "execution_count": 51,
   "id": "20d216a0",
   "metadata": {},
   "outputs": [],
   "source": [
    "model7 = Pipeline(\n",
    "    [\n",
    "        (\"preprocessor\", preprocessor),\n",
    "        (\"classifier\", classifier),\n",
    "    ]\n",
    ")"
   ]
  },
  {
   "cell_type": "markdown",
   "id": "066db804",
   "metadata": {},
   "source": [
    "And we can fit it as usual."
   ]
  },
  {
   "cell_type": "code",
   "execution_count": 52,
   "id": "2bf8eb36",
   "metadata": {},
   "outputs": [
    {
     "data": {
      "text/html": [
       "<style>#sk-f61da0ae-2688-46e8-b620-eca3f5ba3046 {color: black;background-color: white;}#sk-f61da0ae-2688-46e8-b620-eca3f5ba3046 pre{padding: 0;}#sk-f61da0ae-2688-46e8-b620-eca3f5ba3046 div.sk-toggleable {background-color: white;}#sk-f61da0ae-2688-46e8-b620-eca3f5ba3046 label.sk-toggleable__label {cursor: pointer;display: block;width: 100%;margin-bottom: 0;padding: 0.3em;box-sizing: border-box;text-align: center;}#sk-f61da0ae-2688-46e8-b620-eca3f5ba3046 label.sk-toggleable__label-arrow:before {content: \"▸\";float: left;margin-right: 0.25em;color: #696969;}#sk-f61da0ae-2688-46e8-b620-eca3f5ba3046 label.sk-toggleable__label-arrow:hover:before {color: black;}#sk-f61da0ae-2688-46e8-b620-eca3f5ba3046 div.sk-estimator:hover label.sk-toggleable__label-arrow:before {color: black;}#sk-f61da0ae-2688-46e8-b620-eca3f5ba3046 div.sk-toggleable__content {max-height: 0;max-width: 0;overflow: hidden;text-align: left;background-color: #f0f8ff;}#sk-f61da0ae-2688-46e8-b620-eca3f5ba3046 div.sk-toggleable__content pre {margin: 0.2em;color: black;border-radius: 0.25em;background-color: #f0f8ff;}#sk-f61da0ae-2688-46e8-b620-eca3f5ba3046 input.sk-toggleable__control:checked~div.sk-toggleable__content {max-height: 200px;max-width: 100%;overflow: auto;}#sk-f61da0ae-2688-46e8-b620-eca3f5ba3046 input.sk-toggleable__control:checked~label.sk-toggleable__label-arrow:before {content: \"▾\";}#sk-f61da0ae-2688-46e8-b620-eca3f5ba3046 div.sk-estimator input.sk-toggleable__control:checked~label.sk-toggleable__label {background-color: #d4ebff;}#sk-f61da0ae-2688-46e8-b620-eca3f5ba3046 div.sk-label input.sk-toggleable__control:checked~label.sk-toggleable__label {background-color: #d4ebff;}#sk-f61da0ae-2688-46e8-b620-eca3f5ba3046 input.sk-hidden--visually {border: 0;clip: rect(1px 1px 1px 1px);clip: rect(1px, 1px, 1px, 1px);height: 1px;margin: -1px;overflow: hidden;padding: 0;position: absolute;width: 1px;}#sk-f61da0ae-2688-46e8-b620-eca3f5ba3046 div.sk-estimator {font-family: monospace;background-color: #f0f8ff;border: 1px dotted black;border-radius: 0.25em;box-sizing: border-box;margin-bottom: 0.5em;}#sk-f61da0ae-2688-46e8-b620-eca3f5ba3046 div.sk-estimator:hover {background-color: #d4ebff;}#sk-f61da0ae-2688-46e8-b620-eca3f5ba3046 div.sk-parallel-item::after {content: \"\";width: 100%;border-bottom: 1px solid gray;flex-grow: 1;}#sk-f61da0ae-2688-46e8-b620-eca3f5ba3046 div.sk-label:hover label.sk-toggleable__label {background-color: #d4ebff;}#sk-f61da0ae-2688-46e8-b620-eca3f5ba3046 div.sk-serial::before {content: \"\";position: absolute;border-left: 1px solid gray;box-sizing: border-box;top: 2em;bottom: 0;left: 50%;}#sk-f61da0ae-2688-46e8-b620-eca3f5ba3046 div.sk-serial {display: flex;flex-direction: column;align-items: center;background-color: white;padding-right: 0.2em;padding-left: 0.2em;}#sk-f61da0ae-2688-46e8-b620-eca3f5ba3046 div.sk-item {z-index: 1;}#sk-f61da0ae-2688-46e8-b620-eca3f5ba3046 div.sk-parallel {display: flex;align-items: stretch;justify-content: center;background-color: white;}#sk-f61da0ae-2688-46e8-b620-eca3f5ba3046 div.sk-parallel::before {content: \"\";position: absolute;border-left: 1px solid gray;box-sizing: border-box;top: 2em;bottom: 0;left: 50%;}#sk-f61da0ae-2688-46e8-b620-eca3f5ba3046 div.sk-parallel-item {display: flex;flex-direction: column;position: relative;background-color: white;}#sk-f61da0ae-2688-46e8-b620-eca3f5ba3046 div.sk-parallel-item:first-child::after {align-self: flex-end;width: 50%;}#sk-f61da0ae-2688-46e8-b620-eca3f5ba3046 div.sk-parallel-item:last-child::after {align-self: flex-start;width: 50%;}#sk-f61da0ae-2688-46e8-b620-eca3f5ba3046 div.sk-parallel-item:only-child::after {width: 0;}#sk-f61da0ae-2688-46e8-b620-eca3f5ba3046 div.sk-dashed-wrapped {border: 1px dashed gray;margin: 0 0.4em 0.5em 0.4em;box-sizing: border-box;padding-bottom: 0.4em;background-color: white;position: relative;}#sk-f61da0ae-2688-46e8-b620-eca3f5ba3046 div.sk-label label {font-family: monospace;font-weight: bold;background-color: white;display: inline-block;line-height: 1.2em;}#sk-f61da0ae-2688-46e8-b620-eca3f5ba3046 div.sk-label-container {position: relative;z-index: 2;text-align: center;}#sk-f61da0ae-2688-46e8-b620-eca3f5ba3046 div.sk-container {/* jupyter's `normalize.less` sets `[hidden] { display: none; }` but bootstrap.min.css set `[hidden] { display: none !important; }` so we also need the `!important` here to be able to override the default hidden behavior on the sphinx rendered scikit-learn.org. See: https://github.com/scikit-learn/scikit-learn/issues/21755 */display: inline-block !important;position: relative;}#sk-f61da0ae-2688-46e8-b620-eca3f5ba3046 div.sk-text-repr-fallback {display: none;}</style><div id=\"sk-f61da0ae-2688-46e8-b620-eca3f5ba3046\" class=\"sk-top-container\"><div class=\"sk-text-repr-fallback\"><pre>Pipeline(steps=[(&#x27;preprocessor&#x27;,\n",
       "                 ColumnTransformer(transformers=[(&#x27;numeric&#x27;, &#x27;passthrough&#x27;,\n",
       "                                                  Index([&#x27;h1n1_concern&#x27;, &#x27;h1n1_knowledge&#x27;, &#x27;behavioral_antiviral_meds&#x27;,\n",
       "       &#x27;behavioral_avoidance&#x27;, &#x27;behavioral_face_mask&#x27;, &#x27;behavioral_wash_hands&#x27;,\n",
       "       &#x27;behavioral_large_gatherings&#x27;, &#x27;behavioral_outside_home&#x27;,\n",
       "       &#x27;behavioral_touch_face&#x27;, &#x27;doctor_recc_h1n1&#x27;, &#x27;doctor_recc_seasonal&#x27;,\n",
       "       &#x27;c...\n",
       "                                                 (&#x27;categoric&#x27;, OrdinalEncoder(),\n",
       "                                                  Index([&#x27;age_group&#x27;, &#x27;education&#x27;, &#x27;race&#x27;, &#x27;sex&#x27;, &#x27;income_poverty&#x27;,\n",
       "       &#x27;marital_status&#x27;, &#x27;rent_or_own&#x27;, &#x27;employment_status&#x27;, &#x27;hhs_geo_region&#x27;,\n",
       "       &#x27;census_msa&#x27;, &#x27;employment_industry&#x27;, &#x27;employment_occupation&#x27;],\n",
       "      dtype=&#x27;object&#x27;))])),\n",
       "                (&#x27;classifier&#x27;,\n",
       "                 MultiOutputClassifier(estimator=HistGradientBoostingClassifier(categorical_features=[21,\n",
       "                                                                                                      22,\n",
       "                                                                                                      23,\n",
       "                                                                                                      24,\n",
       "                                                                                                      25,\n",
       "                                                                                                      26,\n",
       "                                                                                                      27,\n",
       "                                                                                                      28,\n",
       "                                                                                                      29,\n",
       "                                                                                                      30,\n",
       "                                                                                                      33,\n",
       "                                                                                                      34])))])</pre><b>Please rerun this cell to show the HTML repr or trust the notebook.</b></div><div class=\"sk-container\" hidden><div class=\"sk-item sk-dashed-wrapped\"><div class=\"sk-label-container\"><div class=\"sk-label sk-toggleable\"><input class=\"sk-toggleable__control sk-hidden--visually\" id=\"eb8e1f63-363b-4ff6-9e92-69ebe60642f1\" type=\"checkbox\" ><label for=\"eb8e1f63-363b-4ff6-9e92-69ebe60642f1\" class=\"sk-toggleable__label sk-toggleable__label-arrow\">Pipeline</label><div class=\"sk-toggleable__content\"><pre>Pipeline(steps=[(&#x27;preprocessor&#x27;,\n",
       "                 ColumnTransformer(transformers=[(&#x27;numeric&#x27;, &#x27;passthrough&#x27;,\n",
       "                                                  Index([&#x27;h1n1_concern&#x27;, &#x27;h1n1_knowledge&#x27;, &#x27;behavioral_antiviral_meds&#x27;,\n",
       "       &#x27;behavioral_avoidance&#x27;, &#x27;behavioral_face_mask&#x27;, &#x27;behavioral_wash_hands&#x27;,\n",
       "       &#x27;behavioral_large_gatherings&#x27;, &#x27;behavioral_outside_home&#x27;,\n",
       "       &#x27;behavioral_touch_face&#x27;, &#x27;doctor_recc_h1n1&#x27;, &#x27;doctor_recc_seasonal&#x27;,\n",
       "       &#x27;c...\n",
       "                                                 (&#x27;categoric&#x27;, OrdinalEncoder(),\n",
       "                                                  Index([&#x27;age_group&#x27;, &#x27;education&#x27;, &#x27;race&#x27;, &#x27;sex&#x27;, &#x27;income_poverty&#x27;,\n",
       "       &#x27;marital_status&#x27;, &#x27;rent_or_own&#x27;, &#x27;employment_status&#x27;, &#x27;hhs_geo_region&#x27;,\n",
       "       &#x27;census_msa&#x27;, &#x27;employment_industry&#x27;, &#x27;employment_occupation&#x27;],\n",
       "      dtype=&#x27;object&#x27;))])),\n",
       "                (&#x27;classifier&#x27;,\n",
       "                 MultiOutputClassifier(estimator=HistGradientBoostingClassifier(categorical_features=[21,\n",
       "                                                                                                      22,\n",
       "                                                                                                      23,\n",
       "                                                                                                      24,\n",
       "                                                                                                      25,\n",
       "                                                                                                      26,\n",
       "                                                                                                      27,\n",
       "                                                                                                      28,\n",
       "                                                                                                      29,\n",
       "                                                                                                      30,\n",
       "                                                                                                      33,\n",
       "                                                                                                      34])))])</pre></div></div></div><div class=\"sk-serial\"><div class=\"sk-item sk-dashed-wrapped\"><div class=\"sk-label-container\"><div class=\"sk-label sk-toggleable\"><input class=\"sk-toggleable__control sk-hidden--visually\" id=\"d6b6fce6-37c6-49c1-92da-db7de4a94624\" type=\"checkbox\" ><label for=\"d6b6fce6-37c6-49c1-92da-db7de4a94624\" class=\"sk-toggleable__label sk-toggleable__label-arrow\">preprocessor: ColumnTransformer</label><div class=\"sk-toggleable__content\"><pre>ColumnTransformer(transformers=[(&#x27;numeric&#x27;, &#x27;passthrough&#x27;,\n",
       "                                 Index([&#x27;h1n1_concern&#x27;, &#x27;h1n1_knowledge&#x27;, &#x27;behavioral_antiviral_meds&#x27;,\n",
       "       &#x27;behavioral_avoidance&#x27;, &#x27;behavioral_face_mask&#x27;, &#x27;behavioral_wash_hands&#x27;,\n",
       "       &#x27;behavioral_large_gatherings&#x27;, &#x27;behavioral_outside_home&#x27;,\n",
       "       &#x27;behavioral_touch_face&#x27;, &#x27;doctor_recc_h1n1&#x27;, &#x27;doctor_recc_seasonal&#x27;,\n",
       "       &#x27;chronic_med_condition&#x27;, &#x27;child_und...\n",
       "       &#x27;opinion_h1n1_sick_from_vacc&#x27;, &#x27;opinion_seas_vacc_effective&#x27;,\n",
       "       &#x27;opinion_seas_risk&#x27;, &#x27;opinion_seas_sick_from_vacc&#x27;, &#x27;household_adults&#x27;,\n",
       "       &#x27;household_children&#x27;],\n",
       "      dtype=&#x27;object&#x27;)),\n",
       "                                (&#x27;categoric&#x27;, OrdinalEncoder(),\n",
       "                                 Index([&#x27;age_group&#x27;, &#x27;education&#x27;, &#x27;race&#x27;, &#x27;sex&#x27;, &#x27;income_poverty&#x27;,\n",
       "       &#x27;marital_status&#x27;, &#x27;rent_or_own&#x27;, &#x27;employment_status&#x27;, &#x27;hhs_geo_region&#x27;,\n",
       "       &#x27;census_msa&#x27;, &#x27;employment_industry&#x27;, &#x27;employment_occupation&#x27;],\n",
       "      dtype=&#x27;object&#x27;))])</pre></div></div></div><div class=\"sk-parallel\"><div class=\"sk-parallel-item\"><div class=\"sk-item\"><div class=\"sk-label-container\"><div class=\"sk-label sk-toggleable\"><input class=\"sk-toggleable__control sk-hidden--visually\" id=\"2a27b21e-1136-4a41-89bf-ecfc882fd887\" type=\"checkbox\" ><label for=\"2a27b21e-1136-4a41-89bf-ecfc882fd887\" class=\"sk-toggleable__label sk-toggleable__label-arrow\">numeric</label><div class=\"sk-toggleable__content\"><pre>Index([&#x27;h1n1_concern&#x27;, &#x27;h1n1_knowledge&#x27;, &#x27;behavioral_antiviral_meds&#x27;,\n",
       "       &#x27;behavioral_avoidance&#x27;, &#x27;behavioral_face_mask&#x27;, &#x27;behavioral_wash_hands&#x27;,\n",
       "       &#x27;behavioral_large_gatherings&#x27;, &#x27;behavioral_outside_home&#x27;,\n",
       "       &#x27;behavioral_touch_face&#x27;, &#x27;doctor_recc_h1n1&#x27;, &#x27;doctor_recc_seasonal&#x27;,\n",
       "       &#x27;chronic_med_condition&#x27;, &#x27;child_under_6_months&#x27;, &#x27;health_worker&#x27;,\n",
       "       &#x27;health_insurance&#x27;, &#x27;opinion_h1n1_vacc_effective&#x27;, &#x27;opinion_h1n1_risk&#x27;,\n",
       "       &#x27;opinion_h1n1_sick_from_vacc&#x27;, &#x27;opinion_seas_vacc_effective&#x27;,\n",
       "       &#x27;opinion_seas_risk&#x27;, &#x27;opinion_seas_sick_from_vacc&#x27;, &#x27;household_adults&#x27;,\n",
       "       &#x27;household_children&#x27;],\n",
       "      dtype=&#x27;object&#x27;)</pre></div></div></div><div class=\"sk-serial\"><div class=\"sk-item\"><div class=\"sk-estimator sk-toggleable\"><input class=\"sk-toggleable__control sk-hidden--visually\" id=\"98e232cd-1911-4aec-ab7e-e54d4df9b72a\" type=\"checkbox\" ><label for=\"98e232cd-1911-4aec-ab7e-e54d4df9b72a\" class=\"sk-toggleable__label sk-toggleable__label-arrow\">passthrough</label><div class=\"sk-toggleable__content\"><pre>passthrough</pre></div></div></div></div></div></div><div class=\"sk-parallel-item\"><div class=\"sk-item\"><div class=\"sk-label-container\"><div class=\"sk-label sk-toggleable\"><input class=\"sk-toggleable__control sk-hidden--visually\" id=\"a80668ae-68d7-473e-abf2-c0efd6367899\" type=\"checkbox\" ><label for=\"a80668ae-68d7-473e-abf2-c0efd6367899\" class=\"sk-toggleable__label sk-toggleable__label-arrow\">categoric</label><div class=\"sk-toggleable__content\"><pre>Index([&#x27;age_group&#x27;, &#x27;education&#x27;, &#x27;race&#x27;, &#x27;sex&#x27;, &#x27;income_poverty&#x27;,\n",
       "       &#x27;marital_status&#x27;, &#x27;rent_or_own&#x27;, &#x27;employment_status&#x27;, &#x27;hhs_geo_region&#x27;,\n",
       "       &#x27;census_msa&#x27;, &#x27;employment_industry&#x27;, &#x27;employment_occupation&#x27;],\n",
       "      dtype=&#x27;object&#x27;)</pre></div></div></div><div class=\"sk-serial\"><div class=\"sk-item\"><div class=\"sk-estimator sk-toggleable\"><input class=\"sk-toggleable__control sk-hidden--visually\" id=\"76be2942-83c9-4a0f-afe5-ea70b7afc22a\" type=\"checkbox\" ><label for=\"76be2942-83c9-4a0f-afe5-ea70b7afc22a\" class=\"sk-toggleable__label sk-toggleable__label-arrow\">OrdinalEncoder</label><div class=\"sk-toggleable__content\"><pre>OrdinalEncoder()</pre></div></div></div></div></div></div></div></div><div class=\"sk-item sk-dashed-wrapped\"><div class=\"sk-label-container\"><div class=\"sk-label sk-toggleable\"><input class=\"sk-toggleable__control sk-hidden--visually\" id=\"a2852c3c-5f4f-4c19-8b34-e7fc0f67932b\" type=\"checkbox\" ><label for=\"a2852c3c-5f4f-4c19-8b34-e7fc0f67932b\" class=\"sk-toggleable__label sk-toggleable__label-arrow\">classifier: MultiOutputClassifier</label><div class=\"sk-toggleable__content\"><pre>MultiOutputClassifier(estimator=HistGradientBoostingClassifier(categorical_features=[21,\n",
       "                                                                                     22,\n",
       "                                                                                     23,\n",
       "                                                                                     24,\n",
       "                                                                                     25,\n",
       "                                                                                     26,\n",
       "                                                                                     27,\n",
       "                                                                                     28,\n",
       "                                                                                     29,\n",
       "                                                                                     30,\n",
       "                                                                                     33,\n",
       "                                                                                     34]))</pre></div></div></div><div class=\"sk-parallel\"><div class=\"sk-parallel-item\"><div class=\"sk-item\"><div class=\"sk-serial\"><div class=\"sk-item\"><div class=\"sk-estimator sk-toggleable\"><input class=\"sk-toggleable__control sk-hidden--visually\" id=\"716682e9-c9d8-447d-be9f-db5245dc0f0f\" type=\"checkbox\" ><label for=\"716682e9-c9d8-447d-be9f-db5245dc0f0f\" class=\"sk-toggleable__label sk-toggleable__label-arrow\">HistGradientBoostingClassifier</label><div class=\"sk-toggleable__content\"><pre>HistGradientBoostingClassifier(categorical_features=[21, 22, 23, 24, 25, 26, 27,\n",
       "                                                     28, 29, 30, 33, 34])</pre></div></div></div></div></div></div></div></div></div></div></div></div>"
      ],
      "text/plain": [
       "Pipeline(steps=[('preprocessor',\n",
       "                 ColumnTransformer(transformers=[('numeric', 'passthrough',\n",
       "                                                  Index(['h1n1_concern', 'h1n1_knowledge', 'behavioral_antiviral_meds',\n",
       "       'behavioral_avoidance', 'behavioral_face_mask', 'behavioral_wash_hands',\n",
       "       'behavioral_large_gatherings', 'behavioral_outside_home',\n",
       "       'behavioral_touch_face', 'doctor_recc_h1n1', 'doctor_recc_seasonal',\n",
       "       'c...\n",
       "                                                 ('categoric', OrdinalEncoder(),\n",
       "                                                  Index(['age_group', 'education', 'race', 'sex', 'income_poverty',\n",
       "       'marital_status', 'rent_or_own', 'employment_status', 'hhs_geo_region',\n",
       "       'census_msa', 'employment_industry', 'employment_occupation'],\n",
       "      dtype='object'))])),\n",
       "                ('classifier',\n",
       "                 MultiOutputClassifier(estimator=HistGradientBoostingClassifier(categorical_features=[21,\n",
       "                                                                                                      22,\n",
       "                                                                                                      23,\n",
       "                                                                                                      24,\n",
       "                                                                                                      25,\n",
       "                                                                                                      26,\n",
       "                                                                                                      27,\n",
       "                                                                                                      28,\n",
       "                                                                                                      29,\n",
       "                                                                                                      30,\n",
       "                                                                                                      33,\n",
       "                                                                                                      34])))])"
      ]
     },
     "execution_count": 52,
     "metadata": {},
     "output_type": "execute_result"
    }
   ],
   "source": [
    "model7.fit(X_train, y_train)"
   ]
  },
  {
   "cell_type": "markdown",
   "id": "aa41dffc",
   "metadata": {},
   "source": [
    "It takes less time to train than the previous classifiers.\n",
    "And it gets a better score, too."
   ]
  },
  {
   "cell_type": "code",
   "execution_count": 53,
   "id": "2b0ba936",
   "metadata": {},
   "outputs": [
    {
     "data": {
      "text/plain": [
       "0.8619246127098983"
      ]
     },
     "execution_count": 53,
     "metadata": {},
     "output_type": "execute_result"
    }
   ],
   "source": [
    "score_model(model7, X_val, y_val)"
   ]
  },
  {
   "cell_type": "markdown",
   "id": "34a784a3",
   "metadata": {},
   "source": [
    "**Exercise:** Use cross-validation to get a better sense of how well this classifier works."
   ]
  },
  {
   "cell_type": "code",
   "execution_count": 54,
   "id": "bda41a6a",
   "metadata": {},
   "outputs": [
    {
     "data": {
      "text/plain": [
       "0.8645562533003464"
      ]
     },
     "execution_count": 54,
     "metadata": {},
     "output_type": "execute_result"
    }
   ],
   "source": [
    "# Solution\n",
    "\n",
    "scores = cross_val_score(model7, features_df, labels_df, cv=5, scoring=score_model)\n",
    "scores.mean()"
   ]
  },
  {
   "cell_type": "markdown",
   "id": "ef57d7b8",
   "metadata": {},
   "source": [
    "**Exercise:** Choose one of the parameters and use a grid search to tune it.\n",
    "[This article](https://www.datasciencelearner.com/gradient-boosting-hyperparameters-tuning/) might give you some ideas for which parameters would be good choices.\n",
    "\n",
    "Use the best model you find to generate predictions and submit them to the platform."
   ]
  },
  {
   "cell_type": "code",
   "execution_count": 55,
   "id": "4522ad1d",
   "metadata": {},
   "outputs": [
    {
     "data": {
      "text/plain": [
       "{'categorical_features': [21, 22, 23, 24, 25, 26, 27, 28, 29, 30, 33, 34],\n",
       " 'early_stopping': 'auto',\n",
       " 'l2_regularization': 0.0,\n",
       " 'learning_rate': 0.1,\n",
       " 'loss': 'auto',\n",
       " 'max_bins': 255,\n",
       " 'max_depth': None,\n",
       " 'max_iter': 100,\n",
       " 'max_leaf_nodes': 31,\n",
       " 'min_samples_leaf': 20,\n",
       " 'monotonic_cst': None,\n",
       " 'n_iter_no_change': 10,\n",
       " 'random_state': None,\n",
       " 'scoring': 'loss',\n",
       " 'tol': 1e-07,\n",
       " 'validation_fraction': 0.1,\n",
       " 'verbose': 0,\n",
       " 'warm_start': False}"
      ]
     },
     "execution_count": 55,
     "metadata": {},
     "output_type": "execute_result"
    }
   ],
   "source": [
    "model7[\"classifier\"].estimator.get_params()"
   ]
  },
  {
   "cell_type": "code",
   "execution_count": 56,
   "id": "5acabd65",
   "metadata": {},
   "outputs": [],
   "source": [
    "# Solution\n",
    "\n",
    "# As an example, I chose to search the learning rate, but you should try other parameters,\n",
    "# maybe more than one.\n",
    "\n",
    "params = {\n",
    "    \"classifier__estimator__learning_rate\": [0.01, 0.03, 0.05, 0.07, 0.1],\n",
    "}"
   ]
  },
  {
   "cell_type": "code",
   "execution_count": 57,
   "id": "2c3a5e8b",
   "metadata": {},
   "outputs": [],
   "source": [
    "# Solution\n",
    "\n",
    "from sklearn.model_selection import GridSearchCV\n",
    "\n",
    "searcher = GridSearchCV(\n",
    "    estimator=model7,\n",
    "    param_grid=params,\n",
    "    scoring=score_model,\n",
    "    cv=5,\n",
    "    n_jobs=-1,\n",
    "    verbose=1,\n",
    ")"
   ]
  },
  {
   "cell_type": "code",
   "execution_count": 58,
   "id": "03e71918",
   "metadata": {},
   "outputs": [
    {
     "name": "stdout",
     "output_type": "stream",
     "text": [
      "Fitting 5 folds for each of 5 candidates, totalling 25 fits\n",
      "CPU times: user 10.7 s, sys: 59.9 ms, total: 10.7 s\n",
      "Wall time: 19.7 s\n"
     ]
    },
    {
     "data": {
      "text/html": [
       "<style>#sk-b83a6b23-98e9-4140-866d-4e1e11940813 {color: black;background-color: white;}#sk-b83a6b23-98e9-4140-866d-4e1e11940813 pre{padding: 0;}#sk-b83a6b23-98e9-4140-866d-4e1e11940813 div.sk-toggleable {background-color: white;}#sk-b83a6b23-98e9-4140-866d-4e1e11940813 label.sk-toggleable__label {cursor: pointer;display: block;width: 100%;margin-bottom: 0;padding: 0.3em;box-sizing: border-box;text-align: center;}#sk-b83a6b23-98e9-4140-866d-4e1e11940813 label.sk-toggleable__label-arrow:before {content: \"▸\";float: left;margin-right: 0.25em;color: #696969;}#sk-b83a6b23-98e9-4140-866d-4e1e11940813 label.sk-toggleable__label-arrow:hover:before {color: black;}#sk-b83a6b23-98e9-4140-866d-4e1e11940813 div.sk-estimator:hover label.sk-toggleable__label-arrow:before {color: black;}#sk-b83a6b23-98e9-4140-866d-4e1e11940813 div.sk-toggleable__content {max-height: 0;max-width: 0;overflow: hidden;text-align: left;background-color: #f0f8ff;}#sk-b83a6b23-98e9-4140-866d-4e1e11940813 div.sk-toggleable__content pre {margin: 0.2em;color: black;border-radius: 0.25em;background-color: #f0f8ff;}#sk-b83a6b23-98e9-4140-866d-4e1e11940813 input.sk-toggleable__control:checked~div.sk-toggleable__content {max-height: 200px;max-width: 100%;overflow: auto;}#sk-b83a6b23-98e9-4140-866d-4e1e11940813 input.sk-toggleable__control:checked~label.sk-toggleable__label-arrow:before {content: \"▾\";}#sk-b83a6b23-98e9-4140-866d-4e1e11940813 div.sk-estimator input.sk-toggleable__control:checked~label.sk-toggleable__label {background-color: #d4ebff;}#sk-b83a6b23-98e9-4140-866d-4e1e11940813 div.sk-label input.sk-toggleable__control:checked~label.sk-toggleable__label {background-color: #d4ebff;}#sk-b83a6b23-98e9-4140-866d-4e1e11940813 input.sk-hidden--visually {border: 0;clip: rect(1px 1px 1px 1px);clip: rect(1px, 1px, 1px, 1px);height: 1px;margin: -1px;overflow: hidden;padding: 0;position: absolute;width: 1px;}#sk-b83a6b23-98e9-4140-866d-4e1e11940813 div.sk-estimator {font-family: monospace;background-color: #f0f8ff;border: 1px dotted black;border-radius: 0.25em;box-sizing: border-box;margin-bottom: 0.5em;}#sk-b83a6b23-98e9-4140-866d-4e1e11940813 div.sk-estimator:hover {background-color: #d4ebff;}#sk-b83a6b23-98e9-4140-866d-4e1e11940813 div.sk-parallel-item::after {content: \"\";width: 100%;border-bottom: 1px solid gray;flex-grow: 1;}#sk-b83a6b23-98e9-4140-866d-4e1e11940813 div.sk-label:hover label.sk-toggleable__label {background-color: #d4ebff;}#sk-b83a6b23-98e9-4140-866d-4e1e11940813 div.sk-serial::before {content: \"\";position: absolute;border-left: 1px solid gray;box-sizing: border-box;top: 2em;bottom: 0;left: 50%;}#sk-b83a6b23-98e9-4140-866d-4e1e11940813 div.sk-serial {display: flex;flex-direction: column;align-items: center;background-color: white;padding-right: 0.2em;padding-left: 0.2em;}#sk-b83a6b23-98e9-4140-866d-4e1e11940813 div.sk-item {z-index: 1;}#sk-b83a6b23-98e9-4140-866d-4e1e11940813 div.sk-parallel {display: flex;align-items: stretch;justify-content: center;background-color: white;}#sk-b83a6b23-98e9-4140-866d-4e1e11940813 div.sk-parallel::before {content: \"\";position: absolute;border-left: 1px solid gray;box-sizing: border-box;top: 2em;bottom: 0;left: 50%;}#sk-b83a6b23-98e9-4140-866d-4e1e11940813 div.sk-parallel-item {display: flex;flex-direction: column;position: relative;background-color: white;}#sk-b83a6b23-98e9-4140-866d-4e1e11940813 div.sk-parallel-item:first-child::after {align-self: flex-end;width: 50%;}#sk-b83a6b23-98e9-4140-866d-4e1e11940813 div.sk-parallel-item:last-child::after {align-self: flex-start;width: 50%;}#sk-b83a6b23-98e9-4140-866d-4e1e11940813 div.sk-parallel-item:only-child::after {width: 0;}#sk-b83a6b23-98e9-4140-866d-4e1e11940813 div.sk-dashed-wrapped {border: 1px dashed gray;margin: 0 0.4em 0.5em 0.4em;box-sizing: border-box;padding-bottom: 0.4em;background-color: white;position: relative;}#sk-b83a6b23-98e9-4140-866d-4e1e11940813 div.sk-label label {font-family: monospace;font-weight: bold;background-color: white;display: inline-block;line-height: 1.2em;}#sk-b83a6b23-98e9-4140-866d-4e1e11940813 div.sk-label-container {position: relative;z-index: 2;text-align: center;}#sk-b83a6b23-98e9-4140-866d-4e1e11940813 div.sk-container {/* jupyter's `normalize.less` sets `[hidden] { display: none; }` but bootstrap.min.css set `[hidden] { display: none !important; }` so we also need the `!important` here to be able to override the default hidden behavior on the sphinx rendered scikit-learn.org. See: https://github.com/scikit-learn/scikit-learn/issues/21755 */display: inline-block !important;position: relative;}#sk-b83a6b23-98e9-4140-866d-4e1e11940813 div.sk-text-repr-fallback {display: none;}</style><div id=\"sk-b83a6b23-98e9-4140-866d-4e1e11940813\" class=\"sk-top-container\"><div class=\"sk-text-repr-fallback\"><pre>GridSearchCV(cv=5,\n",
       "             estimator=Pipeline(steps=[(&#x27;preprocessor&#x27;,\n",
       "                                        ColumnTransformer(transformers=[(&#x27;numeric&#x27;,\n",
       "                                                                         &#x27;passthrough&#x27;,\n",
       "                                                                         Index([&#x27;h1n1_concern&#x27;, &#x27;h1n1_knowledge&#x27;, &#x27;behavioral_antiviral_meds&#x27;,\n",
       "       &#x27;behavioral_avoidance&#x27;, &#x27;behavioral_face_mask&#x27;, &#x27;behavioral_wash_hands&#x27;,\n",
       "       &#x27;behavioral_large_gatherings&#x27;, &#x27;behavioral_outside_home&#x27;,\n",
       "       &#x27;behavioral_touch_face&#x27;, &#x27;doctor_recc_h1n...\n",
       "       &#x27;census_msa&#x27;, &#x27;employment_industry&#x27;, &#x27;employment_occupation&#x27;],\n",
       "      dtype=&#x27;object&#x27;))])),\n",
       "                                       (&#x27;classifier&#x27;,\n",
       "                                        MultiOutputClassifier(estimator=HistGradientBoostingClassifier(categorical_features=[21,\n",
       "                                                                                                                             22,\n",
       "                                                                                                                             23,\n",
       "                                                                                                                             24,\n",
       "                                                                                                                             25,\n",
       "                                                                                                                             26,\n",
       "                                                                                                                             27,\n",
       "                                                                                                                             28,\n",
       "                                                                                                                             29,\n",
       "                                                                                                                             30,\n",
       "                                                                                                                             33,\n",
       "                                                                                                                             34])))]),\n",
       "             n_jobs=-1,\n",
       "             param_grid={&#x27;classifier__estimator__learning_rate&#x27;: [0.01, 0.03,\n",
       "                                                                  0.05, 0.07,\n",
       "                                                                  0.1]},\n",
       "             scoring=&lt;function score_model at 0x7ff6715fb560&gt;, verbose=1)</pre><b>Please rerun this cell to show the HTML repr or trust the notebook.</b></div><div class=\"sk-container\" hidden><div class=\"sk-item sk-dashed-wrapped\"><div class=\"sk-label-container\"><div class=\"sk-label sk-toggleable\"><input class=\"sk-toggleable__control sk-hidden--visually\" id=\"d17639ee-982d-4c13-8cb4-77c2dad62adf\" type=\"checkbox\" ><label for=\"d17639ee-982d-4c13-8cb4-77c2dad62adf\" class=\"sk-toggleable__label sk-toggleable__label-arrow\">GridSearchCV</label><div class=\"sk-toggleable__content\"><pre>GridSearchCV(cv=5,\n",
       "             estimator=Pipeline(steps=[(&#x27;preprocessor&#x27;,\n",
       "                                        ColumnTransformer(transformers=[(&#x27;numeric&#x27;,\n",
       "                                                                         &#x27;passthrough&#x27;,\n",
       "                                                                         Index([&#x27;h1n1_concern&#x27;, &#x27;h1n1_knowledge&#x27;, &#x27;behavioral_antiviral_meds&#x27;,\n",
       "       &#x27;behavioral_avoidance&#x27;, &#x27;behavioral_face_mask&#x27;, &#x27;behavioral_wash_hands&#x27;,\n",
       "       &#x27;behavioral_large_gatherings&#x27;, &#x27;behavioral_outside_home&#x27;,\n",
       "       &#x27;behavioral_touch_face&#x27;, &#x27;doctor_recc_h1n...\n",
       "       &#x27;census_msa&#x27;, &#x27;employment_industry&#x27;, &#x27;employment_occupation&#x27;],\n",
       "      dtype=&#x27;object&#x27;))])),\n",
       "                                       (&#x27;classifier&#x27;,\n",
       "                                        MultiOutputClassifier(estimator=HistGradientBoostingClassifier(categorical_features=[21,\n",
       "                                                                                                                             22,\n",
       "                                                                                                                             23,\n",
       "                                                                                                                             24,\n",
       "                                                                                                                             25,\n",
       "                                                                                                                             26,\n",
       "                                                                                                                             27,\n",
       "                                                                                                                             28,\n",
       "                                                                                                                             29,\n",
       "                                                                                                                             30,\n",
       "                                                                                                                             33,\n",
       "                                                                                                                             34])))]),\n",
       "             n_jobs=-1,\n",
       "             param_grid={&#x27;classifier__estimator__learning_rate&#x27;: [0.01, 0.03,\n",
       "                                                                  0.05, 0.07,\n",
       "                                                                  0.1]},\n",
       "             scoring=&lt;function score_model at 0x7ff6715fb560&gt;, verbose=1)</pre></div></div></div><div class=\"sk-parallel\"><div class=\"sk-parallel-item\"><div class=\"sk-item\"><div class=\"sk-serial\"><div class=\"sk-item\"><div class=\"sk-serial\"><div class=\"sk-item sk-dashed-wrapped\"><div class=\"sk-label-container\"><div class=\"sk-label sk-toggleable\"><input class=\"sk-toggleable__control sk-hidden--visually\" id=\"dbd3b636-20a0-44f8-afa4-400584abf388\" type=\"checkbox\" ><label for=\"dbd3b636-20a0-44f8-afa4-400584abf388\" class=\"sk-toggleable__label sk-toggleable__label-arrow\">preprocessor: ColumnTransformer</label><div class=\"sk-toggleable__content\"><pre>ColumnTransformer(transformers=[(&#x27;numeric&#x27;, &#x27;passthrough&#x27;,\n",
       "                                 Index([&#x27;h1n1_concern&#x27;, &#x27;h1n1_knowledge&#x27;, &#x27;behavioral_antiviral_meds&#x27;,\n",
       "       &#x27;behavioral_avoidance&#x27;, &#x27;behavioral_face_mask&#x27;, &#x27;behavioral_wash_hands&#x27;,\n",
       "       &#x27;behavioral_large_gatherings&#x27;, &#x27;behavioral_outside_home&#x27;,\n",
       "       &#x27;behavioral_touch_face&#x27;, &#x27;doctor_recc_h1n1&#x27;, &#x27;doctor_recc_seasonal&#x27;,\n",
       "       &#x27;chronic_med_condition&#x27;, &#x27;child_und...\n",
       "       &#x27;opinion_h1n1_sick_from_vacc&#x27;, &#x27;opinion_seas_vacc_effective&#x27;,\n",
       "       &#x27;opinion_seas_risk&#x27;, &#x27;opinion_seas_sick_from_vacc&#x27;, &#x27;household_adults&#x27;,\n",
       "       &#x27;household_children&#x27;],\n",
       "      dtype=&#x27;object&#x27;)),\n",
       "                                (&#x27;categoric&#x27;, OrdinalEncoder(),\n",
       "                                 Index([&#x27;age_group&#x27;, &#x27;education&#x27;, &#x27;race&#x27;, &#x27;sex&#x27;, &#x27;income_poverty&#x27;,\n",
       "       &#x27;marital_status&#x27;, &#x27;rent_or_own&#x27;, &#x27;employment_status&#x27;, &#x27;hhs_geo_region&#x27;,\n",
       "       &#x27;census_msa&#x27;, &#x27;employment_industry&#x27;, &#x27;employment_occupation&#x27;],\n",
       "      dtype=&#x27;object&#x27;))])</pre></div></div></div><div class=\"sk-parallel\"><div class=\"sk-parallel-item\"><div class=\"sk-item\"><div class=\"sk-label-container\"><div class=\"sk-label sk-toggleable\"><input class=\"sk-toggleable__control sk-hidden--visually\" id=\"105400d4-e538-4d18-b59f-14682d6bb354\" type=\"checkbox\" ><label for=\"105400d4-e538-4d18-b59f-14682d6bb354\" class=\"sk-toggleable__label sk-toggleable__label-arrow\">numeric</label><div class=\"sk-toggleable__content\"><pre>Index([&#x27;h1n1_concern&#x27;, &#x27;h1n1_knowledge&#x27;, &#x27;behavioral_antiviral_meds&#x27;,\n",
       "       &#x27;behavioral_avoidance&#x27;, &#x27;behavioral_face_mask&#x27;, &#x27;behavioral_wash_hands&#x27;,\n",
       "       &#x27;behavioral_large_gatherings&#x27;, &#x27;behavioral_outside_home&#x27;,\n",
       "       &#x27;behavioral_touch_face&#x27;, &#x27;doctor_recc_h1n1&#x27;, &#x27;doctor_recc_seasonal&#x27;,\n",
       "       &#x27;chronic_med_condition&#x27;, &#x27;child_under_6_months&#x27;, &#x27;health_worker&#x27;,\n",
       "       &#x27;health_insurance&#x27;, &#x27;opinion_h1n1_vacc_effective&#x27;, &#x27;opinion_h1n1_risk&#x27;,\n",
       "       &#x27;opinion_h1n1_sick_from_vacc&#x27;, &#x27;opinion_seas_vacc_effective&#x27;,\n",
       "       &#x27;opinion_seas_risk&#x27;, &#x27;opinion_seas_sick_from_vacc&#x27;, &#x27;household_adults&#x27;,\n",
       "       &#x27;household_children&#x27;],\n",
       "      dtype=&#x27;object&#x27;)</pre></div></div></div><div class=\"sk-serial\"><div class=\"sk-item\"><div class=\"sk-estimator sk-toggleable\"><input class=\"sk-toggleable__control sk-hidden--visually\" id=\"821770b2-c43f-4aca-a9b1-c84ec6301751\" type=\"checkbox\" ><label for=\"821770b2-c43f-4aca-a9b1-c84ec6301751\" class=\"sk-toggleable__label sk-toggleable__label-arrow\">passthrough</label><div class=\"sk-toggleable__content\"><pre>passthrough</pre></div></div></div></div></div></div><div class=\"sk-parallel-item\"><div class=\"sk-item\"><div class=\"sk-label-container\"><div class=\"sk-label sk-toggleable\"><input class=\"sk-toggleable__control sk-hidden--visually\" id=\"dab2f5a6-d4d0-496b-becf-1611f024f04b\" type=\"checkbox\" ><label for=\"dab2f5a6-d4d0-496b-becf-1611f024f04b\" class=\"sk-toggleable__label sk-toggleable__label-arrow\">categoric</label><div class=\"sk-toggleable__content\"><pre>Index([&#x27;age_group&#x27;, &#x27;education&#x27;, &#x27;race&#x27;, &#x27;sex&#x27;, &#x27;income_poverty&#x27;,\n",
       "       &#x27;marital_status&#x27;, &#x27;rent_or_own&#x27;, &#x27;employment_status&#x27;, &#x27;hhs_geo_region&#x27;,\n",
       "       &#x27;census_msa&#x27;, &#x27;employment_industry&#x27;, &#x27;employment_occupation&#x27;],\n",
       "      dtype=&#x27;object&#x27;)</pre></div></div></div><div class=\"sk-serial\"><div class=\"sk-item\"><div class=\"sk-estimator sk-toggleable\"><input class=\"sk-toggleable__control sk-hidden--visually\" id=\"de8ca616-e64b-4319-9715-d6fdd253b536\" type=\"checkbox\" ><label for=\"de8ca616-e64b-4319-9715-d6fdd253b536\" class=\"sk-toggleable__label sk-toggleable__label-arrow\">OrdinalEncoder</label><div class=\"sk-toggleable__content\"><pre>OrdinalEncoder()</pre></div></div></div></div></div></div></div></div><div class=\"sk-item sk-dashed-wrapped\"><div class=\"sk-label-container\"><div class=\"sk-label sk-toggleable\"><input class=\"sk-toggleable__control sk-hidden--visually\" id=\"e0734f46-2d8c-46f2-8438-c56b97890563\" type=\"checkbox\" ><label for=\"e0734f46-2d8c-46f2-8438-c56b97890563\" class=\"sk-toggleable__label sk-toggleable__label-arrow\">classifier: MultiOutputClassifier</label><div class=\"sk-toggleable__content\"><pre>MultiOutputClassifier(estimator=HistGradientBoostingClassifier(categorical_features=[21,\n",
       "                                                                                     22,\n",
       "                                                                                     23,\n",
       "                                                                                     24,\n",
       "                                                                                     25,\n",
       "                                                                                     26,\n",
       "                                                                                     27,\n",
       "                                                                                     28,\n",
       "                                                                                     29,\n",
       "                                                                                     30,\n",
       "                                                                                     33,\n",
       "                                                                                     34]))</pre></div></div></div><div class=\"sk-parallel\"><div class=\"sk-parallel-item\"><div class=\"sk-item\"><div class=\"sk-serial\"><div class=\"sk-item\"><div class=\"sk-estimator sk-toggleable\"><input class=\"sk-toggleable__control sk-hidden--visually\" id=\"3696ee5b-9d83-4c78-ad62-0f6d0996e5c1\" type=\"checkbox\" ><label for=\"3696ee5b-9d83-4c78-ad62-0f6d0996e5c1\" class=\"sk-toggleable__label sk-toggleable__label-arrow\">HistGradientBoostingClassifier</label><div class=\"sk-toggleable__content\"><pre>HistGradientBoostingClassifier(categorical_features=[21, 22, 23, 24, 25, 26, 27,\n",
       "                                                     28, 29, 30, 33, 34])</pre></div></div></div></div></div></div></div></div></div></div></div></div></div></div></div></div></div>"
      ],
      "text/plain": [
       "GridSearchCV(cv=5,\n",
       "             estimator=Pipeline(steps=[('preprocessor',\n",
       "                                        ColumnTransformer(transformers=[('numeric',\n",
       "                                                                         'passthrough',\n",
       "                                                                         Index(['h1n1_concern', 'h1n1_knowledge', 'behavioral_antiviral_meds',\n",
       "       'behavioral_avoidance', 'behavioral_face_mask', 'behavioral_wash_hands',\n",
       "       'behavioral_large_gatherings', 'behavioral_outside_home',\n",
       "       'behavioral_touch_face', 'doctor_recc_h1n...\n",
       "       'census_msa', 'employment_industry', 'employment_occupation'],\n",
       "      dtype='object'))])),\n",
       "                                       ('classifier',\n",
       "                                        MultiOutputClassifier(estimator=HistGradientBoostingClassifier(categorical_features=[21,\n",
       "                                                                                                                             22,\n",
       "                                                                                                                             23,\n",
       "                                                                                                                             24,\n",
       "                                                                                                                             25,\n",
       "                                                                                                                             26,\n",
       "                                                                                                                             27,\n",
       "                                                                                                                             28,\n",
       "                                                                                                                             29,\n",
       "                                                                                                                             30,\n",
       "                                                                                                                             33,\n",
       "                                                                                                                             34])))]),\n",
       "             n_jobs=-1,\n",
       "             param_grid={'classifier__estimator__learning_rate': [0.01, 0.03,\n",
       "                                                                  0.05, 0.07,\n",
       "                                                                  0.1]},\n",
       "             scoring=<function score_model at 0x7ff6715fb560>, verbose=1)"
      ]
     },
     "execution_count": 58,
     "metadata": {},
     "output_type": "execute_result"
    }
   ],
   "source": [
    "# Solution\n",
    "\n",
    "%time searcher.fit(X_train, y_train)"
   ]
  },
  {
   "cell_type": "code",
   "execution_count": 59,
   "id": "813a1ce5",
   "metadata": {},
   "outputs": [
    {
     "data": {
      "text/plain": [
       "{'classifier__estimator__learning_rate': 0.05}"
      ]
     },
     "execution_count": 59,
     "metadata": {},
     "output_type": "execute_result"
    }
   ],
   "source": [
    "# Solution\n",
    "\n",
    "searcher.best_params_"
   ]
  },
  {
   "cell_type": "code",
   "execution_count": 60,
   "id": "292e2c7b",
   "metadata": {},
   "outputs": [
    {
     "data": {
      "text/plain": [
       "0.8620050128347211"
      ]
     },
     "execution_count": 60,
     "metadata": {},
     "output_type": "execute_result"
    }
   ],
   "source": [
    "# Solution\n",
    "\n",
    "searcher.best_score_"
   ]
  },
  {
   "cell_type": "code",
   "execution_count": 61,
   "id": "f96b2997",
   "metadata": {},
   "outputs": [
    {
     "data": {
      "text/html": [
       "<style>#sk-ce7d2f54-fa2e-4afb-8aa7-bdd71225e381 {color: black;background-color: white;}#sk-ce7d2f54-fa2e-4afb-8aa7-bdd71225e381 pre{padding: 0;}#sk-ce7d2f54-fa2e-4afb-8aa7-bdd71225e381 div.sk-toggleable {background-color: white;}#sk-ce7d2f54-fa2e-4afb-8aa7-bdd71225e381 label.sk-toggleable__label {cursor: pointer;display: block;width: 100%;margin-bottom: 0;padding: 0.3em;box-sizing: border-box;text-align: center;}#sk-ce7d2f54-fa2e-4afb-8aa7-bdd71225e381 label.sk-toggleable__label-arrow:before {content: \"▸\";float: left;margin-right: 0.25em;color: #696969;}#sk-ce7d2f54-fa2e-4afb-8aa7-bdd71225e381 label.sk-toggleable__label-arrow:hover:before {color: black;}#sk-ce7d2f54-fa2e-4afb-8aa7-bdd71225e381 div.sk-estimator:hover label.sk-toggleable__label-arrow:before {color: black;}#sk-ce7d2f54-fa2e-4afb-8aa7-bdd71225e381 div.sk-toggleable__content {max-height: 0;max-width: 0;overflow: hidden;text-align: left;background-color: #f0f8ff;}#sk-ce7d2f54-fa2e-4afb-8aa7-bdd71225e381 div.sk-toggleable__content pre {margin: 0.2em;color: black;border-radius: 0.25em;background-color: #f0f8ff;}#sk-ce7d2f54-fa2e-4afb-8aa7-bdd71225e381 input.sk-toggleable__control:checked~div.sk-toggleable__content {max-height: 200px;max-width: 100%;overflow: auto;}#sk-ce7d2f54-fa2e-4afb-8aa7-bdd71225e381 input.sk-toggleable__control:checked~label.sk-toggleable__label-arrow:before {content: \"▾\";}#sk-ce7d2f54-fa2e-4afb-8aa7-bdd71225e381 div.sk-estimator input.sk-toggleable__control:checked~label.sk-toggleable__label {background-color: #d4ebff;}#sk-ce7d2f54-fa2e-4afb-8aa7-bdd71225e381 div.sk-label input.sk-toggleable__control:checked~label.sk-toggleable__label {background-color: #d4ebff;}#sk-ce7d2f54-fa2e-4afb-8aa7-bdd71225e381 input.sk-hidden--visually {border: 0;clip: rect(1px 1px 1px 1px);clip: rect(1px, 1px, 1px, 1px);height: 1px;margin: -1px;overflow: hidden;padding: 0;position: absolute;width: 1px;}#sk-ce7d2f54-fa2e-4afb-8aa7-bdd71225e381 div.sk-estimator {font-family: monospace;background-color: #f0f8ff;border: 1px dotted black;border-radius: 0.25em;box-sizing: border-box;margin-bottom: 0.5em;}#sk-ce7d2f54-fa2e-4afb-8aa7-bdd71225e381 div.sk-estimator:hover {background-color: #d4ebff;}#sk-ce7d2f54-fa2e-4afb-8aa7-bdd71225e381 div.sk-parallel-item::after {content: \"\";width: 100%;border-bottom: 1px solid gray;flex-grow: 1;}#sk-ce7d2f54-fa2e-4afb-8aa7-bdd71225e381 div.sk-label:hover label.sk-toggleable__label {background-color: #d4ebff;}#sk-ce7d2f54-fa2e-4afb-8aa7-bdd71225e381 div.sk-serial::before {content: \"\";position: absolute;border-left: 1px solid gray;box-sizing: border-box;top: 2em;bottom: 0;left: 50%;}#sk-ce7d2f54-fa2e-4afb-8aa7-bdd71225e381 div.sk-serial {display: flex;flex-direction: column;align-items: center;background-color: white;padding-right: 0.2em;padding-left: 0.2em;}#sk-ce7d2f54-fa2e-4afb-8aa7-bdd71225e381 div.sk-item {z-index: 1;}#sk-ce7d2f54-fa2e-4afb-8aa7-bdd71225e381 div.sk-parallel {display: flex;align-items: stretch;justify-content: center;background-color: white;}#sk-ce7d2f54-fa2e-4afb-8aa7-bdd71225e381 div.sk-parallel::before {content: \"\";position: absolute;border-left: 1px solid gray;box-sizing: border-box;top: 2em;bottom: 0;left: 50%;}#sk-ce7d2f54-fa2e-4afb-8aa7-bdd71225e381 div.sk-parallel-item {display: flex;flex-direction: column;position: relative;background-color: white;}#sk-ce7d2f54-fa2e-4afb-8aa7-bdd71225e381 div.sk-parallel-item:first-child::after {align-self: flex-end;width: 50%;}#sk-ce7d2f54-fa2e-4afb-8aa7-bdd71225e381 div.sk-parallel-item:last-child::after {align-self: flex-start;width: 50%;}#sk-ce7d2f54-fa2e-4afb-8aa7-bdd71225e381 div.sk-parallel-item:only-child::after {width: 0;}#sk-ce7d2f54-fa2e-4afb-8aa7-bdd71225e381 div.sk-dashed-wrapped {border: 1px dashed gray;margin: 0 0.4em 0.5em 0.4em;box-sizing: border-box;padding-bottom: 0.4em;background-color: white;position: relative;}#sk-ce7d2f54-fa2e-4afb-8aa7-bdd71225e381 div.sk-label label {font-family: monospace;font-weight: bold;background-color: white;display: inline-block;line-height: 1.2em;}#sk-ce7d2f54-fa2e-4afb-8aa7-bdd71225e381 div.sk-label-container {position: relative;z-index: 2;text-align: center;}#sk-ce7d2f54-fa2e-4afb-8aa7-bdd71225e381 div.sk-container {/* jupyter's `normalize.less` sets `[hidden] { display: none; }` but bootstrap.min.css set `[hidden] { display: none !important; }` so we also need the `!important` here to be able to override the default hidden behavior on the sphinx rendered scikit-learn.org. See: https://github.com/scikit-learn/scikit-learn/issues/21755 */display: inline-block !important;position: relative;}#sk-ce7d2f54-fa2e-4afb-8aa7-bdd71225e381 div.sk-text-repr-fallback {display: none;}</style><div id=\"sk-ce7d2f54-fa2e-4afb-8aa7-bdd71225e381\" class=\"sk-top-container\"><div class=\"sk-text-repr-fallback\"><pre>HistGradientBoostingClassifier(categorical_features=[21, 22, 23, 24, 25, 26, 27,\n",
       "                                                     28, 29, 30, 33, 34],\n",
       "                               learning_rate=0.05)</pre><b>Please rerun this cell to show the HTML repr or trust the notebook.</b></div><div class=\"sk-container\" hidden><div class=\"sk-item\"><div class=\"sk-estimator sk-toggleable\"><input class=\"sk-toggleable__control sk-hidden--visually\" id=\"b523f6b7-08a8-42b2-8ce8-519f239b0f8c\" type=\"checkbox\" checked><label for=\"b523f6b7-08a8-42b2-8ce8-519f239b0f8c\" class=\"sk-toggleable__label sk-toggleable__label-arrow\">HistGradientBoostingClassifier</label><div class=\"sk-toggleable__content\"><pre>HistGradientBoostingClassifier(categorical_features=[21, 22, 23, 24, 25, 26, 27,\n",
       "                                                     28, 29, 30, 33, 34],\n",
       "                               learning_rate=0.05)</pre></div></div></div></div></div>"
      ],
      "text/plain": [
       "HistGradientBoostingClassifier(categorical_features=[21, 22, 23, 24, 25, 26, 27,\n",
       "                                                     28, 29, 30, 33, 34],\n",
       "                               learning_rate=0.05)"
      ]
     },
     "execution_count": 61,
     "metadata": {},
     "output_type": "execute_result"
    }
   ],
   "source": [
    "# Solution\n",
    "\n",
    "best_model = searcher.best_estimator_\n",
    "best_model[\"classifier\"].estimator"
   ]
  },
  {
   "cell_type": "code",
   "execution_count": 62,
   "id": "505d4ee3",
   "metadata": {},
   "outputs": [],
   "source": [
    "# Solution\n",
    "\n",
    "make_submission(best_model, test_features_df).to_csv(\"submission5.csv\")"
   ]
  },
  {
   "cell_type": "markdown",
   "id": "f6069508",
   "metadata": {},
   "source": [
    "## Vocabulary\n",
    "\n",
    "The vocabulary in this tutorial is meant to be consistent with the Scikit-learn documentation, but some of the terms we've defined are used differently in other contexts.\n",
    "\n",
    "For example, we presented the train-validate-test framework like this:\n",
    "\n",
    "* The training split is used to fit a model and find the best coefficients;\n",
    "\n",
    "* The validation split is used to tune a model and find the best parameters; and\n",
    "\n",
    "* The test data is used to evaluate the model on unseen data."
   ]
  },
  {
   "cell_type": "markdown",
   "id": "90d52966",
   "metadata": {},
   "source": [
    "But the things we called coefficients are sometimes called parameters; when they are, the things we called parameters are called **hyperparameters**.\n",
    "\n",
    "Also, the names we used for the splits are not universal. What we called the test set is sometimes called the **holdout set** because it is held out from the model during training. And you might see [\"validation\" and \"test\"](https://en.wikipedia.org/wiki/Training,_validation,_and_test_data_sets#Confusion_in_terminology) used differently as well.\n",
    "\n",
    "The inconsistency of these terms can be a source of confusion when you use the Scikit-learn function called `train_test_split`, because it is not only used to split the training and test data; it is also used to split the training and validation data.\n",
    "In this tutorial, the train-test split test was done for us by the people who set up the competition; then we divided the training data we were given, further, into a training split and a validation split.\n",
    "\n",
    "In an attempt to avoid confusion, we used \"training data\" for all of the data we got and \"training split\" for the part we split off from the validation split.\n",
    "But you are likely to see these terms used interchangeably.\n"
   ]
  },
  {
   "cell_type": "markdown",
   "id": "bae061d8",
   "metadata": {},
   "source": [
    "## Summary\n",
    "\n",
    "In this lesson we explored a new kind of classification algorithm based on random random decision trees. We started with random forests and ended with gradient-boosted trees.\n",
    "\n",
    "This lesson starts with the training-test framework from the first two lesson and extends it to a training-validation-test framework. In the context of an online competition, this framework has a practical benefit -- because it is faster and easier to test models -- and a theoretical benefit -- because it avoids overfitting due to leaking information from the test data.\n",
    "\n",
    "And we used tools from Scikit-learn that automate common practices in this framework, including k-fold cross-validation and grid search for the best model parameters.\n",
    "\n",
    "We hope you have found this tutorial useful.\n",
    "At this point, you have a small but powerful set of tools for working with tabular data and generating probablistic predictions.\n",
    "In future tutorials, we will explore tools for working with other kinds of data -- like text, images, and videos -- and generating other kinds of predictions."
   ]
  },
  {
   "cell_type": "code",
   "execution_count": null,
   "id": "89b90348",
   "metadata": {},
   "outputs": [],
   "source": []
  }
 ],
 "metadata": {
  "celltoolbar": "Tags",
  "kernelspec": {
   "display_name": "Python 3 (ipykernel)",
   "language": "python",
   "name": "python3"
  },
  "language_info": {
   "codemirror_mode": {
    "name": "ipython",
    "version": 3
   },
   "file_extension": ".py",
   "mimetype": "text/x-python",
   "name": "python",
   "nbconvert_exporter": "python",
   "pygments_lexer": "ipython3",
   "version": "3.7.13"
  }
 },
 "nbformat": 4,
 "nbformat_minor": 5
}
