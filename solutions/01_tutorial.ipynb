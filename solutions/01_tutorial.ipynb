{
 "cells": [
  {
   "cell_type": "markdown",
   "id": "80794782",
   "metadata": {},
   "source": [
    "# Lesson 1\n",
    "\n",
    "This is the first of three lessons that introduce the tools and processes of machine learning.\n",
    "As an exercise, we will participate in a data science competition hosted by DrivenData, called [Flu Shot Learning: Predict H1N1 and Seasonal Flu Vaccines](https://www.drivendata.org/competitions/66/flu-shot-learning/).\n",
    "\n",
    "The goal of this competition is to use survey data to predict which people chose to get vaccinated against H1N1,\n",
    "which is the influenza virus that caused the [2009 swine flu pandemic](https://en.wikipedia.org/wiki/2009_swine_flu_pandemic).\n",
    "\n",
    "It might might not be obvious why it is useful to predict whether someone gets vaccinated, especially when we already know the answers, as we do in this example.\n",
    "But during the COVID-19 pandemic we learned several important lessons: (1) our ability to respond to a public health crisis depends strongly on individuals' willingness to get vaccinated, and (2) that willingness depends on many factors in complex ways.\n",
    "Machine learning provides tools for identifying those factors, understanding complex relationships, and generating predictions -- all of which can help guide decisions about public health communication and intervention.\n",
    "\n",
    "The dataset we will use is from the [National 2009 H1N1 Flu Survey](https://www.cdc.gov/nchs/nis/data_files_h1n1.htm), which ran from October 2009 through June 2010.\n",
    "This phone survey asked respondents whether they had received the H1N1 and seasonal flu vaccines, in addition to questions about their social, economic, and demographic background, opinions on risks of illness and vaccine effectiveness, and behaviors towards reducing disease transmission."
   ]
  },
  {
   "cell_type": "markdown",
   "id": "35d874ac",
   "metadata": {},
   "source": [
    "As we explore the data, we will get a better sense of the information it contains and how it can be useful.\n",
    "The primary tools we will use are:\n",
    "\n",
    "* Pandas for reading and exploring data, and\n",
    "\n",
    "* Scikit-learn for processing data, making models, and generating predictions.\n",
    "\n",
    "In the first lesson, we will use a relatively simple algorithm to generate predictions, submit the predictions to the competition site, and get a score.\n",
    "In future lessons we'll explore additional algorithms and take advantage of tools that make it easier to develop models and test predictions. "
   ]
  },
  {
   "cell_type": "markdown",
   "id": "5091adbd",
   "metadata": {},
   "source": [
    "## Lesson 1\n",
    "\n",
    "Before we get started, you should sign up for the competition.\n",
    "Go to [the DrivenData site](https://www.drivendata.org/) and log in or create an account.\n",
    "Then go to [the competition page](https://www.drivendata.org/competitions/66/flu-shot-learning/) and read the overview.\n",
    "Select the button that says \"Join the Competition\"; then you can read [the problem description](https://www.drivendata.org/competitions/66/flu-shot-learning/page/211/).\n",
    "\n",
    "The goal of the competition is to predict two **labels**: \n",
    "\n",
    "* `h1n1_vaccine`, which indicates whether each respondent received the H1N1 vaccine, and \n",
    "\n",
    "* `seasonal_vaccine`, which indicates whether they got the usual annual flu shot.\n",
    "\n",
    "The problem description lists the **features** in the dataset, which are columns of data we'll use to make predictions.\n",
    "\n",
    "In the first lesson we will use only the features that are represented with numbers; in the second lesson we'll see how to add features represented as strings.\n",
    "\n",
    "With that overview of the problem, let's get started. "
   ]
  },
  {
   "cell_type": "markdown",
   "id": "a77607bb",
   "metadata": {},
   "source": [
    "## Download the data\n",
    "\n",
    "If you have joined the competition, you have access to the [data download page](https://www.drivendata.org/competitions/66/flu-shot-learning/data/).\n",
    "There are four files there: the training features and training labels we will use to make a model, the test data we will use to make predictions, and a submission file that demonstrates the format we'll use to submit predictions to the competition site.\n",
    "\n",
    "You can download these files by following the links on the data download page, or run the code below to download them automatically."
   ]
  },
  {
   "cell_type": "code",
   "execution_count": 1,
   "id": "5c487d23",
   "metadata": {},
   "outputs": [],
   "source": [
    "import os\n",
    "import sys\n",
    "import numpy as np\n",
    "import pandas as pd\n",
    "import matplotlib.pyplot as plt"
   ]
  },
  {
   "cell_type": "code",
   "execution_count": 2,
   "id": "8380c3be",
   "metadata": {},
   "outputs": [],
   "source": [
    "if not os.path.exists(\"utils.py\"):\n",
    "    !wget https://raw.githubusercontent.com/drivendataorg/tutorial-flu-shot-learning/main/utils.py"
   ]
  },
  {
   "cell_type": "code",
   "execution_count": 3,
   "id": "1b46b498",
   "metadata": {},
   "outputs": [],
   "source": [
    "from utils import download_data_files\n",
    "\n",
    "download_data_files()"
   ]
  },
  {
   "cell_type": "code",
   "execution_count": 4,
   "id": "fc902fd9",
   "metadata": {},
   "outputs": [],
   "source": [
    "# this won't be necessary in later versions\n",
    "from sklearn import set_config\n",
    "set_config(display=\"diagram\")"
   ]
  },
  {
   "cell_type": "markdown",
   "id": "528cbf16",
   "metadata": {},
   "source": [
    "## Read the labels\n",
    "\n",
    "Let's start by reading `training_set_labels.csv`, which contains the known labels for the subset of the survey respondents whose data we'll use to train the model.\n",
    "We'll use Pandas to read the file and put the results in a `DataFrame`."
   ]
  },
  {
   "cell_type": "code",
   "execution_count": 6,
   "id": "74a99452",
   "metadata": {},
   "outputs": [
    {
     "data": {
      "text/html": [
       "<div>\n",
       "<style scoped>\n",
       "    .dataframe tbody tr th:only-of-type {\n",
       "        vertical-align: middle;\n",
       "    }\n",
       "\n",
       "    .dataframe tbody tr th {\n",
       "        vertical-align: top;\n",
       "    }\n",
       "\n",
       "    .dataframe thead th {\n",
       "        text-align: right;\n",
       "    }\n",
       "</style>\n",
       "<table border=\"1\" class=\"dataframe\">\n",
       "  <thead>\n",
       "    <tr style=\"text-align: right;\">\n",
       "      <th></th>\n",
       "      <th>h1n1_vaccine</th>\n",
       "      <th>seasonal_vaccine</th>\n",
       "    </tr>\n",
       "    <tr>\n",
       "      <th>respondent_id</th>\n",
       "      <th></th>\n",
       "      <th></th>\n",
       "    </tr>\n",
       "  </thead>\n",
       "  <tbody>\n",
       "    <tr>\n",
       "      <th>0</th>\n",
       "      <td>0</td>\n",
       "      <td>0</td>\n",
       "    </tr>\n",
       "    <tr>\n",
       "      <th>1</th>\n",
       "      <td>0</td>\n",
       "      <td>1</td>\n",
       "    </tr>\n",
       "    <tr>\n",
       "      <th>2</th>\n",
       "      <td>0</td>\n",
       "      <td>0</td>\n",
       "    </tr>\n",
       "    <tr>\n",
       "      <th>3</th>\n",
       "      <td>0</td>\n",
       "      <td>1</td>\n",
       "    </tr>\n",
       "    <tr>\n",
       "      <th>4</th>\n",
       "      <td>0</td>\n",
       "      <td>0</td>\n",
       "    </tr>\n",
       "  </tbody>\n",
       "</table>\n",
       "</div>"
      ],
      "text/plain": [
       "               h1n1_vaccine  seasonal_vaccine\n",
       "respondent_id                                \n",
       "0                         0                 0\n",
       "1                         0                 1\n",
       "2                         0                 0\n",
       "3                         0                 1\n",
       "4                         0                 0"
      ]
     },
     "execution_count": 6,
     "metadata": {},
     "output_type": "execute_result"
    }
   ],
   "source": [
    "labels_df = pd.read_csv(\"training_set_labels.csv\", index_col=\"respondent_id\")\n",
    "labels_df.head()"
   ]
  },
  {
   "cell_type": "markdown",
   "id": "fee24160",
   "metadata": {},
   "source": [
    "The file contains one row for each respondent and one column for each of the labels. These labels are the **target variables**, that is, the values we are trying to predict. \n",
    "\n",
    "The index of the `DataFrame` contains numerical IDs for the respondents."
   ]
  },
  {
   "cell_type": "code",
   "execution_count": 7,
   "id": "e144c7d3",
   "metadata": {},
   "outputs": [
    {
     "data": {
      "text/plain": [
       "(26707, 2)"
      ]
     },
     "execution_count": 7,
     "metadata": {},
     "output_type": "execute_result"
    }
   ],
   "source": [
    "labels_df.shape"
   ]
  },
  {
   "cell_type": "markdown",
   "id": "1ddd2e17",
   "metadata": {},
   "source": [
    "We can use `value_counts` to compute the fraction of respondents who got the H1N1 vaccine."
   ]
  },
  {
   "cell_type": "code",
   "execution_count": 8,
   "id": "d7bda0ae",
   "metadata": {},
   "outputs": [
    {
     "data": {
      "text/plain": [
       "0    0.787546\n",
       "1    0.212454\n",
       "Name: h1n1_vaccine, dtype: float64"
      ]
     },
     "execution_count": 8,
     "metadata": {},
     "output_type": "execute_result"
    }
   ],
   "source": [
    "labels_df[\"h1n1_vaccine\"].value_counts(normalize=True)"
   ]
  },
  {
   "cell_type": "markdown",
   "id": "30c8533b",
   "metadata": {},
   "source": [
    "And the fraction who got the seasonal flu vaccine."
   ]
  },
  {
   "cell_type": "code",
   "execution_count": 9,
   "id": "8de4af43",
   "metadata": {},
   "outputs": [
    {
     "data": {
      "text/plain": [
       "0    0.534392\n",
       "1    0.465608\n",
       "Name: seasonal_vaccine, dtype: float64"
      ]
     },
     "execution_count": 9,
     "metadata": {},
     "output_type": "execute_result"
    }
   ],
   "source": [
    "labels_df[\"seasonal_vaccine\"].value_counts(normalize=True)"
   ]
  },
  {
   "cell_type": "markdown",
   "id": "8f447c54",
   "metadata": {},
   "source": [
    "About 21% of the respondents got the H1N1 vaccine, and almost 47% got the flu shot."
   ]
  },
  {
   "cell_type": "markdown",
   "id": "fbef4dc2",
   "metadata": {},
   "source": [
    "**Exercise:** What do we get if we run `value_counts` on the whole `DataFrame`, rather than one column at a time? How do we interpret the results?"
   ]
  },
  {
   "cell_type": "code",
   "execution_count": 10,
   "id": "2332209f",
   "metadata": {},
   "outputs": [
    {
     "data": {
      "text/html": [
       "<div>\n",
       "<style scoped>\n",
       "    .dataframe tbody tr th:only-of-type {\n",
       "        vertical-align: middle;\n",
       "    }\n",
       "\n",
       "    .dataframe tbody tr th {\n",
       "        vertical-align: top;\n",
       "    }\n",
       "\n",
       "    .dataframe thead th {\n",
       "        text-align: right;\n",
       "    }\n",
       "</style>\n",
       "<table border=\"1\" class=\"dataframe\">\n",
       "  <thead>\n",
       "    <tr style=\"text-align: right;\">\n",
       "      <th>seasonal_vaccine</th>\n",
       "      <th>0</th>\n",
       "      <th>1</th>\n",
       "    </tr>\n",
       "    <tr>\n",
       "      <th>h1n1_vaccine</th>\n",
       "      <th></th>\n",
       "      <th></th>\n",
       "    </tr>\n",
       "  </thead>\n",
       "  <tbody>\n",
       "    <tr>\n",
       "      <th>0</th>\n",
       "      <td>0.497810</td>\n",
       "      <td>0.289737</td>\n",
       "    </tr>\n",
       "    <tr>\n",
       "      <th>1</th>\n",
       "      <td>0.036582</td>\n",
       "      <td>0.175871</td>\n",
       "    </tr>\n",
       "  </tbody>\n",
       "</table>\n",
       "</div>"
      ],
      "text/plain": [
       "seasonal_vaccine         0         1\n",
       "h1n1_vaccine                        \n",
       "0                 0.497810  0.289737\n",
       "1                 0.036582  0.175871"
      ]
     },
     "execution_count": 10,
     "metadata": {},
     "output_type": "execute_result"
    }
   ],
   "source": [
    "# Solution\n",
    "\n",
    "# It's a cross tabulation (which is clearer if we unstack it)\n",
    "# For example, only 3% got the H1N1 vaccine and *not* the seasonal flu vaccine\n",
    "\n",
    "labels_df.value_counts(normalize=True).unstack()"
   ]
  },
  {
   "cell_type": "markdown",
   "id": "1f88599a",
   "metadata": {},
   "source": [
    "## Read the features\n",
    "\n",
    "Now that we know the values of the target variables, let's look at the features. Again, we'll use Pandas to read the file and store the results in a `DataFrame`."
   ]
  },
  {
   "cell_type": "code",
   "execution_count": 11,
   "id": "71bd8853",
   "metadata": {},
   "outputs": [
    {
     "data": {
      "text/html": [
       "<div>\n",
       "<style scoped>\n",
       "    .dataframe tbody tr th:only-of-type {\n",
       "        vertical-align: middle;\n",
       "    }\n",
       "\n",
       "    .dataframe tbody tr th {\n",
       "        vertical-align: top;\n",
       "    }\n",
       "\n",
       "    .dataframe thead th {\n",
       "        text-align: right;\n",
       "    }\n",
       "</style>\n",
       "<table border=\"1\" class=\"dataframe\">\n",
       "  <thead>\n",
       "    <tr style=\"text-align: right;\">\n",
       "      <th></th>\n",
       "      <th>h1n1_concern</th>\n",
       "      <th>h1n1_knowledge</th>\n",
       "      <th>behavioral_antiviral_meds</th>\n",
       "      <th>behavioral_avoidance</th>\n",
       "      <th>behavioral_face_mask</th>\n",
       "      <th>behavioral_wash_hands</th>\n",
       "      <th>behavioral_large_gatherings</th>\n",
       "      <th>behavioral_outside_home</th>\n",
       "      <th>behavioral_touch_face</th>\n",
       "      <th>doctor_recc_h1n1</th>\n",
       "      <th>...</th>\n",
       "      <th>income_poverty</th>\n",
       "      <th>marital_status</th>\n",
       "      <th>rent_or_own</th>\n",
       "      <th>employment_status</th>\n",
       "      <th>hhs_geo_region</th>\n",
       "      <th>census_msa</th>\n",
       "      <th>household_adults</th>\n",
       "      <th>household_children</th>\n",
       "      <th>employment_industry</th>\n",
       "      <th>employment_occupation</th>\n",
       "    </tr>\n",
       "    <tr>\n",
       "      <th>respondent_id</th>\n",
       "      <th></th>\n",
       "      <th></th>\n",
       "      <th></th>\n",
       "      <th></th>\n",
       "      <th></th>\n",
       "      <th></th>\n",
       "      <th></th>\n",
       "      <th></th>\n",
       "      <th></th>\n",
       "      <th></th>\n",
       "      <th></th>\n",
       "      <th></th>\n",
       "      <th></th>\n",
       "      <th></th>\n",
       "      <th></th>\n",
       "      <th></th>\n",
       "      <th></th>\n",
       "      <th></th>\n",
       "      <th></th>\n",
       "      <th></th>\n",
       "      <th></th>\n",
       "    </tr>\n",
       "  </thead>\n",
       "  <tbody>\n",
       "    <tr>\n",
       "      <th>0</th>\n",
       "      <td>1.0</td>\n",
       "      <td>0.0</td>\n",
       "      <td>0.0</td>\n",
       "      <td>0.0</td>\n",
       "      <td>0.0</td>\n",
       "      <td>0.0</td>\n",
       "      <td>0.0</td>\n",
       "      <td>1.0</td>\n",
       "      <td>1.0</td>\n",
       "      <td>0.0</td>\n",
       "      <td>...</td>\n",
       "      <td>Below Poverty</td>\n",
       "      <td>Not Married</td>\n",
       "      <td>Own</td>\n",
       "      <td>Not in Labor Force</td>\n",
       "      <td>oxchjgsf</td>\n",
       "      <td>Non-MSA</td>\n",
       "      <td>0.0</td>\n",
       "      <td>0.0</td>\n",
       "      <td>NaN</td>\n",
       "      <td>NaN</td>\n",
       "    </tr>\n",
       "    <tr>\n",
       "      <th>1</th>\n",
       "      <td>3.0</td>\n",
       "      <td>2.0</td>\n",
       "      <td>0.0</td>\n",
       "      <td>1.0</td>\n",
       "      <td>0.0</td>\n",
       "      <td>1.0</td>\n",
       "      <td>0.0</td>\n",
       "      <td>1.0</td>\n",
       "      <td>1.0</td>\n",
       "      <td>0.0</td>\n",
       "      <td>...</td>\n",
       "      <td>Below Poverty</td>\n",
       "      <td>Not Married</td>\n",
       "      <td>Rent</td>\n",
       "      <td>Employed</td>\n",
       "      <td>bhuqouqj</td>\n",
       "      <td>MSA, Not Principle  City</td>\n",
       "      <td>0.0</td>\n",
       "      <td>0.0</td>\n",
       "      <td>pxcmvdjn</td>\n",
       "      <td>xgwztkwe</td>\n",
       "    </tr>\n",
       "    <tr>\n",
       "      <th>2</th>\n",
       "      <td>1.0</td>\n",
       "      <td>1.0</td>\n",
       "      <td>0.0</td>\n",
       "      <td>1.0</td>\n",
       "      <td>0.0</td>\n",
       "      <td>0.0</td>\n",
       "      <td>0.0</td>\n",
       "      <td>0.0</td>\n",
       "      <td>0.0</td>\n",
       "      <td>NaN</td>\n",
       "      <td>...</td>\n",
       "      <td>&lt;= $75,000, Above Poverty</td>\n",
       "      <td>Not Married</td>\n",
       "      <td>Own</td>\n",
       "      <td>Employed</td>\n",
       "      <td>qufhixun</td>\n",
       "      <td>MSA, Not Principle  City</td>\n",
       "      <td>2.0</td>\n",
       "      <td>0.0</td>\n",
       "      <td>rucpziij</td>\n",
       "      <td>xtkaffoo</td>\n",
       "    </tr>\n",
       "    <tr>\n",
       "      <th>3</th>\n",
       "      <td>1.0</td>\n",
       "      <td>1.0</td>\n",
       "      <td>0.0</td>\n",
       "      <td>1.0</td>\n",
       "      <td>0.0</td>\n",
       "      <td>1.0</td>\n",
       "      <td>1.0</td>\n",
       "      <td>0.0</td>\n",
       "      <td>0.0</td>\n",
       "      <td>0.0</td>\n",
       "      <td>...</td>\n",
       "      <td>Below Poverty</td>\n",
       "      <td>Not Married</td>\n",
       "      <td>Rent</td>\n",
       "      <td>Not in Labor Force</td>\n",
       "      <td>lrircsnp</td>\n",
       "      <td>MSA, Principle City</td>\n",
       "      <td>0.0</td>\n",
       "      <td>0.0</td>\n",
       "      <td>NaN</td>\n",
       "      <td>NaN</td>\n",
       "    </tr>\n",
       "    <tr>\n",
       "      <th>4</th>\n",
       "      <td>2.0</td>\n",
       "      <td>1.0</td>\n",
       "      <td>0.0</td>\n",
       "      <td>1.0</td>\n",
       "      <td>0.0</td>\n",
       "      <td>1.0</td>\n",
       "      <td>1.0</td>\n",
       "      <td>0.0</td>\n",
       "      <td>1.0</td>\n",
       "      <td>0.0</td>\n",
       "      <td>...</td>\n",
       "      <td>&lt;= $75,000, Above Poverty</td>\n",
       "      <td>Married</td>\n",
       "      <td>Own</td>\n",
       "      <td>Employed</td>\n",
       "      <td>qufhixun</td>\n",
       "      <td>MSA, Not Principle  City</td>\n",
       "      <td>1.0</td>\n",
       "      <td>0.0</td>\n",
       "      <td>wxleyezf</td>\n",
       "      <td>emcorrxb</td>\n",
       "    </tr>\n",
       "  </tbody>\n",
       "</table>\n",
       "<p>5 rows × 35 columns</p>\n",
       "</div>"
      ],
      "text/plain": [
       "               h1n1_concern  h1n1_knowledge  behavioral_antiviral_meds  \\\n",
       "respondent_id                                                            \n",
       "0                       1.0             0.0                        0.0   \n",
       "1                       3.0             2.0                        0.0   \n",
       "2                       1.0             1.0                        0.0   \n",
       "3                       1.0             1.0                        0.0   \n",
       "4                       2.0             1.0                        0.0   \n",
       "\n",
       "               behavioral_avoidance  behavioral_face_mask  \\\n",
       "respondent_id                                               \n",
       "0                               0.0                   0.0   \n",
       "1                               1.0                   0.0   \n",
       "2                               1.0                   0.0   \n",
       "3                               1.0                   0.0   \n",
       "4                               1.0                   0.0   \n",
       "\n",
       "               behavioral_wash_hands  behavioral_large_gatherings  \\\n",
       "respondent_id                                                       \n",
       "0                                0.0                          0.0   \n",
       "1                                1.0                          0.0   \n",
       "2                                0.0                          0.0   \n",
       "3                                1.0                          1.0   \n",
       "4                                1.0                          1.0   \n",
       "\n",
       "               behavioral_outside_home  behavioral_touch_face  \\\n",
       "respondent_id                                                   \n",
       "0                                  1.0                    1.0   \n",
       "1                                  1.0                    1.0   \n",
       "2                                  0.0                    0.0   \n",
       "3                                  0.0                    0.0   \n",
       "4                                  0.0                    1.0   \n",
       "\n",
       "               doctor_recc_h1n1  ...             income_poverty  \\\n",
       "respondent_id                    ...                              \n",
       "0                           0.0  ...              Below Poverty   \n",
       "1                           0.0  ...              Below Poverty   \n",
       "2                           NaN  ...  <= $75,000, Above Poverty   \n",
       "3                           0.0  ...              Below Poverty   \n",
       "4                           0.0  ...  <= $75,000, Above Poverty   \n",
       "\n",
       "               marital_status  rent_or_own   employment_status  \\\n",
       "respondent_id                                                    \n",
       "0                 Not Married          Own  Not in Labor Force   \n",
       "1                 Not Married         Rent            Employed   \n",
       "2                 Not Married          Own            Employed   \n",
       "3                 Not Married         Rent  Not in Labor Force   \n",
       "4                     Married          Own            Employed   \n",
       "\n",
       "               hhs_geo_region                census_msa  household_adults  \\\n",
       "respondent_id                                                               \n",
       "0                    oxchjgsf                   Non-MSA               0.0   \n",
       "1                    bhuqouqj  MSA, Not Principle  City               0.0   \n",
       "2                    qufhixun  MSA, Not Principle  City               2.0   \n",
       "3                    lrircsnp       MSA, Principle City               0.0   \n",
       "4                    qufhixun  MSA, Not Principle  City               1.0   \n",
       "\n",
       "               household_children  employment_industry  employment_occupation  \n",
       "respondent_id                                                                  \n",
       "0                             0.0                  NaN                    NaN  \n",
       "1                             0.0             pxcmvdjn               xgwztkwe  \n",
       "2                             0.0             rucpziij               xtkaffoo  \n",
       "3                             0.0                  NaN                    NaN  \n",
       "4                             0.0             wxleyezf               emcorrxb  \n",
       "\n",
       "[5 rows x 35 columns]"
      ]
     },
     "execution_count": 11,
     "metadata": {},
     "output_type": "execute_result"
    }
   ],
   "source": [
    "features_df = pd.read_csv(\"training_set_features.csv\", index_col=\"respondent_id\")\n",
    "features_df.head()"
   ]
  },
  {
   "cell_type": "markdown",
   "id": "26f552ef",
   "metadata": {},
   "source": [
    "The `DataFrame` has one row for each respondent and one column for each of the 35 features."
   ]
  },
  {
   "cell_type": "code",
   "execution_count": 12,
   "id": "62b9bce9",
   "metadata": {},
   "outputs": [
    {
     "data": {
      "text/plain": [
       "(26707, 35)"
      ]
     },
     "execution_count": 12,
     "metadata": {},
     "output_type": "execute_result"
    }
   ],
   "source": [
    "features_df.shape"
   ]
  },
  {
   "cell_type": "markdown",
   "id": "07029de7",
   "metadata": {},
   "source": [
    "Again, the index contains IDs for the respondents, which we can use to confirm that the rows in `features_df` line represent the same respondents as the rows in `labels_df`."
   ]
  },
  {
   "cell_type": "code",
   "execution_count": 13,
   "id": "875b3423",
   "metadata": {},
   "outputs": [
    {
     "data": {
      "text/plain": [
       "True"
      ]
     },
     "execution_count": 13,
     "metadata": {},
     "output_type": "execute_result"
    }
   ],
   "source": [
    "(features_df.index == labels_df.index).all()"
   ]
  },
  {
   "cell_type": "markdown",
   "id": "4b4cacd1",
   "metadata": {},
   "source": [
    "The `dtypes` attribute indicates the data type of each feature."
   ]
  },
  {
   "cell_type": "code",
   "execution_count": 14,
   "id": "fa7ced4a",
   "metadata": {},
   "outputs": [
    {
     "data": {
      "text/plain": [
       "h1n1_concern                   float64\n",
       "h1n1_knowledge                 float64\n",
       "behavioral_antiviral_meds      float64\n",
       "behavioral_avoidance           float64\n",
       "behavioral_face_mask           float64\n",
       "behavioral_wash_hands          float64\n",
       "behavioral_large_gatherings    float64\n",
       "behavioral_outside_home        float64\n",
       "behavioral_touch_face          float64\n",
       "doctor_recc_h1n1               float64\n",
       "doctor_recc_seasonal           float64\n",
       "chronic_med_condition          float64\n",
       "child_under_6_months           float64\n",
       "health_worker                  float64\n",
       "health_insurance               float64\n",
       "opinion_h1n1_vacc_effective    float64\n",
       "opinion_h1n1_risk              float64\n",
       "opinion_h1n1_sick_from_vacc    float64\n",
       "opinion_seas_vacc_effective    float64\n",
       "opinion_seas_risk              float64\n",
       "opinion_seas_sick_from_vacc    float64\n",
       "age_group                       object\n",
       "education                       object\n",
       "race                            object\n",
       "sex                             object\n",
       "income_poverty                  object\n",
       "marital_status                  object\n",
       "rent_or_own                     object\n",
       "employment_status               object\n",
       "hhs_geo_region                  object\n",
       "census_msa                      object\n",
       "household_adults               float64\n",
       "household_children             float64\n",
       "employment_industry             object\n",
       "employment_occupation           object\n",
       "dtype: object"
      ]
     },
     "execution_count": 14,
     "metadata": {},
     "output_type": "execute_result"
    }
   ],
   "source": [
    "features_df.dtypes"
   ]
  },
  {
   "cell_type": "markdown",
   "id": "629be4d3",
   "metadata": {},
   "source": [
    "Most are `float64`, which means they are floating-point numbers. Some are `object`, which means they could contain any kind of Python object -- but as we will see, they are mostly strings.\n",
    "\n",
    "Some of the `float64` columns represent actual numbers, like the number of children in the respondent's household."
   ]
  },
  {
   "cell_type": "code",
   "execution_count": 15,
   "id": "a326d746",
   "metadata": {},
   "outputs": [
    {
     "data": {
      "text/plain": [
       "0.0    18672\n",
       "1.0     3175\n",
       "2.0     2864\n",
       "3.0     1747\n",
       "Name: household_children, dtype: int64"
      ]
     },
     "execution_count": 15,
     "metadata": {},
     "output_type": "execute_result"
    }
   ],
   "source": [
    "features_df[\"household_children\"].value_counts().sort_index()"
   ]
  },
  {
   "cell_type": "markdown",
   "id": "7b50a34c",
   "metadata": {},
   "source": [
    "Some are ordinal categorial features represented by integers, like the level of H1N1 concern."
   ]
  },
  {
   "cell_type": "code",
   "execution_count": 16,
   "id": "b797b448",
   "metadata": {},
   "outputs": [
    {
     "data": {
      "text/plain": [
       "0.0     3296\n",
       "1.0     8153\n",
       "2.0    10575\n",
       "3.0     4591\n",
       "Name: h1n1_concern, dtype: int64"
      ]
     },
     "execution_count": 16,
     "metadata": {},
     "output_type": "execute_result"
    }
   ],
   "source": [
    "features_df[\"h1n1_concern\"].value_counts().sort_index()"
   ]
  },
  {
   "cell_type": "markdown",
   "id": "60b69dd4",
   "metadata": {},
   "source": [
    "Some are unordered categorical features represented by integers, like sex."
   ]
  },
  {
   "cell_type": "code",
   "execution_count": 17,
   "id": "be22c79d",
   "metadata": {},
   "outputs": [
    {
     "data": {
      "text/plain": [
       "Female    15858\n",
       "Male      10849\n",
       "Name: sex, dtype: int64"
      ]
     },
     "execution_count": 17,
     "metadata": {},
     "output_type": "execute_result"
    }
   ],
   "source": [
    "features_df[\"sex\"].value_counts().sort_index()"
   ]
  },
  {
   "cell_type": "markdown",
   "id": "e3534faf",
   "metadata": {},
   "source": [
    "Note that in results from `value_counts`, the `dtype` refers to the counts, which are integers, not the values in the feature."
   ]
  },
  {
   "cell_type": "markdown",
   "id": "02449e0d",
   "metadata": {},
   "source": [
    "**Exercise:** Compute the value counts of `age_group`. What kind of feature is this (numerical or categorical, ordered or not), and how is it represented?"
   ]
  },
  {
   "cell_type": "code",
   "execution_count": 18,
   "id": "b795edef",
   "metadata": {},
   "outputs": [
    {
     "data": {
      "text/plain": [
       "18 - 34 Years    5215\n",
       "35 - 44 Years    3848\n",
       "45 - 54 Years    5238\n",
       "55 - 64 Years    5563\n",
       "65+ Years        6843\n",
       "Name: age_group, dtype: int64"
      ]
     },
     "execution_count": 18,
     "metadata": {},
     "output_type": "execute_result"
    }
   ],
   "source": [
    "# Solution\n",
    "\n",
    "# It's a numerical quantity grouped into ordered categories, represented by strings.\n",
    "\n",
    "features_df[\"age_group\"].value_counts().sort_index()"
   ]
  },
  {
   "cell_type": "markdown",
   "id": "4ecd0580",
   "metadata": {},
   "source": [
    "## Predictive value\n",
    "\n",
    "Now let's take a quick look and see which features might help us predict vaccination decisions.\n",
    "For example, one of the features in the dataset is `h1n1_concern`, which contains responses to the following question [from the survey](https://ftp.cdc.gov/pub/Health_Statistics/NCHS/Dataset_Documentation/NIS/nhfs/nhfspuf_QUEX.PDF):\n",
    "\n",
    "> How concerned are you about the H1N1 flu? Would you say you are very concerned,\n",
    "somewhat concerned, not very concerned, or not at all concerned?\n",
    "\n",
    "The responses are represented with integers from 0 to 3, with the following encoding:\n",
    "\n",
    "```\n",
    "    0 = Not at all concerned; \n",
    "    1 = Not very concerned; \n",
    "    2 = Somewhat concerned; \n",
    "    3 = Very concerned.\n",
    "```\n",
    "\n",
    "A few people said they did not know, or refused to answer the question. These responses are represented by the special value `NaN`.\n",
    "\n",
    "Using a cross tabulation, we can see what fraction of people are vaccinated at each level of `h1n1_concern`:"
   ]
  },
  {
   "cell_type": "code",
   "execution_count": 19,
   "id": "0448d45f",
   "metadata": {},
   "outputs": [],
   "source": [
    "def crosstab(x, y):\n",
    "    \"\"\"Make a cross tabulation and normalize the columns as percentages.\n",
    "\n",
    "    Args:\n",
    "        x: sequence of values that go in the index\n",
    "        y: sequence of values that go in the columns\n",
    "\n",
    "    returns: DataFrame\n",
    "    \"\"\"\n",
    "    return pd.crosstab(x, y, normalize=\"columns\") * 100"
   ]
  },
  {
   "cell_type": "code",
   "execution_count": 20,
   "id": "b63b967f",
   "metadata": {},
   "outputs": [
    {
     "data": {
      "text/html": [
       "<div>\n",
       "<style scoped>\n",
       "    .dataframe tbody tr th:only-of-type {\n",
       "        vertical-align: middle;\n",
       "    }\n",
       "\n",
       "    .dataframe tbody tr th {\n",
       "        vertical-align: top;\n",
       "    }\n",
       "\n",
       "    .dataframe thead th {\n",
       "        text-align: right;\n",
       "    }\n",
       "</style>\n",
       "<table border=\"1\" class=\"dataframe\">\n",
       "  <thead>\n",
       "    <tr style=\"text-align: right;\">\n",
       "      <th>h1n1_concern</th>\n",
       "      <th>0.0</th>\n",
       "      <th>1.0</th>\n",
       "      <th>2.0</th>\n",
       "      <th>3.0</th>\n",
       "    </tr>\n",
       "    <tr>\n",
       "      <th>h1n1_vaccine</th>\n",
       "      <th></th>\n",
       "      <th></th>\n",
       "      <th></th>\n",
       "      <th></th>\n",
       "    </tr>\n",
       "  </thead>\n",
       "  <tbody>\n",
       "    <tr>\n",
       "      <th>0</th>\n",
       "      <td>86.438107</td>\n",
       "      <td>82.865203</td>\n",
       "      <td>76.614657</td>\n",
       "      <td>70.790677</td>\n",
       "    </tr>\n",
       "    <tr>\n",
       "      <th>1</th>\n",
       "      <td>13.561893</td>\n",
       "      <td>17.134797</td>\n",
       "      <td>23.385343</td>\n",
       "      <td>29.209323</td>\n",
       "    </tr>\n",
       "  </tbody>\n",
       "</table>\n",
       "</div>"
      ],
      "text/plain": [
       "h1n1_concern        0.0        1.0        2.0        3.0\n",
       "h1n1_vaccine                                            \n",
       "0             86.438107  82.865203  76.614657  70.790677\n",
       "1             13.561893  17.134797  23.385343  29.209323"
      ]
     },
     "execution_count": 20,
     "metadata": {},
     "output_type": "execute_result"
    }
   ],
   "source": [
    "crosstab(labels_df[\"h1n1_vaccine\"], features_df[\"h1n1_concern\"])"
   ]
  },
  {
   "cell_type": "markdown",
   "id": "69757a1f",
   "metadata": {},
   "source": [
    "Among people who are \"not at all concerned\" (value 0), only about 13% chose to get vaccinated. Among people who are \"very concerned\" (value 3), about 29% did. So it seems like this feature has \"predictive value\"; that is, if we know `h1n1_concern`, we can make a better prediction about vaccination status (as you might have expected).\n",
    "\n",
    "Now let's do the same thing with `household_children`:"
   ]
  },
  {
   "cell_type": "code",
   "execution_count": 21,
   "id": "f4401eb0",
   "metadata": {},
   "outputs": [
    {
     "data": {
      "text/html": [
       "<div>\n",
       "<style scoped>\n",
       "    .dataframe tbody tr th:only-of-type {\n",
       "        vertical-align: middle;\n",
       "    }\n",
       "\n",
       "    .dataframe tbody tr th {\n",
       "        vertical-align: top;\n",
       "    }\n",
       "\n",
       "    .dataframe thead th {\n",
       "        text-align: right;\n",
       "    }\n",
       "</style>\n",
       "<table border=\"1\" class=\"dataframe\">\n",
       "  <thead>\n",
       "    <tr style=\"text-align: right;\">\n",
       "      <th>household_children</th>\n",
       "      <th>0.0</th>\n",
       "      <th>1.0</th>\n",
       "      <th>2.0</th>\n",
       "      <th>3.0</th>\n",
       "    </tr>\n",
       "    <tr>\n",
       "      <th>h1n1_vaccine</th>\n",
       "      <th></th>\n",
       "      <th></th>\n",
       "      <th></th>\n",
       "      <th></th>\n",
       "    </tr>\n",
       "  </thead>\n",
       "  <tbody>\n",
       "    <tr>\n",
       "      <th>0</th>\n",
       "      <td>78.668595</td>\n",
       "      <td>78.771654</td>\n",
       "      <td>78.037709</td>\n",
       "      <td>80.022896</td>\n",
       "    </tr>\n",
       "    <tr>\n",
       "      <th>1</th>\n",
       "      <td>21.331405</td>\n",
       "      <td>21.228346</td>\n",
       "      <td>21.962291</td>\n",
       "      <td>19.977104</td>\n",
       "    </tr>\n",
       "  </tbody>\n",
       "</table>\n",
       "</div>"
      ],
      "text/plain": [
       "household_children        0.0        1.0        2.0        3.0\n",
       "h1n1_vaccine                                                  \n",
       "0                   78.668595  78.771654  78.037709  80.022896\n",
       "1                   21.331405  21.228346  21.962291  19.977104"
      ]
     },
     "execution_count": 21,
     "metadata": {},
     "output_type": "execute_result"
    }
   ],
   "source": [
    "crosstab(labels_df[\"h1n1_vaccine\"], features_df[\"household_children\"])"
   ]
  },
  {
   "cell_type": "markdown",
   "id": "3c86599a",
   "metadata": {},
   "source": [
    "The fraction of people who got vaccinated is close to 21%, regardless of the number of children in the household.\n",
    "It looks like people with 3 children might be slightly less likely to get vaccinated (maybe they don't have time), but the number of people in this group is relatively small, so this difference might not mean anything."
   ]
  },
  {
   "cell_type": "code",
   "execution_count": 22,
   "id": "07f702a8",
   "metadata": {},
   "outputs": [
    {
     "data": {
      "text/plain": [
       "0.0    18672\n",
       "1.0     3175\n",
       "2.0     2864\n",
       "3.0     1747\n",
       "Name: household_children, dtype: int64"
      ]
     },
     "execution_count": 22,
     "metadata": {},
     "output_type": "execute_result"
    }
   ],
   "source": [
    "features_df[\"household_children\"].value_counts()"
   ]
  },
  {
   "cell_type": "markdown",
   "id": "06afd9d4",
   "metadata": {},
   "source": [
    "Either way, it looks like this feature doesn't have much predictive value."
   ]
  },
  {
   "cell_type": "markdown",
   "id": "e94c24ca",
   "metadata": {},
   "source": [
    "**Exercise:** Explore one or two more features and see if you can find others that seem to have predictive value."
   ]
  },
  {
   "cell_type": "code",
   "execution_count": 23,
   "id": "116a7df6",
   "metadata": {},
   "outputs": [
    {
     "data": {
      "text/html": [
       "<div>\n",
       "<style scoped>\n",
       "    .dataframe tbody tr th:only-of-type {\n",
       "        vertical-align: middle;\n",
       "    }\n",
       "\n",
       "    .dataframe tbody tr th {\n",
       "        vertical-align: top;\n",
       "    }\n",
       "\n",
       "    .dataframe thead th {\n",
       "        text-align: right;\n",
       "    }\n",
       "</style>\n",
       "<table border=\"1\" class=\"dataframe\">\n",
       "  <thead>\n",
       "    <tr style=\"text-align: right;\">\n",
       "      <th>doctor_recc_h1n1</th>\n",
       "      <th>0.0</th>\n",
       "      <th>1.0</th>\n",
       "    </tr>\n",
       "    <tr>\n",
       "      <th>h1n1_vaccine</th>\n",
       "      <th></th>\n",
       "      <th></th>\n",
       "    </tr>\n",
       "  </thead>\n",
       "  <tbody>\n",
       "    <tr>\n",
       "      <th>0</th>\n",
       "      <td>86.362924</td>\n",
       "      <td>46.764053</td>\n",
       "    </tr>\n",
       "    <tr>\n",
       "      <th>1</th>\n",
       "      <td>13.637076</td>\n",
       "      <td>53.235947</td>\n",
       "    </tr>\n",
       "  </tbody>\n",
       "</table>\n",
       "</div>"
      ],
      "text/plain": [
       "doctor_recc_h1n1        0.0        1.0\n",
       "h1n1_vaccine                          \n",
       "0                 86.362924  46.764053\n",
       "1                 13.637076  53.235947"
      ]
     },
     "execution_count": 23,
     "metadata": {},
     "output_type": "execute_result"
    }
   ],
   "source": [
    "# Solution\n",
    "\n",
    "crosstab(labels_df[\"h1n1_vaccine\"], features_df[\"doctor_recc_h1n1\"])"
   ]
  },
  {
   "cell_type": "code",
   "execution_count": 24,
   "id": "36c82559",
   "metadata": {},
   "outputs": [
    {
     "data": {
      "text/html": [
       "<div>\n",
       "<style scoped>\n",
       "    .dataframe tbody tr th:only-of-type {\n",
       "        vertical-align: middle;\n",
       "    }\n",
       "\n",
       "    .dataframe tbody tr th {\n",
       "        vertical-align: top;\n",
       "    }\n",
       "\n",
       "    .dataframe thead th {\n",
       "        text-align: right;\n",
       "    }\n",
       "</style>\n",
       "<table border=\"1\" class=\"dataframe\">\n",
       "  <thead>\n",
       "    <tr style=\"text-align: right;\">\n",
       "      <th>health_insurance</th>\n",
       "      <th>0.0</th>\n",
       "      <th>1.0</th>\n",
       "    </tr>\n",
       "    <tr>\n",
       "      <th>h1n1_vaccine</th>\n",
       "      <th></th>\n",
       "      <th></th>\n",
       "    </tr>\n",
       "  </thead>\n",
       "  <tbody>\n",
       "    <tr>\n",
       "      <th>0</th>\n",
       "      <td>85.253456</td>\n",
       "      <td>68.228715</td>\n",
       "    </tr>\n",
       "    <tr>\n",
       "      <th>1</th>\n",
       "      <td>14.746544</td>\n",
       "      <td>31.771285</td>\n",
       "    </tr>\n",
       "  </tbody>\n",
       "</table>\n",
       "</div>"
      ],
      "text/plain": [
       "health_insurance        0.0        1.0\n",
       "h1n1_vaccine                          \n",
       "0                 85.253456  68.228715\n",
       "1                 14.746544  31.771285"
      ]
     },
     "execution_count": 24,
     "metadata": {},
     "output_type": "execute_result"
    }
   ],
   "source": [
    "# Solution\n",
    "\n",
    "crosstab(labels_df[\"h1n1_vaccine\"], features_df[\"health_insurance\"])"
   ]
  },
  {
   "cell_type": "markdown",
   "id": "d850888c",
   "metadata": {},
   "source": [
    "## Fill missing values\n",
    "\n",
    "We could continue to explore one feature at a time, but our goal is to make a model that identifies the most predictive features and uses them to generate predictions.\n",
    "The model we will start with is logistic regression, which is a relatively simple algorithm (compared to others we'll see soon).\n",
    "\n",
    "Before we can use it, there are two issues we have to deal with:\n",
    "\n",
    "1. The implementation of logistic regression in Scikit-learn does not work if the dataset contains `NaN` values, so we will have to do something about missing data, and\n",
    "\n",
    "2. Numerical and categorical data are handled differently, so we have to split them up and prepare them separately.\n",
    "\n",
    "In this lesson we'll start with just the numerical features, including numerically-encoded ordinal features. In the next lesson we'll add the categorical features.\n",
    "\n",
    "We can use `select_dtypes` to pull out the features that contain numbers."
   ]
  },
  {
   "cell_type": "code",
   "execution_count": 25,
   "id": "d99301cd",
   "metadata": {},
   "outputs": [
    {
     "data": {
      "text/plain": [
       "(26707, 23)"
      ]
     },
     "execution_count": 25,
     "metadata": {},
     "output_type": "execute_result"
    }
   ],
   "source": [
    "numeric_features_df = features_df.select_dtypes(include=np.number)\n",
    "numeric_features_df.shape"
   ]
  },
  {
   "cell_type": "markdown",
   "id": "0d8cb7f9",
   "metadata": {},
   "source": [
    "For most features, we are missing some values. For a few of them, we are missing a lot!"
   ]
  },
  {
   "cell_type": "code",
   "execution_count": 26,
   "id": "9abec6c0",
   "metadata": {},
   "outputs": [
    {
     "data": {
      "text/plain": [
       "h1n1_concern                      92\n",
       "h1n1_knowledge                   116\n",
       "behavioral_antiviral_meds         71\n",
       "behavioral_avoidance             208\n",
       "behavioral_face_mask              19\n",
       "behavioral_wash_hands             42\n",
       "behavioral_large_gatherings       87\n",
       "behavioral_outside_home           82\n",
       "behavioral_touch_face            128\n",
       "doctor_recc_h1n1                2160\n",
       "doctor_recc_seasonal            2160\n",
       "chronic_med_condition            971\n",
       "child_under_6_months             820\n",
       "health_worker                    804\n",
       "health_insurance               12274\n",
       "opinion_h1n1_vacc_effective      391\n",
       "opinion_h1n1_risk                388\n",
       "opinion_h1n1_sick_from_vacc      395\n",
       "opinion_seas_vacc_effective      462\n",
       "opinion_seas_risk                514\n",
       "opinion_seas_sick_from_vacc      537\n",
       "household_adults                 249\n",
       "household_children               249\n",
       "dtype: int64"
      ]
     },
     "execution_count": 26,
     "metadata": {},
     "output_type": "execute_result"
    }
   ],
   "source": [
    "numeric_features_df.isna().sum()"
   ]
  },
  {
   "cell_type": "markdown",
   "id": "a8a4caa0",
   "metadata": {},
   "source": [
    "To deal with missing data, one option is **imputation**, which means we fill in missing data with values we think are plausible.\n",
    "Scikit-learn provides an object called `SimpleImputer` that does this kind of missing value imputation.\n",
    "One of the strategies it provides is `mean`, which replaces missing values with the mean of the non-missing values.\n",
    "\n",
    "To use it, we have to make a `SimpleImputer` object and then fit it to the data.\n",
    "In this example, \"fitting the data\" involves computing the mean of every feature."
   ]
  },
  {
   "cell_type": "code",
   "execution_count": 27,
   "id": "58aff8db",
   "metadata": {},
   "outputs": [
    {
     "data": {
      "text/html": [
       "<style>#sk-c8f76942-d1c2-464e-89e3-9f5619aa5944 {color: black;background-color: white;}#sk-c8f76942-d1c2-464e-89e3-9f5619aa5944 pre{padding: 0;}#sk-c8f76942-d1c2-464e-89e3-9f5619aa5944 div.sk-toggleable {background-color: white;}#sk-c8f76942-d1c2-464e-89e3-9f5619aa5944 label.sk-toggleable__label {cursor: pointer;display: block;width: 100%;margin-bottom: 0;padding: 0.3em;box-sizing: border-box;text-align: center;}#sk-c8f76942-d1c2-464e-89e3-9f5619aa5944 label.sk-toggleable__label-arrow:before {content: \"▸\";float: left;margin-right: 0.25em;color: #696969;}#sk-c8f76942-d1c2-464e-89e3-9f5619aa5944 label.sk-toggleable__label-arrow:hover:before {color: black;}#sk-c8f76942-d1c2-464e-89e3-9f5619aa5944 div.sk-estimator:hover label.sk-toggleable__label-arrow:before {color: black;}#sk-c8f76942-d1c2-464e-89e3-9f5619aa5944 div.sk-toggleable__content {max-height: 0;max-width: 0;overflow: hidden;text-align: left;background-color: #f0f8ff;}#sk-c8f76942-d1c2-464e-89e3-9f5619aa5944 div.sk-toggleable__content pre {margin: 0.2em;color: black;border-radius: 0.25em;background-color: #f0f8ff;}#sk-c8f76942-d1c2-464e-89e3-9f5619aa5944 input.sk-toggleable__control:checked~div.sk-toggleable__content {max-height: 200px;max-width: 100%;overflow: auto;}#sk-c8f76942-d1c2-464e-89e3-9f5619aa5944 input.sk-toggleable__control:checked~label.sk-toggleable__label-arrow:before {content: \"▾\";}#sk-c8f76942-d1c2-464e-89e3-9f5619aa5944 div.sk-estimator input.sk-toggleable__control:checked~label.sk-toggleable__label {background-color: #d4ebff;}#sk-c8f76942-d1c2-464e-89e3-9f5619aa5944 div.sk-label input.sk-toggleable__control:checked~label.sk-toggleable__label {background-color: #d4ebff;}#sk-c8f76942-d1c2-464e-89e3-9f5619aa5944 input.sk-hidden--visually {border: 0;clip: rect(1px 1px 1px 1px);clip: rect(1px, 1px, 1px, 1px);height: 1px;margin: -1px;overflow: hidden;padding: 0;position: absolute;width: 1px;}#sk-c8f76942-d1c2-464e-89e3-9f5619aa5944 div.sk-estimator {font-family: monospace;background-color: #f0f8ff;border: 1px dotted black;border-radius: 0.25em;box-sizing: border-box;margin-bottom: 0.5em;}#sk-c8f76942-d1c2-464e-89e3-9f5619aa5944 div.sk-estimator:hover {background-color: #d4ebff;}#sk-c8f76942-d1c2-464e-89e3-9f5619aa5944 div.sk-parallel-item::after {content: \"\";width: 100%;border-bottom: 1px solid gray;flex-grow: 1;}#sk-c8f76942-d1c2-464e-89e3-9f5619aa5944 div.sk-label:hover label.sk-toggleable__label {background-color: #d4ebff;}#sk-c8f76942-d1c2-464e-89e3-9f5619aa5944 div.sk-serial::before {content: \"\";position: absolute;border-left: 1px solid gray;box-sizing: border-box;top: 2em;bottom: 0;left: 50%;}#sk-c8f76942-d1c2-464e-89e3-9f5619aa5944 div.sk-serial {display: flex;flex-direction: column;align-items: center;background-color: white;padding-right: 0.2em;padding-left: 0.2em;}#sk-c8f76942-d1c2-464e-89e3-9f5619aa5944 div.sk-item {z-index: 1;}#sk-c8f76942-d1c2-464e-89e3-9f5619aa5944 div.sk-parallel {display: flex;align-items: stretch;justify-content: center;background-color: white;}#sk-c8f76942-d1c2-464e-89e3-9f5619aa5944 div.sk-parallel::before {content: \"\";position: absolute;border-left: 1px solid gray;box-sizing: border-box;top: 2em;bottom: 0;left: 50%;}#sk-c8f76942-d1c2-464e-89e3-9f5619aa5944 div.sk-parallel-item {display: flex;flex-direction: column;position: relative;background-color: white;}#sk-c8f76942-d1c2-464e-89e3-9f5619aa5944 div.sk-parallel-item:first-child::after {align-self: flex-end;width: 50%;}#sk-c8f76942-d1c2-464e-89e3-9f5619aa5944 div.sk-parallel-item:last-child::after {align-self: flex-start;width: 50%;}#sk-c8f76942-d1c2-464e-89e3-9f5619aa5944 div.sk-parallel-item:only-child::after {width: 0;}#sk-c8f76942-d1c2-464e-89e3-9f5619aa5944 div.sk-dashed-wrapped {border: 1px dashed gray;margin: 0 0.4em 0.5em 0.4em;box-sizing: border-box;padding-bottom: 0.4em;background-color: white;position: relative;}#sk-c8f76942-d1c2-464e-89e3-9f5619aa5944 div.sk-label label {font-family: monospace;font-weight: bold;background-color: white;display: inline-block;line-height: 1.2em;}#sk-c8f76942-d1c2-464e-89e3-9f5619aa5944 div.sk-label-container {position: relative;z-index: 2;text-align: center;}#sk-c8f76942-d1c2-464e-89e3-9f5619aa5944 div.sk-container {/* jupyter's `normalize.less` sets `[hidden] { display: none; }` but bootstrap.min.css set `[hidden] { display: none !important; }` so we also need the `!important` here to be able to override the default hidden behavior on the sphinx rendered scikit-learn.org. See: https://github.com/scikit-learn/scikit-learn/issues/21755 */display: inline-block !important;position: relative;}#sk-c8f76942-d1c2-464e-89e3-9f5619aa5944 div.sk-text-repr-fallback {display: none;}</style><div id=\"sk-c8f76942-d1c2-464e-89e3-9f5619aa5944\" class=\"sk-top-container\"><div class=\"sk-text-repr-fallback\"><pre>SimpleImputer()</pre><b>Please rerun this cell to show the HTML repr or trust the notebook.</b></div><div class=\"sk-container\" hidden><div class=\"sk-item\"><div class=\"sk-estimator sk-toggleable\"><input class=\"sk-toggleable__control sk-hidden--visually\" id=\"bb8f6bf0-ccaa-4d75-929d-1ee0d8f1d6b5\" type=\"checkbox\" checked><label for=\"bb8f6bf0-ccaa-4d75-929d-1ee0d8f1d6b5\" class=\"sk-toggleable__label sk-toggleable__label-arrow\">SimpleImputer</label><div class=\"sk-toggleable__content\"><pre>SimpleImputer()</pre></div></div></div></div></div>"
      ],
      "text/plain": [
       "SimpleImputer()"
      ]
     },
     "execution_count": 27,
     "metadata": {},
     "output_type": "execute_result"
    }
   ],
   "source": [
    "from sklearn.impute import SimpleImputer\n",
    "\n",
    "imputer = SimpleImputer(missing_values=np.nan, strategy=\"mean\")\n",
    "imputer.fit(numeric_features_df)"
   ]
  },
  {
   "cell_type": "markdown",
   "id": "a9eea864",
   "metadata": {},
   "source": [
    "Now that the `SimpleImputer` knows the means, we can use it to transform the data."
   ]
  },
  {
   "cell_type": "code",
   "execution_count": 28,
   "id": "4ef2641f",
   "metadata": {},
   "outputs": [
    {
     "data": {
      "text/plain": [
       "array([[1., 0., 0., ..., 2., 0., 0.],\n",
       "       [3., 2., 0., ..., 4., 0., 0.],\n",
       "       [1., 1., 0., ..., 2., 2., 0.],\n",
       "       ...,\n",
       "       [2., 2., 0., ..., 2., 0., 0.],\n",
       "       [1., 1., 0., ..., 2., 1., 0.],\n",
       "       [0., 0., 0., ..., 1., 1., 0.]])"
      ]
     },
     "execution_count": 28,
     "metadata": {},
     "output_type": "execute_result"
    }
   ],
   "source": [
    "filled = imputer.transform(numeric_features_df)\n",
    "filled"
   ]
  },
  {
   "cell_type": "markdown",
   "id": "88b58c18",
   "metadata": {},
   "source": [
    "The result is an array that contains the data from `numeric_features_df` except that the `NaN` values have been replaced with numbers.\n",
    "\n",
    "To show the changes, I'll put the array into a `DataFrame` with the index and columns from `numeric_features_df`."
   ]
  },
  {
   "cell_type": "code",
   "execution_count": 29,
   "id": "f4e517cd",
   "metadata": {},
   "outputs": [],
   "source": [
    "filled_df = pd.DataFrame(\n",
    "    filled, index=numeric_features_df.index, columns=numeric_features_df.columns\n",
    ")"
   ]
  },
  {
   "cell_type": "markdown",
   "id": "fbd1547b",
   "metadata": {},
   "source": [
    "We can confirm that there are no missing values in the filled data."
   ]
  },
  {
   "cell_type": "code",
   "execution_count": 30,
   "id": "7948f72d",
   "metadata": {},
   "outputs": [
    {
     "data": {
      "text/plain": [
       "h1n1_concern                   0\n",
       "h1n1_knowledge                 0\n",
       "behavioral_antiviral_meds      0\n",
       "behavioral_avoidance           0\n",
       "behavioral_face_mask           0\n",
       "behavioral_wash_hands          0\n",
       "behavioral_large_gatherings    0\n",
       "behavioral_outside_home        0\n",
       "behavioral_touch_face          0\n",
       "doctor_recc_h1n1               0\n",
       "doctor_recc_seasonal           0\n",
       "chronic_med_condition          0\n",
       "child_under_6_months           0\n",
       "health_worker                  0\n",
       "health_insurance               0\n",
       "opinion_h1n1_vacc_effective    0\n",
       "opinion_h1n1_risk              0\n",
       "opinion_h1n1_sick_from_vacc    0\n",
       "opinion_seas_vacc_effective    0\n",
       "opinion_seas_risk              0\n",
       "opinion_seas_sick_from_vacc    0\n",
       "household_adults               0\n",
       "household_children             0\n",
       "dtype: int64"
      ]
     },
     "execution_count": 30,
     "metadata": {},
     "output_type": "execute_result"
    }
   ],
   "source": [
    "filled_df.isna().sum()"
   ]
  },
  {
   "cell_type": "markdown",
   "id": "b9831490",
   "metadata": {},
   "source": [
    "To see the values that got filled in, let's look at `health_insurance`.\n",
    "The mean of the non-missing values is about 0.88."
   ]
  },
  {
   "cell_type": "code",
   "execution_count": 31,
   "id": "3feebb56",
   "metadata": {},
   "outputs": [
    {
     "data": {
      "text/plain": [
       "0.8797200859142243"
      ]
     },
     "execution_count": 31,
     "metadata": {},
     "output_type": "execute_result"
    }
   ],
   "source": [
    "features_df[\"health_insurance\"].mean()"
   ]
  },
  {
   "cell_type": "markdown",
   "id": "508e6af5",
   "metadata": {},
   "source": [
    "If we look at this column in `filled_df`, we see that it contains `0` or `1` for the cases with known data, and `0.88` where there was missing data."
   ]
  },
  {
   "cell_type": "code",
   "execution_count": 32,
   "id": "7392d73d",
   "metadata": {},
   "outputs": [
    {
     "data": {
      "text/plain": [
       "respondent_id\n",
       "0        1.00000\n",
       "1        1.00000\n",
       "2        0.87972\n",
       "3        0.87972\n",
       "4        0.87972\n",
       "          ...   \n",
       "26702    0.87972\n",
       "26703    1.00000\n",
       "26704    0.87972\n",
       "26705    0.00000\n",
       "26706    1.00000\n",
       "Name: health_insurance, Length: 26707, dtype: float64"
      ]
     },
     "execution_count": 32,
     "metadata": {},
     "output_type": "execute_result"
    }
   ],
   "source": [
    "filled_df[\"health_insurance\"]"
   ]
  },
  {
   "cell_type": "markdown",
   "id": "ccdf8cc4",
   "metadata": {},
   "source": [
    "One way to interpret these imputed values is that they represent probabilities. If we don't know whether a particular respondent has life insurance, we might say there is an 88% probability they do, based on the proportion of other respondents who do. "
   ]
  },
  {
   "cell_type": "markdown",
   "id": "a20d17c6",
   "metadata": {},
   "source": [
    "**Exercise:** What is the imputed value of `h1n1_concern`, and how would you interpret it?"
   ]
  },
  {
   "cell_type": "code",
   "execution_count": 33,
   "id": "9837b20f",
   "metadata": {},
   "outputs": [
    {
     "data": {
      "text/plain": [
       "2.000000    10575\n",
       "1.000000     8153\n",
       "3.000000     4591\n",
       "0.000000     3296\n",
       "1.618486       92\n",
       "Name: h1n1_concern, dtype: int64"
      ]
     },
     "execution_count": 33,
     "metadata": {},
     "output_type": "execute_result"
    }
   ],
   "source": [
    "filled_df[\"h1n1_concern\"].value_counts()"
   ]
  },
  {
   "cell_type": "markdown",
   "id": "badffa20",
   "metadata": {},
   "source": [
    "## Making a model\n",
    "\n",
    "Now we're ready to fit a model to the data. Scikit-learn provides a `LogisticRegression` object we can instantiate like this:"
   ]
  },
  {
   "cell_type": "code",
   "execution_count": 34,
   "id": "19dc5c85",
   "metadata": {},
   "outputs": [
    {
     "data": {
      "text/html": [
       "<style>#sk-f4af3dab-6090-4b71-8109-ab437bb7d939 {color: black;background-color: white;}#sk-f4af3dab-6090-4b71-8109-ab437bb7d939 pre{padding: 0;}#sk-f4af3dab-6090-4b71-8109-ab437bb7d939 div.sk-toggleable {background-color: white;}#sk-f4af3dab-6090-4b71-8109-ab437bb7d939 label.sk-toggleable__label {cursor: pointer;display: block;width: 100%;margin-bottom: 0;padding: 0.3em;box-sizing: border-box;text-align: center;}#sk-f4af3dab-6090-4b71-8109-ab437bb7d939 label.sk-toggleable__label-arrow:before {content: \"▸\";float: left;margin-right: 0.25em;color: #696969;}#sk-f4af3dab-6090-4b71-8109-ab437bb7d939 label.sk-toggleable__label-arrow:hover:before {color: black;}#sk-f4af3dab-6090-4b71-8109-ab437bb7d939 div.sk-estimator:hover label.sk-toggleable__label-arrow:before {color: black;}#sk-f4af3dab-6090-4b71-8109-ab437bb7d939 div.sk-toggleable__content {max-height: 0;max-width: 0;overflow: hidden;text-align: left;background-color: #f0f8ff;}#sk-f4af3dab-6090-4b71-8109-ab437bb7d939 div.sk-toggleable__content pre {margin: 0.2em;color: black;border-radius: 0.25em;background-color: #f0f8ff;}#sk-f4af3dab-6090-4b71-8109-ab437bb7d939 input.sk-toggleable__control:checked~div.sk-toggleable__content {max-height: 200px;max-width: 100%;overflow: auto;}#sk-f4af3dab-6090-4b71-8109-ab437bb7d939 input.sk-toggleable__control:checked~label.sk-toggleable__label-arrow:before {content: \"▾\";}#sk-f4af3dab-6090-4b71-8109-ab437bb7d939 div.sk-estimator input.sk-toggleable__control:checked~label.sk-toggleable__label {background-color: #d4ebff;}#sk-f4af3dab-6090-4b71-8109-ab437bb7d939 div.sk-label input.sk-toggleable__control:checked~label.sk-toggleable__label {background-color: #d4ebff;}#sk-f4af3dab-6090-4b71-8109-ab437bb7d939 input.sk-hidden--visually {border: 0;clip: rect(1px 1px 1px 1px);clip: rect(1px, 1px, 1px, 1px);height: 1px;margin: -1px;overflow: hidden;padding: 0;position: absolute;width: 1px;}#sk-f4af3dab-6090-4b71-8109-ab437bb7d939 div.sk-estimator {font-family: monospace;background-color: #f0f8ff;border: 1px dotted black;border-radius: 0.25em;box-sizing: border-box;margin-bottom: 0.5em;}#sk-f4af3dab-6090-4b71-8109-ab437bb7d939 div.sk-estimator:hover {background-color: #d4ebff;}#sk-f4af3dab-6090-4b71-8109-ab437bb7d939 div.sk-parallel-item::after {content: \"\";width: 100%;border-bottom: 1px solid gray;flex-grow: 1;}#sk-f4af3dab-6090-4b71-8109-ab437bb7d939 div.sk-label:hover label.sk-toggleable__label {background-color: #d4ebff;}#sk-f4af3dab-6090-4b71-8109-ab437bb7d939 div.sk-serial::before {content: \"\";position: absolute;border-left: 1px solid gray;box-sizing: border-box;top: 2em;bottom: 0;left: 50%;}#sk-f4af3dab-6090-4b71-8109-ab437bb7d939 div.sk-serial {display: flex;flex-direction: column;align-items: center;background-color: white;padding-right: 0.2em;padding-left: 0.2em;}#sk-f4af3dab-6090-4b71-8109-ab437bb7d939 div.sk-item {z-index: 1;}#sk-f4af3dab-6090-4b71-8109-ab437bb7d939 div.sk-parallel {display: flex;align-items: stretch;justify-content: center;background-color: white;}#sk-f4af3dab-6090-4b71-8109-ab437bb7d939 div.sk-parallel::before {content: \"\";position: absolute;border-left: 1px solid gray;box-sizing: border-box;top: 2em;bottom: 0;left: 50%;}#sk-f4af3dab-6090-4b71-8109-ab437bb7d939 div.sk-parallel-item {display: flex;flex-direction: column;position: relative;background-color: white;}#sk-f4af3dab-6090-4b71-8109-ab437bb7d939 div.sk-parallel-item:first-child::after {align-self: flex-end;width: 50%;}#sk-f4af3dab-6090-4b71-8109-ab437bb7d939 div.sk-parallel-item:last-child::after {align-self: flex-start;width: 50%;}#sk-f4af3dab-6090-4b71-8109-ab437bb7d939 div.sk-parallel-item:only-child::after {width: 0;}#sk-f4af3dab-6090-4b71-8109-ab437bb7d939 div.sk-dashed-wrapped {border: 1px dashed gray;margin: 0 0.4em 0.5em 0.4em;box-sizing: border-box;padding-bottom: 0.4em;background-color: white;position: relative;}#sk-f4af3dab-6090-4b71-8109-ab437bb7d939 div.sk-label label {font-family: monospace;font-weight: bold;background-color: white;display: inline-block;line-height: 1.2em;}#sk-f4af3dab-6090-4b71-8109-ab437bb7d939 div.sk-label-container {position: relative;z-index: 2;text-align: center;}#sk-f4af3dab-6090-4b71-8109-ab437bb7d939 div.sk-container {/* jupyter's `normalize.less` sets `[hidden] { display: none; }` but bootstrap.min.css set `[hidden] { display: none !important; }` so we also need the `!important` here to be able to override the default hidden behavior on the sphinx rendered scikit-learn.org. See: https://github.com/scikit-learn/scikit-learn/issues/21755 */display: inline-block !important;position: relative;}#sk-f4af3dab-6090-4b71-8109-ab437bb7d939 div.sk-text-repr-fallback {display: none;}</style><div id=\"sk-f4af3dab-6090-4b71-8109-ab437bb7d939\" class=\"sk-top-container\"><div class=\"sk-text-repr-fallback\"><pre>LogisticRegression()</pre><b>Please rerun this cell to show the HTML repr or trust the notebook.</b></div><div class=\"sk-container\" hidden><div class=\"sk-item\"><div class=\"sk-estimator sk-toggleable\"><input class=\"sk-toggleable__control sk-hidden--visually\" id=\"2c321373-8a4b-4bea-867a-3f7ce80f95dd\" type=\"checkbox\" checked><label for=\"2c321373-8a4b-4bea-867a-3f7ce80f95dd\" class=\"sk-toggleable__label sk-toggleable__label-arrow\">LogisticRegression</label><div class=\"sk-toggleable__content\"><pre>LogisticRegression()</pre></div></div></div></div></div>"
      ],
      "text/plain": [
       "LogisticRegression()"
      ]
     },
     "execution_count": 34,
     "metadata": {},
     "output_type": "execute_result"
    }
   ],
   "source": [
    "from sklearn.linear_model import LogisticRegression\n",
    "\n",
    "model = LogisticRegression()\n",
    "model"
   ]
  },
  {
   "cell_type": "markdown",
   "id": "d14afcaa",
   "metadata": {},
   "source": [
    "To fit the model to the data, we have to provide the actual labels, which we can get from `labels_df`."
   ]
  },
  {
   "cell_type": "code",
   "execution_count": 35,
   "id": "40bdf805",
   "metadata": {},
   "outputs": [
    {
     "data": {
      "text/plain": [
       "0    21033\n",
       "1     5674\n",
       "Name: h1n1_vaccine, dtype: int64"
      ]
     },
     "execution_count": 35,
     "metadata": {},
     "output_type": "execute_result"
    }
   ],
   "source": [
    "y_true = labels_df[\"h1n1_vaccine\"]\n",
    "y_true.value_counts()"
   ]
  },
  {
   "cell_type": "markdown",
   "id": "8e1917bc",
   "metadata": {},
   "source": [
    "`y_true` contains the labels from the training data, which we know are correct.\n",
    "Now we can fit the model like this."
   ]
  },
  {
   "cell_type": "code",
   "execution_count": 36,
   "id": "35851896",
   "metadata": {},
   "outputs": [
    {
     "data": {
      "text/html": [
       "<style>#sk-5f15ee31-17c9-4e93-ac39-8dbd1c86b4ab {color: black;background-color: white;}#sk-5f15ee31-17c9-4e93-ac39-8dbd1c86b4ab pre{padding: 0;}#sk-5f15ee31-17c9-4e93-ac39-8dbd1c86b4ab div.sk-toggleable {background-color: white;}#sk-5f15ee31-17c9-4e93-ac39-8dbd1c86b4ab label.sk-toggleable__label {cursor: pointer;display: block;width: 100%;margin-bottom: 0;padding: 0.3em;box-sizing: border-box;text-align: center;}#sk-5f15ee31-17c9-4e93-ac39-8dbd1c86b4ab label.sk-toggleable__label-arrow:before {content: \"▸\";float: left;margin-right: 0.25em;color: #696969;}#sk-5f15ee31-17c9-4e93-ac39-8dbd1c86b4ab label.sk-toggleable__label-arrow:hover:before {color: black;}#sk-5f15ee31-17c9-4e93-ac39-8dbd1c86b4ab div.sk-estimator:hover label.sk-toggleable__label-arrow:before {color: black;}#sk-5f15ee31-17c9-4e93-ac39-8dbd1c86b4ab div.sk-toggleable__content {max-height: 0;max-width: 0;overflow: hidden;text-align: left;background-color: #f0f8ff;}#sk-5f15ee31-17c9-4e93-ac39-8dbd1c86b4ab div.sk-toggleable__content pre {margin: 0.2em;color: black;border-radius: 0.25em;background-color: #f0f8ff;}#sk-5f15ee31-17c9-4e93-ac39-8dbd1c86b4ab input.sk-toggleable__control:checked~div.sk-toggleable__content {max-height: 200px;max-width: 100%;overflow: auto;}#sk-5f15ee31-17c9-4e93-ac39-8dbd1c86b4ab input.sk-toggleable__control:checked~label.sk-toggleable__label-arrow:before {content: \"▾\";}#sk-5f15ee31-17c9-4e93-ac39-8dbd1c86b4ab div.sk-estimator input.sk-toggleable__control:checked~label.sk-toggleable__label {background-color: #d4ebff;}#sk-5f15ee31-17c9-4e93-ac39-8dbd1c86b4ab div.sk-label input.sk-toggleable__control:checked~label.sk-toggleable__label {background-color: #d4ebff;}#sk-5f15ee31-17c9-4e93-ac39-8dbd1c86b4ab input.sk-hidden--visually {border: 0;clip: rect(1px 1px 1px 1px);clip: rect(1px, 1px, 1px, 1px);height: 1px;margin: -1px;overflow: hidden;padding: 0;position: absolute;width: 1px;}#sk-5f15ee31-17c9-4e93-ac39-8dbd1c86b4ab div.sk-estimator {font-family: monospace;background-color: #f0f8ff;border: 1px dotted black;border-radius: 0.25em;box-sizing: border-box;margin-bottom: 0.5em;}#sk-5f15ee31-17c9-4e93-ac39-8dbd1c86b4ab div.sk-estimator:hover {background-color: #d4ebff;}#sk-5f15ee31-17c9-4e93-ac39-8dbd1c86b4ab div.sk-parallel-item::after {content: \"\";width: 100%;border-bottom: 1px solid gray;flex-grow: 1;}#sk-5f15ee31-17c9-4e93-ac39-8dbd1c86b4ab div.sk-label:hover label.sk-toggleable__label {background-color: #d4ebff;}#sk-5f15ee31-17c9-4e93-ac39-8dbd1c86b4ab div.sk-serial::before {content: \"\";position: absolute;border-left: 1px solid gray;box-sizing: border-box;top: 2em;bottom: 0;left: 50%;}#sk-5f15ee31-17c9-4e93-ac39-8dbd1c86b4ab div.sk-serial {display: flex;flex-direction: column;align-items: center;background-color: white;padding-right: 0.2em;padding-left: 0.2em;}#sk-5f15ee31-17c9-4e93-ac39-8dbd1c86b4ab div.sk-item {z-index: 1;}#sk-5f15ee31-17c9-4e93-ac39-8dbd1c86b4ab div.sk-parallel {display: flex;align-items: stretch;justify-content: center;background-color: white;}#sk-5f15ee31-17c9-4e93-ac39-8dbd1c86b4ab div.sk-parallel::before {content: \"\";position: absolute;border-left: 1px solid gray;box-sizing: border-box;top: 2em;bottom: 0;left: 50%;}#sk-5f15ee31-17c9-4e93-ac39-8dbd1c86b4ab div.sk-parallel-item {display: flex;flex-direction: column;position: relative;background-color: white;}#sk-5f15ee31-17c9-4e93-ac39-8dbd1c86b4ab div.sk-parallel-item:first-child::after {align-self: flex-end;width: 50%;}#sk-5f15ee31-17c9-4e93-ac39-8dbd1c86b4ab div.sk-parallel-item:last-child::after {align-self: flex-start;width: 50%;}#sk-5f15ee31-17c9-4e93-ac39-8dbd1c86b4ab div.sk-parallel-item:only-child::after {width: 0;}#sk-5f15ee31-17c9-4e93-ac39-8dbd1c86b4ab div.sk-dashed-wrapped {border: 1px dashed gray;margin: 0 0.4em 0.5em 0.4em;box-sizing: border-box;padding-bottom: 0.4em;background-color: white;position: relative;}#sk-5f15ee31-17c9-4e93-ac39-8dbd1c86b4ab div.sk-label label {font-family: monospace;font-weight: bold;background-color: white;display: inline-block;line-height: 1.2em;}#sk-5f15ee31-17c9-4e93-ac39-8dbd1c86b4ab div.sk-label-container {position: relative;z-index: 2;text-align: center;}#sk-5f15ee31-17c9-4e93-ac39-8dbd1c86b4ab div.sk-container {/* jupyter's `normalize.less` sets `[hidden] { display: none; }` but bootstrap.min.css set `[hidden] { display: none !important; }` so we also need the `!important` here to be able to override the default hidden behavior on the sphinx rendered scikit-learn.org. See: https://github.com/scikit-learn/scikit-learn/issues/21755 */display: inline-block !important;position: relative;}#sk-5f15ee31-17c9-4e93-ac39-8dbd1c86b4ab div.sk-text-repr-fallback {display: none;}</style><div id=\"sk-5f15ee31-17c9-4e93-ac39-8dbd1c86b4ab\" class=\"sk-top-container\"><div class=\"sk-text-repr-fallback\"><pre>LogisticRegression()</pre><b>Please rerun this cell to show the HTML repr or trust the notebook.</b></div><div class=\"sk-container\" hidden><div class=\"sk-item\"><div class=\"sk-estimator sk-toggleable\"><input class=\"sk-toggleable__control sk-hidden--visually\" id=\"b9dec831-61e5-4174-9c77-a4430bb6585c\" type=\"checkbox\" checked><label for=\"b9dec831-61e5-4174-9c77-a4430bb6585c\" class=\"sk-toggleable__label sk-toggleable__label-arrow\">LogisticRegression</label><div class=\"sk-toggleable__content\"><pre>LogisticRegression()</pre></div></div></div></div></div>"
      ],
      "text/plain": [
       "LogisticRegression()"
      ]
     },
     "execution_count": 36,
     "metadata": {},
     "output_type": "execute_result"
    }
   ],
   "source": [
    "model.fit(filled, y_true)"
   ]
  },
  {
   "cell_type": "markdown",
   "id": "2ca53c2d",
   "metadata": {},
   "source": [
    "The return value from `fit` is the same `LogisticRegression` object, but now it contains the **coefficients** it computed to fit the data. Here's what they look like."
   ]
  },
  {
   "cell_type": "code",
   "execution_count": 37,
   "id": "0f1a2f91",
   "metadata": {},
   "outputs": [
    {
     "data": {
      "text/plain": [
       "array([[-0.09829494,  0.15465565,  0.14442064, -0.04637177,  0.18576658,\n",
       "         0.00280365, -0.18776983, -0.01832096,  0.04275457,  1.9942695 ,\n",
       "        -0.50661379,  0.12827365,  0.23467494,  0.73258467,  1.31045617,\n",
       "         0.61534921,  0.35163616, -0.01296847,  0.10357477,  0.15628207,\n",
       "        -0.08167706,  0.01464795, -0.09577733]])"
      ]
     },
     "execution_count": 37,
     "metadata": {},
     "output_type": "execute_result"
    }
   ],
   "source": [
    "model.coef_"
   ]
  },
  {
   "cell_type": "markdown",
   "id": "45b81e88",
   "metadata": {},
   "source": [
    "This array contains one coefficient for each feature, which we can see more clearly if we put them into a `Series` with the names of the features."
   ]
  },
  {
   "cell_type": "code",
   "execution_count": 38,
   "id": "f1ebc4f7",
   "metadata": {},
   "outputs": [
    {
     "data": {
      "text/plain": [
       "h1n1_concern                  -0.098295\n",
       "h1n1_knowledge                 0.154656\n",
       "behavioral_antiviral_meds      0.144421\n",
       "behavioral_avoidance          -0.046372\n",
       "behavioral_face_mask           0.185767\n",
       "behavioral_wash_hands          0.002804\n",
       "behavioral_large_gatherings   -0.187770\n",
       "behavioral_outside_home       -0.018321\n",
       "behavioral_touch_face          0.042755\n",
       "doctor_recc_h1n1               1.994270\n",
       "doctor_recc_seasonal          -0.506614\n",
       "chronic_med_condition          0.128274\n",
       "child_under_6_months           0.234675\n",
       "health_worker                  0.732585\n",
       "health_insurance               1.310456\n",
       "opinion_h1n1_vacc_effective    0.615349\n",
       "opinion_h1n1_risk              0.351636\n",
       "opinion_h1n1_sick_from_vacc   -0.012968\n",
       "opinion_seas_vacc_effective    0.103575\n",
       "opinion_seas_risk              0.156282\n",
       "opinion_seas_sick_from_vacc   -0.081677\n",
       "household_adults               0.014648\n",
       "household_children            -0.095777\n",
       "dtype: float64"
      ]
     },
     "execution_count": 38,
     "metadata": {},
     "output_type": "execute_result"
    }
   ],
   "source": [
    "pd.Series(model.coef_.flatten(), numeric_features_df.columns)"
   ]
  },
  {
   "cell_type": "markdown",
   "id": "42123fa7",
   "metadata": {},
   "source": [
    "These coefficients represent weights assigned to each feature.\n",
    "By themselves, they are not easy to interpret, for several reasons:\n",
    "\n",
    "1. They are in terms of log odds ratios, so it takes some math to express them in terms people understand,\n",
    "\n",
    "2. The magnitudes of the coefficients depend on the scale of the features. Since the features are on different scales, we can't meaningfully compare them to each other.\n",
    "\n",
    "3. They are the result of multiple regression, so each one represents the effect of one factor while controlling for the others. Because of these interactions, the signs and magnitudes are often not what we expect.\n",
    "\n",
    "4. Some of them probably represent meaningful relationships between the features and the labels, but some of them are the result of randomness.\n",
    "\n",
    "Rather than try to interpret them, an alternative is to treat the model as a \"black box\", which is to say that we will use it to generate predictions without giving much thought to how it works."
   ]
  },
  {
   "cell_type": "markdown",
   "id": "385adef4",
   "metadata": {},
   "source": [
    "## Generating predictions\n",
    "\n",
    "To generate predictions, we can use the `predict` method like this."
   ]
  },
  {
   "cell_type": "code",
   "execution_count": 39,
   "id": "0aff704a",
   "metadata": {},
   "outputs": [
    {
     "data": {
      "text/plain": [
       "array([0, 0, 0, ..., 0, 0, 0])"
      ]
     },
     "execution_count": 39,
     "metadata": {},
     "output_type": "execute_result"
    }
   ],
   "source": [
    "pred = model.predict(filled)\n",
    "pred"
   ]
  },
  {
   "cell_type": "markdown",
   "id": "5b33ead4",
   "metadata": {},
   "source": [
    "For this demonstration, I am generating predictions for the same set of features we used to train the model. This is usually not a good idea, for reasons we'll see soon. But for now it gives us a quick way to see what the predictions look like.\n",
    "\n",
    "I'll use the following function to count how many times each prediction is generated."
   ]
  },
  {
   "cell_type": "code",
   "execution_count": 40,
   "id": "834e8468",
   "metadata": {},
   "outputs": [],
   "source": [
    "def value_counts(seq, **options):\n",
    "    \"\"\"Version of value_counts that works with any sequence type.\n",
    "\n",
    "    Args:\n",
    "        seq: sequence\n",
    "        options: passed to pd.Series.value_counts\n",
    "\n",
    "    Returns: pd.Series\n",
    "    \"\"\"\n",
    "    return pd.Series(seq).value_counts(**options)"
   ]
  },
  {
   "cell_type": "code",
   "execution_count": 41,
   "id": "38a5ab66",
   "metadata": {},
   "outputs": [
    {
     "data": {
      "text/plain": [
       "0    23272\n",
       "1     3435\n",
       "dtype: int64"
      ]
     },
     "execution_count": 41,
     "metadata": {},
     "output_type": "execute_result"
    }
   ],
   "source": [
    "value_counts(pred)"
   ]
  },
  {
   "cell_type": "code",
   "execution_count": 42,
   "id": "34e4533e",
   "metadata": {},
   "outputs": [
    {
     "data": {
      "text/plain": [
       "0    87.138203\n",
       "1    12.861797\n",
       "dtype: float64"
      ]
     },
     "execution_count": 42,
     "metadata": {},
     "output_type": "execute_result"
    }
   ],
   "source": [
    "value_counts(pred, normalize=True) * 100"
   ]
  },
  {
   "cell_type": "markdown",
   "id": "747db4ce",
   "metadata": {},
   "source": [
    "For 87% of the respondents, the model predicts they did not get the H1N1 vaccine; for the other 13%, it predicts that they did.\n",
    "To see how good these predictions are, we can see how often the prediction is the same as the actual value."
   ]
  },
  {
   "cell_type": "code",
   "execution_count": 43,
   "id": "fe5c271d",
   "metadata": {},
   "outputs": [
    {
     "data": {
      "text/plain": [
       "0.8349121953046018"
      ]
     },
     "execution_count": 43,
     "metadata": {},
     "output_type": "execute_result"
    }
   ],
   "source": [
    "accuracy = (pred == y_true).mean()\n",
    "accuracy"
   ]
  },
  {
   "cell_type": "markdown",
   "id": "e73e1a39",
   "metadata": {},
   "source": [
    "On the face of it, the accuracy of the model is 83%. That might sound good, but it is misleading for two reasons:\n",
    "\n",
    "1. We used the same data to train the model and test it; as a result, the accuracy we just computed is higher than what we should expect on the test data.\n",
    "\n",
    "2. Remember that only 21% of the respondents got the vaccine, which means that 79% did not. A model that always predicts \"no\" would be accurate 79% of the time.\n",
    "\n",
    "The model we just created is more accurate than predicting \"no\" every time, but not by much."
   ]
  },
  {
   "cell_type": "code",
   "execution_count": 44,
   "id": "a976ea33",
   "metadata": {},
   "outputs": [
    {
     "data": {
      "text/plain": [
       "0.2124536638334519"
      ]
     },
     "execution_count": 44,
     "metadata": {},
     "output_type": "execute_result"
    }
   ],
   "source": [
    "y_true.mean()"
   ]
  },
  {
   "cell_type": "markdown",
   "id": "43a415e9",
   "metadata": {},
   "source": [
    "Part of the problem is that we are asking the model to make a **deterministic** prediction; that is, for each respondent, it predicts \"yes\" or \"no\". Predictions like this are hard to evaluate; as this example shows, accuracy alone is not particularly informative. Also, for many practical purposes, deterministic predictions are not particularly useful.\n",
    "An alternative is **probablistic** prediction, which computes for each respondent a *probability* of being vaccinated, rather than a yes/no prediction.\n",
    "\n",
    "`model` provides a function called `predict_proba` that generates probabilistic predictions."
   ]
  },
  {
   "cell_type": "code",
   "execution_count": 45,
   "id": "b6fd42a7",
   "metadata": {},
   "outputs": [
    {
     "data": {
      "text/plain": [
       "array([[0.97088866, 0.02911134],\n",
       "       [0.72674757, 0.27325243],\n",
       "       [0.94935077, 0.05064923],\n",
       "       ...,\n",
       "       [0.73713129, 0.26286871],\n",
       "       [0.9904698 , 0.0095302 ],\n",
       "       [0.86162803, 0.13837197]])"
      ]
     },
     "execution_count": 45,
     "metadata": {},
     "output_type": "execute_result"
    }
   ],
   "source": [
    "pred_array = model.predict_proba(filled)\n",
    "pred_array"
   ]
  },
  {
   "cell_type": "markdown",
   "id": "9ada173e",
   "metadata": {},
   "source": [
    "The result is an array that contains one row for each respondent and one column for each **class**.\n",
    "The classes are the possible values of `h1n1_vaccine`:"
   ]
  },
  {
   "cell_type": "code",
   "execution_count": 46,
   "id": "d18fcd14",
   "metadata": {},
   "outputs": [
    {
     "data": {
      "text/plain": [
       "array([0, 1])"
      ]
     },
     "execution_count": 46,
     "metadata": {},
     "output_type": "execute_result"
    }
   ],
   "source": [
    "model.classes_"
   ]
  },
  {
   "cell_type": "markdown",
   "id": "5f5194b3",
   "metadata": {},
   "source": [
    "To see how the results correspond to the respondents and classes, we can put the array into a `DataFrame`."
   ]
  },
  {
   "cell_type": "code",
   "execution_count": 47,
   "id": "ff250d3e",
   "metadata": {},
   "outputs": [
    {
     "data": {
      "text/html": [
       "<div>\n",
       "<style scoped>\n",
       "    .dataframe tbody tr th:only-of-type {\n",
       "        vertical-align: middle;\n",
       "    }\n",
       "\n",
       "    .dataframe tbody tr th {\n",
       "        vertical-align: top;\n",
       "    }\n",
       "\n",
       "    .dataframe thead th {\n",
       "        text-align: right;\n",
       "    }\n",
       "</style>\n",
       "<table border=\"1\" class=\"dataframe\">\n",
       "  <thead>\n",
       "    <tr style=\"text-align: right;\">\n",
       "      <th></th>\n",
       "      <th>0</th>\n",
       "      <th>1</th>\n",
       "    </tr>\n",
       "    <tr>\n",
       "      <th>respondent_id</th>\n",
       "      <th></th>\n",
       "      <th></th>\n",
       "    </tr>\n",
       "  </thead>\n",
       "  <tbody>\n",
       "    <tr>\n",
       "      <th>0</th>\n",
       "      <td>0.970889</td>\n",
       "      <td>0.029111</td>\n",
       "    </tr>\n",
       "    <tr>\n",
       "      <th>1</th>\n",
       "      <td>0.726748</td>\n",
       "      <td>0.273252</td>\n",
       "    </tr>\n",
       "    <tr>\n",
       "      <th>2</th>\n",
       "      <td>0.949351</td>\n",
       "      <td>0.050649</td>\n",
       "    </tr>\n",
       "    <tr>\n",
       "      <th>3</th>\n",
       "      <td>0.932046</td>\n",
       "      <td>0.067954</td>\n",
       "    </tr>\n",
       "    <tr>\n",
       "      <th>4</th>\n",
       "      <td>0.959427</td>\n",
       "      <td>0.040573</td>\n",
       "    </tr>\n",
       "    <tr>\n",
       "      <th>...</th>\n",
       "      <td>...</td>\n",
       "      <td>...</td>\n",
       "    </tr>\n",
       "    <tr>\n",
       "      <th>26702</th>\n",
       "      <td>0.966823</td>\n",
       "      <td>0.033177</td>\n",
       "    </tr>\n",
       "    <tr>\n",
       "      <th>26703</th>\n",
       "      <td>0.418605</td>\n",
       "      <td>0.581395</td>\n",
       "    </tr>\n",
       "    <tr>\n",
       "      <th>26704</th>\n",
       "      <td>0.737131</td>\n",
       "      <td>0.262869</td>\n",
       "    </tr>\n",
       "    <tr>\n",
       "      <th>26705</th>\n",
       "      <td>0.990470</td>\n",
       "      <td>0.009530</td>\n",
       "    </tr>\n",
       "    <tr>\n",
       "      <th>26706</th>\n",
       "      <td>0.861628</td>\n",
       "      <td>0.138372</td>\n",
       "    </tr>\n",
       "  </tbody>\n",
       "</table>\n",
       "<p>26707 rows × 2 columns</p>\n",
       "</div>"
      ],
      "text/plain": [
       "                      0         1\n",
       "respondent_id                    \n",
       "0              0.970889  0.029111\n",
       "1              0.726748  0.273252\n",
       "2              0.949351  0.050649\n",
       "3              0.932046  0.067954\n",
       "4              0.959427  0.040573\n",
       "...                 ...       ...\n",
       "26702          0.966823  0.033177\n",
       "26703          0.418605  0.581395\n",
       "26704          0.737131  0.262869\n",
       "26705          0.990470  0.009530\n",
       "26706          0.861628  0.138372\n",
       "\n",
       "[26707 rows x 2 columns]"
      ]
     },
     "execution_count": 47,
     "metadata": {},
     "output_type": "execute_result"
    }
   ],
   "source": [
    "pd.DataFrame(pred_array, index=features_df.index, columns=model.classes_)"
   ]
  },
  {
   "cell_type": "markdown",
   "id": "43710d30",
   "metadata": {},
   "source": [
    "According to the model, the respondent with ID `0` has a 97% chance of being in class `0`, which is unvaccinated, and the remaining 3% chance of being in class `1`, which is vaccinated.\n",
    "\n",
    "Since the two columns always add up to 1, we don't really need both of them. We can select the second column, which is the probability of being vaccinated, like this: "
   ]
  },
  {
   "cell_type": "code",
   "execution_count": 48,
   "id": "d40cd76c",
   "metadata": {},
   "outputs": [
    {
     "data": {
      "text/plain": [
       "array([0.02911134, 0.27325243, 0.05064923, ..., 0.26286871, 0.0095302 ,\n",
       "       0.13837197])"
      ]
     },
     "execution_count": 48,
     "metadata": {},
     "output_type": "execute_result"
    }
   ],
   "source": [
    "y_pred = pred_array.T[1]\n",
    "y_pred"
   ]
  },
  {
   "cell_type": "markdown",
   "id": "8289235a",
   "metadata": {},
   "source": [
    "The average of the probabilities is 0.21, which is close to the actual fraction of the respondents who were vaccinated. "
   ]
  },
  {
   "cell_type": "code",
   "execution_count": 49,
   "id": "832ce0a7",
   "metadata": {},
   "outputs": [
    {
     "data": {
      "text/plain": [
       "0.2124531946415117"
      ]
     },
     "execution_count": 49,
     "metadata": {},
     "output_type": "execute_result"
    }
   ],
   "source": [
    "y_pred.mean()"
   ]
  },
  {
   "cell_type": "markdown",
   "id": "6bb5d262",
   "metadata": {},
   "source": [
    "The following figure shows the distribution of the predicted probabilities."
   ]
  },
  {
   "cell_type": "code",
   "execution_count": 50,
   "id": "0b9260f9",
   "metadata": {},
   "outputs": [
    {
     "data": {
      "image/png": "[encoded data removed]",
      "text/plain": [
       "<Figure size 640x480 with 1 Axes>"
      ]
     },
     "metadata": {},
     "output_type": "display_data"
    }
   ],
   "source": [
    "import seaborn as sns\n",
    "from utils import decorate\n",
    "\n",
    "sns.kdeplot(y_pred, cut=0)\n",
    "\n",
    "decorate(xlabel=\"Predicted probability of vaccination\", ylabel=\"Relative frequency\")"
   ]
  },
  {
   "cell_type": "markdown",
   "id": "4fe2cb47",
   "metadata": {},
   "source": [
    "For most respondents, the predicted probability is less than 20%. There are only a few respondents whose predicted probabilities exceed 50%."
   ]
  },
  {
   "cell_type": "markdown",
   "id": "945548b5",
   "metadata": {},
   "source": [
    "## Evaluating the predictions\n",
    "\n",
    "There are several ways to evaluate the quality of these predictions.\n",
    "For the competition, the metric that determines the order of the leaderboard is the Area Under the Receiver Operator Characteristic curve (AUROC), sometimes just called the Area Under the Curve (AUC).\n",
    "\n",
    "This metric takes some explaining; rather than going deep on it now, here's what you need to know:\n",
    "\n",
    "1. The AUROC score quantifies the quality of probablistic predictions on a scale from 0.5 to 1.\n",
    "\n",
    "2. Higher scores indicate more accurate predictions. At the extremes, 1 indicates perfect predictions and 0.5 indicates predictions that are no better than chance.\n",
    "\n",
    "Scikit-learn provides a function that takes the predictions and the true labels and computes the AUC score:"
   ]
  },
  {
   "cell_type": "code",
   "execution_count": 51,
   "id": "0fae3879",
   "metadata": {},
   "outputs": [
    {
     "data": {
      "text/plain": [
       "0.8301287538133717"
      ]
     },
     "execution_count": 51,
     "metadata": {},
     "output_type": "execute_result"
    }
   ],
   "source": [
    "from sklearn.metrics import roc_auc_score\n",
    "\n",
    "score1 = roc_auc_score(y_true, y_pred)\n",
    "score1"
   ]
  },
  {
   "cell_type": "markdown",
   "id": "5a3311fd",
   "metadata": {},
   "source": [
    "In this example, the AUC score is near 0.83.\n",
    "\n",
    "One way to interpret this number is as a **concordance probability**. Suppose we choose two cases at random and generate predictions for both. If the predicted probability is higher for one of the cases, the probability is 83% that we are right, and the actual probability is higher for that case.\n",
    "\n",
    "That's better than 50%, which is how well we would do by chance.\n",
    "But it is not great; we would be wrong about 17% of the time.\n",
    "\n",
    "To summarize, I would say that this model is moderately successful.\n",
    "But remember that we trained and tested with the same data.\n",
    "To evaluate the model property, we need to use the test data.\n",
    "We'll do that soon, but first we have to generate predictions for the other target variable, `seasonal_vaccine`."
   ]
  },
  {
   "cell_type": "markdown",
   "id": "863d3d2f",
   "metadata": {},
   "source": [
    "## Using a pipeline\n",
    "\n",
    "To generate the second set of predictions, we could copy the code from the previous section, but it will be easier and more reliable to define a **pipeline** that encapsulates the steps:\n",
    "\n",
    "1. Select the numerical columns,\n",
    "\n",
    "2. Impute missing values,\n",
    "\n",
    "3. Fit a logistic regression model.\n",
    "\n",
    "The first two are **transformers**, which means that they make modified version of the input data. The last is an **classifier**, which means that it uses the data to estimate the coefficients of the model.\n",
    "\n",
    "To select the numerical columns, I'll get the column names from `numeric_features_df`:"
   ]
  },
  {
   "cell_type": "code",
   "execution_count": 52,
   "id": "971664da",
   "metadata": {},
   "outputs": [],
   "source": [
    "numeric_cols = numeric_features_df.columns"
   ]
  },
  {
   "cell_type": "markdown",
   "id": "15a29f62",
   "metadata": {},
   "source": [
    "Previously we used Pandas to select these columns, but an alternative is to use a `ColumnTransformer`:"
   ]
  },
  {
   "cell_type": "code",
   "execution_count": 53,
   "id": "7288eea4",
   "metadata": {},
   "outputs": [
    {
     "data": {
      "text/html": [
       "<style>#sk-00f82b96-424b-48e3-b0fa-786779845177 {color: black;background-color: white;}#sk-00f82b96-424b-48e3-b0fa-786779845177 pre{padding: 0;}#sk-00f82b96-424b-48e3-b0fa-786779845177 div.sk-toggleable {background-color: white;}#sk-00f82b96-424b-48e3-b0fa-786779845177 label.sk-toggleable__label {cursor: pointer;display: block;width: 100%;margin-bottom: 0;padding: 0.3em;box-sizing: border-box;text-align: center;}#sk-00f82b96-424b-48e3-b0fa-786779845177 label.sk-toggleable__label-arrow:before {content: \"▸\";float: left;margin-right: 0.25em;color: #696969;}#sk-00f82b96-424b-48e3-b0fa-786779845177 label.sk-toggleable__label-arrow:hover:before {color: black;}#sk-00f82b96-424b-48e3-b0fa-786779845177 div.sk-estimator:hover label.sk-toggleable__label-arrow:before {color: black;}#sk-00f82b96-424b-48e3-b0fa-786779845177 div.sk-toggleable__content {max-height: 0;max-width: 0;overflow: hidden;text-align: left;background-color: #f0f8ff;}#sk-00f82b96-424b-48e3-b0fa-786779845177 div.sk-toggleable__content pre {margin: 0.2em;color: black;border-radius: 0.25em;background-color: #f0f8ff;}#sk-00f82b96-424b-48e3-b0fa-786779845177 input.sk-toggleable__control:checked~div.sk-toggleable__content {max-height: 200px;max-width: 100%;overflow: auto;}#sk-00f82b96-424b-48e3-b0fa-786779845177 input.sk-toggleable__control:checked~label.sk-toggleable__label-arrow:before {content: \"▾\";}#sk-00f82b96-424b-48e3-b0fa-786779845177 div.sk-estimator input.sk-toggleable__control:checked~label.sk-toggleable__label {background-color: #d4ebff;}#sk-00f82b96-424b-48e3-b0fa-786779845177 div.sk-label input.sk-toggleable__control:checked~label.sk-toggleable__label {background-color: #d4ebff;}#sk-00f82b96-424b-48e3-b0fa-786779845177 input.sk-hidden--visually {border: 0;clip: rect(1px 1px 1px 1px);clip: rect(1px, 1px, 1px, 1px);height: 1px;margin: -1px;overflow: hidden;padding: 0;position: absolute;width: 1px;}#sk-00f82b96-424b-48e3-b0fa-786779845177 div.sk-estimator {font-family: monospace;background-color: #f0f8ff;border: 1px dotted black;border-radius: 0.25em;box-sizing: border-box;margin-bottom: 0.5em;}#sk-00f82b96-424b-48e3-b0fa-786779845177 div.sk-estimator:hover {background-color: #d4ebff;}#sk-00f82b96-424b-48e3-b0fa-786779845177 div.sk-parallel-item::after {content: \"\";width: 100%;border-bottom: 1px solid gray;flex-grow: 1;}#sk-00f82b96-424b-48e3-b0fa-786779845177 div.sk-label:hover label.sk-toggleable__label {background-color: #d4ebff;}#sk-00f82b96-424b-48e3-b0fa-786779845177 div.sk-serial::before {content: \"\";position: absolute;border-left: 1px solid gray;box-sizing: border-box;top: 2em;bottom: 0;left: 50%;}#sk-00f82b96-424b-48e3-b0fa-786779845177 div.sk-serial {display: flex;flex-direction: column;align-items: center;background-color: white;padding-right: 0.2em;padding-left: 0.2em;}#sk-00f82b96-424b-48e3-b0fa-786779845177 div.sk-item {z-index: 1;}#sk-00f82b96-424b-48e3-b0fa-786779845177 div.sk-parallel {display: flex;align-items: stretch;justify-content: center;background-color: white;}#sk-00f82b96-424b-48e3-b0fa-786779845177 div.sk-parallel::before {content: \"\";position: absolute;border-left: 1px solid gray;box-sizing: border-box;top: 2em;bottom: 0;left: 50%;}#sk-00f82b96-424b-48e3-b0fa-786779845177 div.sk-parallel-item {display: flex;flex-direction: column;position: relative;background-color: white;}#sk-00f82b96-424b-48e3-b0fa-786779845177 div.sk-parallel-item:first-child::after {align-self: flex-end;width: 50%;}#sk-00f82b96-424b-48e3-b0fa-786779845177 div.sk-parallel-item:last-child::after {align-self: flex-start;width: 50%;}#sk-00f82b96-424b-48e3-b0fa-786779845177 div.sk-parallel-item:only-child::after {width: 0;}#sk-00f82b96-424b-48e3-b0fa-786779845177 div.sk-dashed-wrapped {border: 1px dashed gray;margin: 0 0.4em 0.5em 0.4em;box-sizing: border-box;padding-bottom: 0.4em;background-color: white;position: relative;}#sk-00f82b96-424b-48e3-b0fa-786779845177 div.sk-label label {font-family: monospace;font-weight: bold;background-color: white;display: inline-block;line-height: 1.2em;}#sk-00f82b96-424b-48e3-b0fa-786779845177 div.sk-label-container {position: relative;z-index: 2;text-align: center;}#sk-00f82b96-424b-48e3-b0fa-786779845177 div.sk-container {/* jupyter's `normalize.less` sets `[hidden] { display: none; }` but bootstrap.min.css set `[hidden] { display: none !important; }` so we also need the `!important` here to be able to override the default hidden behavior on the sphinx rendered scikit-learn.org. See: https://github.com/scikit-learn/scikit-learn/issues/21755 */display: inline-block !important;position: relative;}#sk-00f82b96-424b-48e3-b0fa-786779845177 div.sk-text-repr-fallback {display: none;}</style><div id=\"sk-00f82b96-424b-48e3-b0fa-786779845177\" class=\"sk-top-container\"><div class=\"sk-text-repr-fallback\"><pre>ColumnTransformer(transformers=[(&#x27;numeric&#x27;, &#x27;passthrough&#x27;,\n",
       "                                 Index([&#x27;h1n1_concern&#x27;, &#x27;h1n1_knowledge&#x27;, &#x27;behavioral_antiviral_meds&#x27;,\n",
       "       &#x27;behavioral_avoidance&#x27;, &#x27;behavioral_face_mask&#x27;, &#x27;behavioral_wash_hands&#x27;,\n",
       "       &#x27;behavioral_large_gatherings&#x27;, &#x27;behavioral_outside_home&#x27;,\n",
       "       &#x27;behavioral_touch_face&#x27;, &#x27;doctor_recc_h1n1&#x27;, &#x27;doctor_recc_seasonal&#x27;,\n",
       "       &#x27;chronic_med_condition&#x27;, &#x27;child_under_6_months&#x27;, &#x27;health_worker&#x27;,\n",
       "       &#x27;health_insurance&#x27;, &#x27;opinion_h1n1_vacc_effective&#x27;, &#x27;opinion_h1n1_risk&#x27;,\n",
       "       &#x27;opinion_h1n1_sick_from_vacc&#x27;, &#x27;opinion_seas_vacc_effective&#x27;,\n",
       "       &#x27;opinion_seas_risk&#x27;, &#x27;opinion_seas_sick_from_vacc&#x27;, &#x27;household_adults&#x27;,\n",
       "       &#x27;household_children&#x27;],\n",
       "      dtype=&#x27;object&#x27;))])</pre><b>Please rerun this cell to show the HTML repr or trust the notebook.</b></div><div class=\"sk-container\" hidden><div class=\"sk-item sk-dashed-wrapped\"><div class=\"sk-label-container\"><div class=\"sk-label sk-toggleable\"><input class=\"sk-toggleable__control sk-hidden--visually\" id=\"af33f50b-1463-4419-a5cd-0cd28b380dc4\" type=\"checkbox\" ><label for=\"af33f50b-1463-4419-a5cd-0cd28b380dc4\" class=\"sk-toggleable__label sk-toggleable__label-arrow\">ColumnTransformer</label><div class=\"sk-toggleable__content\"><pre>ColumnTransformer(transformers=[(&#x27;numeric&#x27;, &#x27;passthrough&#x27;,\n",
       "                                 Index([&#x27;h1n1_concern&#x27;, &#x27;h1n1_knowledge&#x27;, &#x27;behavioral_antiviral_meds&#x27;,\n",
       "       &#x27;behavioral_avoidance&#x27;, &#x27;behavioral_face_mask&#x27;, &#x27;behavioral_wash_hands&#x27;,\n",
       "       &#x27;behavioral_large_gatherings&#x27;, &#x27;behavioral_outside_home&#x27;,\n",
       "       &#x27;behavioral_touch_face&#x27;, &#x27;doctor_recc_h1n1&#x27;, &#x27;doctor_recc_seasonal&#x27;,\n",
       "       &#x27;chronic_med_condition&#x27;, &#x27;child_under_6_months&#x27;, &#x27;health_worker&#x27;,\n",
       "       &#x27;health_insurance&#x27;, &#x27;opinion_h1n1_vacc_effective&#x27;, &#x27;opinion_h1n1_risk&#x27;,\n",
       "       &#x27;opinion_h1n1_sick_from_vacc&#x27;, &#x27;opinion_seas_vacc_effective&#x27;,\n",
       "       &#x27;opinion_seas_risk&#x27;, &#x27;opinion_seas_sick_from_vacc&#x27;, &#x27;household_adults&#x27;,\n",
       "       &#x27;household_children&#x27;],\n",
       "      dtype=&#x27;object&#x27;))])</pre></div></div></div><div class=\"sk-parallel\"><div class=\"sk-parallel-item\"><div class=\"sk-item\"><div class=\"sk-label-container\"><div class=\"sk-label sk-toggleable\"><input class=\"sk-toggleable__control sk-hidden--visually\" id=\"49ca94c0-5492-491b-8041-b7516ba85c51\" type=\"checkbox\" ><label for=\"49ca94c0-5492-491b-8041-b7516ba85c51\" class=\"sk-toggleable__label sk-toggleable__label-arrow\">numeric</label><div class=\"sk-toggleable__content\"><pre>Index([&#x27;h1n1_concern&#x27;, &#x27;h1n1_knowledge&#x27;, &#x27;behavioral_antiviral_meds&#x27;,\n",
       "       &#x27;behavioral_avoidance&#x27;, &#x27;behavioral_face_mask&#x27;, &#x27;behavioral_wash_hands&#x27;,\n",
       "       &#x27;behavioral_large_gatherings&#x27;, &#x27;behavioral_outside_home&#x27;,\n",
       "       &#x27;behavioral_touch_face&#x27;, &#x27;doctor_recc_h1n1&#x27;, &#x27;doctor_recc_seasonal&#x27;,\n",
       "       &#x27;chronic_med_condition&#x27;, &#x27;child_under_6_months&#x27;, &#x27;health_worker&#x27;,\n",
       "       &#x27;health_insurance&#x27;, &#x27;opinion_h1n1_vacc_effective&#x27;, &#x27;opinion_h1n1_risk&#x27;,\n",
       "       &#x27;opinion_h1n1_sick_from_vacc&#x27;, &#x27;opinion_seas_vacc_effective&#x27;,\n",
       "       &#x27;opinion_seas_risk&#x27;, &#x27;opinion_seas_sick_from_vacc&#x27;, &#x27;household_adults&#x27;,\n",
       "       &#x27;household_children&#x27;],\n",
       "      dtype=&#x27;object&#x27;)</pre></div></div></div><div class=\"sk-serial\"><div class=\"sk-item\"><div class=\"sk-estimator sk-toggleable\"><input class=\"sk-toggleable__control sk-hidden--visually\" id=\"9860560b-6aa6-4f96-9126-91d3a4b979fb\" type=\"checkbox\" ><label for=\"9860560b-6aa6-4f96-9126-91d3a4b979fb\" class=\"sk-toggleable__label sk-toggleable__label-arrow\">passthrough</label><div class=\"sk-toggleable__content\"><pre>passthrough</pre></div></div></div></div></div></div></div></div></div></div>"
      ],
      "text/plain": [
       "ColumnTransformer(transformers=[('numeric', 'passthrough',\n",
       "                                 Index(['h1n1_concern', 'h1n1_knowledge', 'behavioral_antiviral_meds',\n",
       "       'behavioral_avoidance', 'behavioral_face_mask', 'behavioral_wash_hands',\n",
       "       'behavioral_large_gatherings', 'behavioral_outside_home',\n",
       "       'behavioral_touch_face', 'doctor_recc_h1n1', 'doctor_recc_seasonal',\n",
       "       'chronic_med_condition', 'child_under_6_months', 'health_worker',\n",
       "       'health_insurance', 'opinion_h1n1_vacc_effective', 'opinion_h1n1_risk',\n",
       "       'opinion_h1n1_sick_from_vacc', 'opinion_seas_vacc_effective',\n",
       "       'opinion_seas_risk', 'opinion_seas_sick_from_vacc', 'household_adults',\n",
       "       'household_children'],\n",
       "      dtype='object'))])"
      ]
     },
     "execution_count": 53,
     "metadata": {},
     "output_type": "execute_result"
    }
   ],
   "source": [
    "from sklearn.compose import ColumnTransformer\n",
    "\n",
    "selector = ColumnTransformer([(\"numeric\", \"passthrough\", numeric_cols)])\n",
    "selector"
   ]
  },
  {
   "cell_type": "markdown",
   "id": "ed21af8a",
   "metadata": {},
   "source": [
    "The argument to `ColumnTransformer` is a list of tuples, although in this example, there is only one tuple in the list. The tuple contains three elements:\n",
    "\n",
    "* `numeric` is a name we can choose arbitrarily; in this example, it indicates that this part of the pipeline deals with numeric data.\n",
    "\n",
    "* `passthrough` indicates that the selected columns are passed along unchanged.\n",
    "\n",
    "* `numeric_cols` is the sequence of column names that will be selected.\n",
    "\n",
    "Now we're ready to make a `Pipeline`, which is an object that represents a sequence of transformers and classifiers."
   ]
  },
  {
   "cell_type": "code",
   "execution_count": 54,
   "id": "c0348ae7",
   "metadata": {},
   "outputs": [],
   "source": [
    "from sklearn.pipeline import Pipeline\n",
    "\n",
    "model = Pipeline(\n",
    "    [\n",
    "        (\"selector\", selector),\n",
    "        (\"imputer\", SimpleImputer(missing_values=np.nan, strategy=\"mean\")),\n",
    "        (\"classifier\", LogisticRegression()),\n",
    "    ]\n",
    ")"
   ]
  },
  {
   "cell_type": "markdown",
   "id": "a75d59ea",
   "metadata": {},
   "source": [
    "The first stage of the pipeline is `selector`, which is the `ColumnTransformer` we just made.\n",
    "The second stage is a `SimpleImputer`, which is a transformer that fills missing values.\n",
    "The third stage is a `LogisticRegression`, which is as estimator.\n",
    "\n",
    "Because this pipeline contains as estimator, we can think of it as a model.\n",
    "Like a model, it provides a `fit` function."
   ]
  },
  {
   "cell_type": "code",
   "execution_count": 55,
   "id": "22d70ffc",
   "metadata": {},
   "outputs": [
    {
     "data": {
      "text/html": [
       "<style>#sk-3b061533-49e2-490a-9860-e0e7bccf7c7e {color: black;background-color: white;}#sk-3b061533-49e2-490a-9860-e0e7bccf7c7e pre{padding: 0;}#sk-3b061533-49e2-490a-9860-e0e7bccf7c7e div.sk-toggleable {background-color: white;}#sk-3b061533-49e2-490a-9860-e0e7bccf7c7e label.sk-toggleable__label {cursor: pointer;display: block;width: 100%;margin-bottom: 0;padding: 0.3em;box-sizing: border-box;text-align: center;}#sk-3b061533-49e2-490a-9860-e0e7bccf7c7e label.sk-toggleable__label-arrow:before {content: \"▸\";float: left;margin-right: 0.25em;color: #696969;}#sk-3b061533-49e2-490a-9860-e0e7bccf7c7e label.sk-toggleable__label-arrow:hover:before {color: black;}#sk-3b061533-49e2-490a-9860-e0e7bccf7c7e div.sk-estimator:hover label.sk-toggleable__label-arrow:before {color: black;}#sk-3b061533-49e2-490a-9860-e0e7bccf7c7e div.sk-toggleable__content {max-height: 0;max-width: 0;overflow: hidden;text-align: left;background-color: #f0f8ff;}#sk-3b061533-49e2-490a-9860-e0e7bccf7c7e div.sk-toggleable__content pre {margin: 0.2em;color: black;border-radius: 0.25em;background-color: #f0f8ff;}#sk-3b061533-49e2-490a-9860-e0e7bccf7c7e input.sk-toggleable__control:checked~div.sk-toggleable__content {max-height: 200px;max-width: 100%;overflow: auto;}#sk-3b061533-49e2-490a-9860-e0e7bccf7c7e input.sk-toggleable__control:checked~label.sk-toggleable__label-arrow:before {content: \"▾\";}#sk-3b061533-49e2-490a-9860-e0e7bccf7c7e div.sk-estimator input.sk-toggleable__control:checked~label.sk-toggleable__label {background-color: #d4ebff;}#sk-3b061533-49e2-490a-9860-e0e7bccf7c7e div.sk-label input.sk-toggleable__control:checked~label.sk-toggleable__label {background-color: #d4ebff;}#sk-3b061533-49e2-490a-9860-e0e7bccf7c7e input.sk-hidden--visually {border: 0;clip: rect(1px 1px 1px 1px);clip: rect(1px, 1px, 1px, 1px);height: 1px;margin: -1px;overflow: hidden;padding: 0;position: absolute;width: 1px;}#sk-3b061533-49e2-490a-9860-e0e7bccf7c7e div.sk-estimator {font-family: monospace;background-color: #f0f8ff;border: 1px dotted black;border-radius: 0.25em;box-sizing: border-box;margin-bottom: 0.5em;}#sk-3b061533-49e2-490a-9860-e0e7bccf7c7e div.sk-estimator:hover {background-color: #d4ebff;}#sk-3b061533-49e2-490a-9860-e0e7bccf7c7e div.sk-parallel-item::after {content: \"\";width: 100%;border-bottom: 1px solid gray;flex-grow: 1;}#sk-3b061533-49e2-490a-9860-e0e7bccf7c7e div.sk-label:hover label.sk-toggleable__label {background-color: #d4ebff;}#sk-3b061533-49e2-490a-9860-e0e7bccf7c7e div.sk-serial::before {content: \"\";position: absolute;border-left: 1px solid gray;box-sizing: border-box;top: 2em;bottom: 0;left: 50%;}#sk-3b061533-49e2-490a-9860-e0e7bccf7c7e div.sk-serial {display: flex;flex-direction: column;align-items: center;background-color: white;padding-right: 0.2em;padding-left: 0.2em;}#sk-3b061533-49e2-490a-9860-e0e7bccf7c7e div.sk-item {z-index: 1;}#sk-3b061533-49e2-490a-9860-e0e7bccf7c7e div.sk-parallel {display: flex;align-items: stretch;justify-content: center;background-color: white;}#sk-3b061533-49e2-490a-9860-e0e7bccf7c7e div.sk-parallel::before {content: \"\";position: absolute;border-left: 1px solid gray;box-sizing: border-box;top: 2em;bottom: 0;left: 50%;}#sk-3b061533-49e2-490a-9860-e0e7bccf7c7e div.sk-parallel-item {display: flex;flex-direction: column;position: relative;background-color: white;}#sk-3b061533-49e2-490a-9860-e0e7bccf7c7e div.sk-parallel-item:first-child::after {align-self: flex-end;width: 50%;}#sk-3b061533-49e2-490a-9860-e0e7bccf7c7e div.sk-parallel-item:last-child::after {align-self: flex-start;width: 50%;}#sk-3b061533-49e2-490a-9860-e0e7bccf7c7e div.sk-parallel-item:only-child::after {width: 0;}#sk-3b061533-49e2-490a-9860-e0e7bccf7c7e div.sk-dashed-wrapped {border: 1px dashed gray;margin: 0 0.4em 0.5em 0.4em;box-sizing: border-box;padding-bottom: 0.4em;background-color: white;position: relative;}#sk-3b061533-49e2-490a-9860-e0e7bccf7c7e div.sk-label label {font-family: monospace;font-weight: bold;background-color: white;display: inline-block;line-height: 1.2em;}#sk-3b061533-49e2-490a-9860-e0e7bccf7c7e div.sk-label-container {position: relative;z-index: 2;text-align: center;}#sk-3b061533-49e2-490a-9860-e0e7bccf7c7e div.sk-container {/* jupyter's `normalize.less` sets `[hidden] { display: none; }` but bootstrap.min.css set `[hidden] { display: none !important; }` so we also need the `!important` here to be able to override the default hidden behavior on the sphinx rendered scikit-learn.org. See: https://github.com/scikit-learn/scikit-learn/issues/21755 */display: inline-block !important;position: relative;}#sk-3b061533-49e2-490a-9860-e0e7bccf7c7e div.sk-text-repr-fallback {display: none;}</style><div id=\"sk-3b061533-49e2-490a-9860-e0e7bccf7c7e\" class=\"sk-top-container\"><div class=\"sk-text-repr-fallback\"><pre>Pipeline(steps=[(&#x27;selector&#x27;,\n",
       "                 ColumnTransformer(transformers=[(&#x27;numeric&#x27;, &#x27;passthrough&#x27;,\n",
       "                                                  Index([&#x27;h1n1_concern&#x27;, &#x27;h1n1_knowledge&#x27;, &#x27;behavioral_antiviral_meds&#x27;,\n",
       "       &#x27;behavioral_avoidance&#x27;, &#x27;behavioral_face_mask&#x27;, &#x27;behavioral_wash_hands&#x27;,\n",
       "       &#x27;behavioral_large_gatherings&#x27;, &#x27;behavioral_outside_home&#x27;,\n",
       "       &#x27;behavioral_touch_face&#x27;, &#x27;doctor_recc_h1n1&#x27;, &#x27;doctor_recc_seasonal&#x27;,\n",
       "       &#x27;chron...tion&#x27;, &#x27;child_under_6_months&#x27;, &#x27;health_worker&#x27;,\n",
       "       &#x27;health_insurance&#x27;, &#x27;opinion_h1n1_vacc_effective&#x27;, &#x27;opinion_h1n1_risk&#x27;,\n",
       "       &#x27;opinion_h1n1_sick_from_vacc&#x27;, &#x27;opinion_seas_vacc_effective&#x27;,\n",
       "       &#x27;opinion_seas_risk&#x27;, &#x27;opinion_seas_sick_from_vacc&#x27;, &#x27;household_adults&#x27;,\n",
       "       &#x27;household_children&#x27;],\n",
       "      dtype=&#x27;object&#x27;))])),\n",
       "                (&#x27;imputer&#x27;, SimpleImputer()),\n",
       "                (&#x27;classifier&#x27;, LogisticRegression())])</pre><b>Please rerun this cell to show the HTML repr or trust the notebook.</b></div><div class=\"sk-container\" hidden><div class=\"sk-item sk-dashed-wrapped\"><div class=\"sk-label-container\"><div class=\"sk-label sk-toggleable\"><input class=\"sk-toggleable__control sk-hidden--visually\" id=\"c1763283-04ef-409f-aa42-4133d54b4903\" type=\"checkbox\" ><label for=\"c1763283-04ef-409f-aa42-4133d54b4903\" class=\"sk-toggleable__label sk-toggleable__label-arrow\">Pipeline</label><div class=\"sk-toggleable__content\"><pre>Pipeline(steps=[(&#x27;selector&#x27;,\n",
       "                 ColumnTransformer(transformers=[(&#x27;numeric&#x27;, &#x27;passthrough&#x27;,\n",
       "                                                  Index([&#x27;h1n1_concern&#x27;, &#x27;h1n1_knowledge&#x27;, &#x27;behavioral_antiviral_meds&#x27;,\n",
       "       &#x27;behavioral_avoidance&#x27;, &#x27;behavioral_face_mask&#x27;, &#x27;behavioral_wash_hands&#x27;,\n",
       "       &#x27;behavioral_large_gatherings&#x27;, &#x27;behavioral_outside_home&#x27;,\n",
       "       &#x27;behavioral_touch_face&#x27;, &#x27;doctor_recc_h1n1&#x27;, &#x27;doctor_recc_seasonal&#x27;,\n",
       "       &#x27;chron...tion&#x27;, &#x27;child_under_6_months&#x27;, &#x27;health_worker&#x27;,\n",
       "       &#x27;health_insurance&#x27;, &#x27;opinion_h1n1_vacc_effective&#x27;, &#x27;opinion_h1n1_risk&#x27;,\n",
       "       &#x27;opinion_h1n1_sick_from_vacc&#x27;, &#x27;opinion_seas_vacc_effective&#x27;,\n",
       "       &#x27;opinion_seas_risk&#x27;, &#x27;opinion_seas_sick_from_vacc&#x27;, &#x27;household_adults&#x27;,\n",
       "       &#x27;household_children&#x27;],\n",
       "      dtype=&#x27;object&#x27;))])),\n",
       "                (&#x27;imputer&#x27;, SimpleImputer()),\n",
       "                (&#x27;classifier&#x27;, LogisticRegression())])</pre></div></div></div><div class=\"sk-serial\"><div class=\"sk-item sk-dashed-wrapped\"><div class=\"sk-label-container\"><div class=\"sk-label sk-toggleable\"><input class=\"sk-toggleable__control sk-hidden--visually\" id=\"0c7434ed-c3a1-43b3-87c1-8b344b6393d0\" type=\"checkbox\" ><label for=\"0c7434ed-c3a1-43b3-87c1-8b344b6393d0\" class=\"sk-toggleable__label sk-toggleable__label-arrow\">selector: ColumnTransformer</label><div class=\"sk-toggleable__content\"><pre>ColumnTransformer(transformers=[(&#x27;numeric&#x27;, &#x27;passthrough&#x27;,\n",
       "                                 Index([&#x27;h1n1_concern&#x27;, &#x27;h1n1_knowledge&#x27;, &#x27;behavioral_antiviral_meds&#x27;,\n",
       "       &#x27;behavioral_avoidance&#x27;, &#x27;behavioral_face_mask&#x27;, &#x27;behavioral_wash_hands&#x27;,\n",
       "       &#x27;behavioral_large_gatherings&#x27;, &#x27;behavioral_outside_home&#x27;,\n",
       "       &#x27;behavioral_touch_face&#x27;, &#x27;doctor_recc_h1n1&#x27;, &#x27;doctor_recc_seasonal&#x27;,\n",
       "       &#x27;chronic_med_condition&#x27;, &#x27;child_under_6_months&#x27;, &#x27;health_worker&#x27;,\n",
       "       &#x27;health_insurance&#x27;, &#x27;opinion_h1n1_vacc_effective&#x27;, &#x27;opinion_h1n1_risk&#x27;,\n",
       "       &#x27;opinion_h1n1_sick_from_vacc&#x27;, &#x27;opinion_seas_vacc_effective&#x27;,\n",
       "       &#x27;opinion_seas_risk&#x27;, &#x27;opinion_seas_sick_from_vacc&#x27;, &#x27;household_adults&#x27;,\n",
       "       &#x27;household_children&#x27;],\n",
       "      dtype=&#x27;object&#x27;))])</pre></div></div></div><div class=\"sk-parallel\"><div class=\"sk-parallel-item\"><div class=\"sk-item\"><div class=\"sk-label-container\"><div class=\"sk-label sk-toggleable\"><input class=\"sk-toggleable__control sk-hidden--visually\" id=\"754d3500-643a-44a7-a0bb-9cabcb3bd049\" type=\"checkbox\" ><label for=\"754d3500-643a-44a7-a0bb-9cabcb3bd049\" class=\"sk-toggleable__label sk-toggleable__label-arrow\">numeric</label><div class=\"sk-toggleable__content\"><pre>Index([&#x27;h1n1_concern&#x27;, &#x27;h1n1_knowledge&#x27;, &#x27;behavioral_antiviral_meds&#x27;,\n",
       "       &#x27;behavioral_avoidance&#x27;, &#x27;behavioral_face_mask&#x27;, &#x27;behavioral_wash_hands&#x27;,\n",
       "       &#x27;behavioral_large_gatherings&#x27;, &#x27;behavioral_outside_home&#x27;,\n",
       "       &#x27;behavioral_touch_face&#x27;, &#x27;doctor_recc_h1n1&#x27;, &#x27;doctor_recc_seasonal&#x27;,\n",
       "       &#x27;chronic_med_condition&#x27;, &#x27;child_under_6_months&#x27;, &#x27;health_worker&#x27;,\n",
       "       &#x27;health_insurance&#x27;, &#x27;opinion_h1n1_vacc_effective&#x27;, &#x27;opinion_h1n1_risk&#x27;,\n",
       "       &#x27;opinion_h1n1_sick_from_vacc&#x27;, &#x27;opinion_seas_vacc_effective&#x27;,\n",
       "       &#x27;opinion_seas_risk&#x27;, &#x27;opinion_seas_sick_from_vacc&#x27;, &#x27;household_adults&#x27;,\n",
       "       &#x27;household_children&#x27;],\n",
       "      dtype=&#x27;object&#x27;)</pre></div></div></div><div class=\"sk-serial\"><div class=\"sk-item\"><div class=\"sk-estimator sk-toggleable\"><input class=\"sk-toggleable__control sk-hidden--visually\" id=\"2935f550-0b7d-45e4-9d5d-5be4f89068eb\" type=\"checkbox\" ><label for=\"2935f550-0b7d-45e4-9d5d-5be4f89068eb\" class=\"sk-toggleable__label sk-toggleable__label-arrow\">passthrough</label><div class=\"sk-toggleable__content\"><pre>passthrough</pre></div></div></div></div></div></div></div></div><div class=\"sk-item\"><div class=\"sk-estimator sk-toggleable\"><input class=\"sk-toggleable__control sk-hidden--visually\" id=\"bd9a000c-fd82-4ea3-b8bd-50291f3eb520\" type=\"checkbox\" ><label for=\"bd9a000c-fd82-4ea3-b8bd-50291f3eb520\" class=\"sk-toggleable__label sk-toggleable__label-arrow\">SimpleImputer</label><div class=\"sk-toggleable__content\"><pre>SimpleImputer()</pre></div></div></div><div class=\"sk-item\"><div class=\"sk-estimator sk-toggleable\"><input class=\"sk-toggleable__control sk-hidden--visually\" id=\"0823b0a5-838c-4da9-98f2-421f11d56ba5\" type=\"checkbox\" ><label for=\"0823b0a5-838c-4da9-98f2-421f11d56ba5\" class=\"sk-toggleable__label sk-toggleable__label-arrow\">LogisticRegression</label><div class=\"sk-toggleable__content\"><pre>LogisticRegression()</pre></div></div></div></div></div></div></div>"
      ],
      "text/plain": [
       "Pipeline(steps=[('selector',\n",
       "                 ColumnTransformer(transformers=[('numeric', 'passthrough',\n",
       "                                                  Index(['h1n1_concern', 'h1n1_knowledge', 'behavioral_antiviral_meds',\n",
       "       'behavioral_avoidance', 'behavioral_face_mask', 'behavioral_wash_hands',\n",
       "       'behavioral_large_gatherings', 'behavioral_outside_home',\n",
       "       'behavioral_touch_face', 'doctor_recc_h1n1', 'doctor_recc_seasonal',\n",
       "       'chron...tion', 'child_under_6_months', 'health_worker',\n",
       "       'health_insurance', 'opinion_h1n1_vacc_effective', 'opinion_h1n1_risk',\n",
       "       'opinion_h1n1_sick_from_vacc', 'opinion_seas_vacc_effective',\n",
       "       'opinion_seas_risk', 'opinion_seas_sick_from_vacc', 'household_adults',\n",
       "       'household_children'],\n",
       "      dtype='object'))])),\n",
       "                ('imputer', SimpleImputer()),\n",
       "                ('classifier', LogisticRegression())])"
      ]
     },
     "execution_count": 55,
     "metadata": {},
     "output_type": "execute_result"
    }
   ],
   "source": [
    "model.fit(features_df, y_true)"
   ]
  },
  {
   "cell_type": "markdown",
   "id": "5f4f012f",
   "metadata": {},
   "source": [
    "When we invoke `fit` on the `Pipeline`, we provide the training data and the training labels.\n",
    "The `Pipeline`\n",
    "\n",
    "* Invokes `fit` on the `ColumnTransformer`, which doesn't actually do anything.\n",
    "\n",
    "* Invokes `transform` on the `ColumnTransformer`, which selects the numeric columns.\n",
    " \n",
    "* Invokes `fit` on the `SimpleImputer`, which computes the means of the features.\n",
    "\n",
    "* Invokes `transform` on the `SimpleImputer`, which fills missing values with the means it just computed.\n",
    "\n",
    "* Invokes `fit` on the `LogisticRegression`, which estimates the coefficients.\n",
    "\n",
    "After fitting the pipeline, we can use it to generate predictions:"
   ]
  },
  {
   "cell_type": "code",
   "execution_count": 56,
   "id": "a5ed3e68",
   "metadata": {},
   "outputs": [
    {
     "data": {
      "text/plain": [
       "array([[0.97088866, 0.02911134],\n",
       "       [0.72674757, 0.27325243],\n",
       "       [0.94935077, 0.05064923],\n",
       "       ...,\n",
       "       [0.73713129, 0.26286871],\n",
       "       [0.9904698 , 0.0095302 ],\n",
       "       [0.86162803, 0.13837197]])"
      ]
     },
     "execution_count": 56,
     "metadata": {},
     "output_type": "execute_result"
    }
   ],
   "source": [
    "pred_pipeline = model.predict_proba(features_df)\n",
    "pred_pipeline"
   ]
  },
  {
   "cell_type": "markdown",
   "id": "30c5c2da",
   "metadata": {},
   "source": [
    "Again, the result has one column for each class, but we only need the second column, which is the predicted probability that each respondent got the H1N1 vaccine."
   ]
  },
  {
   "cell_type": "code",
   "execution_count": 57,
   "id": "557caec6",
   "metadata": {},
   "outputs": [],
   "source": [
    "y_pred_pipeline = pred_pipeline.T[1]"
   ]
  },
  {
   "cell_type": "markdown",
   "id": "ac5c9c7f",
   "metadata": {},
   "source": [
    "We can confirm that the results we get from the pipeline are the same as what we computed step by step."
   ]
  },
  {
   "cell_type": "code",
   "execution_count": 58,
   "id": "3de4bdec",
   "metadata": {
    "scrolled": true
   },
   "outputs": [
    {
     "data": {
      "text/plain": [
       "True"
      ]
     },
     "execution_count": 58,
     "metadata": {},
     "output_type": "execute_result"
    }
   ],
   "source": [
    "np.allclose(y_pred, y_pred_pipeline)"
   ]
  },
  {
   "cell_type": "markdown",
   "id": "9a17fd64",
   "metadata": {},
   "source": [
    "And compute the AUC score again."
   ]
  },
  {
   "cell_type": "code",
   "execution_count": 59,
   "id": "504a57df",
   "metadata": {},
   "outputs": [
    {
     "data": {
      "text/plain": [
       "0.8301287538133717"
      ]
     },
     "execution_count": 59,
     "metadata": {},
     "output_type": "execute_result"
    }
   ],
   "source": [
    "score1 = roc_auc_score(y_true, y_pred_pipeline)\n",
    "score1"
   ]
  },
  {
   "cell_type": "markdown",
   "id": "8e9f5cb1",
   "metadata": {},
   "source": [
    "To make a model for the seasonal vaccine, we'll make another pipeline, just like the first."
   ]
  },
  {
   "cell_type": "code",
   "execution_count": 60,
   "id": "330ba114",
   "metadata": {},
   "outputs": [],
   "source": [
    "model2 = Pipeline(\n",
    "    [\n",
    "        (\"selector\", selector),\n",
    "        (\"imputer\", SimpleImputer(missing_values=np.nan, strategy=\"mean\")),\n",
    "        (\"classifier\", LogisticRegression()),\n",
    "    ]\n",
    ")"
   ]
  },
  {
   "cell_type": "markdown",
   "id": "efed4e4c",
   "metadata": {},
   "source": [
    "And train it with the `seasonal_vaccine` labels."
   ]
  },
  {
   "cell_type": "code",
   "execution_count": 61,
   "id": "c35d5ab8",
   "metadata": {},
   "outputs": [
    {
     "data": {
      "text/html": [
       "<style>#sk-2b61967d-fcd9-4bbf-b245-27de1fcbf6c4 {color: black;background-color: white;}#sk-2b61967d-fcd9-4bbf-b245-27de1fcbf6c4 pre{padding: 0;}#sk-2b61967d-fcd9-4bbf-b245-27de1fcbf6c4 div.sk-toggleable {background-color: white;}#sk-2b61967d-fcd9-4bbf-b245-27de1fcbf6c4 label.sk-toggleable__label {cursor: pointer;display: block;width: 100%;margin-bottom: 0;padding: 0.3em;box-sizing: border-box;text-align: center;}#sk-2b61967d-fcd9-4bbf-b245-27de1fcbf6c4 label.sk-toggleable__label-arrow:before {content: \"▸\";float: left;margin-right: 0.25em;color: #696969;}#sk-2b61967d-fcd9-4bbf-b245-27de1fcbf6c4 label.sk-toggleable__label-arrow:hover:before {color: black;}#sk-2b61967d-fcd9-4bbf-b245-27de1fcbf6c4 div.sk-estimator:hover label.sk-toggleable__label-arrow:before {color: black;}#sk-2b61967d-fcd9-4bbf-b245-27de1fcbf6c4 div.sk-toggleable__content {max-height: 0;max-width: 0;overflow: hidden;text-align: left;background-color: #f0f8ff;}#sk-2b61967d-fcd9-4bbf-b245-27de1fcbf6c4 div.sk-toggleable__content pre {margin: 0.2em;color: black;border-radius: 0.25em;background-color: #f0f8ff;}#sk-2b61967d-fcd9-4bbf-b245-27de1fcbf6c4 input.sk-toggleable__control:checked~div.sk-toggleable__content {max-height: 200px;max-width: 100%;overflow: auto;}#sk-2b61967d-fcd9-4bbf-b245-27de1fcbf6c4 input.sk-toggleable__control:checked~label.sk-toggleable__label-arrow:before {content: \"▾\";}#sk-2b61967d-fcd9-4bbf-b245-27de1fcbf6c4 div.sk-estimator input.sk-toggleable__control:checked~label.sk-toggleable__label {background-color: #d4ebff;}#sk-2b61967d-fcd9-4bbf-b245-27de1fcbf6c4 div.sk-label input.sk-toggleable__control:checked~label.sk-toggleable__label {background-color: #d4ebff;}#sk-2b61967d-fcd9-4bbf-b245-27de1fcbf6c4 input.sk-hidden--visually {border: 0;clip: rect(1px 1px 1px 1px);clip: rect(1px, 1px, 1px, 1px);height: 1px;margin: -1px;overflow: hidden;padding: 0;position: absolute;width: 1px;}#sk-2b61967d-fcd9-4bbf-b245-27de1fcbf6c4 div.sk-estimator {font-family: monospace;background-color: #f0f8ff;border: 1px dotted black;border-radius: 0.25em;box-sizing: border-box;margin-bottom: 0.5em;}#sk-2b61967d-fcd9-4bbf-b245-27de1fcbf6c4 div.sk-estimator:hover {background-color: #d4ebff;}#sk-2b61967d-fcd9-4bbf-b245-27de1fcbf6c4 div.sk-parallel-item::after {content: \"\";width: 100%;border-bottom: 1px solid gray;flex-grow: 1;}#sk-2b61967d-fcd9-4bbf-b245-27de1fcbf6c4 div.sk-label:hover label.sk-toggleable__label {background-color: #d4ebff;}#sk-2b61967d-fcd9-4bbf-b245-27de1fcbf6c4 div.sk-serial::before {content: \"\";position: absolute;border-left: 1px solid gray;box-sizing: border-box;top: 2em;bottom: 0;left: 50%;}#sk-2b61967d-fcd9-4bbf-b245-27de1fcbf6c4 div.sk-serial {display: flex;flex-direction: column;align-items: center;background-color: white;padding-right: 0.2em;padding-left: 0.2em;}#sk-2b61967d-fcd9-4bbf-b245-27de1fcbf6c4 div.sk-item {z-index: 1;}#sk-2b61967d-fcd9-4bbf-b245-27de1fcbf6c4 div.sk-parallel {display: flex;align-items: stretch;justify-content: center;background-color: white;}#sk-2b61967d-fcd9-4bbf-b245-27de1fcbf6c4 div.sk-parallel::before {content: \"\";position: absolute;border-left: 1px solid gray;box-sizing: border-box;top: 2em;bottom: 0;left: 50%;}#sk-2b61967d-fcd9-4bbf-b245-27de1fcbf6c4 div.sk-parallel-item {display: flex;flex-direction: column;position: relative;background-color: white;}#sk-2b61967d-fcd9-4bbf-b245-27de1fcbf6c4 div.sk-parallel-item:first-child::after {align-self: flex-end;width: 50%;}#sk-2b61967d-fcd9-4bbf-b245-27de1fcbf6c4 div.sk-parallel-item:last-child::after {align-self: flex-start;width: 50%;}#sk-2b61967d-fcd9-4bbf-b245-27de1fcbf6c4 div.sk-parallel-item:only-child::after {width: 0;}#sk-2b61967d-fcd9-4bbf-b245-27de1fcbf6c4 div.sk-dashed-wrapped {border: 1px dashed gray;margin: 0 0.4em 0.5em 0.4em;box-sizing: border-box;padding-bottom: 0.4em;background-color: white;position: relative;}#sk-2b61967d-fcd9-4bbf-b245-27de1fcbf6c4 div.sk-label label {font-family: monospace;font-weight: bold;background-color: white;display: inline-block;line-height: 1.2em;}#sk-2b61967d-fcd9-4bbf-b245-27de1fcbf6c4 div.sk-label-container {position: relative;z-index: 2;text-align: center;}#sk-2b61967d-fcd9-4bbf-b245-27de1fcbf6c4 div.sk-container {/* jupyter's `normalize.less` sets `[hidden] { display: none; }` but bootstrap.min.css set `[hidden] { display: none !important; }` so we also need the `!important` here to be able to override the default hidden behavior on the sphinx rendered scikit-learn.org. See: https://github.com/scikit-learn/scikit-learn/issues/21755 */display: inline-block !important;position: relative;}#sk-2b61967d-fcd9-4bbf-b245-27de1fcbf6c4 div.sk-text-repr-fallback {display: none;}</style><div id=\"sk-2b61967d-fcd9-4bbf-b245-27de1fcbf6c4\" class=\"sk-top-container\"><div class=\"sk-text-repr-fallback\"><pre>Pipeline(steps=[(&#x27;selector&#x27;,\n",
       "                 ColumnTransformer(transformers=[(&#x27;numeric&#x27;, &#x27;passthrough&#x27;,\n",
       "                                                  Index([&#x27;h1n1_concern&#x27;, &#x27;h1n1_knowledge&#x27;, &#x27;behavioral_antiviral_meds&#x27;,\n",
       "       &#x27;behavioral_avoidance&#x27;, &#x27;behavioral_face_mask&#x27;, &#x27;behavioral_wash_hands&#x27;,\n",
       "       &#x27;behavioral_large_gatherings&#x27;, &#x27;behavioral_outside_home&#x27;,\n",
       "       &#x27;behavioral_touch_face&#x27;, &#x27;doctor_recc_h1n1&#x27;, &#x27;doctor_recc_seasonal&#x27;,\n",
       "       &#x27;chron...tion&#x27;, &#x27;child_under_6_months&#x27;, &#x27;health_worker&#x27;,\n",
       "       &#x27;health_insurance&#x27;, &#x27;opinion_h1n1_vacc_effective&#x27;, &#x27;opinion_h1n1_risk&#x27;,\n",
       "       &#x27;opinion_h1n1_sick_from_vacc&#x27;, &#x27;opinion_seas_vacc_effective&#x27;,\n",
       "       &#x27;opinion_seas_risk&#x27;, &#x27;opinion_seas_sick_from_vacc&#x27;, &#x27;household_adults&#x27;,\n",
       "       &#x27;household_children&#x27;],\n",
       "      dtype=&#x27;object&#x27;))])),\n",
       "                (&#x27;imputer&#x27;, SimpleImputer()),\n",
       "                (&#x27;classifier&#x27;, LogisticRegression())])</pre><b>Please rerun this cell to show the HTML repr or trust the notebook.</b></div><div class=\"sk-container\" hidden><div class=\"sk-item sk-dashed-wrapped\"><div class=\"sk-label-container\"><div class=\"sk-label sk-toggleable\"><input class=\"sk-toggleable__control sk-hidden--visually\" id=\"ed2df477-a803-4c46-8ffe-e83f839387bf\" type=\"checkbox\" ><label for=\"ed2df477-a803-4c46-8ffe-e83f839387bf\" class=\"sk-toggleable__label sk-toggleable__label-arrow\">Pipeline</label><div class=\"sk-toggleable__content\"><pre>Pipeline(steps=[(&#x27;selector&#x27;,\n",
       "                 ColumnTransformer(transformers=[(&#x27;numeric&#x27;, &#x27;passthrough&#x27;,\n",
       "                                                  Index([&#x27;h1n1_concern&#x27;, &#x27;h1n1_knowledge&#x27;, &#x27;behavioral_antiviral_meds&#x27;,\n",
       "       &#x27;behavioral_avoidance&#x27;, &#x27;behavioral_face_mask&#x27;, &#x27;behavioral_wash_hands&#x27;,\n",
       "       &#x27;behavioral_large_gatherings&#x27;, &#x27;behavioral_outside_home&#x27;,\n",
       "       &#x27;behavioral_touch_face&#x27;, &#x27;doctor_recc_h1n1&#x27;, &#x27;doctor_recc_seasonal&#x27;,\n",
       "       &#x27;chron...tion&#x27;, &#x27;child_under_6_months&#x27;, &#x27;health_worker&#x27;,\n",
       "       &#x27;health_insurance&#x27;, &#x27;opinion_h1n1_vacc_effective&#x27;, &#x27;opinion_h1n1_risk&#x27;,\n",
       "       &#x27;opinion_h1n1_sick_from_vacc&#x27;, &#x27;opinion_seas_vacc_effective&#x27;,\n",
       "       &#x27;opinion_seas_risk&#x27;, &#x27;opinion_seas_sick_from_vacc&#x27;, &#x27;household_adults&#x27;,\n",
       "       &#x27;household_children&#x27;],\n",
       "      dtype=&#x27;object&#x27;))])),\n",
       "                (&#x27;imputer&#x27;, SimpleImputer()),\n",
       "                (&#x27;classifier&#x27;, LogisticRegression())])</pre></div></div></div><div class=\"sk-serial\"><div class=\"sk-item sk-dashed-wrapped\"><div class=\"sk-label-container\"><div class=\"sk-label sk-toggleable\"><input class=\"sk-toggleable__control sk-hidden--visually\" id=\"35699416-41f5-4734-8bc5-2441dc8c88a9\" type=\"checkbox\" ><label for=\"35699416-41f5-4734-8bc5-2441dc8c88a9\" class=\"sk-toggleable__label sk-toggleable__label-arrow\">selector: ColumnTransformer</label><div class=\"sk-toggleable__content\"><pre>ColumnTransformer(transformers=[(&#x27;numeric&#x27;, &#x27;passthrough&#x27;,\n",
       "                                 Index([&#x27;h1n1_concern&#x27;, &#x27;h1n1_knowledge&#x27;, &#x27;behavioral_antiviral_meds&#x27;,\n",
       "       &#x27;behavioral_avoidance&#x27;, &#x27;behavioral_face_mask&#x27;, &#x27;behavioral_wash_hands&#x27;,\n",
       "       &#x27;behavioral_large_gatherings&#x27;, &#x27;behavioral_outside_home&#x27;,\n",
       "       &#x27;behavioral_touch_face&#x27;, &#x27;doctor_recc_h1n1&#x27;, &#x27;doctor_recc_seasonal&#x27;,\n",
       "       &#x27;chronic_med_condition&#x27;, &#x27;child_under_6_months&#x27;, &#x27;health_worker&#x27;,\n",
       "       &#x27;health_insurance&#x27;, &#x27;opinion_h1n1_vacc_effective&#x27;, &#x27;opinion_h1n1_risk&#x27;,\n",
       "       &#x27;opinion_h1n1_sick_from_vacc&#x27;, &#x27;opinion_seas_vacc_effective&#x27;,\n",
       "       &#x27;opinion_seas_risk&#x27;, &#x27;opinion_seas_sick_from_vacc&#x27;, &#x27;household_adults&#x27;,\n",
       "       &#x27;household_children&#x27;],\n",
       "      dtype=&#x27;object&#x27;))])</pre></div></div></div><div class=\"sk-parallel\"><div class=\"sk-parallel-item\"><div class=\"sk-item\"><div class=\"sk-label-container\"><div class=\"sk-label sk-toggleable\"><input class=\"sk-toggleable__control sk-hidden--visually\" id=\"2c7ae3b9-a390-4266-839b-cf778916291d\" type=\"checkbox\" ><label for=\"2c7ae3b9-a390-4266-839b-cf778916291d\" class=\"sk-toggleable__label sk-toggleable__label-arrow\">numeric</label><div class=\"sk-toggleable__content\"><pre>Index([&#x27;h1n1_concern&#x27;, &#x27;h1n1_knowledge&#x27;, &#x27;behavioral_antiviral_meds&#x27;,\n",
       "       &#x27;behavioral_avoidance&#x27;, &#x27;behavioral_face_mask&#x27;, &#x27;behavioral_wash_hands&#x27;,\n",
       "       &#x27;behavioral_large_gatherings&#x27;, &#x27;behavioral_outside_home&#x27;,\n",
       "       &#x27;behavioral_touch_face&#x27;, &#x27;doctor_recc_h1n1&#x27;, &#x27;doctor_recc_seasonal&#x27;,\n",
       "       &#x27;chronic_med_condition&#x27;, &#x27;child_under_6_months&#x27;, &#x27;health_worker&#x27;,\n",
       "       &#x27;health_insurance&#x27;, &#x27;opinion_h1n1_vacc_effective&#x27;, &#x27;opinion_h1n1_risk&#x27;,\n",
       "       &#x27;opinion_h1n1_sick_from_vacc&#x27;, &#x27;opinion_seas_vacc_effective&#x27;,\n",
       "       &#x27;opinion_seas_risk&#x27;, &#x27;opinion_seas_sick_from_vacc&#x27;, &#x27;household_adults&#x27;,\n",
       "       &#x27;household_children&#x27;],\n",
       "      dtype=&#x27;object&#x27;)</pre></div></div></div><div class=\"sk-serial\"><div class=\"sk-item\"><div class=\"sk-estimator sk-toggleable\"><input class=\"sk-toggleable__control sk-hidden--visually\" id=\"531520ea-ccda-4308-95ae-bfe1d8fd276a\" type=\"checkbox\" ><label for=\"531520ea-ccda-4308-95ae-bfe1d8fd276a\" class=\"sk-toggleable__label sk-toggleable__label-arrow\">passthrough</label><div class=\"sk-toggleable__content\"><pre>passthrough</pre></div></div></div></div></div></div></div></div><div class=\"sk-item\"><div class=\"sk-estimator sk-toggleable\"><input class=\"sk-toggleable__control sk-hidden--visually\" id=\"8b9b2888-38b2-475b-9fbe-1f789d51dfb5\" type=\"checkbox\" ><label for=\"8b9b2888-38b2-475b-9fbe-1f789d51dfb5\" class=\"sk-toggleable__label sk-toggleable__label-arrow\">SimpleImputer</label><div class=\"sk-toggleable__content\"><pre>SimpleImputer()</pre></div></div></div><div class=\"sk-item\"><div class=\"sk-estimator sk-toggleable\"><input class=\"sk-toggleable__control sk-hidden--visually\" id=\"4749070b-d190-472c-a1d8-981489d8c32c\" type=\"checkbox\" ><label for=\"4749070b-d190-472c-a1d8-981489d8c32c\" class=\"sk-toggleable__label sk-toggleable__label-arrow\">LogisticRegression</label><div class=\"sk-toggleable__content\"><pre>LogisticRegression()</pre></div></div></div></div></div></div></div>"
      ],
      "text/plain": [
       "Pipeline(steps=[('selector',\n",
       "                 ColumnTransformer(transformers=[('numeric', 'passthrough',\n",
       "                                                  Index(['h1n1_concern', 'h1n1_knowledge', 'behavioral_antiviral_meds',\n",
       "       'behavioral_avoidance', 'behavioral_face_mask', 'behavioral_wash_hands',\n",
       "       'behavioral_large_gatherings', 'behavioral_outside_home',\n",
       "       'behavioral_touch_face', 'doctor_recc_h1n1', 'doctor_recc_seasonal',\n",
       "       'chron...tion', 'child_under_6_months', 'health_worker',\n",
       "       'health_insurance', 'opinion_h1n1_vacc_effective', 'opinion_h1n1_risk',\n",
       "       'opinion_h1n1_sick_from_vacc', 'opinion_seas_vacc_effective',\n",
       "       'opinion_seas_risk', 'opinion_seas_sick_from_vacc', 'household_adults',\n",
       "       'household_children'],\n",
       "      dtype='object'))])),\n",
       "                ('imputer', SimpleImputer()),\n",
       "                ('classifier', LogisticRegression())])"
      ]
     },
     "execution_count": 61,
     "metadata": {},
     "output_type": "execute_result"
    }
   ],
   "source": [
    "y_true2 = labels_df[\"seasonal_vaccine\"]\n",
    "model2.fit(features_df, y_true2)"
   ]
  },
  {
   "cell_type": "markdown",
   "id": "a2a837b6",
   "metadata": {},
   "source": [
    "Now we can generate predictions."
   ]
  },
  {
   "cell_type": "code",
   "execution_count": 62,
   "id": "9b99c7e0",
   "metadata": {},
   "outputs": [
    {
     "data": {
      "text/plain": [
       "array([0.06058864, 0.25686739, 0.24161276, ..., 0.72989908, 0.01992929,\n",
       "       0.25375547])"
      ]
     },
     "execution_count": 62,
     "metadata": {},
     "output_type": "execute_result"
    }
   ],
   "source": [
    "y_pred2 = model2.predict_proba(features_df).T[1]\n",
    "y_pred2"
   ]
  },
  {
   "cell_type": "markdown",
   "id": "0789b4b5",
   "metadata": {},
   "source": [
    "And compute an AUC score."
   ]
  },
  {
   "cell_type": "code",
   "execution_count": 63,
   "id": "22ed99c2",
   "metadata": {},
   "outputs": [
    {
     "data": {
      "text/plain": [
       "0.8329128480430075"
      ]
     },
     "execution_count": 63,
     "metadata": {},
     "output_type": "execute_result"
    }
   ],
   "source": [
    "score2 = roc_auc_score(y_true2, y_pred2)\n",
    "score2"
   ]
  },
  {
   "cell_type": "markdown",
   "id": "a89436c3",
   "metadata": {},
   "source": [
    "The AUC score is about the same as for the H1N1 vaccine."
   ]
  },
  {
   "cell_type": "markdown",
   "id": "a8967b33",
   "metadata": {},
   "source": [
    "## Predictions for the test features\n",
    "\n",
    "So far we have used the same dataset to train the model and to generate predictions.\n",
    "But the goal of the model is to generate predictions for new cases we have not seen before.\n",
    "In the context of the competition, `test_set_features.csv` contains the cases we are supposed to generate predictions for. So let's read the test features:"
   ]
  },
  {
   "cell_type": "code",
   "execution_count": 64,
   "id": "1c01b1dd",
   "metadata": {},
   "outputs": [
    {
     "data": {
      "text/html": [
       "<div>\n",
       "<style scoped>\n",
       "    .dataframe tbody tr th:only-of-type {\n",
       "        vertical-align: middle;\n",
       "    }\n",
       "\n",
       "    .dataframe tbody tr th {\n",
       "        vertical-align: top;\n",
       "    }\n",
       "\n",
       "    .dataframe thead th {\n",
       "        text-align: right;\n",
       "    }\n",
       "</style>\n",
       "<table border=\"1\" class=\"dataframe\">\n",
       "  <thead>\n",
       "    <tr style=\"text-align: right;\">\n",
       "      <th></th>\n",
       "      <th>h1n1_concern</th>\n",
       "      <th>h1n1_knowledge</th>\n",
       "      <th>behavioral_antiviral_meds</th>\n",
       "      <th>behavioral_avoidance</th>\n",
       "      <th>behavioral_face_mask</th>\n",
       "      <th>behavioral_wash_hands</th>\n",
       "      <th>behavioral_large_gatherings</th>\n",
       "      <th>behavioral_outside_home</th>\n",
       "      <th>behavioral_touch_face</th>\n",
       "      <th>doctor_recc_h1n1</th>\n",
       "      <th>...</th>\n",
       "      <th>income_poverty</th>\n",
       "      <th>marital_status</th>\n",
       "      <th>rent_or_own</th>\n",
       "      <th>employment_status</th>\n",
       "      <th>hhs_geo_region</th>\n",
       "      <th>census_msa</th>\n",
       "      <th>household_adults</th>\n",
       "      <th>household_children</th>\n",
       "      <th>employment_industry</th>\n",
       "      <th>employment_occupation</th>\n",
       "    </tr>\n",
       "    <tr>\n",
       "      <th>respondent_id</th>\n",
       "      <th></th>\n",
       "      <th></th>\n",
       "      <th></th>\n",
       "      <th></th>\n",
       "      <th></th>\n",
       "      <th></th>\n",
       "      <th></th>\n",
       "      <th></th>\n",
       "      <th></th>\n",
       "      <th></th>\n",
       "      <th></th>\n",
       "      <th></th>\n",
       "      <th></th>\n",
       "      <th></th>\n",
       "      <th></th>\n",
       "      <th></th>\n",
       "      <th></th>\n",
       "      <th></th>\n",
       "      <th></th>\n",
       "      <th></th>\n",
       "      <th></th>\n",
       "    </tr>\n",
       "  </thead>\n",
       "  <tbody>\n",
       "    <tr>\n",
       "      <th>26707</th>\n",
       "      <td>2.0</td>\n",
       "      <td>2.0</td>\n",
       "      <td>0.0</td>\n",
       "      <td>1.0</td>\n",
       "      <td>0.0</td>\n",
       "      <td>1.0</td>\n",
       "      <td>1.0</td>\n",
       "      <td>0.0</td>\n",
       "      <td>1.0</td>\n",
       "      <td>0.0</td>\n",
       "      <td>...</td>\n",
       "      <td>&gt; $75,000</td>\n",
       "      <td>Not Married</td>\n",
       "      <td>Rent</td>\n",
       "      <td>Employed</td>\n",
       "      <td>mlyzmhmf</td>\n",
       "      <td>MSA, Not Principle  City</td>\n",
       "      <td>1.0</td>\n",
       "      <td>0.0</td>\n",
       "      <td>atmlpfrs</td>\n",
       "      <td>hfxkjkmi</td>\n",
       "    </tr>\n",
       "    <tr>\n",
       "      <th>26708</th>\n",
       "      <td>1.0</td>\n",
       "      <td>1.0</td>\n",
       "      <td>0.0</td>\n",
       "      <td>0.0</td>\n",
       "      <td>0.0</td>\n",
       "      <td>0.0</td>\n",
       "      <td>0.0</td>\n",
       "      <td>0.0</td>\n",
       "      <td>0.0</td>\n",
       "      <td>0.0</td>\n",
       "      <td>...</td>\n",
       "      <td>Below Poverty</td>\n",
       "      <td>Not Married</td>\n",
       "      <td>Rent</td>\n",
       "      <td>Employed</td>\n",
       "      <td>bhuqouqj</td>\n",
       "      <td>Non-MSA</td>\n",
       "      <td>3.0</td>\n",
       "      <td>0.0</td>\n",
       "      <td>atmlpfrs</td>\n",
       "      <td>xqwwgdyp</td>\n",
       "    </tr>\n",
       "    <tr>\n",
       "      <th>26709</th>\n",
       "      <td>2.0</td>\n",
       "      <td>2.0</td>\n",
       "      <td>0.0</td>\n",
       "      <td>0.0</td>\n",
       "      <td>1.0</td>\n",
       "      <td>1.0</td>\n",
       "      <td>1.0</td>\n",
       "      <td>1.0</td>\n",
       "      <td>1.0</td>\n",
       "      <td>0.0</td>\n",
       "      <td>...</td>\n",
       "      <td>&gt; $75,000</td>\n",
       "      <td>Married</td>\n",
       "      <td>Own</td>\n",
       "      <td>Employed</td>\n",
       "      <td>lrircsnp</td>\n",
       "      <td>Non-MSA</td>\n",
       "      <td>1.0</td>\n",
       "      <td>0.0</td>\n",
       "      <td>nduyfdeo</td>\n",
       "      <td>pvmttkik</td>\n",
       "    </tr>\n",
       "    <tr>\n",
       "      <th>26710</th>\n",
       "      <td>1.0</td>\n",
       "      <td>1.0</td>\n",
       "      <td>0.0</td>\n",
       "      <td>0.0</td>\n",
       "      <td>0.0</td>\n",
       "      <td>0.0</td>\n",
       "      <td>0.0</td>\n",
       "      <td>0.0</td>\n",
       "      <td>0.0</td>\n",
       "      <td>1.0</td>\n",
       "      <td>...</td>\n",
       "      <td>&lt;= $75,000, Above Poverty</td>\n",
       "      <td>Married</td>\n",
       "      <td>Own</td>\n",
       "      <td>Not in Labor Force</td>\n",
       "      <td>lrircsnp</td>\n",
       "      <td>MSA, Not Principle  City</td>\n",
       "      <td>1.0</td>\n",
       "      <td>0.0</td>\n",
       "      <td>NaN</td>\n",
       "      <td>NaN</td>\n",
       "    </tr>\n",
       "    <tr>\n",
       "      <th>26711</th>\n",
       "      <td>3.0</td>\n",
       "      <td>1.0</td>\n",
       "      <td>1.0</td>\n",
       "      <td>1.0</td>\n",
       "      <td>0.0</td>\n",
       "      <td>1.0</td>\n",
       "      <td>1.0</td>\n",
       "      <td>1.0</td>\n",
       "      <td>1.0</td>\n",
       "      <td>0.0</td>\n",
       "      <td>...</td>\n",
       "      <td>&lt;= $75,000, Above Poverty</td>\n",
       "      <td>Not Married</td>\n",
       "      <td>Own</td>\n",
       "      <td>Employed</td>\n",
       "      <td>lzgpxyit</td>\n",
       "      <td>Non-MSA</td>\n",
       "      <td>0.0</td>\n",
       "      <td>1.0</td>\n",
       "      <td>fcxhlnwr</td>\n",
       "      <td>mxkfnird</td>\n",
       "    </tr>\n",
       "  </tbody>\n",
       "</table>\n",
       "<p>5 rows × 35 columns</p>\n",
       "</div>"
      ],
      "text/plain": [
       "               h1n1_concern  h1n1_knowledge  behavioral_antiviral_meds  \\\n",
       "respondent_id                                                            \n",
       "26707                   2.0             2.0                        0.0   \n",
       "26708                   1.0             1.0                        0.0   \n",
       "26709                   2.0             2.0                        0.0   \n",
       "26710                   1.0             1.0                        0.0   \n",
       "26711                   3.0             1.0                        1.0   \n",
       "\n",
       "               behavioral_avoidance  behavioral_face_mask  \\\n",
       "respondent_id                                               \n",
       "26707                           1.0                   0.0   \n",
       "26708                           0.0                   0.0   \n",
       "26709                           0.0                   1.0   \n",
       "26710                           0.0                   0.0   \n",
       "26711                           1.0                   0.0   \n",
       "\n",
       "               behavioral_wash_hands  behavioral_large_gatherings  \\\n",
       "respondent_id                                                       \n",
       "26707                            1.0                          1.0   \n",
       "26708                            0.0                          0.0   \n",
       "26709                            1.0                          1.0   \n",
       "26710                            0.0                          0.0   \n",
       "26711                            1.0                          1.0   \n",
       "\n",
       "               behavioral_outside_home  behavioral_touch_face  \\\n",
       "respondent_id                                                   \n",
       "26707                              0.0                    1.0   \n",
       "26708                              0.0                    0.0   \n",
       "26709                              1.0                    1.0   \n",
       "26710                              0.0                    0.0   \n",
       "26711                              1.0                    1.0   \n",
       "\n",
       "               doctor_recc_h1n1  ...             income_poverty  \\\n",
       "respondent_id                    ...                              \n",
       "26707                       0.0  ...                  > $75,000   \n",
       "26708                       0.0  ...              Below Poverty   \n",
       "26709                       0.0  ...                  > $75,000   \n",
       "26710                       1.0  ...  <= $75,000, Above Poverty   \n",
       "26711                       0.0  ...  <= $75,000, Above Poverty   \n",
       "\n",
       "               marital_status  rent_or_own   employment_status  \\\n",
       "respondent_id                                                    \n",
       "26707             Not Married         Rent            Employed   \n",
       "26708             Not Married         Rent            Employed   \n",
       "26709                 Married          Own            Employed   \n",
       "26710                 Married          Own  Not in Labor Force   \n",
       "26711             Not Married          Own            Employed   \n",
       "\n",
       "               hhs_geo_region                census_msa  household_adults  \\\n",
       "respondent_id                                                               \n",
       "26707                mlyzmhmf  MSA, Not Principle  City               1.0   \n",
       "26708                bhuqouqj                   Non-MSA               3.0   \n",
       "26709                lrircsnp                   Non-MSA               1.0   \n",
       "26710                lrircsnp  MSA, Not Principle  City               1.0   \n",
       "26711                lzgpxyit                   Non-MSA               0.0   \n",
       "\n",
       "               household_children  employment_industry  employment_occupation  \n",
       "respondent_id                                                                  \n",
       "26707                         0.0             atmlpfrs               hfxkjkmi  \n",
       "26708                         0.0             atmlpfrs               xqwwgdyp  \n",
       "26709                         0.0             nduyfdeo               pvmttkik  \n",
       "26710                         0.0                  NaN                    NaN  \n",
       "26711                         1.0             fcxhlnwr               mxkfnird  \n",
       "\n",
       "[5 rows x 35 columns]"
      ]
     },
     "execution_count": 64,
     "metadata": {},
     "output_type": "execute_result"
    }
   ],
   "source": [
    "test_features_df = pd.read_csv(\"test_set_features.csv\", index_col=\"respondent_id\")\n",
    "test_features_df.head()"
   ]
  },
  {
   "cell_type": "markdown",
   "id": "3bbc4731",
   "metadata": {},
   "source": [
    "We'll use the first model to generate predictions for the H1N1 vaccine."
   ]
  },
  {
   "cell_type": "code",
   "execution_count": 65,
   "id": "9517a5cf",
   "metadata": {},
   "outputs": [
    {
     "data": {
      "text/plain": [
       "array([0.13489335, 0.02351709, 0.36902136, ..., 0.20900421, 0.04917523,\n",
       "       0.63990223])"
      ]
     },
     "execution_count": 65,
     "metadata": {},
     "output_type": "execute_result"
    }
   ],
   "source": [
    "test_pred1 = model.predict_proba(test_features_df).T[1]\n",
    "test_pred1"
   ]
  },
  {
   "cell_type": "markdown",
   "id": "7da9efae",
   "metadata": {},
   "source": [
    "And the second model to generate predictions for the seasonal flu vaccine."
   ]
  },
  {
   "cell_type": "code",
   "execution_count": 66,
   "id": "61a1fc06",
   "metadata": {},
   "outputs": [
    {
     "data": {
      "text/plain": [
       "array([0.43785044, 0.05749332, 0.61969265, ..., 0.40580782, 0.29943892,\n",
       "       0.64489359])"
      ]
     },
     "execution_count": 66,
     "metadata": {},
     "output_type": "execute_result"
    }
   ],
   "source": [
    "test_pred2 = model2.predict_proba(test_features_df).T[1]\n",
    "test_pred2"
   ]
  },
  {
   "cell_type": "markdown",
   "id": "fc1054be",
   "metadata": {},
   "source": [
    "This example demonstrates the benefits of using pipelines. First, they are convenient. Once we have trained a model, we can generate predictions with a single line of code. More importantly, they encapsulate every step of the process, including selection and imputation. As a result, they help prevent errors that would be more likely if we had to copy and paste the code."
   ]
  },
  {
   "cell_type": "markdown",
   "id": "6308829d",
   "metadata": {},
   "source": [
    "To submit these predictions on the competition site, we have to write a CSV file in the right format. The provided file `submission_format.csv` shows what it should look like."
   ]
  },
  {
   "cell_type": "code",
   "execution_count": 67,
   "id": "9164381e",
   "metadata": {},
   "outputs": [
    {
     "data": {
      "text/html": [
       "<div>\n",
       "<style scoped>\n",
       "    .dataframe tbody tr th:only-of-type {\n",
       "        vertical-align: middle;\n",
       "    }\n",
       "\n",
       "    .dataframe tbody tr th {\n",
       "        vertical-align: top;\n",
       "    }\n",
       "\n",
       "    .dataframe thead th {\n",
       "        text-align: right;\n",
       "    }\n",
       "</style>\n",
       "<table border=\"1\" class=\"dataframe\">\n",
       "  <thead>\n",
       "    <tr style=\"text-align: right;\">\n",
       "      <th></th>\n",
       "      <th>h1n1_vaccine</th>\n",
       "      <th>seasonal_vaccine</th>\n",
       "    </tr>\n",
       "    <tr>\n",
       "      <th>respondent_id</th>\n",
       "      <th></th>\n",
       "      <th></th>\n",
       "    </tr>\n",
       "  </thead>\n",
       "  <tbody>\n",
       "    <tr>\n",
       "      <th>26707</th>\n",
       "      <td>0.5</td>\n",
       "      <td>0.7</td>\n",
       "    </tr>\n",
       "    <tr>\n",
       "      <th>26708</th>\n",
       "      <td>0.5</td>\n",
       "      <td>0.7</td>\n",
       "    </tr>\n",
       "    <tr>\n",
       "      <th>26709</th>\n",
       "      <td>0.5</td>\n",
       "      <td>0.7</td>\n",
       "    </tr>\n",
       "    <tr>\n",
       "      <th>26710</th>\n",
       "      <td>0.5</td>\n",
       "      <td>0.7</td>\n",
       "    </tr>\n",
       "    <tr>\n",
       "      <th>26711</th>\n",
       "      <td>0.5</td>\n",
       "      <td>0.7</td>\n",
       "    </tr>\n",
       "  </tbody>\n",
       "</table>\n",
       "</div>"
      ],
      "text/plain": [
       "               h1n1_vaccine  seasonal_vaccine\n",
       "respondent_id                                \n",
       "26707                   0.5               0.7\n",
       "26708                   0.5               0.7\n",
       "26709                   0.5               0.7\n",
       "26710                   0.5               0.7\n",
       "26711                   0.5               0.7"
      ]
     },
     "execution_count": 67,
     "metadata": {},
     "output_type": "execute_result"
    }
   ],
   "source": [
    "submission_df = pd.read_csv(\"submission_format.csv\", index_col=\"respondent_id\")\n",
    "submission_df.head()"
   ]
  },
  {
   "cell_type": "markdown",
   "id": "70699d4c",
   "metadata": {},
   "source": [
    "When we loaded `training_set_features.csv`, you might remember that we checked that the respondents in the index are the same as the ones in `training_set_labels.csv`.\n",
    "Similarly, let's check that the respondents in `submission_format.csv` are the same as the ones in `test_set_features.csv`."
   ]
  },
  {
   "cell_type": "code",
   "execution_count": 68,
   "id": "c389e5e4",
   "metadata": {},
   "outputs": [
    {
     "data": {
      "text/plain": [
       "True"
      ]
     },
     "execution_count": 68,
     "metadata": {},
     "output_type": "execute_result"
    }
   ],
   "source": [
    "(submission_df.index == test_features_df.index).all()"
   ]
  },
  {
   "cell_type": "markdown",
   "id": "99b43fa5",
   "metadata": {},
   "source": [
    "We can store the predictions in `submission_df` like this:"
   ]
  },
  {
   "cell_type": "code",
   "execution_count": 69,
   "id": "cd2ea7b9",
   "metadata": {},
   "outputs": [],
   "source": [
    "submission_df[\"h1n1_vaccine\"] = test_pred1\n",
    "submission_df[\"seasonal_vaccine\"] = test_pred2"
   ]
  },
  {
   "cell_type": "markdown",
   "id": "57a5b61b",
   "metadata": {},
   "source": [
    "And use Pandas to write the predictions to a CSV file."
   ]
  },
  {
   "cell_type": "code",
   "execution_count": 70,
   "id": "8da667fd",
   "metadata": {},
   "outputs": [],
   "source": [
    "submission_df.to_csv(\"submission1.csv\")"
   ]
  },
  {
   "cell_type": "markdown",
   "id": "31cc3775",
   "metadata": {},
   "source": [
    "Here's what the format looks like."
   ]
  },
  {
   "cell_type": "code",
   "execution_count": 71,
   "id": "295ee168",
   "metadata": {},
   "outputs": [
    {
     "name": "stdout",
     "output_type": "stream",
     "text": [
      "respondent_id,h1n1_vaccine,seasonal_vaccine\r\n",
      "26707,0.13489334671523973,0.437850444269809\r\n",
      "26708,0.023517088466908788,0.05749331641249102\r\n",
      "26709,0.3690213624059212,0.6196926518118399\r\n",
      "26710,0.4741970765807566,0.8014046599607151\r\n",
      "26711,0.3171858690900654,0.6457667797571401\r\n",
      "26712,0.43357037097949813,0.8956160847424255\r\n",
      "26713,0.24605223330386922,0.29996146612306546\r\n",
      "26714,0.12545052415532,0.2440902908757473\r\n",
      "26715,0.02851156608782157,0.13501014787759547\r\n"
     ]
    }
   ],
   "source": [
    "!head submission1.csv"
   ]
  },
  {
   "cell_type": "code",
   "execution_count": 72,
   "id": "9cf2cffb",
   "metadata": {
    "tags": [
     "remove-cell"
    ]
   },
   "outputs": [],
   "source": [
    "if \"google.colab\" in sys.modules:\n",
    "    from google.colab import files\n",
    "    files.download(\"submission1.csv\")"
   ]
  },
  {
   "cell_type": "markdown",
   "id": "7882f53c",
   "metadata": {},
   "source": [
    "If we submit these predictions to the platform, we get a single score, which is the average of the AUC scores for the two target variables.\n",
    "\n",
    "The score for these predictions is 0.8204, which is not quite as good as the score we got when we tested the model on the same data it was trained with. That's to be expected.\n",
    "The difference indicates that the model is slightly **overfit**; that is, it has learned some details of the training data that are not applicable to the test data.\n",
    "\n",
    "In this example, the difference is small.\n",
    "Soon we will see examples where it is much bigger."
   ]
  },
  {
   "cell_type": "markdown",
   "id": "c10fd2de",
   "metadata": {},
   "source": [
    "## Summary\n",
    "\n",
    "In this lesson, we loaded the training labels and computed the proportion of respondents who got each vaccine.\n",
    "Then we explored the training features, identifying some that seem to have predictive value.\n",
    "And we used a `SimpleImputer` to fill missing data.\n",
    "\n",
    "We built a logistic regression model, trained it with one of the target variables, generated predictions, and computed an AUC score.\n",
    "The we repeated the process with a `Pipeline`, which helps to organize the stages of data transformation and model fitting.\n",
    "\n",
    "Finally, we generated predictions for the respondents in the test data, submitted the predictions on the competition site and put an initial score on the leaderboard.\n",
    "\n",
    "So far we have only used the numeric features; in the next lesson, we'll see if the categorical features have additional predictive value, and we'll try to move up the leaderboard!"
   ]
  },
  {
   "cell_type": "code",
   "execution_count": null,
   "id": "48985ccb",
   "metadata": {},
   "outputs": [],
   "source": []
  }
 ],
 "metadata": {
  "celltoolbar": "Tags",
  "kernelspec": {
   "display_name": "Python 3 (ipykernel)",
   "language": "python",
   "name": "python3"
  },
  "language_info": {
   "codemirror_mode": {
    "name": "ipython",
    "version": 3
   },
   "file_extension": ".py",
   "mimetype": "text/x-python",
   "name": "python",
   "nbconvert_exporter": "python",
   "pygments_lexer": "ipython3",
   "version": "3.7.13"
  }
 },
 "nbformat": 4,
 "nbformat_minor": 5
}
